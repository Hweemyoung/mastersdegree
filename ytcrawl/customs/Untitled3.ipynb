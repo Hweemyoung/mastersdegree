{
 "cells": [
  {
   "cell_type": "code",
   "execution_count": 20,
   "metadata": {},
   "outputs": [],
   "source": [
    "import random\n",
    "import pandas as pd\n",
    "from scopus_handler import ScopusHandler"
   ]
  },
  {
   "cell_type": "code",
   "execution_count": 21,
   "metadata": {},
   "outputs": [
    {
     "name": "stdout",
     "output_type": "stream",
     "text": [
      "[+]Duplicates have been dropped from df_scopus.\tBefore: 7816\tAfter: 7717\n"
     ]
    }
   ],
   "source": [
    "# CS2014\n",
    "# sorted(random.sample(range(1, 149), 100))\n",
    "# CS2019\n",
    "# sorted(random.sample(range(1, 113), 100))\n",
    "# sorted(random.sample(range(1, 81), 80))\n",
    "subject = \"life\"\n",
    "df4 = pd.read_csv(\"/home/hweem/git/mastersdegree/ytcrawl/customs/scopus/scopus_2014_%s.csv\" % subject)\n",
    "df4_sources = pd.read_csv(\"scopus/source_2013_%s.csv\" % subject, header=0)\n",
    "scopus_2014_life = ScopusHandler(df4, df4_sources, \"scopus_videos_2014_%s\" % subject, verbose=False)"
   ]
  },
  {
   "cell_type": "code",
   "execution_count": 22,
   "metadata": {},
   "outputs": [
    {
     "name": "stdout",
     "output_type": "stream",
     "text": [
      "Total videos: 79\n",
      "# Total DOIs: 7717\t# DOIs w/ videos: 51\tRatio: 0.007\n",
      "# Total videos: 79\t# Target videos: 79\tRatio: 1.000\n",
      "# Total subjects: 25\t# subjects w/ videos: 14\tRatio: 0.560\n",
      "# Total journals: 52\t# journals w/ videos: 21\tRatio: 0.404\n"
     ]
    },
    {
     "data": {
      "text/plain": [
       "<scopus_handler.ScopusHandler at 0x7f6c9d4c4430>"
      ]
     },
     "execution_count": 22,
     "metadata": {},
     "output_type": "execute_result"
    }
   ],
   "source": [
    "scopus_2014_life.set_target_videos()"
   ]
  },
  {
   "cell_type": "code",
   "execution_count": 2,
   "metadata": {},
   "outputs": [
    {
     "data": {
      "text/plain": [
       "148"
      ]
     },
     "execution_count": 2,
     "metadata": {},
     "output_type": "execute_result"
    }
   ],
   "source": [
    "len(set(['10.1007/s10514-013-9376-6', '10.1007/s10514-013-9348-x', '10.1016/j.chb.2014.01.029', '10.1016/j.chb.2014.03.033', '10.1016/j.plrev.2013.11.005', '10.1016/j.plrev.2013.11.002', '10.1007/s11263-013-0669-1', '10.1007/s11263-013-0644-x', '10.1016/j.patcog.2013.11.008', '10.1016/j.patcog.2013.07.015', '10.1177/0278364913504247', '10.1177/0278364912473169', '10.1016/j.plrev.2013.11.007', '10.1016/j.plrev.2014.02.002', '10.1371/journal.pcbi.1003645', '10.1371/journal.pcbi.1003607', '10.1016/j.chb.2014.01.015', '10.1016/j.chb.2014.03.021', '10.1371/journal.pcbi.1003535', '10.1371/journal.pcbi.1003359', '10.1016/j.cviu.2013.11.010', '10.1016/j.cviu.2013.10.013', '10.1016/j.knosys.2014.02.003', '10.1016/j.knosys.2013.11.008', '10.1093/bioinformatics/btu012', '10.1093/bioinformatics/btt639', '10.1109/TVT.2013.2271049', '10.1109/TVT.2013.2272061', '10.1007/s10237-013-0492-1', '10.1007/s10237-013-0512-1', '10.1021/ct400678g', '10.1021/ct500186j', '10.1109/TSE.2014.2312942', '10.1109/TSE.2013.46', '10.1109/TSE.2014.2322867', '10.1109/TSE.2014.2316132', '10.1371/journal.pcbi.1003640', '10.1371/journal.pcbi.1003451', '10.1109/TPAMI.2013.106', '10.1109/TPAMI.2013.171', '10.1016/j.chb.2013.07.042', '10.1016/j.chb.2013.12.025', '10.1016/j.chb.2014.02.050', '10.1016/j.chb.2013.06.041', '10.1016/j.chb.2014.01.044', '10.1016/j.chb.2014.02.010', '10.1371/journal.pcbi.1003434', '10.1371/journal.pcbi.1003457', '10.1371/journal.pcbi.1003597', '10.1371/journal.pcbi.1003549', '10.1098/rsta.2013.0138', '10.1098/rsta.2013.0282', '10.1021/ct500182z', '10.1021/ct400867h', '10.1177/0278364913517952', '10.1177/0278364913512170', '10.1177/0278364913509125', '10.1177/0278364913500542', '10.1177/0278364913497241', '10.1177/0278364913519897', '10.1177/0278364913500365', '10.1177/0278364913500364', '10.1177/0278364913500543', '10.1177/0278364914523689', '10.1109/TMC.2013.14', '10.1109/TMC.2012.239', '10.1186/1471-2105-15-210', '10.1186/1471-2105-15-58', '10.1109/JBHI.2013.2281505', '10.1109/JBHI.2013.2295262', '10.1098/rsta.2012.0511', '10.1098/rsta.2013.0118', '10.1016/j.plrev.2013.11.013', '10.1016/j.plrev.2014.01.011', '10.1016/j.patcog.2013.11.021', '10.1016/j.patcog.2013.07.016', '10.1109/TMECH.2012.2218615', '10.1109/TMECH.2012.2227062', '10.1109/TIP.2013.2289984', '10.1109/TIP.2013.2293429', '10.1109/TII.2013.2294156', '10.1109/TII.2013.2272702', '10.1109/TPDS.2013.59', '10.1109/TPDS.2013.175', '10.1109/JBHI.2013.2268897', '10.1109/JBHI.2013.2282338', '10.1109/TII.2013.2287807', '10.1109/TII.2014.2306799', '10.1098/rsta.2013.0302', '10.1098/rsta.2013.0276', '10.1109/TPDS.2013.262', '10.1109/TPDS.2013.134', '10.1109/TSE.2014.2302311', '10.1109/TSE.2014.2312918', '10.1109/TKDE.2013.13', '10.1109/TKDE.2013.38', '10.1109/TII.2013.2269030', '10.1109/TII.2014.2306391', '10.1109/TITS.2013.2287512', '10.1109/TITS.2013.2290285', '10.1109/MIC.2014.12', '10.1109/MIC.2014.35', '10.1109/TKDE.2013.53', '10.1109/TKDE.2013.33', '10.1109/TSC.2013.55', '10.1109/TSC.2013.10', '10.1177/0278364913519149', '10.1177/0278364913507006', '10.1177/0278364913507795', '10.1177/0278364914521306', '10.1016/j.cviu.2014.01.003', '10.1016/j.cviu.2014.02.010', '10.1371/journal.pcbi.1003655', '10.1371/journal.pcbi.1003514', '10.1109/TSE.2014.2322358', '10.1109/TSE.2013.2297911', '10.1109/TPDS.2013.123', '10.1109/TPDS.2013.119', '10.1109/TKDE.2013.26', '10.1109/TKDE.2013.67', '10.1109/TII.2014.2309482', '10.1109/TII.2014.2306771', '10.1109/TVT.2013.2288318', '10.1109/TVT.2013.2291533', '10.1109/JBHI.2013.2275002', '10.1109/JBHI.2013.2264358', '10.1016/j.knosys.2014.01.019', '10.1016/j.knosys.2013.11.016', '10.1109/TKDE.2013.25', '10.1109/TKDE.2013.120', '10.1109/TNNLS.2013.2253799', '10.1109/TNNLS.2013.2278313', '10.1109/TRO.2013.2296105', '10.1109/TRO.2013.2291620', '10.1371/journal.pcbi.1003460', '10.1371/journal.pcbi.1003634', '10.1109/TPDS.2013.27', '10.1109/TPDS.2013.92', '10.1109/TRO.2013.2291616', '10.1109/TRO.2013.2283409', '10.1016/j.compedu.2014.01.005', '10.1016/j.compedu.2014.01.011', '10.1109/TITS.2013.2294537', '10.1109/TITS.2013.2278614', '10.1109/TKDE.2013.116', '10.1109/TKDE.2013.7', '10.1109/TKDE.2013.134', '10.1109/TKDE.2013.9']))"
   ]
  },
  {
   "cell_type": "code",
   "execution_count": 3,
   "metadata": {},
   "outputs": [
    {
     "name": "stderr",
     "output_type": "stream",
     "text": [
      "/home/hweem/git/mastersdegree/s-transformers/lib/python3.8/site-packages/numpy/core/fromnumeric.py:3372: RuntimeWarning: Mean of empty slice.\n",
      "  return _methods._mean(a, axis=axis, dtype=dtype,\n",
      "/home/hweem/git/mastersdegree/s-transformers/lib/python3.8/site-packages/numpy/core/_methods.py:170: RuntimeWarning: invalid value encountered in double_scalars\n",
      "  ret = ret.dtype.type(ret / rcount)\n"
     ]
    },
    {
     "data": {
      "text/plain": [
       "nan"
      ]
     },
     "execution_count": 3,
     "metadata": {},
     "output_type": "execute_result"
    }
   ],
   "source": [
    "import numpy as np\n",
    "np.mean([])"
   ]
  },
  {
   "cell_type": "code",
   "execution_count": null,
   "metadata": {},
   "outputs": [],
   "source": []
  }
 ],
 "metadata": {
  "kernelspec": {
   "display_name": "s-transformers",
   "language": "python",
   "name": "s-transformers"
  },
  "language_info": {
   "codemirror_mode": {
    "name": "ipython",
    "version": 3
   },
   "file_extension": ".py",
   "mimetype": "text/x-python",
   "name": "python",
   "nbconvert_exporter": "python",
   "pygments_lexer": "ipython3",
   "version": "3.8.5"
  }
 },
 "nbformat": 4,
 "nbformat_minor": 4
}
