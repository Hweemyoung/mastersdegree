{
 "cells": [
  {
   "cell_type": "code",
   "execution_count": 3,
   "metadata": {},
   "outputs": [],
   "source": [
    "import numpy as np\n",
    "import pandas as pd\n",
    "import matplotlib.pyplot as plt\n",
    "from scopus_handler import ScopusHandler\n",
    "%matplotlib inline"
   ]
  },
  {
   "cell_type": "code",
   "execution_count": 4,
   "metadata": {},
   "outputs": [],
   "source": [
    "# 저자 수, 기관 수: 같은 수\n",
    "# 국제 집필 여부, 펀드 유무, 공개 논문 여부: 같은 여부\n",
    "# 동일 저널, 동일 문서 타입, 동일 토픽: 같은 분류\n",
    "df3 = pd.read_csv(\"/home/hweem/git/mastersdegree/ytcrawl/customs/scopus/scopus_2014_comp.csv\")"
   ]
  },
  {
   "cell_type": "code",
   "execution_count": 5,
   "metadata": {},
   "outputs": [],
   "source": [
    "def preprocess_authors(df):\n",
    "    _column_name = \"Author(s) ID\"\n",
    "    df = df.astype({_column_name: str})\n",
    "    # nan, \"[No author id available]\"\n",
    "    df = df[df[_column_name].notna()]\n",
    "    df = df[df[_column_name] != \"[No author id available]\"]\n",
    "    # Split by ;\n",
    "    df[\"num_authors\"] = df[_column_name].apply(lambda _text: len(_text.split(\";\")))\n",
    "    return df"
   ]
  },
  {
   "cell_type": "code",
   "execution_count": 6,
   "metadata": {},
   "outputs": [],
   "source": [
    "def preprocess_affiliations(df):\n",
    "    _column_name = \"Affiliations\"\n",
    "    df = df.astype({_column_name: str})\n",
    "    # nan\n",
    "    df = df[df[_column_name].notna()]\n",
    "    # Split by ;\n",
    "    df[\"num_affiliations\"] = df[_column_name].apply(lambda _text: len(_text.split(\";\")))\n",
    "    return df"
   ]
  },
  {
   "cell_type": "code",
   "execution_count": 7,
   "metadata": {},
   "outputs": [],
   "source": [
    "def preprocess_funding(df):\n",
    "    import math\n",
    "    _column_name = \"Funding Details\"\n",
    "    df[\"is_funded\"] = df[_column_name].fillna(False)\n",
    "    df[\"is_funded\"] = df[\"is_funded\"].apply(lambda _text: True if _text != False else _text)\n",
    "#     df[\"is_funded\"] = df[_column_name].apply(lambda _text: False if math.isnan(_text) else True)\n",
    "    return df"
   ]
  },
  {
   "cell_type": "code",
   "execution_count": 8,
   "metadata": {},
   "outputs": [],
   "source": [
    "def preprocess_access_type(df):\n",
    "    _column_name = \"Access Type\"\n",
    "    df[\"is_open\"] = df[_column_name].fillna(False)\n",
    "    df[\"is_open\"] = df[\"is_open\"].apply(lambda _text: True if _text != False else _text)\n",
    "#     df[\"is_funded\"] = df[_column_name].apply(lambda _text: False if math.isnan(_text) else True)\n",
    "    return df"
   ]
  },
  {
   "cell_type": "code",
   "execution_count": 9,
   "metadata": {},
   "outputs": [],
   "source": [
    "def preprocess_df(df):\n",
    "    df = df.drop_duplicates(subset=[\"DOI\"])\n",
    "    df = preprocess_authors(df)\n",
    "    df = preprocess_affiliations(df)\n",
    "    df = preprocess_funding(df)\n",
    "    df = preprocess_access_type(df)\n",
    "    return df"
   ]
  },
  {
   "cell_type": "code",
   "execution_count": 75,
   "metadata": {},
   "outputs": [
    {
     "name": "stdout",
     "output_type": "stream",
     "text": [
      "[+]Duplicates have been dropped from df_scopus.\tBefore: 9598\tAfter: 9336\n",
      "# Total DOIs: 9336\t# DOIs w/ videos: 13\tRatio: 0.001\n",
      "# Total videos: 16\t# Target videos: 16\tRatio: 1.000\n",
      "# Total subjects: 43\t# subjects w/ videos: 9\tRatio: 0.209\n",
      "# Total journals: 133\t# journals w/ videos: 10\tRatio: 0.075\n",
      "[+]Processing 1 of 13...\n",
      "\t[-]Sample larger than population\n",
      "\tDOI: 10.1016/j.patcog.2013.08.011\tPopulation: 1\n",
      "[+]Processing 2 of 13...\n",
      "[+]Processing 3 of 13...\n",
      "[+]Processing 4 of 13...\n",
      "[+]Processing 5 of 13...\n",
      "[+]Processing 6 of 13...\n",
      "[+]Processing 7 of 13...\n",
      "\t[-]Sample larger than population\n",
      "\tDOI: 10.1021/ct4010307\tPopulation: 2\n",
      "[+]Processing 8 of 13...\n",
      "[+]Processing 9 of 13...\n",
      "[+]Processing 10 of 13...\n",
      "\t[-]Sample larger than population\n",
      "\tDOI: 10.1371/journal.pcbi.1003496\tPopulation: 2\n",
      "[+]Processing 11 of 13...\n",
      "[+]Processing 12 of 13...\n",
      "[+]Processing 13 of 13...\n"
     ]
    }
   ],
   "source": [
    "def get_filtering(df, list_comparisons):\n",
    "    _filtering = pd.concat(\n",
    "        list(map(lambda _column_name: df[_column_name] == _target_scopus[_column_name], list_comparisons)),\n",
    "        axis=1\n",
    "    ).all(axis=1)\n",
    "    return _filtering\n",
    "\n",
    "_m = 3  # 1:m matching\n",
    "_list_comparisons = [\n",
    "#     \"num_authors\",\n",
    "    \"num_affiliations\",\n",
    "    \"is_funded\",\n",
    "    \"is_open\",\n",
    "    \"Source title\",\n",
    "    \"Document Type\",\n",
    "]\n",
    "_list_counterparts = list()\n",
    "\n",
    "df3 = pd.read_csv(\"/home/hweem/git/mastersdegree/ytcrawl/customs/scopus/scopus_2014_comp.csv\")\n",
    "df3_sources = pd.read_csv(\"scopus/source_2013_comp.csv\", header=0)\n",
    "scopus_2014_comp = ScopusHandler(df3, df3_sources, \"scopus_videos_2014_comp\", verbose=False)\n",
    "# _set_dois = set(map(lambda _tup_video: _tup_video[2], scopus_2014_comp.set_target_videos().list_target_videos))\n",
    "_set_dois = set(map(lambda _tup_video: _tup_video[2], scopus_2014_comp.set_target_videos(where=(\"content\", (\"paper_explanation\", \"paper_assessment\", \"paper_application\"), \"in\")).list_target_videos))\n",
    "\n",
    "df3 = preprocess_df(df3)\n",
    "# Exclude target DOIs\n",
    "df_target_dois = df3[df3[\"DOI\"].isin(_set_dois)]\n",
    "df_counterparts = df3[~df3[\"DOI\"].isin(_set_dois)]\n",
    "\n",
    "for _i, (_idx, _target_scopus) in enumerate(df_target_dois.iterrows()):\n",
    "    print(\"[+]Processing %d of %d...\" % (_i + 1, len(df_target_dois)))\n",
    "#     print(_target_scopus)\n",
    "#     _filtering = pd.concat([\n",
    "#         df3[\"num_authors\"] == _target_scopus[\"num_authors\"],\n",
    "#         df3[\"num_affiliations\"] == _target_scopus[\"num_affiliations\"],\n",
    "#         df3[\"is_funded\"] == _target_scopus[\"is_funded\"],\n",
    "#         df3[\"is_open\"] == _target_scopus[\"is_open\"],\n",
    "#         df3[\"Source title\"] == _target_scopus[\"Source title\"],\n",
    "#         df3[\"Document Type\"] == _target_scopus[\"Document Type\"],\n",
    "#     ], axis=1).all(axis=1)\n",
    "    _filtering = get_filtering(df3, _list_comparisons)\n",
    "    # Randomly sample m matchers\n",
    "    try:\n",
    "        _scopus_counterparts = df3.loc[df3[_filtering].sample(_m).index]\n",
    "    except ValueError:  # sample larger than population\n",
    "        print(\"\\t[-]Sample larger than population\\n\\tDOI: %s\\tPopulation: %d\" % (_target_scopus[\"DOI\"], len(df3[_filtering])))\n",
    "        # _scopus_counterparts = df3[_filtering]\n",
    "    else:\n",
    "        # Append to list\n",
    "        _list_counterparts.append((_target_scopus, _scopus_counterparts))\n",
    "        # Drop samples from original df\n",
    "        df3 = df3.drop(_scopus_counterparts.index)"
   ]
  },
  {
   "cell_type": "code",
   "execution_count": 76,
   "metadata": {},
   "outputs": [
    {
     "data": {
      "text/plain": [
       "{'whiskers': [<matplotlib.lines.Line2D at 0x7fee805290d0>,\n",
       "  <matplotlib.lines.Line2D at 0x7fee80529430>,\n",
       "  <matplotlib.lines.Line2D at 0x7fee79c008b0>,\n",
       "  <matplotlib.lines.Line2D at 0x7fee79c00c10>],\n",
       " 'caps': [<matplotlib.lines.Line2D at 0x7fee80529790>,\n",
       "  <matplotlib.lines.Line2D at 0x7fee80529af0>,\n",
       "  <matplotlib.lines.Line2D at 0x7fee79c00f70>,\n",
       "  <matplotlib.lines.Line2D at 0x7fee80945310>],\n",
       " 'boxes': [<matplotlib.lines.Line2D at 0x7fee79e9ed30>,\n",
       "  <matplotlib.lines.Line2D at 0x7fee79c00550>],\n",
       " 'medians': [<matplotlib.lines.Line2D at 0x7fee80529e50>,\n",
       "  <matplotlib.lines.Line2D at 0x7fee80945670>],\n",
       " 'fliers': [<matplotlib.lines.Line2D at 0x7fee79c001f0>,\n",
       "  <matplotlib.lines.Line2D at 0x7fee809459d0>],\n",
       " 'means': []}"
      ]
     },
     "execution_count": 76,
     "metadata": {},
     "output_type": "execute_result"
    },
    {
     "data": {
      "image/png": "[encoded data removed]",
      "text/plain": [
       "<Figure size 720x432 with 1 Axes>"
      ]
     },
     "metadata": {
      "needs_background": "light"
     },
     "output_type": "display_data"
    }
   ],
   "source": [
    "import functools\n",
    "import numpy as np\n",
    "import matplotlib.pyplot as plt\n",
    "%matplotlib inline\n",
    "\n",
    "_metric = \"Cited by\"\n",
    "_metrics_targets = list(map(lambda _twin: _twin[0][_metric], _list_counterparts))\n",
    "_metrics_counterparts = functools.reduce(lambda a, b: a + b, list(map(lambda _twin: list(_twin[1][_metric].values), _list_counterparts)))\n",
    "plt.figure(figsize=(10, 6))\n",
    "plt.boxplot([\n",
    "    np.log10(np.nan_to_num(_metrics_counterparts)),\n",
    "    np.log10(np.nan_to_num(_metrics_targets)),\n",
    "#     np.nan_to_num(_metrics_counterparts),\n",
    "#     np.nan_to_num(_metrics_targets),\n",
    "])\n"
   ]
  },
  {
   "cell_type": "code",
   "execution_count": 77,
   "metadata": {},
   "outputs": [
    {
     "name": "stdout",
     "output_type": "stream",
     "text": [
      "2014\tS = -2.752948\tp = 0.009006\n"
     ]
    }
   ],
   "source": [
    "from scipy import stats\n",
    "_s2014, _p2014 = stats.ttest_ind(\n",
    "    np.log10(_metrics_counterparts)[~np.isnan(np.log10(_metrics_counterparts))],\n",
    "    np.log10(_metrics_targets)[~np.isnan(np.log10(_metrics_targets))]\n",
    ")\n",
    "print(\"2014\\tS = %f\\tp = %f\"%(_s2014, _p2014))"
   ]
  },
  {
   "cell_type": "code",
   "execution_count": 74,
   "metadata": {},
   "outputs": [
    {
     "data": {
      "text/plain": [
       "(21, 7)"
      ]
     },
     "execution_count": 74,
     "metadata": {},
     "output_type": "execute_result"
    }
   ],
   "source": [
    "len(np.log10(_metrics_counterparts)[~np.isnan(np.log10(_metrics_counterparts))]), len(np.log10(_metrics_targets)[~np.isnan(np.log10(_metrics_targets))])"
   ]
  },
  {
   "cell_type": "code",
   "execution_count": null,
   "metadata": {},
   "outputs": [],
   "source": []
  }
 ],
 "metadata": {
  "kernelspec": {
   "display_name": "s-transformers",
   "language": "python",
   "name": "s-transformers"
  },
  "language_info": {
   "codemirror_mode": {
    "name": "ipython",
    "version": 3
   },
   "file_extension": ".py",
   "mimetype": "text/x-python",
   "name": "python",
   "nbconvert_exporter": "python",
   "pygments_lexer": "ipython3",
   "version": "3.8.5"
  }
 },
 "nbformat": 4,
 "nbformat_minor": 4
}
