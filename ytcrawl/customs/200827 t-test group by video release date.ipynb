{
 "cells": [
  {
   "cell_type": "markdown",
   "metadata": {},
   "source": [
    "출판과의 시간차에 따른 관계"
   ]
  },
  {
   "cell_type": "code",
   "execution_count": 20,
   "metadata": {},
   "outputs": [],
   "source": [
    "import numpy as np\n",
    "import pandas as pd\n",
    "from db_handler import DBHandler\n",
    "from matplotlib import pyplot as plt\n",
    "from scipy import stats\n",
    "from datetime import datetime, timedelta\n",
    "from calendar import monthrange\n",
    "%matplotlib inline\n",
    "\n",
    "def parse_fetches(fetches):\n",
    "    _new_fetches = list()\n",
    "    for _fetch in fetches:\n",
    "        for _doi in _fetch[0].split(\", \"):\n",
    "            _new_fetches.append(\n",
    "                (_doi, _fetch[1])\n",
    "            )\n",
    "    return _new_fetches\n",
    "\n",
    "def get_dois_with_videos_within_days_from_publish(df, table_name, days_from=None, days_until=None):\n",
    "#     複数の動画が与えられる論文の場合、複数のsetに含まれることがある。\n",
    "    _set_target_dois = set()\n",
    "    db_handler.sql_handler.select(table_name, [\"idx_paper\", \"publishedAt\"])\n",
    "    fetches = db_handler.execute().fetchall()\n",
    "    fetches = parse_fetches(fetches)\n",
    "    \n",
    "    for _row in fetches:\n",
    "#         print(\"DOI:\", _row[0])\n",
    "        _target_paper = df[df[\"DOI\"] == _row[0]]\n",
    "#         if len(_target_paper) == 0:\n",
    "#             continue\n",
    "        if len(_target_paper) > 1:\n",
    "            _target_paper = _target_paper.iloc[0]\n",
    "#         print(_target_paper)\n",
    "        _dt_publish = datetime(_target_paper[\"Year\"], _target_paper[\"Month\"], 1)\n",
    "        \n",
    "        if days_from != None:\n",
    "            _dt_video_from = _dt_publish + timedelta(days=days_from)\n",
    "            if _row[1] < _dt_video_from:\n",
    "                continue\n",
    "        \n",
    "        if days_until != None:\n",
    "            _dt_video_until = _dt_publish + timedelta(days=days_until)\n",
    "            if _row[1] > _dt_video_until:\n",
    "                continue\n",
    "        \n",
    "        _set_target_dois.add(_row[0])\n",
    "    \n",
    "#     if days_until == None:\n",
    "#         _set_target_dois = set(map(lambda _row: _row[0], fetches))\n",
    "#     else:\n",
    "#         for _row in fetches:\n",
    "#             _target_paper = df[df[\"DOI\"] == _row[0]]\n",
    "#             if len(_target_paper) > 1:\n",
    "#                 _target_paper = _target_paper.iloc[0]\n",
    "#             _dt_publish = datetime(_target_paper[\"Year\"], _target_paper[\"Month\"], 1)\n",
    "            \n",
    "#             _dt_video_from = _dt_publish + timedelta(days=days_from)\n",
    "#             _dt_video_until = _dt_publish + timedelta(days=days_until)\n",
    "            \n",
    "#             if _row[1] < _dt_video_deadline:\n",
    "#                 _set_target_dois.add(_row[0])\n",
    "    \n",
    "    return _set_target_dois"
   ]
  },
  {
   "cell_type": "code",
   "execution_count": 2,
   "metadata": {},
   "outputs": [],
   "source": [
    "df1 = pd.read_csv(\"/home/hweem/git/mastersdegree/ytcrawl/customs/scopus/scopus_math+comp_top5perc_1901-1906.csv\")\n",
    "df2 = pd.read_csv(\"/home/hweem/git/mastersdegree/ytcrawl/customs/scopus/scopus_math+comp_top5perc_1701-1706.csv\")\n",
    "df3 = pd.read_csv(\"/home/hweem/git/mastersdegree/ytcrawl/customs/scopus/scopus_math+comp_top5perc_1401-1406.csv\")\n",
    "db_handler = DBHandler()"
   ]
  },
  {
   "cell_type": "code",
   "execution_count": 3,
   "metadata": {},
   "outputs": [
    {
     "name": "stdout",
     "output_type": "stream",
     "text": [
      "\tCommand set: SELECT `idx_paper`, `publishedAt` FROM `scopus_videos_2014_comp`\n",
      "\tsql: SELECT `idx_paper`, `publishedAt` FROM `scopus_videos_2014_comp`;\n",
      "\tCommand set: SELECT `idx_paper`, `publishedAt` FROM `scopus_videos_2017_comp`\n",
      "\tsql: SELECT `idx_paper`, `publishedAt` FROM `scopus_videos_2017_comp`;\n",
      "\tCommand set: SELECT `idx_paper`, `publishedAt` FROM `scopus_videos_2019_comp`\n",
      "\tsql: SELECT `idx_paper`, `publishedAt` FROM `scopus_videos_2019_comp`;\n"
     ]
    }
   ],
   "source": [
    "db_handler.sql_handler.select(\"scopus_videos_2014_comp\", [\"idx_paper\", \"publishedAt\"])\n",
    "_videos_2014 = db_handler.execute().fetchall()\n",
    "db_handler.sql_handler.select(\"scopus_videos_2017_comp\", [\"idx_paper\", \"publishedAt\"])\n",
    "_videos_2017 = db_handler.execute().fetchall()\n",
    "db_handler.sql_handler.select(\"scopus_videos_2019_comp\", [\"idx_paper\", \"publishedAt\"])\n",
    "_videos_2019 = db_handler.execute().fetchall()"
   ]
  },
  {
   "cell_type": "code",
   "execution_count": 4,
   "metadata": {},
   "outputs": [
    {
     "name": "stdout",
     "output_type": "stream",
     "text": [
      "\tCommand set: SELECT `idx_paper`, `publishedAt` FROM `scopus_videos_2014_comp`\n",
      "\tsql: SELECT `idx_paper`, `publishedAt` FROM `scopus_videos_2014_comp`;\n",
      "\tCommand set: SELECT `idx_paper`, `publishedAt` FROM `scopus_videos_2014_comp`\n",
      "\tsql: SELECT `idx_paper`, `publishedAt` FROM `scopus_videos_2014_comp`;\n",
      "\tCommand set: SELECT `idx_paper`, `publishedAt` FROM `scopus_videos_2014_comp`\n",
      "\tsql: SELECT `idx_paper`, `publishedAt` FROM `scopus_videos_2014_comp`;\n",
      "\tCommand set: SELECT `idx_paper`, `publishedAt` FROM `scopus_videos_2014_comp`\n",
      "\tsql: SELECT `idx_paper`, `publishedAt` FROM `scopus_videos_2014_comp`;\n",
      "\tCommand set: SELECT `idx_paper`, `publishedAt` FROM `scopus_videos_2014_comp`\n",
      "\tsql: SELECT `idx_paper`, `publishedAt` FROM `scopus_videos_2014_comp`;\n",
      "\tCommand set: SELECT `idx_paper`, `publishedAt` FROM `scopus_videos_2014_comp`\n",
      "\tsql: SELECT `idx_paper`, `publishedAt` FROM `scopus_videos_2014_comp`;\n",
      "102 25 35 7 0 39\n"
     ]
    }
   ],
   "source": [
    "# _idx_papers_2019 = get_dois_with_videos_within_days_from_publish(df1, \"scopus_videos_2019_comp\")\n",
    "# _idx_papers_2019_90 = get_dois_with_videos_within_days_from_publish(df1, \"scopus_videos_2019_comp\", None, 90)\n",
    "# print(len(_idx_papers_2019), len(_idx_papers_2019_90))\n",
    "# _idx_papers_2017 = get_dois_with_videos_within_days_from_publish(df2, \"scopus_videos_2017_comp\")\n",
    "# _idx_papers_2017_90 = get_dois_with_videos_within_days_from_publish(df2, \"scopus_videos_2017_comp\", None, 90)\n",
    "# print(len(_idx_papers_2017), len(_idx_papers_2017_90))\n",
    "_idx_papers_2014 = get_dois_with_videos_within_days_from_publish(df3, \"scopus_videos_2014_comp\")\n",
    "_idx_papers_2014_90 = get_dois_with_videos_within_days_from_publish(df3, \"scopus_videos_2014_comp\", None, 90)\n",
    "_idx_papers_2014_180 = get_dois_with_videos_within_days_from_publish(df3, \"scopus_videos_2014_comp\", 90, 180)\n",
    "_idx_papers_2014_270 = get_dois_with_videos_within_days_from_publish(df3, \"scopus_videos_2014_comp\", 180, 270)\n",
    "_idx_papers_2014_360 = get_dois_with_videos_within_days_from_publish(df3, \"scopus_videos_2014_comp\", 270, 360)\n",
    "_idx_papers_2014_rest = get_dois_with_videos_within_days_from_publish(df3, \"scopus_videos_2014_comp\", 360, None)\n",
    "print(len(_idx_papers_2014), len(_idx_papers_2014_90), len(_idx_papers_2014_180), len(_idx_papers_2014_270), len(_idx_papers_2014_360), len(_idx_papers_2014_rest))"
   ]
  },
  {
   "cell_type": "code",
   "execution_count": 35,
   "metadata": {},
   "outputs": [
    {
     "name": "stderr",
     "output_type": "stream",
     "text": [
      "/home/hweem/git/mastersdegree/ytcrawl/ytcrawl0/lib/python3.5/site-packages/ipykernel_launcher.py:12: UserWarning: Boolean Series key will be reindexed to match DataFrame index.\n",
      "  if sys.path[0] == '':\n",
      "/home/hweem/git/mastersdegree/ytcrawl/ytcrawl0/lib/python3.5/site-packages/ipykernel_launcher.py:13: UserWarning: Boolean Series key will be reindexed to match DataFrame index.\n",
      "  del sys.path[0]\n",
      "/home/hweem/git/mastersdegree/ytcrawl/ytcrawl0/lib/python3.5/site-packages/ipykernel_launcher.py:14: UserWarning: Boolean Series key will be reindexed to match DataFrame index.\n",
      "  \n",
      "/home/hweem/git/mastersdegree/ytcrawl/ytcrawl0/lib/python3.5/site-packages/ipykernel_launcher.py:15: UserWarning: Boolean Series key will be reindexed to match DataFrame index.\n",
      "  from ipykernel import kernelapp as app\n",
      "/home/hweem/git/mastersdegree/ytcrawl/ytcrawl0/lib/python3.5/site-packages/ipykernel_launcher.py:16: UserWarning: Boolean Series key will be reindexed to match DataFrame index.\n",
      "  app.launch_new_instance()\n",
      "/home/hweem/git/mastersdegree/ytcrawl/ytcrawl0/lib/python3.5/site-packages/ipykernel_launcher.py:17: UserWarning: Boolean Series key will be reindexed to match DataFrame index.\n"
     ]
    },
    {
     "data": {
      "text/plain": [
       "{'boxes': [<matplotlib.lines.Line2D at 0x7ff748025470>,\n",
       "  <matplotlib.lines.Line2D at 0x7ff74802c940>,\n",
       "  <matplotlib.lines.Line2D at 0x7ff74803b0b8>,\n",
       "  <matplotlib.lines.Line2D at 0x7ff7480407f0>,\n",
       "  <matplotlib.lines.Line2D at 0x7ff748047f28>,\n",
       "  <matplotlib.lines.Line2D at 0x7ff7480586a0>],\n",
       " 'caps': [<matplotlib.lines.Line2D at 0x7ff748025c18>,\n",
       "  <matplotlib.lines.Line2D at 0x7ff748025f60>,\n",
       "  <matplotlib.lines.Line2D at 0x7ff748034390>,\n",
       "  <matplotlib.lines.Line2D at 0x7ff7480346d8>,\n",
       "  <matplotlib.lines.Line2D at 0x7ff74803bac8>,\n",
       "  <matplotlib.lines.Line2D at 0x7ff74803be10>,\n",
       "  <matplotlib.lines.Line2D at 0x7ff748047240>,\n",
       "  <matplotlib.lines.Line2D at 0x7ff748047588>,\n",
       "  <matplotlib.lines.Line2D at 0x7ff748051978>,\n",
       "  <matplotlib.lines.Line2D at 0x7ff748051cc0>,\n",
       "  <matplotlib.lines.Line2D at 0x7ff747fde0f0>,\n",
       "  <matplotlib.lines.Line2D at 0x7ff747fde438>],\n",
       " 'fliers': [<matplotlib.lines.Line2D at 0x7ff74802c630>,\n",
       "  <matplotlib.lines.Line2D at 0x7ff748034d68>,\n",
       "  <matplotlib.lines.Line2D at 0x7ff7480404e0>,\n",
       "  <matplotlib.lines.Line2D at 0x7ff748047c18>,\n",
       "  <matplotlib.lines.Line2D at 0x7ff748058390>,\n",
       "  <matplotlib.lines.Line2D at 0x7ff747fdeac8>],\n",
       " 'means': [],\n",
       " 'medians': [<matplotlib.lines.Line2D at 0x7ff74802c2e8>,\n",
       "  <matplotlib.lines.Line2D at 0x7ff748034a20>,\n",
       "  <matplotlib.lines.Line2D at 0x7ff748040198>,\n",
       "  <matplotlib.lines.Line2D at 0x7ff7480478d0>,\n",
       "  <matplotlib.lines.Line2D at 0x7ff748058048>,\n",
       "  <matplotlib.lines.Line2D at 0x7ff747fde780>],\n",
       " 'whiskers': [<matplotlib.lines.Line2D at 0x7ff748025588>,\n",
       "  <matplotlib.lines.Line2D at 0x7ff7480258d0>,\n",
       "  <matplotlib.lines.Line2D at 0x7ff74802ccc0>,\n",
       "  <matplotlib.lines.Line2D at 0x7ff748034048>,\n",
       "  <matplotlib.lines.Line2D at 0x7ff74803b438>,\n",
       "  <matplotlib.lines.Line2D at 0x7ff74803b780>,\n",
       "  <matplotlib.lines.Line2D at 0x7ff748040b70>,\n",
       "  <matplotlib.lines.Line2D at 0x7ff748040eb8>,\n",
       "  <matplotlib.lines.Line2D at 0x7ff7480512e8>,\n",
       "  <matplotlib.lines.Line2D at 0x7ff748051630>,\n",
       "  <matplotlib.lines.Line2D at 0x7ff748058a20>,\n",
       "  <matplotlib.lines.Line2D at 0x7ff748058d68>]}"
      ]
     },
     "execution_count": 35,
     "metadata": {},
     "output_type": "execute_result"
    },
    {
     "data": {
      "image/png": "[encoded data removed]",
      "text/plain": [
       "<Figure size 864x432 with 1 Axes>"
      ]
     },
     "metadata": {
      "needs_background": "light"
     },
     "output_type": "display_data"
    }
   ],
   "source": [
    "# _2019_90_wo_videos_cit = df1[~df1.DOI.isin(_idx_papers_2019_90)][df1[\"Cited by\"] != \"None\"][\"Cited by\"].dropna().astype(int)\n",
    "# _2019_90_w_videos_cit = df1[df1.DOI.isin(_idx_papers_2019_90)][df1[\"Cited by\"] != \"None\"][\"Cited by\"].dropna().astype(int)\n",
    "# _2017_90_wo_videos_cit = df2[~df2.DOI.isin(_idx_papers_2017_90)][df2[\"Cited by\"] != \"None\"][\"Cited by\"].dropna().astype(int)\n",
    "# _2017_90_w_videos_cit = df2[df2.DOI.isin(_idx_papers_2017_90)][df2[\"Cited by\"] != \"None\"][\"Cited by\"].dropna().astype(int)\n",
    "# _2014_wo_videos_cit = df3[~df3.DOI.isin(_idx_papers_2014)][df3[\"Cited by\"] != \"None\"][\"Cited by\"].dropna().astype(int)\n",
    "# _2014_90_w_videos_cit = df3[df3.DOI.isin(_idx_papers_2014_90)][df3[\"Cited by\"] != \"None\"][\"Cited by\"].dropna().astype(int)\n",
    "# _2014_180_w_videos_cit = df3[df3.DOI.isin(_idx_papers_2014_180)][df3[\"Cited by\"] != \"None\"][\"Cited by\"].dropna().astype(int)\n",
    "# _2014_270_w_videos_cit = df3[df3.DOI.isin(_idx_papers_2014_270)][df3[\"Cited by\"] != \"None\"][\"Cited by\"].dropna().astype(int)\n",
    "# _2014_360_w_videos_cit = df3[df3.DOI.isin(_idx_papers_2014_360)][df3[\"Cited by\"] != \"None\"][\"Cited by\"].dropna().astype(int)\n",
    "# _2014_rest_w_videos_cit = df3[df3.DOI.isin(_idx_papers_2014_rest)][df3[\"Cited by\"] != \"None\"][\"Cited by\"].dropna().astype(int)\n",
    "\n",
    "_2014_wo_videos_cit = np.log10(df3[~df3.DOI.isin(_idx_papers_2014)][df3[\"Cited by\"] != \"None\"][\"Cited by\"].dropna().astype(int))\n",
    "_2014_90_w_videos_cit = np.log10(df3[df3.DOI.isin(_idx_papers_2014_90)][df3[\"Cited by\"] != \"None\"][\"Cited by\"].dropna().astype(int))\n",
    "_2014_180_w_videos_cit = np.log10(df3[df3.DOI.isin(_idx_papers_2014_180)][df3[\"Cited by\"] != \"None\"][\"Cited by\"].dropna().astype(int))\n",
    "_2014_270_w_videos_cit = np.log10(df3[df3.DOI.isin(_idx_papers_2014_270)][df3[\"Cited by\"] != \"None\"][\"Cited by\"].dropna().astype(int))\n",
    "_2014_360_w_videos_cit = np.log10(df3[df3.DOI.isin(_idx_papers_2014_360)][df3[\"Cited by\"] != \"None\"][\"Cited by\"].dropna().astype(int))\n",
    "_2014_rest_w_videos_cit = np.log10(df3[df3.DOI.isin(_idx_papers_2014_rest)][df3[\"Cited by\"] != \"None\"][\"Cited by\"].dropna().astype(int))\n",
    "\n",
    "plt.figure(figsize=(12, 6))\n",
    "plt.title(\"Citation by video release date\")\n",
    "# plt.yscale(\"log\")\n",
    "# plt.ylim([0, 200])\n",
    "plt.ylabel(\"log10(Citation)\")\n",
    "plt.boxplot([\n",
    "    _2014_wo_videos_cit,\n",
    "    _2014_90_w_videos_cit,\n",
    "    _2014_180_w_videos_cit,\n",
    "    _2014_270_w_videos_cit,\n",
    "    _2014_360_w_videos_cit,\n",
    "    _2014_rest_w_videos_cit\n",
    "],\n",
    "    labels=[\n",
    "        \"2014 w/o videos\\n(N=%s)\"%len(_2014_wo_videos_cit),\n",
    "        \"2014 w/ videos-90\\n(N=%s)\"%len(_2014_90_w_videos_cit),\n",
    "        \"2014 w/ videos-180\\n(N=%s)\"%len(_2014_180_w_videos_cit),\n",
    "        \"2014 w/ videos-270\\n(N=%s)\"%len(_2014_270_w_videos_cit),\n",
    "        \"2014 w/ videos-360\\n(N=%s)\"%len(_2014_360_w_videos_cit),\n",
    "        \"2014 w/ videos-rest\\n(N=%s)\"%len(_2014_rest_w_videos_cit)\n",
    "    ]\n",
    ")"
   ]
  },
  {
   "cell_type": "code",
   "execution_count": 36,
   "metadata": {},
   "outputs": [
    {
     "name": "stdout",
     "output_type": "stream",
     "text": [
      "2014-90\tS = -1.965470\tp = 0.049390\n",
      "2014-180\tS = -2.647451\tp = 0.008124\n",
      "2014-270\tS = -2.011884\tp = 0.044261\n",
      "2014-360\tS = nan\tp = nan\n",
      "2014-rest\tS = -4.130150\tp = 0.000037\n"
     ]
    }
   ],
   "source": [
    "# _s2019, _p2019 = stats.ttest_ind(\n",
    "#     _2019_90_wo_videos_cit,\n",
    "#     _2019_90_w_videos_cit\n",
    "# )\n",
    "# print(\"2019\\tS = %f\\tp = %f\"%(_s2019, _p2019))\n",
    "\n",
    "# _s2017, _p2017 = stats.ttest_ind(\n",
    "#     _2017_90_wo_videos_cit,\n",
    "#     _2017_90_w_videos_cit\n",
    "# )\n",
    "# print(\"2017\\tS = %f\\tp = %f\"%(_s2017, _p2017))\n",
    "\n",
    "_s2014, _p2014 = stats.ttest_ind(\n",
    "    _2014_wo_videos_cit,\n",
    "    _2014_90_w_videos_cit\n",
    ")\n",
    "print(\"2014-90\\tS = %f\\tp = %f\"%(_s2014, _p2014))\n",
    "_s2014, _p2014 = stats.ttest_ind(\n",
    "    _2014_wo_videos_cit,\n",
    "    _2014_180_w_videos_cit\n",
    ")\n",
    "print(\"2014-180\\tS = %f\\tp = %f\"%(_s2014, _p2014))\n",
    "_s2014, _p2014 = stats.ttest_ind(\n",
    "    _2014_wo_videos_cit,\n",
    "    _2014_270_w_videos_cit\n",
    ")\n",
    "print(\"2014-270\\tS = %f\\tp = %f\"%(_s2014, _p2014))\n",
    "_s2014, _p2014 = stats.ttest_ind(\n",
    "    _2014_wo_videos_cit,\n",
    "    _2014_360_w_videos_cit\n",
    ")\n",
    "print(\"2014-360\\tS = %f\\tp = %f\"%(_s2014, _p2014))\n",
    "_s2014, _p2014 = stats.ttest_ind(\n",
    "    _2014_wo_videos_cit,\n",
    "    _2014_rest_w_videos_cit\n",
    ")\n",
    "print(\"2014-rest\\tS = %f\\tp = %f\"%(_s2014, _p2014))"
   ]
  },
  {
   "cell_type": "markdown",
   "metadata": {},
   "source": [
    "초창기(90)와 상당히 나중 비디오일수록 더 유의하다."
   ]
  },
  {
   "cell_type": "code",
   "execution_count": 8,
   "metadata": {},
   "outputs": [
    {
     "name": "stdout",
     "output_type": "stream",
     "text": [
      "\tCommand set: SELECT `idx_paper`, `publishedAt` FROM `scopus_videos_2017_comp`\n",
      "\tsql: SELECT `idx_paper`, `publishedAt` FROM `scopus_videos_2017_comp`;\n",
      "\tCommand set: SELECT `idx_paper`, `publishedAt` FROM `scopus_videos_2017_comp`\n",
      "\tsql: SELECT `idx_paper`, `publishedAt` FROM `scopus_videos_2017_comp`;\n",
      "\tCommand set: SELECT `idx_paper`, `publishedAt` FROM `scopus_videos_2017_comp`\n",
      "\tsql: SELECT `idx_paper`, `publishedAt` FROM `scopus_videos_2017_comp`;\n",
      "\tCommand set: SELECT `idx_paper`, `publishedAt` FROM `scopus_videos_2017_comp`\n",
      "\tsql: SELECT `idx_paper`, `publishedAt` FROM `scopus_videos_2017_comp`;\n",
      "\tCommand set: SELECT `idx_paper`, `publishedAt` FROM `scopus_videos_2017_comp`\n",
      "\tsql: SELECT `idx_paper`, `publishedAt` FROM `scopus_videos_2017_comp`;\n",
      "\tCommand set: SELECT `idx_paper`, `publishedAt` FROM `scopus_videos_2017_comp`\n",
      "\tsql: SELECT `idx_paper`, `publishedAt` FROM `scopus_videos_2017_comp`;\n",
      "72 30 6 3 5 34\n"
     ]
    }
   ],
   "source": [
    "_idx_papers_2017 = get_dois_with_videos_within_days_from_publish(df2, \"scopus_videos_2017_comp\")\n",
    "_idx_papers_2017_90 = get_dois_with_videos_within_days_from_publish(df2, \"scopus_videos_2017_comp\", None, 90)\n",
    "_idx_papers_2017_180 = get_dois_with_videos_within_days_from_publish(df2, \"scopus_videos_2017_comp\", 90, 180)\n",
    "_idx_papers_2017_270 = get_dois_with_videos_within_days_from_publish(df2, \"scopus_videos_2017_comp\", 180, 270)\n",
    "_idx_papers_2017_360 = get_dois_with_videos_within_days_from_publish(df2, \"scopus_videos_2017_comp\", 270, 360)\n",
    "_idx_papers_2017_rest = get_dois_with_videos_within_days_from_publish(df2, \"scopus_videos_2017_comp\", 360, None)\n",
    "print(len(_idx_papers_2017), len(_idx_papers_2017_90), len(_idx_papers_2017_180), len(_idx_papers_2017_270), len(_idx_papers_2017_360), len(_idx_papers_2017_rest))"
   ]
  },
  {
   "cell_type": "code",
   "execution_count": 37,
   "metadata": {},
   "outputs": [
    {
     "name": "stderr",
     "output_type": "stream",
     "text": [
      "/home/hweem/git/mastersdegree/ytcrawl/ytcrawl0/lib/python3.5/site-packages/ipykernel_launcher.py:8: UserWarning: Boolean Series key will be reindexed to match DataFrame index.\n",
      "  \n",
      "/home/hweem/git/mastersdegree/ytcrawl/ytcrawl0/lib/python3.5/site-packages/ipykernel_launcher.py:9: UserWarning: Boolean Series key will be reindexed to match DataFrame index.\n",
      "  if __name__ == '__main__':\n",
      "/home/hweem/git/mastersdegree/ytcrawl/ytcrawl0/lib/python3.5/site-packages/ipykernel_launcher.py:10: UserWarning: Boolean Series key will be reindexed to match DataFrame index.\n",
      "  # Remove the CWD from sys.path while we load stuff.\n",
      "/home/hweem/git/mastersdegree/ytcrawl/ytcrawl0/lib/python3.5/site-packages/ipykernel_launcher.py:11: UserWarning: Boolean Series key will be reindexed to match DataFrame index.\n",
      "  # This is added back by InteractiveShellApp.init_path()\n",
      "/home/hweem/git/mastersdegree/ytcrawl/ytcrawl0/lib/python3.5/site-packages/ipykernel_launcher.py:12: UserWarning: Boolean Series key will be reindexed to match DataFrame index.\n",
      "  if sys.path[0] == '':\n",
      "/home/hweem/git/mastersdegree/ytcrawl/ytcrawl0/lib/python3.5/site-packages/ipykernel_launcher.py:13: UserWarning: Boolean Series key will be reindexed to match DataFrame index.\n",
      "  del sys.path[0]\n"
     ]
    },
    {
     "data": {
      "text/plain": [
       "{'boxes': [<matplotlib.lines.Line2D at 0x7ff747fa1470>,\n",
       "  <matplotlib.lines.Line2D at 0x7ff747fa8940>,\n",
       "  <matplotlib.lines.Line2D at 0x7ff747fb60b8>,\n",
       "  <matplotlib.lines.Line2D at 0x7ff747fbd7f0>,\n",
       "  <matplotlib.lines.Line2D at 0x7ff747fc5f28>,\n",
       "  <matplotlib.lines.Line2D at 0x7ff747fd26a0>],\n",
       " 'caps': [<matplotlib.lines.Line2D at 0x7ff747fa1c18>,\n",
       "  <matplotlib.lines.Line2D at 0x7ff747fa1f60>,\n",
       "  <matplotlib.lines.Line2D at 0x7ff747fb0390>,\n",
       "  <matplotlib.lines.Line2D at 0x7ff747fb06d8>,\n",
       "  <matplotlib.lines.Line2D at 0x7ff747fb6ac8>,\n",
       "  <matplotlib.lines.Line2D at 0x7ff747fb6e10>,\n",
       "  <matplotlib.lines.Line2D at 0x7ff747fc5240>,\n",
       "  <matplotlib.lines.Line2D at 0x7ff747fc5588>,\n",
       "  <matplotlib.lines.Line2D at 0x7ff747fcb978>,\n",
       "  <matplotlib.lines.Line2D at 0x7ff747fcbcc0>,\n",
       "  <matplotlib.lines.Line2D at 0x7ff747fda0f0>,\n",
       "  <matplotlib.lines.Line2D at 0x7ff747fda438>],\n",
       " 'fliers': [<matplotlib.lines.Line2D at 0x7ff747fa8630>,\n",
       "  <matplotlib.lines.Line2D at 0x7ff747fb0d68>,\n",
       "  <matplotlib.lines.Line2D at 0x7ff747fbd4e0>,\n",
       "  <matplotlib.lines.Line2D at 0x7ff747fc5c18>,\n",
       "  <matplotlib.lines.Line2D at 0x7ff747fd2390>,\n",
       "  <matplotlib.lines.Line2D at 0x7ff747fdaac8>],\n",
       " 'means': [],\n",
       " 'medians': [<matplotlib.lines.Line2D at 0x7ff747fa82e8>,\n",
       "  <matplotlib.lines.Line2D at 0x7ff747fb0a20>,\n",
       "  <matplotlib.lines.Line2D at 0x7ff747fbd198>,\n",
       "  <matplotlib.lines.Line2D at 0x7ff747fc58d0>,\n",
       "  <matplotlib.lines.Line2D at 0x7ff747fd2048>,\n",
       "  <matplotlib.lines.Line2D at 0x7ff747fda780>],\n",
       " 'whiskers': [<matplotlib.lines.Line2D at 0x7ff747fa1588>,\n",
       "  <matplotlib.lines.Line2D at 0x7ff747fa18d0>,\n",
       "  <matplotlib.lines.Line2D at 0x7ff747fa8cc0>,\n",
       "  <matplotlib.lines.Line2D at 0x7ff747fb0048>,\n",
       "  <matplotlib.lines.Line2D at 0x7ff747fb6438>,\n",
       "  <matplotlib.lines.Line2D at 0x7ff747fb6780>,\n",
       "  <matplotlib.lines.Line2D at 0x7ff747fbdb70>,\n",
       "  <matplotlib.lines.Line2D at 0x7ff747fbdeb8>,\n",
       "  <matplotlib.lines.Line2D at 0x7ff747fcb2e8>,\n",
       "  <matplotlib.lines.Line2D at 0x7ff747fcb630>,\n",
       "  <matplotlib.lines.Line2D at 0x7ff747fd2a20>,\n",
       "  <matplotlib.lines.Line2D at 0x7ff747fd2d68>]}"
      ]
     },
     "execution_count": 37,
     "metadata": {},
     "output_type": "execute_result"
    },
    {
     "data": {
      "image/png": "[encoded data removed]",
      "text/plain": [
       "<Figure size 864x432 with 1 Axes>"
      ]
     },
     "metadata": {
      "needs_background": "light"
     },
     "output_type": "display_data"
    }
   ],
   "source": [
    "# _2017_wo_videos_cit = df2[~df2.DOI.isin(_idx_papers_2017)][df2[\"Cited by\"] != \"None\"][\"Cited by\"].dropna().astype(int)\n",
    "# _2017_90_w_videos_cit = df2[df2.DOI.isin(_idx_papers_2017_90)][df2[\"Cited by\"] != \"None\"][\"Cited by\"].dropna().astype(int)\n",
    "# _2017_180_w_videos_cit = df2[df2.DOI.isin(_idx_papers_2017_180)][df2[\"Cited by\"] != \"None\"][\"Cited by\"].dropna().astype(int)\n",
    "# _2017_270_w_videos_cit = df2[df2.DOI.isin(_idx_papers_2017_270)][df2[\"Cited by\"] != \"None\"][\"Cited by\"].dropna().astype(int)\n",
    "# _2017_360_w_videos_cit = df2[df2.DOI.isin(_idx_papers_2017_360)][df2[\"Cited by\"] != \"None\"][\"Cited by\"].dropna().astype(int)\n",
    "# _2017_rest_w_videos_cit = df2[df2.DOI.isin(_idx_papers_2017_rest)][df2[\"Cited by\"] != \"None\"][\"Cited by\"].dropna().astype(int)\n",
    "\n",
    "_2017_wo_videos_cit = np.log10(df2[~df2.DOI.isin(_idx_papers_2017)][df2[\"Cited by\"] != \"None\"][\"Cited by\"].dropna().astype(int))\n",
    "_2017_90_w_videos_cit = np.log10(df2[df2.DOI.isin(_idx_papers_2017_90)][df2[\"Cited by\"] != \"None\"][\"Cited by\"].dropna().astype(int))\n",
    "_2017_180_w_videos_cit = np.log10(df2[df2.DOI.isin(_idx_papers_2017_180)][df2[\"Cited by\"] != \"None\"][\"Cited by\"].dropna().astype(int))\n",
    "_2017_270_w_videos_cit = np.log10(df2[df2.DOI.isin(_idx_papers_2017_270)][df2[\"Cited by\"] != \"None\"][\"Cited by\"].dropna().astype(int))\n",
    "_2017_360_w_videos_cit = np.log10(df2[df2.DOI.isin(_idx_papers_2017_360)][df2[\"Cited by\"] != \"None\"][\"Cited by\"].dropna().astype(int))\n",
    "_2017_rest_w_videos_cit = np.log10(df2[df2.DOI.isin(_idx_papers_2017_rest)][df2[\"Cited by\"] != \"None\"][\"Cited by\"].dropna().astype(int))\n",
    "\n",
    "plt.figure(figsize=(12, 6))\n",
    "plt.title(\"Citation by video release date\")\n",
    "# plt.yscale(\"log\")\n",
    "# plt.ylim([0, 200])\n",
    "plt.ylabel(\"log10(Citation)\")\n",
    "plt.boxplot([\n",
    "    _2017_wo_videos_cit,\n",
    "    _2017_90_w_videos_cit,\n",
    "    _2017_180_w_videos_cit,\n",
    "    _2017_270_w_videos_cit,\n",
    "    _2017_360_w_videos_cit,\n",
    "    _2017_rest_w_videos_cit\n",
    "],\n",
    "    labels=[\n",
    "        \"2017 w/o videos\\n(N=%s)\"%len(_2017_wo_videos_cit),\n",
    "        \"2017 w/ videos-90\\n(N=%s)\"%len(_2017_90_w_videos_cit),\n",
    "        \"2017 w/ videos-180\\n(N=%s)\"%len(_2017_180_w_videos_cit),\n",
    "        \"2017 w/ videos-270\\n(N=%s)\"%len(_2017_270_w_videos_cit),\n",
    "        \"2017 w/ videos-360\\n(N=%s)\"%len(_2017_360_w_videos_cit),\n",
    "        \"2017 w/ videos-rest\\n(N=%s)\"%len(_2017_rest_w_videos_cit)\n",
    "    ]\n",
    ")"
   ]
  },
  {
   "cell_type": "code",
   "execution_count": 48,
   "metadata": {},
   "outputs": [
    {
     "name": "stdout",
     "output_type": "stream",
     "text": [
      "2017-90\tS = -1.747447\tp = 0.080587\n",
      "2017-180\tS = -0.376691\tp = 0.706410\n",
      "2017-270\tS = -0.618825\tp = 0.536044\n",
      "2017-360\tS = -1.076688\tp = 0.281643\n",
      "2017-rest\tS = -4.322833\tp = 0.000016\n"
     ]
    }
   ],
   "source": [
    "_s2017, _p2017 = stats.ttest_ind(\n",
    "    _2017_wo_videos_cit,\n",
    "    _2017_90_w_videos_cit\n",
    ")\n",
    "print(\"2017-90\\tS = %f\\tp = %f\"%(_s2017, _p2017))\n",
    "_s2017, _p2017 = stats.ttest_ind(\n",
    "    _2017_wo_videos_cit,\n",
    "    _2017_180_w_videos_cit\n",
    ")\n",
    "print(\"2017-180\\tS = %f\\tp = %f\"%(_s2017, _p2017))\n",
    "_s2017, _p2017 = stats.ttest_ind(\n",
    "    _2017_wo_videos_cit,\n",
    "    _2017_270_w_videos_cit\n",
    ")\n",
    "print(\"2017-270\\tS = %f\\tp = %f\"%(_s2017, _p2017))\n",
    "_s2017, _p2017 = stats.ttest_ind(\n",
    "    _2017_wo_videos_cit,\n",
    "    _2017_360_w_videos_cit\n",
    ")\n",
    "print(\"2017-360\\tS = %f\\tp = %f\"%(_s2017, _p2017))\n",
    "_s2017, _p2017 = stats.ttest_ind(\n",
    "    _2017_wo_videos_cit,\n",
    "    _2017_rest_w_videos_cit\n",
    ")\n",
    "print(\"2017-rest\\tS = %f\\tp = %f\"%(_s2017, _p2017))"
   ]
  },
  {
   "cell_type": "markdown",
   "metadata": {},
   "source": [
    "초창기(90)와 상당히 나중 비디오(rest)일수록 더 유의하다."
   ]
  },
  {
   "cell_type": "code",
   "execution_count": 16,
   "metadata": {},
   "outputs": [
    {
     "name": "stdout",
     "output_type": "stream",
     "text": [
      "\tCommand set: SELECT `idx_paper`, `publishedAt` FROM `scopus_videos_2019_comp`\n",
      "\tsql: SELECT `idx_paper`, `publishedAt` FROM `scopus_videos_2019_comp`;\n",
      "\tCommand set: SELECT `idx_paper`, `publishedAt` FROM `scopus_videos_2019_comp`\n",
      "\tsql: SELECT `idx_paper`, `publishedAt` FROM `scopus_videos_2019_comp`;\n",
      "\tCommand set: SELECT `idx_paper`, `publishedAt` FROM `scopus_videos_2019_comp`\n",
      "\tsql: SELECT `idx_paper`, `publishedAt` FROM `scopus_videos_2019_comp`;\n",
      "\tCommand set: SELECT `idx_paper`, `publishedAt` FROM `scopus_videos_2019_comp`\n",
      "\tsql: SELECT `idx_paper`, `publishedAt` FROM `scopus_videos_2019_comp`;\n",
      "\tCommand set: SELECT `idx_paper`, `publishedAt` FROM `scopus_videos_2019_comp`\n",
      "\tsql: SELECT `idx_paper`, `publishedAt` FROM `scopus_videos_2019_comp`;\n",
      "\tCommand set: SELECT `idx_paper`, `publishedAt` FROM `scopus_videos_2019_comp`\n",
      "\tsql: SELECT `idx_paper`, `publishedAt` FROM `scopus_videos_2019_comp`;\n",
      "64 36 1 3 12 14\n"
     ]
    }
   ],
   "source": [
    "_idx_papers_2019 = get_dois_with_videos_within_days_from_publish(df1, \"scopus_videos_2019_comp\")\n",
    "_idx_papers_2019_90 = get_dois_with_videos_within_days_from_publish(df1, \"scopus_videos_2019_comp\", None, 90)\n",
    "_idx_papers_2019_180 = get_dois_with_videos_within_days_from_publish(df1, \"scopus_videos_2019_comp\", 90, 180)\n",
    "_idx_papers_2019_270 = get_dois_with_videos_within_days_from_publish(df1, \"scopus_videos_2019_comp\", 180, 270)\n",
    "_idx_papers_2019_360 = get_dois_with_videos_within_days_from_publish(df1, \"scopus_videos_2019_comp\", 270, 360)\n",
    "_idx_papers_2019_rest = get_dois_with_videos_within_days_from_publish(df1, \"scopus_videos_2019_comp\", 360, None)\n",
    "print(len(_idx_papers_2019), len(_idx_papers_2019_90), len(_idx_papers_2019_180), len(_idx_papers_2019_270), len(_idx_papers_2019_360), len(_idx_papers_2019_rest))"
   ]
  },
  {
   "cell_type": "code",
   "execution_count": 39,
   "metadata": {},
   "outputs": [
    {
     "name": "stderr",
     "output_type": "stream",
     "text": [
      "/home/hweem/git/mastersdegree/ytcrawl/ytcrawl0/lib/python3.5/site-packages/ipykernel_launcher.py:1: UserWarning: Boolean Series key will be reindexed to match DataFrame index.\n",
      "  \"\"\"Entry point for launching an IPython kernel.\n",
      "/home/hweem/git/mastersdegree/ytcrawl/ytcrawl0/lib/python3.5/site-packages/ipykernel_launcher.py:2: UserWarning: Boolean Series key will be reindexed to match DataFrame index.\n",
      "  \n",
      "/home/hweem/git/mastersdegree/ytcrawl/ytcrawl0/lib/python3.5/site-packages/ipykernel_launcher.py:3: UserWarning: Boolean Series key will be reindexed to match DataFrame index.\n",
      "  This is separate from the ipykernel package so we can avoid doing imports until\n",
      "/home/hweem/git/mastersdegree/ytcrawl/ytcrawl0/lib/python3.5/site-packages/ipykernel_launcher.py:4: UserWarning: Boolean Series key will be reindexed to match DataFrame index.\n",
      "  after removing the cwd from sys.path.\n",
      "/home/hweem/git/mastersdegree/ytcrawl/ytcrawl0/lib/python3.5/site-packages/ipykernel_launcher.py:5: UserWarning: Boolean Series key will be reindexed to match DataFrame index.\n",
      "  \"\"\"\n",
      "/home/hweem/git/mastersdegree/ytcrawl/ytcrawl0/lib/python3.5/site-packages/ipykernel_launcher.py:6: UserWarning: Boolean Series key will be reindexed to match DataFrame index.\n",
      "  \n",
      "/home/hweem/git/mastersdegree/ytcrawl/ytcrawl0/lib/python3.5/site-packages/ipykernel_launcher.py:8: UserWarning: Boolean Series key will be reindexed to match DataFrame index.\n",
      "  \n",
      "/home/hweem/git/mastersdegree/ytcrawl/ytcrawl0/lib/python3.5/site-packages/ipykernel_launcher.py:9: UserWarning: Boolean Series key will be reindexed to match DataFrame index.\n",
      "  if __name__ == '__main__':\n",
      "/home/hweem/git/mastersdegree/ytcrawl/ytcrawl0/lib/python3.5/site-packages/ipykernel_launcher.py:10: UserWarning: Boolean Series key will be reindexed to match DataFrame index.\n",
      "  # Remove the CWD from sys.path while we load stuff.\n",
      "/home/hweem/git/mastersdegree/ytcrawl/ytcrawl0/lib/python3.5/site-packages/ipykernel_launcher.py:11: UserWarning: Boolean Series key will be reindexed to match DataFrame index.\n",
      "  # This is added back by InteractiveShellApp.init_path()\n",
      "/home/hweem/git/mastersdegree/ytcrawl/ytcrawl0/lib/python3.5/site-packages/ipykernel_launcher.py:12: UserWarning: Boolean Series key will be reindexed to match DataFrame index.\n",
      "  if sys.path[0] == '':\n",
      "/home/hweem/git/mastersdegree/ytcrawl/ytcrawl0/lib/python3.5/site-packages/ipykernel_launcher.py:13: UserWarning: Boolean Series key will be reindexed to match DataFrame index.\n",
      "  del sys.path[0]\n"
     ]
    },
    {
     "data": {
      "text/plain": [
       "{'boxes': [<matplotlib.lines.Line2D at 0x7ff747f274e0>,\n",
       "  <matplotlib.lines.Line2D at 0x7ff747f309b0>,\n",
       "  <matplotlib.lines.Line2D at 0x7ff747f3e128>,\n",
       "  <matplotlib.lines.Line2D at 0x7ff747f44860>,\n",
       "  <matplotlib.lines.Line2D at 0x7ff747f4df98>,\n",
       "  <matplotlib.lines.Line2D at 0x7ff747f5a710>],\n",
       " 'caps': [<matplotlib.lines.Line2D at 0x7ff747f27c88>,\n",
       "  <matplotlib.lines.Line2D at 0x7ff747f27fd0>,\n",
       "  <matplotlib.lines.Line2D at 0x7ff747f37400>,\n",
       "  <matplotlib.lines.Line2D at 0x7ff747f37748>,\n",
       "  <matplotlib.lines.Line2D at 0x7ff747f3eb38>,\n",
       "  <matplotlib.lines.Line2D at 0x7ff747f3ee80>,\n",
       "  <matplotlib.lines.Line2D at 0x7ff747f4d2b0>,\n",
       "  <matplotlib.lines.Line2D at 0x7ff747f4d5f8>,\n",
       "  <matplotlib.lines.Line2D at 0x7ff747f539e8>,\n",
       "  <matplotlib.lines.Line2D at 0x7ff747f53d30>,\n",
       "  <matplotlib.lines.Line2D at 0x7ff747ee1160>,\n",
       "  <matplotlib.lines.Line2D at 0x7ff747ee14a8>],\n",
       " 'fliers': [<matplotlib.lines.Line2D at 0x7ff747f306a0>,\n",
       "  <matplotlib.lines.Line2D at 0x7ff747f37dd8>,\n",
       "  <matplotlib.lines.Line2D at 0x7ff747f44550>,\n",
       "  <matplotlib.lines.Line2D at 0x7ff747f4dc88>,\n",
       "  <matplotlib.lines.Line2D at 0x7ff747f5a400>,\n",
       "  <matplotlib.lines.Line2D at 0x7ff747ee1b38>],\n",
       " 'means': [],\n",
       " 'medians': [<matplotlib.lines.Line2D at 0x7ff747f30358>,\n",
       "  <matplotlib.lines.Line2D at 0x7ff747f37a90>,\n",
       "  <matplotlib.lines.Line2D at 0x7ff747f44208>,\n",
       "  <matplotlib.lines.Line2D at 0x7ff747f4d940>,\n",
       "  <matplotlib.lines.Line2D at 0x7ff747f5a0b8>,\n",
       "  <matplotlib.lines.Line2D at 0x7ff747ee17f0>],\n",
       " 'whiskers': [<matplotlib.lines.Line2D at 0x7ff747f275f8>,\n",
       "  <matplotlib.lines.Line2D at 0x7ff747f27940>,\n",
       "  <matplotlib.lines.Line2D at 0x7ff747f30d30>,\n",
       "  <matplotlib.lines.Line2D at 0x7ff747f370b8>,\n",
       "  <matplotlib.lines.Line2D at 0x7ff747f3e4a8>,\n",
       "  <matplotlib.lines.Line2D at 0x7ff747f3e7f0>,\n",
       "  <matplotlib.lines.Line2D at 0x7ff747f44be0>,\n",
       "  <matplotlib.lines.Line2D at 0x7ff747f44f28>,\n",
       "  <matplotlib.lines.Line2D at 0x7ff747f53358>,\n",
       "  <matplotlib.lines.Line2D at 0x7ff747f536a0>,\n",
       "  <matplotlib.lines.Line2D at 0x7ff747f5aa90>,\n",
       "  <matplotlib.lines.Line2D at 0x7ff747f5add8>]}"
      ]
     },
     "execution_count": 39,
     "metadata": {},
     "output_type": "execute_result"
    },
    {
     "data": {
      "image/png": "[encoded data removed]",
      "text/plain": [
       "<Figure size 864x432 with 1 Axes>"
      ]
     },
     "metadata": {
      "needs_background": "light"
     },
     "output_type": "display_data"
    }
   ],
   "source": [
    "_2019_wo_videos_cit = df1[~df1.DOI.isin(_idx_papers_2019)][df1[\"Cited by\"] != \"None\"][\"Cited by\"].dropna().astype(int)\n",
    "_2019_90_w_videos_cit = df1[df1.DOI.isin(_idx_papers_2019_90)][df1[\"Cited by\"] != \"None\"][\"Cited by\"].dropna().astype(int)\n",
    "_2019_180_w_videos_cit = df1[df1.DOI.isin(_idx_papers_2019_180)][df1[\"Cited by\"] != \"None\"][\"Cited by\"].dropna().astype(int)\n",
    "_2019_270_w_videos_cit = df1[df1.DOI.isin(_idx_papers_2019_270)][df1[\"Cited by\"] != \"None\"][\"Cited by\"].dropna().astype(int)\n",
    "_2019_360_w_videos_cit = df1[df1.DOI.isin(_idx_papers_2019_360)][df1[\"Cited by\"] != \"None\"][\"Cited by\"].dropna().astype(int)\n",
    "_2019_rest_w_videos_cit = df1[df1.DOI.isin(_idx_papers_2019_rest)][df1[\"Cited by\"] != \"None\"][\"Cited by\"].dropna().astype(int)\n",
    "\n",
    "_2019_wo_videos_cit = np.log10(df1[~df1.DOI.isin(_idx_papers_2019)][df1[\"Cited by\"] != \"None\"][\"Cited by\"].dropna().astype(int))\n",
    "_2019_90_w_videos_cit = np.log10(df1[df1.DOI.isin(_idx_papers_2019_90)][df1[\"Cited by\"] != \"None\"][\"Cited by\"].dropna().astype(int))\n",
    "_2019_180_w_videos_cit = np.log10(df1[df1.DOI.isin(_idx_papers_2019_180)][df1[\"Cited by\"] != \"None\"][\"Cited by\"].dropna().astype(int))\n",
    "_2019_270_w_videos_cit = np.log10(df1[df1.DOI.isin(_idx_papers_2019_270)][df1[\"Cited by\"] != \"None\"][\"Cited by\"].dropna().astype(int))\n",
    "_2019_360_w_videos_cit = np.log10(df1[df1.DOI.isin(_idx_papers_2019_360)][df1[\"Cited by\"] != \"None\"][\"Cited by\"].dropna().astype(int))\n",
    "_2019_rest_w_videos_cit = np.log10(df1[df1.DOI.isin(_idx_papers_2019_rest)][df1[\"Cited by\"] != \"None\"][\"Cited by\"].dropna().astype(int))\n",
    "\n",
    "plt.figure(figsize=(12, 6))\n",
    "plt.title(\"Citation by video release date\")\n",
    "# plt.yscale(\"log\")\n",
    "# plt.ylim([0, 200])\n",
    "plt.ylabel(\"log10(Citation)\")\n",
    "plt.boxplot([\n",
    "    _2019_wo_videos_cit,\n",
    "    _2019_90_w_videos_cit,\n",
    "    _2019_180_w_videos_cit,\n",
    "    _2019_270_w_videos_cit,\n",
    "    _2019_360_w_videos_cit,\n",
    "    _2019_rest_w_videos_cit\n",
    "],\n",
    "    labels=[\n",
    "        \"2019 w/o videos\\n(N=%s)\"%len(_2019_wo_videos_cit),\n",
    "        \"2019 w/ videos-90\\n(N=%s)\"%len(_2019_90_w_videos_cit),\n",
    "        \"2019 w/ videos-180\\n(N=%s)\"%len(_2019_180_w_videos_cit),\n",
    "        \"2019 w/ videos-270\\n(N=%s)\"%len(_2019_270_w_videos_cit),\n",
    "        \"2019 w/ videos-360\\n(N=%s)\"%len(_2019_360_w_videos_cit),\n",
    "        \"2019 w/ videos-rest\\n(N=%s)\"%len(_2019_rest_w_videos_cit)\n",
    "    ]\n",
    ")"
   ]
  },
  {
   "cell_type": "code",
   "execution_count": 40,
   "metadata": {},
   "outputs": [
    {
     "name": "stdout",
     "output_type": "stream",
     "text": [
      "2019-90\tS = 0.270785\tp = 0.786561\n",
      "2019-180\tS = nan\tp = nan\n",
      "2019-270\tS = 0.336739\tp = 0.736319\n",
      "2019-360\tS = -2.410909\tp = 0.015926\n",
      "2019-rest\tS = -1.018102\tp = 0.308648\n"
     ]
    },
    {
     "name": "stderr",
     "output_type": "stream",
     "text": [
      "/home/hweem/git/mastersdegree/ytcrawl/ytcrawl0/lib/python3.5/site-packages/numpy/core/fromnumeric.py:3584: RuntimeWarning: Degrees of freedom <= 0 for slice\n",
      "  **kwargs)\n",
      "/home/hweem/git/mastersdegree/ytcrawl/ytcrawl0/lib/python3.5/site-packages/numpy/core/_methods.py:209: RuntimeWarning: invalid value encountered in double_scalars\n",
      "  ret = ret.dtype.type(ret / rcount)\n"
     ]
    }
   ],
   "source": [
    "_s2019, _p2019 = stats.ttest_ind(\n",
    "    _2019_wo_videos_cit,\n",
    "    _2019_90_w_videos_cit\n",
    ")\n",
    "print(\"2019-90\\tS = %f\\tp = %f\"%(_s2019, _p2019))\n",
    "_s2019, _p2019 = stats.ttest_ind(\n",
    "    _2019_wo_videos_cit,\n",
    "    _2019_180_w_videos_cit\n",
    ")\n",
    "print(\"2019-180\\tS = %f\\tp = %f\"%(_s2019, _p2019))\n",
    "_s2019, _p2019 = stats.ttest_ind(\n",
    "    _2019_wo_videos_cit,\n",
    "    _2019_270_w_videos_cit\n",
    ")\n",
    "print(\"2019-270\\tS = %f\\tp = %f\"%(_s2019, _p2019))\n",
    "_s2019, _p2019 = stats.ttest_ind(\n",
    "    _2019_wo_videos_cit,\n",
    "    _2019_360_w_videos_cit\n",
    ")\n",
    "print(\"2019-360\\tS = %f\\tp = %f\"%(_s2019, _p2019))\n",
    "_s2019, _p2019 = stats.ttest_ind(\n",
    "    _2019_wo_videos_cit,\n",
    "    _2019_rest_w_videos_cit\n",
    ")\n",
    "print(\"2019-rest\\tS = %f\\tp = %f\"%(_s2019, _p2019))"
   ]
  },
  {
   "cell_type": "markdown",
   "metadata": {},
   "source": [
    "1년된 논문들에 대해서는 전체적으로 유의성이 그다지 안나타난다.\n",
    "\n",
    "AAS와는?"
   ]
  },
  {
   "cell_type": "code",
   "execution_count": 41,
   "metadata": {},
   "outputs": [
    {
     "name": "stderr",
     "output_type": "stream",
     "text": [
      "/home/hweem/git/mastersdegree/ytcrawl/ytcrawl0/lib/python3.5/site-packages/ipykernel_launcher.py:12: UserWarning: Boolean Series key will be reindexed to match DataFrame index.\n",
      "  if sys.path[0] == '':\n",
      "/home/hweem/git/mastersdegree/ytcrawl/ytcrawl0/lib/python3.5/site-packages/ipykernel_launcher.py:13: UserWarning: Boolean Series key will be reindexed to match DataFrame index.\n",
      "  del sys.path[0]\n",
      "/home/hweem/git/mastersdegree/ytcrawl/ytcrawl0/lib/python3.5/site-packages/ipykernel_launcher.py:14: UserWarning: Boolean Series key will be reindexed to match DataFrame index.\n",
      "  \n",
      "/home/hweem/git/mastersdegree/ytcrawl/ytcrawl0/lib/python3.5/site-packages/ipykernel_launcher.py:15: UserWarning: Boolean Series key will be reindexed to match DataFrame index.\n",
      "  from ipykernel import kernelapp as app\n",
      "/home/hweem/git/mastersdegree/ytcrawl/ytcrawl0/lib/python3.5/site-packages/ipykernel_launcher.py:16: UserWarning: Boolean Series key will be reindexed to match DataFrame index.\n",
      "  app.launch_new_instance()\n",
      "/home/hweem/git/mastersdegree/ytcrawl/ytcrawl0/lib/python3.5/site-packages/ipykernel_launcher.py:17: UserWarning: Boolean Series key will be reindexed to match DataFrame index.\n"
     ]
    },
    {
     "data": {
      "text/plain": [
       "{'boxes': [<matplotlib.lines.Line2D at 0x7ff747f1c4a8>,\n",
       "  <matplotlib.lines.Line2D at 0x7ff747ea5978>,\n",
       "  <matplotlib.lines.Line2D at 0x7ff747eb20f0>,\n",
       "  <matplotlib.lines.Line2D at 0x7ff747ebb828>,\n",
       "  <matplotlib.lines.Line2D at 0x7ff747ec2f60>,\n",
       "  <matplotlib.lines.Line2D at 0x7ff747ece6d8>],\n",
       " 'caps': [<matplotlib.lines.Line2D at 0x7ff747f1cc50>,\n",
       "  <matplotlib.lines.Line2D at 0x7ff747f1cf98>,\n",
       "  <matplotlib.lines.Line2D at 0x7ff747eac3c8>,\n",
       "  <matplotlib.lines.Line2D at 0x7ff747eac710>,\n",
       "  <matplotlib.lines.Line2D at 0x7ff747eb2b00>,\n",
       "  <matplotlib.lines.Line2D at 0x7ff747eb2e48>,\n",
       "  <matplotlib.lines.Line2D at 0x7ff747ec2278>,\n",
       "  <matplotlib.lines.Line2D at 0x7ff747ec25c0>,\n",
       "  <matplotlib.lines.Line2D at 0x7ff747ec79b0>,\n",
       "  <matplotlib.lines.Line2D at 0x7ff747ec7cf8>,\n",
       "  <matplotlib.lines.Line2D at 0x7ff747ed5128>,\n",
       "  <matplotlib.lines.Line2D at 0x7ff747ed5470>],\n",
       " 'fliers': [<matplotlib.lines.Line2D at 0x7ff747ea5668>,\n",
       "  <matplotlib.lines.Line2D at 0x7ff747eacda0>,\n",
       "  <matplotlib.lines.Line2D at 0x7ff747ebb518>,\n",
       "  <matplotlib.lines.Line2D at 0x7ff747ec2c50>,\n",
       "  <matplotlib.lines.Line2D at 0x7ff747ece3c8>,\n",
       "  <matplotlib.lines.Line2D at 0x7ff747ed5b00>],\n",
       " 'means': [],\n",
       " 'medians': [<matplotlib.lines.Line2D at 0x7ff747ea5320>,\n",
       "  <matplotlib.lines.Line2D at 0x7ff747eaca58>,\n",
       "  <matplotlib.lines.Line2D at 0x7ff747ebb1d0>,\n",
       "  <matplotlib.lines.Line2D at 0x7ff747ec2908>,\n",
       "  <matplotlib.lines.Line2D at 0x7ff747ece080>,\n",
       "  <matplotlib.lines.Line2D at 0x7ff747ed57b8>],\n",
       " 'whiskers': [<matplotlib.lines.Line2D at 0x7ff747f1c5c0>,\n",
       "  <matplotlib.lines.Line2D at 0x7ff747f1c908>,\n",
       "  <matplotlib.lines.Line2D at 0x7ff747ea5cf8>,\n",
       "  <matplotlib.lines.Line2D at 0x7ff747eac080>,\n",
       "  <matplotlib.lines.Line2D at 0x7ff747eb2470>,\n",
       "  <matplotlib.lines.Line2D at 0x7ff747eb27b8>,\n",
       "  <matplotlib.lines.Line2D at 0x7ff747ebbba8>,\n",
       "  <matplotlib.lines.Line2D at 0x7ff747ebbef0>,\n",
       "  <matplotlib.lines.Line2D at 0x7ff747ec7320>,\n",
       "  <matplotlib.lines.Line2D at 0x7ff747ec7668>,\n",
       "  <matplotlib.lines.Line2D at 0x7ff747ecea58>,\n",
       "  <matplotlib.lines.Line2D at 0x7ff747eceda0>]}"
      ]
     },
     "execution_count": 41,
     "metadata": {},
     "output_type": "execute_result"
    },
    {
     "data": {
      "image/png": "[encoded data removed]",
      "text/plain": [
       "<Figure size 864x432 with 1 Axes>"
      ]
     },
     "metadata": {
      "needs_background": "light"
     },
     "output_type": "display_data"
    }
   ],
   "source": [
    "# _2019_90_wo_videos_aas = df1[~df1.DOI.isin(_idx_papers_2019_90)][df1[\"AAS\"] != \"None\"][\"AAS\"].dropna().astype(int)\n",
    "# _2019_90_w_videos_aas = df1[df1.DOI.isin(_idx_papers_2019_90)][df1[\"AAS\"] != \"None\"][\"AAS\"].dropna().astype(int)\n",
    "# _2017_90_wo_videos_aas = df2[~df2.DOI.isin(_idx_papers_2017_90)][df2[\"AAS\"] != \"None\"][\"AAS\"].dropna().astype(int)\n",
    "# _2017_90_w_videos_aas = df2[df2.DOI.isin(_idx_papers_2017_90)][df2[\"AAS\"] != \"None\"][\"AAS\"].dropna().astype(int)\n",
    "# _2014_wo_videos_aas = df3[~df3.DOI.isin(_idx_papers_2014)][df3[\"AAS\"] != \"None\"][\"AAS\"].dropna().astype(int)\n",
    "# _2014_90_w_videos_aas = df3[df3.DOI.isin(_idx_papers_2014_90)][df3[\"AAS\"] != \"None\"][\"AAS\"].dropna().astype(int)\n",
    "# _2014_180_w_videos_aas = df3[df3.DOI.isin(_idx_papers_2014_180)][df3[\"AAS\"] != \"None\"][\"AAS\"].dropna().astype(int)\n",
    "# _2014_270_w_videos_aas = df3[df3.DOI.isin(_idx_papers_2014_270)][df3[\"AAS\"] != \"None\"][\"AAS\"].dropna().astype(int)\n",
    "# _2014_360_w_videos_aas = df3[df3.DOI.isin(_idx_papers_2014_360)][df3[\"AAS\"] != \"None\"][\"AAS\"].dropna().astype(int)\n",
    "# _2014_rest_w_videos_aas = df3[df3.DOI.isin(_idx_papers_2014_rest)][df3[\"AAS\"] != \"None\"][\"AAS\"].dropna().astype(int)\n",
    "\n",
    "_2014_wo_videos_aas = np.log10(df3[~df3.DOI.isin(_idx_papers_2014)][df3[\"AAS\"] != \"None\"][\"AAS\"].dropna().astype(int))\n",
    "_2014_90_w_videos_aas = np.log10(df3[df3.DOI.isin(_idx_papers_2014_90)][df3[\"AAS\"] != \"None\"][\"AAS\"].dropna().astype(int))\n",
    "_2014_180_w_videos_aas = np.log10(df3[df3.DOI.isin(_idx_papers_2014_180)][df3[\"AAS\"] != \"None\"][\"AAS\"].dropna().astype(int))\n",
    "_2014_270_w_videos_aas = np.log10(df3[df3.DOI.isin(_idx_papers_2014_270)][df3[\"AAS\"] != \"None\"][\"AAS\"].dropna().astype(int))\n",
    "_2014_360_w_videos_aas = np.log10(df3[df3.DOI.isin(_idx_papers_2014_360)][df3[\"AAS\"] != \"None\"][\"AAS\"].dropna().astype(int))\n",
    "_2014_rest_w_videos_aas = np.log10(df3[df3.DOI.isin(_idx_papers_2014_rest)][df3[\"AAS\"] != \"None\"][\"AAS\"].dropna().astype(int))\n",
    "\n",
    "plt.figure(figsize=(12, 6))\n",
    "plt.title(\"AAS by video release date\")\n",
    "# plt.yscale(\"log\")\n",
    "# plt.ylim([0, 200])\n",
    "plt.ylabel(\"log10(AAS)\")\n",
    "plt.boxplot([\n",
    "    _2014_wo_videos_aas,\n",
    "    _2014_90_w_videos_aas,\n",
    "    _2014_180_w_videos_aas,\n",
    "    _2014_270_w_videos_aas,\n",
    "    _2014_360_w_videos_aas,\n",
    "    _2014_rest_w_videos_aas\n",
    "],\n",
    "    labels=[\n",
    "        \"2014 w/o videos\\n(N=%s)\"%len(_2014_wo_videos_aas),\n",
    "        \"2014 w/ videos-90\\n(N=%s)\"%len(_2014_90_w_videos_aas),\n",
    "        \"2014 w/ videos-180\\n(N=%s)\"%len(_2014_180_w_videos_aas),\n",
    "        \"2014 w/ videos-270\\n(N=%s)\"%len(_2014_270_w_videos_aas),\n",
    "        \"2014 w/ videos-360\\n(N=%s)\"%len(_2014_360_w_videos_aas),\n",
    "        \"2014 w/ videos-rest\\n(N=%s)\"%len(_2014_rest_w_videos_aas)\n",
    "    ]\n",
    ")"
   ]
  },
  {
   "cell_type": "code",
   "execution_count": 42,
   "metadata": {},
   "outputs": [
    {
     "name": "stdout",
     "output_type": "stream",
     "text": [
      "2014-90\tS = 1.225888\tp = 0.220328\n",
      "2014-180\tS = -0.728006\tp = 0.466662\n",
      "2014-270\tS = -1.060892\tp = 0.288817\n",
      "2014-360\tS = nan\tp = nan\n",
      "2014-rest\tS = -9.774788\tp = 0.000000\n"
     ]
    }
   ],
   "source": [
    "_s2014, _p2014 = stats.ttest_ind(\n",
    "    _2014_wo_videos_aas,\n",
    "    _2014_90_w_videos_aas\n",
    ")\n",
    "print(\"2014-90\\tS = %f\\tp = %f\"%(_s2014, _p2014))\n",
    "_s2014, _p2014 = stats.ttest_ind(\n",
    "    _2014_wo_videos_aas,\n",
    "    _2014_180_w_videos_aas\n",
    ")\n",
    "print(\"2014-180\\tS = %f\\tp = %f\"%(_s2014, _p2014))\n",
    "_s2014, _p2014 = stats.ttest_ind(\n",
    "    _2014_wo_videos_aas,\n",
    "    _2014_270_w_videos_aas\n",
    ")\n",
    "print(\"2014-270\\tS = %f\\tp = %f\"%(_s2014, _p2014))\n",
    "_s2014, _p2014 = stats.ttest_ind(\n",
    "    _2014_wo_videos_aas,\n",
    "    _2014_360_w_videos_aas\n",
    ")\n",
    "print(\"2014-360\\tS = %f\\tp = %f\"%(_s2014, _p2014))\n",
    "_s2014, _p2014 = stats.ttest_ind(\n",
    "    _2014_wo_videos_aas,\n",
    "    _2014_rest_w_videos_aas\n",
    ")\n",
    "print(\"2014-rest\\tS = %f\\tp = %f\"%(_s2014, _p2014))"
   ]
  },
  {
   "cell_type": "code",
   "execution_count": 43,
   "metadata": {},
   "outputs": [
    {
     "name": "stderr",
     "output_type": "stream",
     "text": [
      "/home/hweem/git/mastersdegree/ytcrawl/ytcrawl0/lib/python3.5/site-packages/ipykernel_launcher.py:1: UserWarning: Boolean Series key will be reindexed to match DataFrame index.\n",
      "  \"\"\"Entry point for launching an IPython kernel.\n",
      "/home/hweem/git/mastersdegree/ytcrawl/ytcrawl0/lib/python3.5/site-packages/ipykernel_launcher.py:2: UserWarning: Boolean Series key will be reindexed to match DataFrame index.\n",
      "  \n",
      "/home/hweem/git/mastersdegree/ytcrawl/ytcrawl0/lib/python3.5/site-packages/ipykernel_launcher.py:3: UserWarning: Boolean Series key will be reindexed to match DataFrame index.\n",
      "  This is separate from the ipykernel package so we can avoid doing imports until\n",
      "/home/hweem/git/mastersdegree/ytcrawl/ytcrawl0/lib/python3.5/site-packages/ipykernel_launcher.py:4: UserWarning: Boolean Series key will be reindexed to match DataFrame index.\n",
      "  after removing the cwd from sys.path.\n",
      "/home/hweem/git/mastersdegree/ytcrawl/ytcrawl0/lib/python3.5/site-packages/ipykernel_launcher.py:5: UserWarning: Boolean Series key will be reindexed to match DataFrame index.\n",
      "  \"\"\"\n",
      "/home/hweem/git/mastersdegree/ytcrawl/ytcrawl0/lib/python3.5/site-packages/ipykernel_launcher.py:6: UserWarning: Boolean Series key will be reindexed to match DataFrame index.\n",
      "  \n"
     ]
    },
    {
     "data": {
      "text/plain": [
       "{'boxes': [<matplotlib.lines.Line2D at 0x7ff747e94668>,\n",
       "  <matplotlib.lines.Line2D at 0x7ff747e1eb38>,\n",
       "  <matplotlib.lines.Line2D at 0x7ff747e2c2b0>,\n",
       "  <matplotlib.lines.Line2D at 0x7ff747e349e8>,\n",
       "  <matplotlib.lines.Line2D at 0x7ff747e41160>,\n",
       "  <matplotlib.lines.Line2D at 0x7ff747e49898>],\n",
       " 'caps': [<matplotlib.lines.Line2D at 0x7ff747e94e10>,\n",
       "  <matplotlib.lines.Line2D at 0x7ff747e1e198>,\n",
       "  <matplotlib.lines.Line2D at 0x7ff747e25588>,\n",
       "  <matplotlib.lines.Line2D at 0x7ff747e258d0>,\n",
       "  <matplotlib.lines.Line2D at 0x7ff747e2ccc0>,\n",
       "  <matplotlib.lines.Line2D at 0x7ff747e34048>,\n",
       "  <matplotlib.lines.Line2D at 0x7ff747e3a438>,\n",
       "  <matplotlib.lines.Line2D at 0x7ff747e3a780>,\n",
       "  <matplotlib.lines.Line2D at 0x7ff747e41b70>,\n",
       "  <matplotlib.lines.Line2D at 0x7ff747e41eb8>,\n",
       "  <matplotlib.lines.Line2D at 0x7ff747e4f2e8>,\n",
       "  <matplotlib.lines.Line2D at 0x7ff747e4f630>],\n",
       " 'fliers': [<matplotlib.lines.Line2D at 0x7ff747e1e828>,\n",
       "  <matplotlib.lines.Line2D at 0x7ff747e25f60>,\n",
       "  <matplotlib.lines.Line2D at 0x7ff747e346d8>,\n",
       "  <matplotlib.lines.Line2D at 0x7ff747e3ae10>,\n",
       "  <matplotlib.lines.Line2D at 0x7ff747e49588>,\n",
       "  <matplotlib.lines.Line2D at 0x7ff747e4fcc0>],\n",
       " 'means': [],\n",
       " 'medians': [<matplotlib.lines.Line2D at 0x7ff747e1e4e0>,\n",
       "  <matplotlib.lines.Line2D at 0x7ff747e25c18>,\n",
       "  <matplotlib.lines.Line2D at 0x7ff747e34390>,\n",
       "  <matplotlib.lines.Line2D at 0x7ff747e3aac8>,\n",
       "  <matplotlib.lines.Line2D at 0x7ff747e49240>,\n",
       "  <matplotlib.lines.Line2D at 0x7ff747e4f978>],\n",
       " 'whiskers': [<matplotlib.lines.Line2D at 0x7ff747e94780>,\n",
       "  <matplotlib.lines.Line2D at 0x7ff747e94ac8>,\n",
       "  <matplotlib.lines.Line2D at 0x7ff747e1eeb8>,\n",
       "  <matplotlib.lines.Line2D at 0x7ff747e25240>,\n",
       "  <matplotlib.lines.Line2D at 0x7ff747e2c630>,\n",
       "  <matplotlib.lines.Line2D at 0x7ff747e2c978>,\n",
       "  <matplotlib.lines.Line2D at 0x7ff747e34d68>,\n",
       "  <matplotlib.lines.Line2D at 0x7ff747e3a0f0>,\n",
       "  <matplotlib.lines.Line2D at 0x7ff747e414e0>,\n",
       "  <matplotlib.lines.Line2D at 0x7ff747e41828>,\n",
       "  <matplotlib.lines.Line2D at 0x7ff747e49c18>,\n",
       "  <matplotlib.lines.Line2D at 0x7ff747e49f60>]}"
      ]
     },
     "execution_count": 43,
     "metadata": {},
     "output_type": "execute_result"
    },
    {
     "data": {
      "image/png": "[encoded data removed]",
      "text/plain": [
       "<Figure size 864x432 with 1 Axes>"
      ]
     },
     "metadata": {
      "needs_background": "light"
     },
     "output_type": "display_data"
    }
   ],
   "source": [
    "_2017_wo_videos_aas = np.log10(df2[~df2.DOI.isin(_idx_papers_2017)][df2[\"AAS\"] != \"None\"][\"AAS\"].dropna().astype(int))\n",
    "_2017_90_w_videos_aas = np.log10(df2[df2.DOI.isin(_idx_papers_2017_90)][df2[\"AAS\"] != \"None\"][\"AAS\"].dropna().astype(int))\n",
    "_2017_180_w_videos_aas = np.log10(df2[df2.DOI.isin(_idx_papers_2017_180)][df2[\"AAS\"] != \"None\"][\"AAS\"].dropna().astype(int))\n",
    "_2017_270_w_videos_aas = np.log10(df2[df2.DOI.isin(_idx_papers_2017_270)][df2[\"AAS\"] != \"None\"][\"AAS\"].dropna().astype(int))\n",
    "_2017_360_w_videos_aas = np.log10(df2[df2.DOI.isin(_idx_papers_2017_360)][df2[\"AAS\"] != \"None\"][\"AAS\"].dropna().astype(int))\n",
    "_2017_rest_w_videos_aas = np.log10(df2[df2.DOI.isin(_idx_papers_2017_rest)][df2[\"AAS\"] != \"None\"][\"AAS\"].dropna().astype(int))\n",
    "\n",
    "plt.figure(figsize=(12, 6))\n",
    "plt.title(\"AAS by video release date\")\n",
    "# plt.yscale(\"log\")\n",
    "# plt.ylim([0, 200])\n",
    "plt.ylabel(\"log10(AAS)\")\n",
    "plt.boxplot([\n",
    "    _2017_wo_videos_aas,\n",
    "    _2017_90_w_videos_aas,\n",
    "    _2017_180_w_videos_aas,\n",
    "    _2017_270_w_videos_aas,\n",
    "    _2017_360_w_videos_aas,\n",
    "    _2017_rest_w_videos_aas\n",
    "],\n",
    "    labels=[\n",
    "        \"2017 w/o videos\\n(N=%s)\"%len(_2017_wo_videos_aas),\n",
    "        \"2017 w/ videos-90\\n(N=%s)\"%len(_2017_90_w_videos_aas),\n",
    "        \"2017 w/ videos-180\\n(N=%s)\"%len(_2017_180_w_videos_aas),\n",
    "        \"2017 w/ videos-270\\n(N=%s)\"%len(_2017_270_w_videos_aas),\n",
    "        \"2017 w/ videos-360\\n(N=%s)\"%len(_2017_360_w_videos_aas),\n",
    "        \"2017 w/ videos-rest\\n(N=%s)\"%len(_2017_rest_w_videos_aas)\n",
    "    ]\n",
    ")"
   ]
  },
  {
   "cell_type": "code",
   "execution_count": 44,
   "metadata": {},
   "outputs": [
    {
     "name": "stdout",
     "output_type": "stream",
     "text": [
      "2017-90\tS = -3.254890\tp = 0.001145\n",
      "2017-180\tS = -1.044773\tp = 0.296201\n",
      "2017-270\tS = -3.200191\tp = 0.001386\n",
      "2017-360\tS = -3.870942\tp = 0.000110\n",
      "2017-rest\tS = -9.969478\tp = 0.000000\n"
     ]
    }
   ],
   "source": [
    "_s2017, _p2017 = stats.ttest_ind(\n",
    "    _2017_wo_videos_aas,\n",
    "    _2017_90_w_videos_aas\n",
    ")\n",
    "print(\"2017-90\\tS = %f\\tp = %f\"%(_s2017, _p2017))\n",
    "_s2017, _p2017 = stats.ttest_ind(\n",
    "    _2017_wo_videos_aas,\n",
    "    _2017_180_w_videos_aas\n",
    ")\n",
    "print(\"2017-180\\tS = %f\\tp = %f\"%(_s2017, _p2017))\n",
    "_s2017, _p2017 = stats.ttest_ind(\n",
    "    _2017_wo_videos_aas,\n",
    "    _2017_270_w_videos_aas\n",
    ")\n",
    "print(\"2017-270\\tS = %f\\tp = %f\"%(_s2017, _p2017))\n",
    "_s2017, _p2017 = stats.ttest_ind(\n",
    "    _2017_wo_videos_aas,\n",
    "    _2017_360_w_videos_aas\n",
    ")\n",
    "print(\"2017-360\\tS = %f\\tp = %f\"%(_s2017, _p2017))\n",
    "_s2017, _p2017 = stats.ttest_ind(\n",
    "    _2017_wo_videos_aas,\n",
    "    _2017_rest_w_videos_aas\n",
    ")\n",
    "print(\"2017-rest\\tS = %f\\tp = %f\"%(_s2017, _p2017))"
   ]
  },
  {
   "cell_type": "code",
   "execution_count": 46,
   "metadata": {},
   "outputs": [
    {
     "name": "stderr",
     "output_type": "stream",
     "text": [
      "/home/hweem/git/mastersdegree/ytcrawl/ytcrawl0/lib/python3.5/site-packages/ipykernel_launcher.py:1: UserWarning: Boolean Series key will be reindexed to match DataFrame index.\n",
      "  \"\"\"Entry point for launching an IPython kernel.\n",
      "/home/hweem/git/mastersdegree/ytcrawl/ytcrawl0/lib/python3.5/site-packages/ipykernel_launcher.py:2: UserWarning: Boolean Series key will be reindexed to match DataFrame index.\n",
      "  \n",
      "/home/hweem/git/mastersdegree/ytcrawl/ytcrawl0/lib/python3.5/site-packages/ipykernel_launcher.py:3: UserWarning: Boolean Series key will be reindexed to match DataFrame index.\n",
      "  This is separate from the ipykernel package so we can avoid doing imports until\n",
      "/home/hweem/git/mastersdegree/ytcrawl/ytcrawl0/lib/python3.5/site-packages/ipykernel_launcher.py:4: UserWarning: Boolean Series key will be reindexed to match DataFrame index.\n",
      "  after removing the cwd from sys.path.\n",
      "/home/hweem/git/mastersdegree/ytcrawl/ytcrawl0/lib/python3.5/site-packages/ipykernel_launcher.py:5: UserWarning: Boolean Series key will be reindexed to match DataFrame index.\n",
      "  \"\"\"\n",
      "/home/hweem/git/mastersdegree/ytcrawl/ytcrawl0/lib/python3.5/site-packages/ipykernel_launcher.py:6: UserWarning: Boolean Series key will be reindexed to match DataFrame index.\n",
      "  \n",
      "/home/hweem/git/mastersdegree/ytcrawl/ytcrawl0/lib/python3.5/site-packages/ipykernel_launcher.py:8: UserWarning: Boolean Series key will be reindexed to match DataFrame index.\n",
      "  \n",
      "/home/hweem/git/mastersdegree/ytcrawl/ytcrawl0/lib/python3.5/site-packages/ipykernel_launcher.py:9: UserWarning: Boolean Series key will be reindexed to match DataFrame index.\n",
      "  if __name__ == '__main__':\n",
      "/home/hweem/git/mastersdegree/ytcrawl/ytcrawl0/lib/python3.5/site-packages/ipykernel_launcher.py:10: UserWarning: Boolean Series key will be reindexed to match DataFrame index.\n",
      "  # Remove the CWD from sys.path while we load stuff.\n",
      "/home/hweem/git/mastersdegree/ytcrawl/ytcrawl0/lib/python3.5/site-packages/ipykernel_launcher.py:11: UserWarning: Boolean Series key will be reindexed to match DataFrame index.\n",
      "  # This is added back by InteractiveShellApp.init_path()\n",
      "/home/hweem/git/mastersdegree/ytcrawl/ytcrawl0/lib/python3.5/site-packages/ipykernel_launcher.py:12: UserWarning: Boolean Series key will be reindexed to match DataFrame index.\n",
      "  if sys.path[0] == '':\n",
      "/home/hweem/git/mastersdegree/ytcrawl/ytcrawl0/lib/python3.5/site-packages/ipykernel_launcher.py:13: UserWarning: Boolean Series key will be reindexed to match DataFrame index.\n",
      "  del sys.path[0]\n"
     ]
    },
    {
     "data": {
      "text/plain": [
       "{'boxes': [<matplotlib.lines.Line2D at 0x7ff747d8dbe0>,\n",
       "  <matplotlib.lines.Line2D at 0x7ff747d220f0>,\n",
       "  <matplotlib.lines.Line2D at 0x7ff747d28828>,\n",
       "  <matplotlib.lines.Line2D at 0x7ff747d2ff60>,\n",
       "  <matplotlib.lines.Line2D at 0x7ff747d3b6d8>,\n",
       "  <matplotlib.lines.Line2D at 0x7ff747d45e10>],\n",
       " 'caps': [<matplotlib.lines.Line2D at 0x7ff747d9a3c8>,\n",
       "  <matplotlib.lines.Line2D at 0x7ff747d9a710>,\n",
       "  <matplotlib.lines.Line2D at 0x7ff747d22b00>,\n",
       "  <matplotlib.lines.Line2D at 0x7ff747d22e48>,\n",
       "  <matplotlib.lines.Line2D at 0x7ff747d2f278>,\n",
       "  <matplotlib.lines.Line2D at 0x7ff747d2f5c0>,\n",
       "  <matplotlib.lines.Line2D at 0x7ff747d369b0>,\n",
       "  <matplotlib.lines.Line2D at 0x7ff747d36cf8>,\n",
       "  <matplotlib.lines.Line2D at 0x7ff747d45128>,\n",
       "  <matplotlib.lines.Line2D at 0x7ff747d45470>,\n",
       "  <matplotlib.lines.Line2D at 0x7ff747d4c860>,\n",
       "  <matplotlib.lines.Line2D at 0x7ff747d4cba8>],\n",
       " 'fliers': [<matplotlib.lines.Line2D at 0x7ff747d9ada0>,\n",
       "  <matplotlib.lines.Line2D at 0x7ff747d28518>,\n",
       "  <matplotlib.lines.Line2D at 0x7ff747d2fc50>,\n",
       "  <matplotlib.lines.Line2D at 0x7ff747d3b3c8>,\n",
       "  <matplotlib.lines.Line2D at 0x7ff747d45b00>,\n",
       "  <matplotlib.lines.Line2D at 0x7ff747d52278>],\n",
       " 'means': [],\n",
       " 'medians': [<matplotlib.lines.Line2D at 0x7ff747d9aa58>,\n",
       "  <matplotlib.lines.Line2D at 0x7ff747d281d0>,\n",
       "  <matplotlib.lines.Line2D at 0x7ff747d2f908>,\n",
       "  <matplotlib.lines.Line2D at 0x7ff747d3b080>,\n",
       "  <matplotlib.lines.Line2D at 0x7ff747d457b8>,\n",
       "  <matplotlib.lines.Line2D at 0x7ff747d4cef0>],\n",
       " 'whiskers': [<matplotlib.lines.Line2D at 0x7ff747d8dcf8>,\n",
       "  <matplotlib.lines.Line2D at 0x7ff747d9a080>,\n",
       "  <matplotlib.lines.Line2D at 0x7ff747d22470>,\n",
       "  <matplotlib.lines.Line2D at 0x7ff747d227b8>,\n",
       "  <matplotlib.lines.Line2D at 0x7ff747d28ba8>,\n",
       "  <matplotlib.lines.Line2D at 0x7ff747d28ef0>,\n",
       "  <matplotlib.lines.Line2D at 0x7ff747d36320>,\n",
       "  <matplotlib.lines.Line2D at 0x7ff747d36668>,\n",
       "  <matplotlib.lines.Line2D at 0x7ff747d3ba58>,\n",
       "  <matplotlib.lines.Line2D at 0x7ff747d3bda0>,\n",
       "  <matplotlib.lines.Line2D at 0x7ff747d4c1d0>,\n",
       "  <matplotlib.lines.Line2D at 0x7ff747d4c518>]}"
      ]
     },
     "execution_count": 46,
     "metadata": {},
     "output_type": "execute_result"
    },
    {
     "data": {
      "image/png": "[encoded data removed]",
      "text/plain": [
       "<Figure size 864x432 with 1 Axes>"
      ]
     },
     "metadata": {
      "needs_background": "light"
     },
     "output_type": "display_data"
    }
   ],
   "source": [
    "_2019_wo_videos_aas = df1[~df1.DOI.isin(_idx_papers_2019)][df1[\"AAS\"] != \"None\"][\"AAS\"].dropna().astype(int)\n",
    "_2019_90_w_videos_aas = df1[df1.DOI.isin(_idx_papers_2019_90)][df1[\"AAS\"] != \"None\"][\"AAS\"].dropna().astype(int)\n",
    "_2019_180_w_videos_aas = df1[df1.DOI.isin(_idx_papers_2019_180)][df1[\"AAS\"] != \"None\"][\"AAS\"].dropna().astype(int)\n",
    "_2019_270_w_videos_aas = df1[df1.DOI.isin(_idx_papers_2019_270)][df1[\"AAS\"] != \"None\"][\"AAS\"].dropna().astype(int)\n",
    "_2019_360_w_videos_aas = df1[df1.DOI.isin(_idx_papers_2019_360)][df1[\"AAS\"] != \"None\"][\"AAS\"].dropna().astype(int)\n",
    "_2019_rest_w_videos_aas = df1[df1.DOI.isin(_idx_papers_2019_rest)][df1[\"AAS\"] != \"None\"][\"AAS\"].dropna().astype(int)\n",
    "\n",
    "_2019_wo_videos_aas = np.log10(df1[~df1.DOI.isin(_idx_papers_2019)][df1[\"AAS\"] != \"None\"][\"AAS\"].dropna().astype(int))\n",
    "_2019_90_w_videos_aas = np.log10(df1[df1.DOI.isin(_idx_papers_2019_90)][df1[\"AAS\"] != \"None\"][\"AAS\"].dropna().astype(int))\n",
    "_2019_180_w_videos_aas = np.log10(df1[df1.DOI.isin(_idx_papers_2019_180)][df1[\"AAS\"] != \"None\"][\"AAS\"].dropna().astype(int))\n",
    "_2019_270_w_videos_aas = np.log10(df1[df1.DOI.isin(_idx_papers_2019_270)][df1[\"AAS\"] != \"None\"][\"AAS\"].dropna().astype(int))\n",
    "_2019_360_w_videos_aas = np.log10(df1[df1.DOI.isin(_idx_papers_2019_360)][df1[\"AAS\"] != \"None\"][\"AAS\"].dropna().astype(int))\n",
    "_2019_rest_w_videos_aas = np.log10(df1[df1.DOI.isin(_idx_papers_2019_rest)][df1[\"AAS\"] != \"None\"][\"AAS\"].dropna().astype(int))\n",
    "\n",
    "plt.figure(figsize=(12, 6))\n",
    "plt.title(\"AAS by video release date\")\n",
    "# plt.yscale(\"log\")\n",
    "# plt.ylim([0, 200])\n",
    "plt.ylabel(\"log10(AAS)\")\n",
    "plt.boxplot([\n",
    "    _2019_wo_videos_aas,\n",
    "    _2019_90_w_videos_aas,\n",
    "    _2019_180_w_videos_aas,\n",
    "    _2019_270_w_videos_aas,\n",
    "    _2019_360_w_videos_aas,\n",
    "    _2019_rest_w_videos_aas\n",
    "],\n",
    "    labels=[\n",
    "        \"2019 w/o videos\\n(N=%s)\"%len(_2019_wo_videos_aas),\n",
    "        \"2019 w/ videos-90\\n(N=%s)\"%len(_2019_90_w_videos_aas),\n",
    "        \"2019 w/ videos-180\\n(N=%s)\"%len(_2019_180_w_videos_aas),\n",
    "        \"2019 w/ videos-270\\n(N=%s)\"%len(_2019_270_w_videos_aas),\n",
    "        \"2019 w/ videos-360\\n(N=%s)\"%len(_2019_360_w_videos_aas),\n",
    "        \"2019 w/ videos-rest\\n(N=%s)\"%len(_2019_rest_w_videos_aas)\n",
    "    ]\n",
    ")"
   ]
  },
  {
   "cell_type": "code",
   "execution_count": 47,
   "metadata": {},
   "outputs": [
    {
     "name": "stdout",
     "output_type": "stream",
     "text": [
      "2019-90\tS = -4.108438\tp = 0.000041\n",
      "2019-180\tS = nan\tp = nan\n",
      "2019-270\tS = nan\tp = nan\n",
      "2019-360\tS = -7.753685\tp = 0.000000\n",
      "2019-rest\tS = -1.353650\tp = 0.175939\n"
     ]
    }
   ],
   "source": [
    "_s2019, _p2019 = stats.ttest_ind(\n",
    "    _2019_wo_videos_aas,\n",
    "    _2019_90_w_videos_aas\n",
    ")\n",
    "print(\"2019-90\\tS = %f\\tp = %f\"%(_s2019, _p2019))\n",
    "_s2019, _p2019 = stats.ttest_ind(\n",
    "    _2019_wo_videos_aas,\n",
    "    _2019_180_w_videos_aas\n",
    ")\n",
    "print(\"2019-180\\tS = %f\\tp = %f\"%(_s2019, _p2019))\n",
    "_s2019, _p2019 = stats.ttest_ind(\n",
    "    _2019_wo_videos_aas,\n",
    "    _2019_270_w_videos_aas\n",
    ")\n",
    "print(\"2019-270\\tS = %f\\tp = %f\"%(_s2019, _p2019))\n",
    "_s2019, _p2019 = stats.ttest_ind(\n",
    "    _2019_wo_videos_aas,\n",
    "    _2019_360_w_videos_aas\n",
    ")\n",
    "print(\"2019-360\\tS = %f\\tp = %f\"%(_s2019, _p2019))\n",
    "_s2019, _p2019 = stats.ttest_ind(\n",
    "    _2019_wo_videos_aas,\n",
    "    _2019_rest_w_videos_aas\n",
    ")\n",
    "print(\"2019-rest\\tS = %f\\tp = %f\"%(_s2019, _p2019))"
   ]
  },
  {
   "cell_type": "markdown",
   "metadata": {},
   "source": [
    "Citation, AAS 둘 다, 초창기(90)와 나중(rest)에서 유의하고 180에서 유의성이 낮아지는 경향이 보인다..?\n",
    "다만 180/270/360은 샘플이 적다는 점"
   ]
  },
  {
   "cell_type": "code",
   "execution_count": null,
   "metadata": {},
   "outputs": [],
   "source": []
  }
 ],
 "metadata": {
  "kernelspec": {
   "display_name": "Python 3",
   "language": "python",
   "name": "python3"
  },
  "language_info": {
   "codemirror_mode": {
    "name": "ipython",
    "version": 3
   },
   "file_extension": ".py",
   "mimetype": "text/x-python",
   "name": "python",
   "nbconvert_exporter": "python",
   "pygments_lexer": "ipython3",
   "version": "3.8.5"
  }
 },
 "nbformat": 4,
 "nbformat_minor": 4
}
