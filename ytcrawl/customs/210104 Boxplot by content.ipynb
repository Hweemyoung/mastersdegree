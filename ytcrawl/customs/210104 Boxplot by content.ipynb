{
 "cells": [
  {
   "cell_type": "code",
   "execution_count": 1,
   "metadata": {},
   "outputs": [],
   "source": [
    "import numpy as np\n",
    "import pandas as pd\n",
    "from db_handler import DBHandler\n",
    "from matplotlib import pyplot as plt\n",
    "from scipy import stats\n",
    "from datetime import datetime, timedelta\n",
    "from calendar import monthrange\n",
    "from scopus_handler import ScopusHandler"
   ]
  },
  {
   "cell_type": "code",
   "execution_count": 2,
   "metadata": {},
   "outputs": [
    {
     "name": "stdout",
     "output_type": "stream",
     "text": [
      "[+]Duplicates have been dropped from df_scopus.\tBefore: 9598\tAfter: 9336\n"
     ]
    }
   ],
   "source": [
    "subject = \"comp\"\n",
    "df4 = pd.read_csv(\"/home/hweem/git/mastersdegree/ytcrawl/customs/scopus/scopus_2014_%s.csv\" % subject)\n",
    "df4_sources = pd.read_csv(\"scopus/source_2013_%s.csv\" % subject, header=0)\n",
    "scopus_2014 = ScopusHandler(df4, df4_sources, \"scopus_videos_2014_%s\" % subject, verbose=True)\n",
    "scopus_2014.db_handler.sql_handler.list_where_clauses = []"
   ]
  },
  {
   "cell_type": "code",
   "execution_count": 3,
   "metadata": {},
   "outputs": [
    {
     "name": "stdout",
     "output_type": "stream",
     "text": [
      "\tCommand set: SELECT `idx`, `videoId`, `idx_paper`, `publishedAt` FROM `scopus_videos_2014_comp`\n",
      "\tCurrent list_where_clauses: [\"`content`='paper_explanation'\"]\n",
      "\tCurrent list_where_clauses: [\"`content`='paper_explanation'\", 'idx IN (1, 2, 3, 4, 6, 7, 9, 11, 12, 14, 15, 16, 17, 18, 19, 20, 21, 24, 25, 27, 28, 29, 30, 31, 33, 34, 36, 38, 39, 41, 43, 46, 48, 50, 51, 52, 53, 55, 56, 57, 58, 62, 64, 65, 69, 70, 71, 73, 74, 75, 76, 77, 78, 79, 80, 81, 82, 84, 85, 87, 88, 89, 91, 92, 95, 96, 97, 98, 99, 101, 102, 103, 105, 106, 107, 109, 111, 114, 115, 118, 119, 120, 121, 122, 124, 125, 127, 128, 129, 131, 132, 135, 137, 138, 142, 143, 144, 145, 147, 148)']\n",
      "\tsql: SELECT `idx`, `videoId`, `idx_paper`, `publishedAt` FROM `scopus_videos_2014_comp` WHERE (`content`='paper_explanation' AND idx IN (1, 2, 3, 4, 6, 7, 9, 11, 12, 14, 15, 16, 17, 18, 19, 20, 21, 24, 25, 27, 28, 29, 30, 31, 33, 34, 36, 38, 39, 41, 43, 46, 48, 50, 51, 52, 53, 55, 56, 57, 58, 62, 64, 65, 69, 70, 71, 73, 74, 75, 76, 77, 78, 79, 80, 81, 82, 84, 85, 87, 88, 89, 91, 92, 95, 96, 97, 98, 99, 101, 102, 103, 105, 106, 107, 109, 111, 114, 115, 118, 119, 120, 121, 122, 124, 125, 127, 128, 129, 131, 132, 135, 137, 138, 142, 143, 144, 145, 147, 148));\n",
      "Total videos: 9\n",
      "# Total DOIs: 9336\t# DOIs w/ videos: 8\tRatio: 0.001\n",
      "# Total videos: 9\t# Target videos: 9\tRatio: 1.000\n",
      "# Total subjects: 43\t# subjects w/ videos: 6\tRatio: 0.140\n",
      "# Total journals: 133\t# journals w/ videos: 7\tRatio: 0.053\n"
     ]
    },
    {
     "data": {
      "text/plain": [
       "<scopus_handler.ScopusHandler at 0x7f05b825abb0>"
      ]
     },
     "execution_count": 3,
     "metadata": {},
     "output_type": "execute_result"
    }
   ],
   "source": [
    "scopus_2014.set_target_videos(where=(\"content\", \"paper_explanation\"))"
   ]
  },
  {
   "cell_type": "code",
   "execution_count": 4,
   "metadata": {},
   "outputs": [
    {
     "name": "stdout",
     "output_type": "stream",
     "text": [
      "\tCommand set: SELECT `idx`, `videoId`, `idx_paper`, `publishedAt` FROM `scopus_videos_2014_comp`\n",
      "\tCurrent list_where_clauses: [\"`content`='paper_reference'\"]\n",
      "\tCurrent list_where_clauses: [\"`content`='paper_reference'\", 'idx IN (1, 2, 3, 4, 6, 7, 9, 11, 12, 14, 15, 16, 17, 18, 19, 20, 21, 24, 25, 27, 28, 29, 30, 31, 33, 34, 36, 38, 39, 41, 43, 46, 48, 50, 51, 52, 53, 55, 56, 57, 58, 62, 64, 65, 69, 70, 71, 73, 74, 75, 76, 77, 78, 79, 80, 81, 82, 84, 85, 87, 88, 89, 91, 92, 95, 96, 97, 98, 99, 101, 102, 103, 105, 106, 107, 109, 111, 114, 115, 118, 119, 120, 121, 122, 124, 125, 127, 128, 129, 131, 132, 135, 137, 138, 142, 143, 144, 145, 147, 148)']\n",
      "\tsql: SELECT `idx`, `videoId`, `idx_paper`, `publishedAt` FROM `scopus_videos_2014_comp` WHERE (`content`='paper_reference' AND idx IN (1, 2, 3, 4, 6, 7, 9, 11, 12, 14, 15, 16, 17, 18, 19, 20, 21, 24, 25, 27, 28, 29, 30, 31, 33, 34, 36, 38, 39, 41, 43, 46, 48, 50, 51, 52, 53, 55, 56, 57, 58, 62, 64, 65, 69, 70, 71, 73, 74, 75, 76, 77, 78, 79, 80, 81, 82, 84, 85, 87, 88, 89, 91, 92, 95, 96, 97, 98, 99, 101, 102, 103, 105, 106, 107, 109, 111, 114, 115, 118, 119, 120, 121, 122, 124, 125, 127, 128, 129, 131, 132, 135, 137, 138, 142, 143, 144, 145, 147, 148));\n",
      "Total videos: 67\n",
      "# Total DOIs: 9336\t# DOIs w/ videos: 53\tRatio: 0.006\n",
      "# Total videos: 65\t# Target videos: 65\tRatio: 1.000\n",
      "# Total subjects: 43\t# subjects w/ videos: 17\tRatio: 0.395\n",
      "# Total journals: 133\t# journals w/ videos: 24\tRatio: 0.180\n"
     ]
    },
    {
     "data": {
      "text/plain": [
       "<scopus_handler.ScopusHandler at 0x7f05b825abb0>"
      ]
     },
     "execution_count": 4,
     "metadata": {},
     "output_type": "execute_result"
    }
   ],
   "source": [
    "scopus_2014.set_target_videos(where=(\"content\", \"paper_reference\"))"
   ]
  },
  {
   "cell_type": "code",
   "execution_count": 5,
   "metadata": {},
   "outputs": [
    {
     "name": "stdout",
     "output_type": "stream",
     "text": [
      "\tCommand set: SELECT `idx`, `videoId`, `idx_paper`, `publishedAt` FROM `scopus_videos_2014_comp`\n",
      "\tCurrent list_where_clauses: [\"`content`='news'\"]\n",
      "\tCurrent list_where_clauses: [\"`content`='news'\", 'idx IN (1, 2, 3, 4, 6, 7, 9, 11, 12, 14, 15, 16, 17, 18, 19, 20, 21, 24, 25, 27, 28, 29, 30, 31, 33, 34, 36, 38, 39, 41, 43, 46, 48, 50, 51, 52, 53, 55, 56, 57, 58, 62, 64, 65, 69, 70, 71, 73, 74, 75, 76, 77, 78, 79, 80, 81, 82, 84, 85, 87, 88, 89, 91, 92, 95, 96, 97, 98, 99, 101, 102, 103, 105, 106, 107, 109, 111, 114, 115, 118, 119, 120, 121, 122, 124, 125, 127, 128, 129, 131, 132, 135, 137, 138, 142, 143, 144, 145, 147, 148)']\n",
      "\tsql: SELECT `idx`, `videoId`, `idx_paper`, `publishedAt` FROM `scopus_videos_2014_comp` WHERE (`content`='news' AND idx IN (1, 2, 3, 4, 6, 7, 9, 11, 12, 14, 15, 16, 17, 18, 19, 20, 21, 24, 25, 27, 28, 29, 30, 31, 33, 34, 36, 38, 39, 41, 43, 46, 48, 50, 51, 52, 53, 55, 56, 57, 58, 62, 64, 65, 69, 70, 71, 73, 74, 75, 76, 77, 78, 79, 80, 81, 82, 84, 85, 87, 88, 89, 91, 92, 95, 96, 97, 98, 99, 101, 102, 103, 105, 106, 107, 109, 111, 114, 115, 118, 119, 120, 121, 122, 124, 125, 127, 128, 129, 131, 132, 135, 137, 138, 142, 143, 144, 145, 147, 148));\n",
      "Total videos: 0\n",
      "# Total DOIs: 9336\t# DOIs w/ videos: 0\tRatio: 0.000\n"
     ]
    },
    {
     "ename": "ZeroDivisionError",
     "evalue": "division by zero",
     "output_type": "error",
     "traceback": [
      "\u001b[0;31m---------------------------------------------------------------------------\u001b[0m",
      "\u001b[0;31mZeroDivisionError\u001b[0m                         Traceback (most recent call last)",
      "\u001b[0;32m<ipython-input-5-34137e77f3f8>\u001b[0m in \u001b[0;36m<module>\u001b[0;34m\u001b[0m\n\u001b[0;32m----> 1\u001b[0;31m \u001b[0mscopus_2014\u001b[0m\u001b[0;34m.\u001b[0m\u001b[0mset_target_videos\u001b[0m\u001b[0;34m(\u001b[0m\u001b[0mwhere\u001b[0m\u001b[0;34m=\u001b[0m\u001b[0;34m(\u001b[0m\u001b[0;34m\"content\"\u001b[0m\u001b[0;34m,\u001b[0m \u001b[0;34m\"news\"\u001b[0m\u001b[0;34m)\u001b[0m\u001b[0;34m)\u001b[0m\u001b[0;34m\u001b[0m\u001b[0;34m\u001b[0m\u001b[0m\n\u001b[0m",
      "\u001b[0;32m~/git/mastersdegree/ytcrawl/customs/scopus_handler.py\u001b[0m in \u001b[0;36mset_target_videos\u001b[0;34m(self, df_scopus, where, days_from, days_until)\u001b[0m\n\u001b[1;32m    131\u001b[0m             \u001b[0mself\u001b[0m\u001b[0;34m.\u001b[0m\u001b[0mlist_target_videos\u001b[0m\u001b[0;34m.\u001b[0m\u001b[0mappend\u001b[0m\u001b[0;34m(\u001b[0m\u001b[0m_row\u001b[0m\u001b[0;34m)\u001b[0m\u001b[0;34m\u001b[0m\u001b[0;34m\u001b[0m\u001b[0m\n\u001b[1;32m    132\u001b[0m \u001b[0;34m\u001b[0m\u001b[0m\n\u001b[0;32m--> 133\u001b[0;31m         \u001b[0mself\u001b[0m\u001b[0;34m.\u001b[0m\u001b[0m__set_stats\u001b[0m\u001b[0;34m(\u001b[0m\u001b[0;34m)\u001b[0m\u001b[0;34m\u001b[0m\u001b[0;34m\u001b[0m\u001b[0m\n\u001b[0m\u001b[1;32m    134\u001b[0m \u001b[0;34m\u001b[0m\u001b[0m\n\u001b[1;32m    135\u001b[0m         \u001b[0;32mreturn\u001b[0m \u001b[0mself\u001b[0m\u001b[0;34m\u001b[0m\u001b[0;34m\u001b[0m\u001b[0m\n",
      "\u001b[0;32m~/git/mastersdegree/ytcrawl/customs/scopus_handler.py\u001b[0m in \u001b[0;36m__set_stats\u001b[0;34m(self, where, days_from, days_until)\u001b[0m\n\u001b[1;32m    153\u001b[0m             set(map(lambda _row: _row[1], self.list_videos_total)))\n\u001b[1;32m    154\u001b[0m         print(\"# Total videos: %d\\t# Target videos: %d\\tRatio: %.3f\" % (\n\u001b[0;32m--> 155\u001b[0;31m             _num_total_videos, len(self.target_videos), len(self.target_videos) / _num_total_videos))\n\u001b[0m\u001b[1;32m    156\u001b[0m \u001b[0;34m\u001b[0m\u001b[0m\n\u001b[1;32m    157\u001b[0m         \u001b[0mself\u001b[0m\u001b[0;34m.\u001b[0m\u001b[0m__set_value_counts\u001b[0m\u001b[0;34m(\u001b[0m\u001b[0;34m)\u001b[0m\u001b[0;34m\u001b[0m\u001b[0;34m\u001b[0m\u001b[0m\n",
      "\u001b[0;31mZeroDivisionError\u001b[0m: division by zero"
     ]
    }
   ],
   "source": [
    "scopus_2014.set_target_videos(where=(\"content\", \"news\"))"
   ]
  },
  {
   "cell_type": "code",
   "execution_count": null,
   "metadata": {},
   "outputs": [],
   "source": []
  }
 ],
 "metadata": {
  "kernelspec": {
   "display_name": "s-transformers",
   "language": "python",
   "name": "s-transformers"
  },
  "language_info": {
   "codemirror_mode": {
    "name": "ipython",
    "version": 3
   },
   "file_extension": ".py",
   "mimetype": "text/x-python",
   "name": "python",
   "nbconvert_exporter": "python",
   "pygments_lexer": "ipython3",
   "version": "3.8.5"
  }
 },
 "nbformat": 4,
 "nbformat_minor": 4
}
