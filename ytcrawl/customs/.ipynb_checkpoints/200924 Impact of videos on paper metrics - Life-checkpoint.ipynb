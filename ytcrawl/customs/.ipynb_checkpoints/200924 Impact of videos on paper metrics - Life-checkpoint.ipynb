{
 "cells": [
  {
   "cell_type": "code",
   "execution_count": 1,
   "metadata": {},
   "outputs": [],
   "source": [
    "import numpy as np\n",
    "import pandas as pd\n",
    "from db_handler import DBHandler\n",
    "from matplotlib import pyplot as plt\n",
    "from scipy import stats\n",
    "from datetime import datetime, timedelta\n",
    "from calendar import monthrange\n",
    "%matplotlib inline"
   ]
  },
  {
   "cell_type": "code",
   "execution_count": 2,
   "metadata": {},
   "outputs": [],
   "source": [
    "def parse_fetches(fetches):\n",
    "    _new_fetches = list()\n",
    "    for _fetch in fetches:\n",
    "        for _doi in _fetch[0].split(\", \"):\n",
    "            _new_fetches.append(\n",
    "                (_doi, _fetch[1])\n",
    "            )\n",
    "    return _new_fetches\n",
    "\n",
    "def get_dois_with_videos_within_days_from_publish(df, table_name, days_from=None, days_until=None):\n",
    "    _set_target_dois = set()\n",
    "    db_handler.sql_handler.select(table_name, [\"idx_paper\", \"publishedAt\"])\n",
    "    fetches = db_handler.execute().fetchall()\n",
    "    fetches = parse_fetches(fetches)\n",
    "    \n",
    "    for _row in fetches:\n",
    "#         print(\"DOI:\", _row[0])\n",
    "        _target_paper = df[df[\"DOI\"] == _row[0]]\n",
    "#         if len(_target_paper) == 0:\n",
    "#             continue\n",
    "        if len(_target_paper) > 1:\n",
    "            _target_paper = _target_paper.iloc[0]\n",
    "        _dt_publish = datetime(_target_paper[\"Year\"], _target_paper[\"Month\"], 1)\n",
    "        \n",
    "        if days_from != None:\n",
    "            _dt_video_from = _dt_publish + timedelta(days=days_from)\n",
    "            if _row[1] < _dt_video_from:\n",
    "                continue\n",
    "        \n",
    "        if days_until != None:\n",
    "            _dt_video_until = _dt_publish + timedelta(days=days_until)\n",
    "            if _row[1] > _dt_video_until:\n",
    "                continue\n",
    "        \n",
    "        _set_target_dois.add(_row[0])\n",
    "    \n",
    "#     if days_until == None:\n",
    "#         _set_target_dois = set(map(lambda _row: _row[0], fetches))\n",
    "#     else:\n",
    "#         for _row in fetches:\n",
    "#             _target_paper = df[df[\"DOI\"] == _row[0]]\n",
    "#             if len(_target_paper) > 1:\n",
    "#                 _target_paper = _target_paper.iloc[0]\n",
    "#             _dt_publish = datetime(_target_paper[\"Year\"], _target_paper[\"Month\"], 1)\n",
    "            \n",
    "#             _dt_video_from = _dt_publish + timedelta(days=days_from)\n",
    "#             _dt_video_until = _dt_publish + timedelta(days=days_until)\n",
    "            \n",
    "#             if _row[1] < _dt_video_deadline:\n",
    "#                 _set_target_dois.add(_row[0])\n",
    "    \n",
    "    return _set_target_dois"
   ]
  },
  {
   "cell_type": "code",
   "execution_count": 3,
   "metadata": {},
   "outputs": [
    {
     "name": "stdout",
     "output_type": "stream",
     "text": [
      "7742 7816\n",
      "7735 7717\n"
     ]
    }
   ],
   "source": [
    "df1 = pd.read_csv(\"/home/hweem/git/mastersdegree/ytcrawl/customs/scopus/scopus_life+earch_top60_1901-1906.csv\")\n",
    "# df2 = pd.read_csv(\"/home/hweem/git/mastersdegree/ytcrawl/customs/scopus/scopus_math+comp_top5perc_1701-1706.csv\")\n",
    "df3 = pd.read_csv(\"/home/hweem/git/mastersdegree/ytcrawl/customs/scopus/scopus_life+earch_top60_1401-1406.csv\")\n",
    "print(len(df1), len(df3))\n",
    "df1 = df1.drop_duplicates(subset=[\"DOI\"])\n",
    "# df2 = df2.drop_duplicates(subset=[\"DOI\"])\n",
    "df3 = df3.drop_duplicates(subset=[\"DOI\"])\n",
    "print(len(df1), len(df3))"
   ]
  },
  {
   "cell_type": "code",
   "execution_count": 4,
   "metadata": {},
   "outputs": [
    {
     "name": "stdout",
     "output_type": "stream",
     "text": [
      "\tCommand set: SELECT `idx_paper`, `publishedAt` FROM `scopus_videos_2014_life`\n",
      "\tsql: SELECT `idx_paper`, `publishedAt` FROM `scopus_videos_2014_life`;\n",
      "\tCommand set: SELECT `idx_paper`, `publishedAt` FROM `scopus_videos_2019_life`\n",
      "\tsql: SELECT `idx_paper`, `publishedAt` FROM `scopus_videos_2019_life`;\n"
     ]
    }
   ],
   "source": [
    "db_handler = DBHandler()\n",
    "db_handler.sql_handler.select(\"scopus_videos_2014_life\", [\"idx_paper\", \"publishedAt\"])\n",
    "_videos_2014 = db_handler.execute().fetchall()\n",
    "# db_handler.sql_handler.select(\"scopus_videos_2017_comp\", [\"idx_paper\", \"publishedAt\"])\n",
    "# _videos_2017 = db_handler.execute().fetchall()\n",
    "db_handler.sql_handler.select(\"scopus_videos_2019_life\", [\"idx_paper\", \"publishedAt\"])\n",
    "_videos_2019 = db_handler.execute().fetchall()"
   ]
  },
  {
   "cell_type": "code",
   "execution_count": 5,
   "metadata": {},
   "outputs": [
    {
     "name": "stdout",
     "output_type": "stream",
     "text": [
      "\tCommand set: SELECT `idx_paper`, `publishedAt` FROM `scopus_videos_2019_life`\n",
      "\tsql: SELECT `idx_paper`, `publishedAt` FROM `scopus_videos_2019_life`;\n",
      "\tCommand set: SELECT `idx_paper`, `publishedAt` FROM `scopus_videos_2019_life`\n",
      "\tsql: SELECT `idx_paper`, `publishedAt` FROM `scopus_videos_2019_life`;\n",
      "134 99\n",
      "\tCommand set: SELECT `idx_paper`, `publishedAt` FROM `scopus_videos_2014_life`\n",
      "\tsql: SELECT `idx_paper`, `publishedAt` FROM `scopus_videos_2014_life`;\n",
      "\tCommand set: SELECT `idx_paper`, `publishedAt` FROM `scopus_videos_2014_life`\n",
      "\tsql: SELECT `idx_paper`, `publishedAt` FROM `scopus_videos_2014_life`;\n",
      "78 18\n"
     ]
    }
   ],
   "source": [
    "_idx_papers_2019 = get_dois_with_videos_within_days_from_publish(df1, \"scopus_videos_2019_life\")\n",
    "_idx_papers_2019_90 = get_dois_with_videos_within_days_from_publish(df1, \"scopus_videos_2019_life\", None, 90)\n",
    "print(len(_idx_papers_2019), len(_idx_papers_2019_90))\n",
    "\n",
    "_idx_papers_2014 = get_dois_with_videos_within_days_from_publish(df3, \"scopus_videos_2014_life\")\n",
    "_idx_papers_2014_90 = get_dois_with_videos_within_days_from_publish(df3, \"scopus_videos_2014_life\", None, 90)\n",
    "print(len(_idx_papers_2014), len(_idx_papers_2014_90))"
   ]
  },
  {
   "cell_type": "code",
   "execution_count": 6,
   "metadata": {},
   "outputs": [
    {
     "data": {
      "text/plain": [
       "{'boxes': [<matplotlib.lines.Line2D at 0x7f06ea062c50>,\n",
       "  <matplotlib.lines.Line2D at 0x7f06ea07e1d0>,\n",
       "  <matplotlib.lines.Line2D at 0x7f06ea0158d0>,\n",
       "  <matplotlib.lines.Line2D at 0x7f06ea012048>],\n",
       " 'caps': [<matplotlib.lines.Line2D at 0x7f06ea079438>,\n",
       "  <matplotlib.lines.Line2D at 0x7f06ea079780>,\n",
       "  <matplotlib.lines.Line2D at 0x7f06ea07eba8>,\n",
       "  <matplotlib.lines.Line2D at 0x7f06ea07eef0>,\n",
       "  <matplotlib.lines.Line2D at 0x7f06ea00c320>,\n",
       "  <matplotlib.lines.Line2D at 0x7f06ea00c668>,\n",
       "  <matplotlib.lines.Line2D at 0x7f06ea012a58>,\n",
       "  <matplotlib.lines.Line2D at 0x7f06ea012da0>],\n",
       " 'fliers': [<matplotlib.lines.Line2D at 0x7f06ea079e10>,\n",
       "  <matplotlib.lines.Line2D at 0x7f06ea0155c0>,\n",
       "  <matplotlib.lines.Line2D at 0x7f06ea00ccf8>,\n",
       "  <matplotlib.lines.Line2D at 0x7f06ea01c470>],\n",
       " 'means': [],\n",
       " 'medians': [<matplotlib.lines.Line2D at 0x7f06ea079ac8>,\n",
       "  <matplotlib.lines.Line2D at 0x7f06ea015278>,\n",
       "  <matplotlib.lines.Line2D at 0x7f06ea00c9b0>,\n",
       "  <matplotlib.lines.Line2D at 0x7f06ea01c128>],\n",
       " 'whiskers': [<matplotlib.lines.Line2D at 0x7f06ea062d68>,\n",
       "  <matplotlib.lines.Line2D at 0x7f06ea0790f0>,\n",
       "  <matplotlib.lines.Line2D at 0x7f06ea07e518>,\n",
       "  <matplotlib.lines.Line2D at 0x7f06ea07e860>,\n",
       "  <matplotlib.lines.Line2D at 0x7f06ea015c50>,\n",
       "  <matplotlib.lines.Line2D at 0x7f06ea015f98>,\n",
       "  <matplotlib.lines.Line2D at 0x7f06ea0123c8>,\n",
       "  <matplotlib.lines.Line2D at 0x7f06ea012710>]}"
      ]
     },
     "execution_count": 6,
     "metadata": {},
     "output_type": "execute_result"
    },
    {
     "data": {
      "image/png": "[encoded data removed]",
      "text/plain": [
       "<Figure size 720x432 with 1 Axes>"
      ]
     },
     "metadata": {
      "needs_background": "light"
     },
     "output_type": "display_data"
    }
   ],
   "source": [
    "_2019_wo_videos_cit = np.log10(df1[~df1.DOI.isin(_idx_papers_2019)][\"Cited by\"].dropna().astype(int))\n",
    "_2019_w_videos_cit = np.log10(df1[df1.DOI.isin(_idx_papers_2019)][\"Cited by\"].dropna().astype(int))\n",
    "\n",
    "_2014_wo_videos_cit = np.log10(df3[~df3.DOI.isin(_idx_papers_2014)][\"Cited by\"].dropna().astype(int))\n",
    "_2014_w_videos_cit = np.log10(df3[df3.DOI.isin(_idx_papers_2014)][\"Cited by\"].dropna().astype(int))\n",
    "\n",
    "plt.figure(figsize=(10, 6))\n",
    "plt.title(\"Citation\")\n",
    "# plt.yscale(\"log\")\n",
    "# plt.ylim([0, 200])\n",
    "plt.ylabel(\"log10(Citation)\")\n",
    "plt.boxplot([\n",
    "    _2019_wo_videos_cit,\n",
    "    _2019_w_videos_cit,\n",
    "    _2014_wo_videos_cit,\n",
    "    _2014_w_videos_cit\n",
    "],\n",
    "    labels=[\n",
    "        \"2019 w/o videos\\n(N=%s)\"%len(_2019_wo_videos_cit),\n",
    "        \"2019 w/ videos\\n(N=%s)\"%len(_2019_w_videos_cit),\n",
    "        \"2014 w/o videos\\n(N=%s)\"%len(_2014_wo_videos_cit),\n",
    "        \"2014 w/ videos\\n(N=%s)\"%len(_2014_w_videos_cit)\n",
    "    ]\n",
    ")"
   ]
  },
  {
   "cell_type": "code",
   "execution_count": 7,
   "metadata": {},
   "outputs": [
    {
     "name": "stdout",
     "output_type": "stream",
     "text": [
      "2019\tS = -3.968070\tp = 0.000073\n",
      "2014\tS = -6.164704\tp = 0.000000\n"
     ]
    }
   ],
   "source": [
    "_s2019, _p2019 = stats.ttest_ind(\n",
    "    _2019_wo_videos_cit,\n",
    "    _2019_w_videos_cit\n",
    ")\n",
    "print(\"2019\\tS = %f\\tp = %f\"%(_s2019, _p2019))\n",
    "\n",
    "_s2014, _p2014 = stats.ttest_ind(\n",
    "    _2014_wo_videos_cit,\n",
    "    _2014_w_videos_cit\n",
    ")\n",
    "print(\"2014\\tS = %f\\tp = %f\"%(_s2014, _p2014))"
   ]
  },
  {
   "cell_type": "code",
   "execution_count": 8,
   "metadata": {},
   "outputs": [
    {
     "name": "stderr",
     "output_type": "stream",
     "text": [
      "/home/hweem/git/mastersdegree/ytcrawl/ytcrawl0/lib/python3.5/site-packages/pandas/core/ops.py:1649: FutureWarning: elementwise comparison failed; returning scalar instead, but in the future will perform elementwise comparison\n",
      "  result = method(y)\n",
      "/home/hweem/git/mastersdegree/ytcrawl/ytcrawl0/lib/python3.5/site-packages/ipykernel_launcher.py:1: UserWarning: Boolean Series key will be reindexed to match DataFrame index.\n",
      "  \"\"\"Entry point for launching an IPython kernel.\n",
      "/home/hweem/git/mastersdegree/ytcrawl/ytcrawl0/lib/python3.5/site-packages/ipykernel_launcher.py:2: UserWarning: Boolean Series key will be reindexed to match DataFrame index.\n",
      "  \n",
      "/home/hweem/git/mastersdegree/ytcrawl/ytcrawl0/lib/python3.5/site-packages/ipykernel_launcher.py:4: UserWarning: Boolean Series key will be reindexed to match DataFrame index.\n",
      "  after removing the cwd from sys.path.\n",
      "/home/hweem/git/mastersdegree/ytcrawl/ytcrawl0/lib/python3.5/site-packages/ipykernel_launcher.py:5: UserWarning: Boolean Series key will be reindexed to match DataFrame index.\n",
      "  \"\"\"\n"
     ]
    },
    {
     "data": {
      "text/plain": [
       "{'boxes': [<matplotlib.lines.Line2D at 0x7f06e9fb3eb8>,\n",
       "  <matplotlib.lines.Line2D at 0x7f06e9fbf3c8>,\n",
       "  <matplotlib.lines.Line2D at 0x7f06e9f51b00>,\n",
       "  <matplotlib.lines.Line2D at 0x7f06e9f55278>],\n",
       " 'caps': [<matplotlib.lines.Line2D at 0x7f06e9fb96a0>,\n",
       "  <matplotlib.lines.Line2D at 0x7f06e9fb99e8>,\n",
       "  <matplotlib.lines.Line2D at 0x7f06e9fbfdd8>,\n",
       "  <matplotlib.lines.Line2D at 0x7f06e9f51160>,\n",
       "  <matplotlib.lines.Line2D at 0x7f06e9f4d550>,\n",
       "  <matplotlib.lines.Line2D at 0x7f06e9f4d898>,\n",
       "  <matplotlib.lines.Line2D at 0x7f06e9f55c88>,\n",
       "  <matplotlib.lines.Line2D at 0x7f06e9f55fd0>],\n",
       " 'fliers': [<matplotlib.lines.Line2D at 0x7f06e9fbf0b8>,\n",
       "  <matplotlib.lines.Line2D at 0x7f06e9f517f0>,\n",
       "  <matplotlib.lines.Line2D at 0x7f06e9f4df28>,\n",
       "  <matplotlib.lines.Line2D at 0x7f06e9f5d6a0>],\n",
       " 'means': [],\n",
       " 'medians': [<matplotlib.lines.Line2D at 0x7f06e9fb9d30>,\n",
       "  <matplotlib.lines.Line2D at 0x7f06e9f514a8>,\n",
       "  <matplotlib.lines.Line2D at 0x7f06e9f4dbe0>,\n",
       "  <matplotlib.lines.Line2D at 0x7f06e9f5d358>],\n",
       " 'whiskers': [<matplotlib.lines.Line2D at 0x7f06e9fb3fd0>,\n",
       "  <matplotlib.lines.Line2D at 0x7f06e9fb9358>,\n",
       "  <matplotlib.lines.Line2D at 0x7f06e9fbf748>,\n",
       "  <matplotlib.lines.Line2D at 0x7f06e9fbfa90>,\n",
       "  <matplotlib.lines.Line2D at 0x7f06e9f51e80>,\n",
       "  <matplotlib.lines.Line2D at 0x7f06e9f4d208>,\n",
       "  <matplotlib.lines.Line2D at 0x7f06e9f555f8>,\n",
       "  <matplotlib.lines.Line2D at 0x7f06e9f55940>]}"
      ]
     },
     "execution_count": 8,
     "metadata": {},
     "output_type": "execute_result"
    },
    {
     "data": {
      "image/png": "[encoded data removed]",
      "text/plain": [
       "<Figure size 720x432 with 1 Axes>"
      ]
     },
     "metadata": {
      "needs_background": "light"
     },
     "output_type": "display_data"
    }
   ],
   "source": [
    "_2019_wo_videos_aas = np.log10(df1[~df1.DOI.isin(_idx_papers_2019)][df1[\"AAS\"] != \"None\"][\"AAS\"].dropna().astype(int))\n",
    "_2019_w_videos_aas = np.log10(df1[df1.DOI.isin(_idx_papers_2019)][df1[\"AAS\"] != \"None\"][\"AAS\"].dropna().astype(int))\n",
    "\n",
    "_2014_wo_videos_aas = np.log10(df3[~df3.DOI.isin(_idx_papers_2014)][df3[\"AAS\"] != \"None\"][\"AAS\"].dropna().astype(int))\n",
    "_2014_w_videos_aas = np.log10(df3[df3.DOI.isin(_idx_papers_2014)][df3[\"AAS\"] != \"None\"][\"AAS\"].dropna().astype(int))\n",
    "\n",
    "plt.figure(figsize=(10, 6))\n",
    "plt.title(\"AAS\")\n",
    "# plt.yscale(\"log\")\n",
    "# plt.ylim([0, 200])\n",
    "plt.ylabel(\"log10(AAS)\")\n",
    "plt.boxplot([\n",
    "    _2019_wo_videos_aas,\n",
    "    _2019_w_videos_aas,\n",
    "    _2014_wo_videos_aas,\n",
    "    _2014_w_videos_aas\n",
    "],\n",
    "    labels=[\n",
    "        \"2019 w/o videos\\n(N=%s)\"%len(_2019_wo_videos_aas),\n",
    "        \"2019 w/ videos\\n(N=%s)\"%len(_2019_w_videos_aas),\n",
    "        \"2014 w/o videos\\n(N=%s)\"%len(_2014_wo_videos_aas),\n",
    "        \"2014 w/ videos\\n(N=%s)\"%len(_2014_w_videos_aas)\n",
    "    ]\n",
    ")"
   ]
  },
  {
   "cell_type": "code",
   "execution_count": 9,
   "metadata": {},
   "outputs": [
    {
     "name": "stdout",
     "output_type": "stream",
     "text": [
      "2019\tS = -23.744003\tp = 0.000000\n",
      "2014\tS = -16.502451\tp = 0.000000\n"
     ]
    }
   ],
   "source": [
    "_s2019, _p2019 = stats.ttest_ind(\n",
    "    _2019_wo_videos_aas,\n",
    "    _2019_w_videos_aas\n",
    ")\n",
    "print(\"2019\\tS = %f\\tp = %f\"%(_s2019, _p2019))\n",
    "\n",
    "_s2014, _p2014 = stats.ttest_ind(\n",
    "    _2014_wo_videos_aas,\n",
    "    _2014_w_videos_aas\n",
    ")\n",
    "print(\"2014\\tS = %f\\tp = %f\"%(_s2014, _p2014))"
   ]
  },
  {
   "cell_type": "markdown",
   "metadata": {},
   "source": [
    "comp분야와의 공통점: 비디오의 영향은 AAS가 Citation에서보다 더 즉발적인 효과가 나타남"
   ]
  },
  {
   "cell_type": "markdown",
   "metadata": {},
   "source": [
    "comp분야와의 차이점:\n",
    "1.comp의 2014, 2017, 2019의 AAS분포는 거의 비슷하지만, life+earth에선 2019 AAS가 2014 AAS보다 높게 형성되어있음\n",
    "2.비디오 논문 수에 있어서, 2019가 2014보다 압도적으로 많음\n",
    "-> 두 차이점 모두, 해당 분야의 대중적 인지도가 2014년 이후로 크게 증가한 증거?\n",
    "3.2019 Citation에서 비디오의 유무는, comp보다 life에서 더 큰 유의성을 지님 (p=0.166(comp), 0.000(life)). 단 대상 논문이 comp에선 상위 5%, life에선 상위 1%이기 때문."
   ]
  },
  {
   "cell_type": "markdown",
   "metadata": {},
   "source": [
    "논문수가 비슷하면 상관없나? <- 비슷하지 않음..."
   ]
  },
  {
   "cell_type": "code",
   "execution_count": 10,
   "metadata": {},
   "outputs": [
    {
     "name": "stderr",
     "output_type": "stream",
     "text": [
      "/home/hweem/git/mastersdegree/ytcrawl/ytcrawl0/lib/python3.5/site-packages/ipykernel_launcher.py:2: UserWarning: Boolean Series key will be reindexed to match DataFrame index.\n",
      "  \n",
      "/home/hweem/git/mastersdegree/ytcrawl/ytcrawl0/lib/python3.5/site-packages/ipykernel_launcher.py:4: UserWarning: Boolean Series key will be reindexed to match DataFrame index.\n",
      "  after removing the cwd from sys.path.\n"
     ]
    },
    {
     "data": {
      "text/plain": [
       "{'boxes': [<matplotlib.lines.Line2D at 0x7f06e9f202e8>,\n",
       "  <matplotlib.lines.Line2D at 0x7f06e9f277b8>,\n",
       "  <matplotlib.lines.Line2D at 0x7f06e9f2fef0>,\n",
       "  <matplotlib.lines.Line2D at 0x7f06e9f3c668>],\n",
       " 'caps': [<matplotlib.lines.Line2D at 0x7f06e9f20a90>,\n",
       "  <matplotlib.lines.Line2D at 0x7f06e9f20dd8>,\n",
       "  <matplotlib.lines.Line2D at 0x7f06e9f2f208>,\n",
       "  <matplotlib.lines.Line2D at 0x7f06e9f2f550>,\n",
       "  <matplotlib.lines.Line2D at 0x7f06e9f34940>,\n",
       "  <matplotlib.lines.Line2D at 0x7f06e9f34c88>,\n",
       "  <matplotlib.lines.Line2D at 0x7f06e9f420b8>,\n",
       "  <matplotlib.lines.Line2D at 0x7f06e9f42400>],\n",
       " 'fliers': [<matplotlib.lines.Line2D at 0x7f06e9f274a8>,\n",
       "  <matplotlib.lines.Line2D at 0x7f06e9f2fbe0>,\n",
       "  <matplotlib.lines.Line2D at 0x7f06e9f3c358>,\n",
       "  <matplotlib.lines.Line2D at 0x7f06e9f42a90>],\n",
       " 'means': [],\n",
       " 'medians': [<matplotlib.lines.Line2D at 0x7f06e9f27160>,\n",
       "  <matplotlib.lines.Line2D at 0x7f06e9f2f898>,\n",
       "  <matplotlib.lines.Line2D at 0x7f06e9f34fd0>,\n",
       "  <matplotlib.lines.Line2D at 0x7f06e9f42748>],\n",
       " 'whiskers': [<matplotlib.lines.Line2D at 0x7f06e9f20400>,\n",
       "  <matplotlib.lines.Line2D at 0x7f06e9f20748>,\n",
       "  <matplotlib.lines.Line2D at 0x7f06e9f27b38>,\n",
       "  <matplotlib.lines.Line2D at 0x7f06e9f27e80>,\n",
       "  <matplotlib.lines.Line2D at 0x7f06e9f342b0>,\n",
       "  <matplotlib.lines.Line2D at 0x7f06e9f345f8>,\n",
       "  <matplotlib.lines.Line2D at 0x7f06e9f3c9e8>,\n",
       "  <matplotlib.lines.Line2D at 0x7f06e9f3cd30>]}"
      ]
     },
     "execution_count": 10,
     "metadata": {},
     "output_type": "execute_result"
    },
    {
     "data": {
      "image/png": "[encoded data removed]",
      "text/plain": [
       "<Figure size 864x432 with 1 Axes>"
      ]
     },
     "metadata": {
      "needs_background": "light"
     },
     "output_type": "display_data"
    }
   ],
   "source": [
    "# _2019_90_wo_videos_cit = np.log10(df1[~df1.DOI.isin(_idx_papers_2019_90)][df1[\"Cited by\"] != \"None\"][\"Cited by\"].dropna().astype(int))\n",
    "_2019_90_w_videos_cit = np.log10(df1[df1.DOI.isin(_idx_papers_2019_90)][df1[\"Cited by\"] != \"None\"][\"Cited by\"].dropna().astype(int))\n",
    "# _2014_90_wo_videos_cit = np.log10(df3[~df3.DOI.isin(_idx_papers_2014_90)][df3[\"Cited by\"] != \"None\"][\"Cited by\"].dropna().astype(int))\n",
    "_2014_90_w_videos_cit = np.log10(df3[df3.DOI.isin(_idx_papers_2014_90)][df3[\"Cited by\"] != \"None\"][\"Cited by\"].dropna().astype(int))\n",
    "\n",
    "plt.figure(figsize=(12, 6))\n",
    "plt.title(\"Citation-90\")\n",
    "# plt.yscale(\"log\")\n",
    "# plt.ylim([0, 200])\n",
    "plt.ylabel(\"log10(citation)\")\n",
    "plt.boxplot([\n",
    "    _2019_wo_videos_cit,\n",
    "    _2019_90_w_videos_cit,\n",
    "    _2014_wo_videos_cit,\n",
    "    _2014_90_w_videos_cit\n",
    "],\n",
    "    labels=[\n",
    "        \"2019 w/o videos-90\\n(N=%s)\"%len(_2019_wo_videos_cit),\n",
    "        \"2019 w/ videos-90\\n(N=%s)\"%len(_2019_90_w_videos_cit),\n",
    "        \"2014 w/o videos-90\\n(N=%s)\"%len(_2014_wo_videos_cit),\n",
    "        \"2014 w/ videos-90\\n(N=%s)\"%len(_2014_90_w_videos_cit)\n",
    "    ]\n",
    ")"
   ]
  },
  {
   "cell_type": "code",
   "execution_count": 11,
   "metadata": {},
   "outputs": [
    {
     "name": "stdout",
     "output_type": "stream",
     "text": [
      "2019\tS = -3.431868\tp = 0.000603\n",
      "2014\tS = -2.044611\tp = 0.040928\n"
     ]
    }
   ],
   "source": [
    "_s2019, _p2019 = stats.ttest_ind(\n",
    "    _2019_wo_videos_cit,\n",
    "    _2019_90_w_videos_cit\n",
    ")\n",
    "print(\"2019\\tS = %f\\tp = %f\"%(_s2019, _p2019))\n",
    "\n",
    "_s2014, _p2014 = stats.ttest_ind(\n",
    "    _2014_wo_videos_cit,\n",
    "    _2014_90_w_videos_cit\n",
    ")\n",
    "print(\"2014\\tS = %f\\tp = %f\"%(_s2014, _p2014))"
   ]
  },
  {
   "cell_type": "code",
   "execution_count": 12,
   "metadata": {},
   "outputs": [
    {
     "name": "stderr",
     "output_type": "stream",
     "text": [
      "/home/hweem/git/mastersdegree/ytcrawl/ytcrawl0/lib/python3.5/site-packages/ipykernel_launcher.py:2: UserWarning: Boolean Series key will be reindexed to match DataFrame index.\n",
      "  \n",
      "/home/hweem/git/mastersdegree/ytcrawl/ytcrawl0/lib/python3.5/site-packages/ipykernel_launcher.py:4: UserWarning: Boolean Series key will be reindexed to match DataFrame index.\n",
      "  after removing the cwd from sys.path.\n"
     ]
    },
    {
     "data": {
      "text/plain": [
       "{'boxes': [<matplotlib.lines.Line2D at 0x7f06e9effc88>,\n",
       "  <matplotlib.lines.Line2D at 0x7f06e9e8c198>,\n",
       "  <matplotlib.lines.Line2D at 0x7f06e9e928d0>,\n",
       "  <matplotlib.lines.Line2D at 0x7f06e9ea5048>],\n",
       " 'caps': [<matplotlib.lines.Line2D at 0x7f06e9f05470>,\n",
       "  <matplotlib.lines.Line2D at 0x7f06e9f057b8>,\n",
       "  <matplotlib.lines.Line2D at 0x7f06e9e8cba8>,\n",
       "  <matplotlib.lines.Line2D at 0x7f06e9e8cef0>,\n",
       "  <matplotlib.lines.Line2D at 0x7f06e9e99320>,\n",
       "  <matplotlib.lines.Line2D at 0x7f06e9e99668>,\n",
       "  <matplotlib.lines.Line2D at 0x7f06e9ea5a58>,\n",
       "  <matplotlib.lines.Line2D at 0x7f06e9ea5da0>],\n",
       " 'fliers': [<matplotlib.lines.Line2D at 0x7f06e9f05e48>,\n",
       "  <matplotlib.lines.Line2D at 0x7f06e9e925c0>,\n",
       "  <matplotlib.lines.Line2D at 0x7f06e9e99cf8>,\n",
       "  <matplotlib.lines.Line2D at 0x7f06e9ead470>],\n",
       " 'means': [],\n",
       " 'medians': [<matplotlib.lines.Line2D at 0x7f06e9f05b00>,\n",
       "  <matplotlib.lines.Line2D at 0x7f06e9e92278>,\n",
       "  <matplotlib.lines.Line2D at 0x7f06e9e999b0>,\n",
       "  <matplotlib.lines.Line2D at 0x7f06e9ead128>],\n",
       " 'whiskers': [<matplotlib.lines.Line2D at 0x7f06e9effda0>,\n",
       "  <matplotlib.lines.Line2D at 0x7f06e9f05128>,\n",
       "  <matplotlib.lines.Line2D at 0x7f06e9e8c518>,\n",
       "  <matplotlib.lines.Line2D at 0x7f06e9e8c860>,\n",
       "  <matplotlib.lines.Line2D at 0x7f06e9e92c50>,\n",
       "  <matplotlib.lines.Line2D at 0x7f06e9e92f98>,\n",
       "  <matplotlib.lines.Line2D at 0x7f06e9ea53c8>,\n",
       "  <matplotlib.lines.Line2D at 0x7f06e9ea5710>]}"
      ]
     },
     "execution_count": 12,
     "metadata": {},
     "output_type": "execute_result"
    },
    {
     "data": {
      "image/png": "[encoded data removed]",
      "text/plain": [
       "<Figure size 864x432 with 1 Axes>"
      ]
     },
     "metadata": {
      "needs_background": "light"
     },
     "output_type": "display_data"
    }
   ],
   "source": [
    "# _2019_90_wo_videos_aas = np.log10(df1[~df1.DOI.isin(_idx_papers_2019_90)][df1[\"AAS\"] != \"None\"][\"AAS\"].dropna().astype(int))\n",
    "_2019_90_w_videos_aas = np.log10(df1[df1.DOI.isin(_idx_papers_2019_90)][df1[\"AAS\"] != \"None\"][\"AAS\"].dropna().astype(int))\n",
    "# _2014_90_wo_videos_aas = np.log10(df3[~df3.DOI.isin(_idx_papers_2014_90)][df3[\"AAS\"] != \"None\"][\"AAS\"].dropna().astype(int))\n",
    "_2014_90_w_videos_aas = np.log10(df3[df3.DOI.isin(_idx_papers_2014_90)][df3[\"AAS\"] != \"None\"][\"AAS\"].dropna().astype(int))\n",
    "\n",
    "plt.figure(figsize=(12, 6))\n",
    "plt.title(\"AAS-90\")\n",
    "# plt.yscale(\"log\")\n",
    "# plt.ylim([0, 200])\n",
    "plt.ylabel(\"log10(AAS)\")\n",
    "plt.boxplot([\n",
    "    _2019_wo_videos_aas,\n",
    "    _2019_90_w_videos_aas,\n",
    "    _2014_wo_videos_aas,\n",
    "    _2014_90_w_videos_aas\n",
    "],\n",
    "    labels=[\n",
    "        \"2019 w/o videos\\n(N=%s)\"%len(_2019_wo_videos_aas),\n",
    "        \"2019 w/ videos-90\\n(N=%s)\"%len(_2019_90_w_videos_aas),\n",
    "        \"2014 w/o videos\\n(N=%s)\"%len(_2014_wo_videos_aas),\n",
    "        \"2014 w/ videos-90\\n(N=%s)\"%len(_2014_90_w_videos_aas)\n",
    "    ]\n",
    ")"
   ]
  },
  {
   "cell_type": "code",
   "execution_count": 13,
   "metadata": {},
   "outputs": [
    {
     "name": "stdout",
     "output_type": "stream",
     "text": [
      "2019\tS = -21.844594\tp = 0.000000\n",
      "2014\tS = -8.555980\tp = 0.000000\n"
     ]
    }
   ],
   "source": [
    "_s2019, _p2019 = stats.ttest_ind(\n",
    "    _2019_wo_videos_aas,\n",
    "    _2019_90_w_videos_aas\n",
    ")\n",
    "print(\"2019\\tS = %f\\tp = %f\"%(_s2019, _p2019))\n",
    "\n",
    "_s2014, _p2014 = stats.ttest_ind(\n",
    "    _2014_wo_videos_aas,\n",
    "    _2014_90_w_videos_aas\n",
    ")\n",
    "print(\"2014\\tS = %f\\tp = %f\"%(_s2014, _p2014))"
   ]
  },
  {
   "cell_type": "markdown",
   "metadata": {},
   "source": [
    "comp와의 차이점:\n",
    "1.comp에선 과거일수록 초기 비디오의 피인용수에 대한 영향력의 유의성이 커졌으나, life에선 반대(p=0.001(2019), 0.041(2014)) <- 2014 초기 비디오 논문 수가 적어서(19) 그럴수도.\n",
    "2.life에선 2019 초기 비디오의 피인용수 영향력이 유의함.(p=0.001(life), 0.782(comp))\n",
    "3.comp에선 과거일수록 초기 비디오의 AAS에 대한 영향력의 유의성이 떨어졌으나, life에서는 그렇지 않음."
   ]
  },
  {
   "cell_type": "code",
   "execution_count": 14,
   "metadata": {},
   "outputs": [
    {
     "name": "stdout",
     "output_type": "stream",
     "text": [
      "\tCommand set: SELECT `idx_paper`, `publishedAt` FROM `scopus_videos_2019_life`\n",
      "\tsql: SELECT `idx_paper`, `publishedAt` FROM `scopus_videos_2019_life`;\n",
      "\tCommand set: SELECT `idx_paper`, `publishedAt` FROM `scopus_videos_2019_life`\n",
      "\tsql: SELECT `idx_paper`, `publishedAt` FROM `scopus_videos_2019_life`;\n",
      "\tCommand set: SELECT `idx_paper`, `publishedAt` FROM `scopus_videos_2019_life`\n",
      "\tsql: SELECT `idx_paper`, `publishedAt` FROM `scopus_videos_2019_life`;\n",
      "\tCommand set: SELECT `idx_paper`, `publishedAt` FROM `scopus_videos_2019_life`\n",
      "\tsql: SELECT `idx_paper`, `publishedAt` FROM `scopus_videos_2019_life`;\n",
      "\tCommand set: SELECT `idx_paper`, `publishedAt` FROM `scopus_videos_2019_life`\n",
      "\tsql: SELECT `idx_paper`, `publishedAt` FROM `scopus_videos_2019_life`;\n",
      "\tCommand set: SELECT `idx_paper`, `publishedAt` FROM `scopus_videos_2019_life`\n",
      "\tsql: SELECT `idx_paper`, `publishedAt` FROM `scopus_videos_2019_life`;\n",
      "134 99 13 26 19 22\n",
      "\tCommand set: SELECT `idx_paper`, `publishedAt` FROM `scopus_videos_2014_life`\n",
      "\tsql: SELECT `idx_paper`, `publishedAt` FROM `scopus_videos_2014_life`;\n",
      "\tCommand set: SELECT `idx_paper`, `publishedAt` FROM `scopus_videos_2014_life`\n",
      "\tsql: SELECT `idx_paper`, `publishedAt` FROM `scopus_videos_2014_life`;\n",
      "\tCommand set: SELECT `idx_paper`, `publishedAt` FROM `scopus_videos_2014_life`\n",
      "\tsql: SELECT `idx_paper`, `publishedAt` FROM `scopus_videos_2014_life`;\n",
      "\tCommand set: SELECT `idx_paper`, `publishedAt` FROM `scopus_videos_2014_life`\n",
      "\tsql: SELECT `idx_paper`, `publishedAt` FROM `scopus_videos_2014_life`;\n",
      "\tCommand set: SELECT `idx_paper`, `publishedAt` FROM `scopus_videos_2014_life`\n",
      "\tsql: SELECT `idx_paper`, `publishedAt` FROM `scopus_videos_2014_life`;\n",
      "\tCommand set: SELECT `idx_paper`, `publishedAt` FROM `scopus_videos_2014_life`\n",
      "\tsql: SELECT `idx_paper`, `publishedAt` FROM `scopus_videos_2014_life`;\n",
      "78 18 1 1 2 61\n"
     ]
    }
   ],
   "source": [
    "_idx_papers_2019 = get_dois_with_videos_within_days_from_publish(df1, \"scopus_videos_2019_life\")\n",
    "_idx_papers_2019_90 = get_dois_with_videos_within_days_from_publish(df1, \"scopus_videos_2019_life\", None, 90)\n",
    "_idx_papers_2019_180 = get_dois_with_videos_within_days_from_publish(df1, \"scopus_videos_2019_life\", 90, 180)\n",
    "_idx_papers_2019_270 = get_dois_with_videos_within_days_from_publish(df1, \"scopus_videos_2019_life\", 180, 270)\n",
    "_idx_papers_2019_360 = get_dois_with_videos_within_days_from_publish(df1, \"scopus_videos_2019_life\", 270, 360)\n",
    "_idx_papers_2019_rest = get_dois_with_videos_within_days_from_publish(df1, \"scopus_videos_2019_life\", 360, None)\n",
    "print(len(_idx_papers_2019), len(_idx_papers_2019_90), len(_idx_papers_2019_180), len(_idx_papers_2019_270), len(_idx_papers_2019_360), len(_idx_papers_2019_rest))\n",
    "\n",
    "_idx_papers_2014 = get_dois_with_videos_within_days_from_publish(df3, \"scopus_videos_2014_life\")\n",
    "_idx_papers_2014_90 = get_dois_with_videos_within_days_from_publish(df3, \"scopus_videos_2014_life\", None, 90)\n",
    "_idx_papers_2014_180 = get_dois_with_videos_within_days_from_publish(df3, \"scopus_videos_2014_life\", 90, 180)\n",
    "_idx_papers_2014_270 = get_dois_with_videos_within_days_from_publish(df3, \"scopus_videos_2014_life\", 180, 270)\n",
    "_idx_papers_2014_360 = get_dois_with_videos_within_days_from_publish(df3, \"scopus_videos_2014_life\", 270, 360)\n",
    "_idx_papers_2014_rest = get_dois_with_videos_within_days_from_publish(df3, \"scopus_videos_2014_life\", 360, None)\n",
    "print(len(_idx_papers_2014), len(_idx_papers_2014_90), len(_idx_papers_2014_180), len(_idx_papers_2014_270), len(_idx_papers_2014_360), len(_idx_papers_2014_rest))"
   ]
  },
  {
   "cell_type": "code",
   "execution_count": 15,
   "metadata": {},
   "outputs": [
    {
     "name": "stderr",
     "output_type": "stream",
     "text": [
      "/home/hweem/git/mastersdegree/ytcrawl/ytcrawl0/lib/python3.5/site-packages/ipykernel_launcher.py:1: UserWarning: Boolean Series key will be reindexed to match DataFrame index.\n",
      "  \"\"\"Entry point for launching an IPython kernel.\n",
      "/home/hweem/git/mastersdegree/ytcrawl/ytcrawl0/lib/python3.5/site-packages/ipykernel_launcher.py:2: UserWarning: Boolean Series key will be reindexed to match DataFrame index.\n",
      "  \n",
      "/home/hweem/git/mastersdegree/ytcrawl/ytcrawl0/lib/python3.5/site-packages/ipykernel_launcher.py:3: UserWarning: Boolean Series key will be reindexed to match DataFrame index.\n",
      "  This is separate from the ipykernel package so we can avoid doing imports until\n",
      "/home/hweem/git/mastersdegree/ytcrawl/ytcrawl0/lib/python3.5/site-packages/ipykernel_launcher.py:4: UserWarning: Boolean Series key will be reindexed to match DataFrame index.\n",
      "  after removing the cwd from sys.path.\n",
      "/home/hweem/git/mastersdegree/ytcrawl/ytcrawl0/lib/python3.5/site-packages/ipykernel_launcher.py:5: UserWarning: Boolean Series key will be reindexed to match DataFrame index.\n",
      "  \"\"\"\n",
      "/home/hweem/git/mastersdegree/ytcrawl/ytcrawl0/lib/python3.5/site-packages/ipykernel_launcher.py:6: UserWarning: Boolean Series key will be reindexed to match DataFrame index.\n",
      "  \n"
     ]
    },
    {
     "data": {
      "text/plain": [
       "{'boxes': [<matplotlib.lines.Line2D at 0x7f06e9bf57b8>,\n",
       "  <matplotlib.lines.Line2D at 0x7f06e9bfcc88>,\n",
       "  <matplotlib.lines.Line2D at 0x7f06e9b8b400>,\n",
       "  <matplotlib.lines.Line2D at 0x7f06e9b93b38>,\n",
       "  <matplotlib.lines.Line2D at 0x7f06e9b9e2b0>,\n",
       "  <matplotlib.lines.Line2D at 0x7f06e9ba79e8>],\n",
       " 'caps': [<matplotlib.lines.Line2D at 0x7f06e9bf5f60>,\n",
       "  <matplotlib.lines.Line2D at 0x7f06e9bfc2e8>,\n",
       "  <matplotlib.lines.Line2D at 0x7f06e9c046d8>,\n",
       "  <matplotlib.lines.Line2D at 0x7f06e9c04a20>,\n",
       "  <matplotlib.lines.Line2D at 0x7f06e9b8be10>,\n",
       "  <matplotlib.lines.Line2D at 0x7f06e9b93198>,\n",
       "  <matplotlib.lines.Line2D at 0x7f06e9b98588>,\n",
       "  <matplotlib.lines.Line2D at 0x7f06e9b988d0>,\n",
       "  <matplotlib.lines.Line2D at 0x7f06e9b9ecc0>,\n",
       "  <matplotlib.lines.Line2D at 0x7f06e9ba7048>,\n",
       "  <matplotlib.lines.Line2D at 0x7f06e9baf438>,\n",
       "  <matplotlib.lines.Line2D at 0x7f06e9baf780>],\n",
       " 'fliers': [<matplotlib.lines.Line2D at 0x7f06e9bfc978>,\n",
       "  <matplotlib.lines.Line2D at 0x7f06e9b8b0f0>,\n",
       "  <matplotlib.lines.Line2D at 0x7f06e9b93828>,\n",
       "  <matplotlib.lines.Line2D at 0x7f06e9b98f60>,\n",
       "  <matplotlib.lines.Line2D at 0x7f06e9ba76d8>,\n",
       "  <matplotlib.lines.Line2D at 0x7f06e9bafe10>],\n",
       " 'means': [],\n",
       " 'medians': [<matplotlib.lines.Line2D at 0x7f06e9bfc630>,\n",
       "  <matplotlib.lines.Line2D at 0x7f06e9c04d68>,\n",
       "  <matplotlib.lines.Line2D at 0x7f06e9b934e0>,\n",
       "  <matplotlib.lines.Line2D at 0x7f06e9b98c18>,\n",
       "  <matplotlib.lines.Line2D at 0x7f06e9ba7390>,\n",
       "  <matplotlib.lines.Line2D at 0x7f06e9bafac8>],\n",
       " 'whiskers': [<matplotlib.lines.Line2D at 0x7f06e9bf58d0>,\n",
       "  <matplotlib.lines.Line2D at 0x7f06e9bf5c18>,\n",
       "  <matplotlib.lines.Line2D at 0x7f06e9c04048>,\n",
       "  <matplotlib.lines.Line2D at 0x7f06e9c04390>,\n",
       "  <matplotlib.lines.Line2D at 0x7f06e9b8b780>,\n",
       "  <matplotlib.lines.Line2D at 0x7f06e9b8bac8>,\n",
       "  <matplotlib.lines.Line2D at 0x7f06e9b93eb8>,\n",
       "  <matplotlib.lines.Line2D at 0x7f06e9b98240>,\n",
       "  <matplotlib.lines.Line2D at 0x7f06e9b9e630>,\n",
       "  <matplotlib.lines.Line2D at 0x7f06e9b9e978>,\n",
       "  <matplotlib.lines.Line2D at 0x7f06e9ba7d68>,\n",
       "  <matplotlib.lines.Line2D at 0x7f06e9baf0f0>]}"
      ]
     },
     "execution_count": 15,
     "metadata": {},
     "output_type": "execute_result"
    },
    {
     "data": {
      "image/png": "[encoded data removed]",
      "text/plain": [
       "<Figure size 864x432 with 1 Axes>"
      ]
     },
     "metadata": {
      "needs_background": "light"
     },
     "output_type": "display_data"
    }
   ],
   "source": [
    "_2014_wo_videos_cit = np.log10(df3[~df3.DOI.isin(_idx_papers_2014)][df3[\"Cited by\"] != \"None\"][\"Cited by\"].dropna().astype(int))\n",
    "_2014_90_w_videos_cit = np.log10(df3[df3.DOI.isin(_idx_papers_2014_90)][df3[\"Cited by\"] != \"None\"][\"Cited by\"].dropna().astype(int))\n",
    "_2014_180_w_videos_cit = np.log10(df3[df3.DOI.isin(_idx_papers_2014_180)][df3[\"Cited by\"] != \"None\"][\"Cited by\"].dropna().astype(int))\n",
    "_2014_270_w_videos_cit = np.log10(df3[df3.DOI.isin(_idx_papers_2014_270)][df3[\"Cited by\"] != \"None\"][\"Cited by\"].dropna().astype(int))\n",
    "_2014_360_w_videos_cit = np.log10(df3[df3.DOI.isin(_idx_papers_2014_360)][df3[\"Cited by\"] != \"None\"][\"Cited by\"].dropna().astype(int))\n",
    "_2014_rest_w_videos_cit = np.log10(df3[df3.DOI.isin(_idx_papers_2014_rest)][df3[\"Cited by\"] != \"None\"][\"Cited by\"].dropna().astype(int))\n",
    "\n",
    "plt.figure(figsize=(12, 6))\n",
    "plt.title(\"Citation by video release date\")\n",
    "# plt.yscale(\"log\")\n",
    "# plt.ylim([0, 200])\n",
    "plt.ylabel(\"log10(Citation)\")\n",
    "plt.boxplot([\n",
    "    _2014_wo_videos_cit,\n",
    "    _2014_90_w_videos_cit,\n",
    "    _2014_180_w_videos_cit,\n",
    "    _2014_270_w_videos_cit,\n",
    "    _2014_360_w_videos_cit,\n",
    "    _2014_rest_w_videos_cit\n",
    "],\n",
    "    labels=[\n",
    "        \"2014 w/o videos\\n(N=%s)\"%len(_2014_wo_videos_cit),\n",
    "        \"2014 w/ videos-90\\n(N=%s)\"%len(_2014_90_w_videos_cit),\n",
    "        \"2014 w/ videos-180\\n(N=%s)\"%len(_2014_180_w_videos_cit),\n",
    "        \"2014 w/ videos-270\\n(N=%s)\"%len(_2014_270_w_videos_cit),\n",
    "        \"2014 w/ videos-360\\n(N=%s)\"%len(_2014_360_w_videos_cit),\n",
    "        \"2014 w/ videos-rest\\n(N=%s)\"%len(_2014_rest_w_videos_cit)\n",
    "    ]\n",
    ")"
   ]
  },
  {
   "cell_type": "code",
   "execution_count": 16,
   "metadata": {},
   "outputs": [
    {
     "name": "stdout",
     "output_type": "stream",
     "text": [
      "2014-90\tS = -2.044611\tp = 0.040928\n",
      "2014-180\tS = nan\tp = nan\n",
      "2014-270\tS = nan\tp = nan\n",
      "2014-360\tS = -0.954897\tp = 0.339661\n",
      "2014-rest\tS = -5.862861\tp = 0.000000\n"
     ]
    },
    {
     "name": "stderr",
     "output_type": "stream",
     "text": [
      "/home/hweem/git/mastersdegree/ytcrawl/ytcrawl0/lib/python3.5/site-packages/numpy/core/fromnumeric.py:3584: RuntimeWarning: Degrees of freedom <= 0 for slice\n",
      "  **kwargs)\n",
      "/home/hweem/git/mastersdegree/ytcrawl/ytcrawl0/lib/python3.5/site-packages/numpy/core/_methods.py:209: RuntimeWarning: invalid value encountered in double_scalars\n",
      "  ret = ret.dtype.type(ret / rcount)\n"
     ]
    }
   ],
   "source": [
    "_s2014, _p2014 = stats.ttest_ind(\n",
    "    _2014_wo_videos_cit,\n",
    "    _2014_90_w_videos_cit\n",
    ")\n",
    "print(\"2014-90\\tS = %f\\tp = %f\"%(_s2014, _p2014))\n",
    "_s2014, _p2014 = stats.ttest_ind(\n",
    "    _2014_wo_videos_cit,\n",
    "    _2014_180_w_videos_cit\n",
    ")\n",
    "print(\"2014-180\\tS = %f\\tp = %f\"%(_s2014, _p2014))\n",
    "_s2014, _p2014 = stats.ttest_ind(\n",
    "    _2014_wo_videos_cit,\n",
    "    _2014_270_w_videos_cit\n",
    ")\n",
    "print(\"2014-270\\tS = %f\\tp = %f\"%(_s2014, _p2014))\n",
    "_s2014, _p2014 = stats.ttest_ind(\n",
    "    _2014_wo_videos_cit,\n",
    "    _2014_360_w_videos_cit\n",
    ")\n",
    "print(\"2014-360\\tS = %f\\tp = %f\"%(_s2014, _p2014))\n",
    "_s2014, _p2014 = stats.ttest_ind(\n",
    "    _2014_wo_videos_cit,\n",
    "    _2014_rest_w_videos_cit\n",
    ")\n",
    "print(\"2014-rest\\tS = %f\\tp = %f\"%(_s2014, _p2014))"
   ]
  },
  {
   "cell_type": "markdown",
   "metadata": {},
   "source": [
    "2014 comp와의 공통점: 초창기(90)와 상당히 나중 비디오(rest)일수록 더 유의하다."
   ]
  },
  {
   "cell_type": "code",
   "execution_count": 17,
   "metadata": {},
   "outputs": [
    {
     "name": "stderr",
     "output_type": "stream",
     "text": [
      "/home/hweem/git/mastersdegree/ytcrawl/ytcrawl0/lib/python3.5/site-packages/ipykernel_launcher.py:1: UserWarning: Boolean Series key will be reindexed to match DataFrame index.\n",
      "  \"\"\"Entry point for launching an IPython kernel.\n",
      "/home/hweem/git/mastersdegree/ytcrawl/ytcrawl0/lib/python3.5/site-packages/ipykernel_launcher.py:2: UserWarning: Boolean Series key will be reindexed to match DataFrame index.\n",
      "  \n",
      "/home/hweem/git/mastersdegree/ytcrawl/ytcrawl0/lib/python3.5/site-packages/ipykernel_launcher.py:3: UserWarning: Boolean Series key will be reindexed to match DataFrame index.\n",
      "  This is separate from the ipykernel package so we can avoid doing imports until\n",
      "/home/hweem/git/mastersdegree/ytcrawl/ytcrawl0/lib/python3.5/site-packages/ipykernel_launcher.py:4: UserWarning: Boolean Series key will be reindexed to match DataFrame index.\n",
      "  after removing the cwd from sys.path.\n",
      "/home/hweem/git/mastersdegree/ytcrawl/ytcrawl0/lib/python3.5/site-packages/ipykernel_launcher.py:5: UserWarning: Boolean Series key will be reindexed to match DataFrame index.\n",
      "  \"\"\"\n",
      "/home/hweem/git/mastersdegree/ytcrawl/ytcrawl0/lib/python3.5/site-packages/ipykernel_launcher.py:6: UserWarning: Boolean Series key will be reindexed to match DataFrame index.\n",
      "  \n"
     ]
    },
    {
     "data": {
      "text/plain": [
       "{'boxes': [<matplotlib.lines.Line2D at 0x7f06e9b398d0>,\n",
       "  <matplotlib.lines.Line2D at 0x7f06e9b41da0>,\n",
       "  <matplotlib.lines.Line2D at 0x7f06e9acf518>,\n",
       "  <matplotlib.lines.Line2D at 0x7f06e9ad6c50>,\n",
       "  <matplotlib.lines.Line2D at 0x7f06e9ae53c8>,\n",
       "  <matplotlib.lines.Line2D at 0x7f06e9aeeb00>],\n",
       " 'caps': [<matplotlib.lines.Line2D at 0x7f06e9b410b8>,\n",
       "  <matplotlib.lines.Line2D at 0x7f06e9b41400>,\n",
       "  <matplotlib.lines.Line2D at 0x7f06e9ac77f0>,\n",
       "  <matplotlib.lines.Line2D at 0x7f06e9ac7b38>,\n",
       "  <matplotlib.lines.Line2D at 0x7f06e9acff28>,\n",
       "  <matplotlib.lines.Line2D at 0x7f06e9ad62b0>,\n",
       "  <matplotlib.lines.Line2D at 0x7f06e9add6a0>,\n",
       "  <matplotlib.lines.Line2D at 0x7f06e9add9e8>,\n",
       "  <matplotlib.lines.Line2D at 0x7f06e9ae5dd8>,\n",
       "  <matplotlib.lines.Line2D at 0x7f06e9aee160>,\n",
       "  <matplotlib.lines.Line2D at 0x7f06e9af3550>,\n",
       "  <matplotlib.lines.Line2D at 0x7f06e9af3898>],\n",
       " 'fliers': [<matplotlib.lines.Line2D at 0x7f06e9b41a90>,\n",
       "  <matplotlib.lines.Line2D at 0x7f06e9acf208>,\n",
       "  <matplotlib.lines.Line2D at 0x7f06e9ad6940>,\n",
       "  <matplotlib.lines.Line2D at 0x7f06e9ae50b8>,\n",
       "  <matplotlib.lines.Line2D at 0x7f06e9aee7f0>,\n",
       "  <matplotlib.lines.Line2D at 0x7f06e9af3f28>],\n",
       " 'means': [],\n",
       " 'medians': [<matplotlib.lines.Line2D at 0x7f06e9b41748>,\n",
       "  <matplotlib.lines.Line2D at 0x7f06e9ac7e80>,\n",
       "  <matplotlib.lines.Line2D at 0x7f06e9ad65f8>,\n",
       "  <matplotlib.lines.Line2D at 0x7f06e9addd30>,\n",
       "  <matplotlib.lines.Line2D at 0x7f06e9aee4a8>,\n",
       "  <matplotlib.lines.Line2D at 0x7f06e9af3be0>],\n",
       " 'whiskers': [<matplotlib.lines.Line2D at 0x7f06e9b399e8>,\n",
       "  <matplotlib.lines.Line2D at 0x7f06e9b39d30>,\n",
       "  <matplotlib.lines.Line2D at 0x7f06e9ac7160>,\n",
       "  <matplotlib.lines.Line2D at 0x7f06e9ac74a8>,\n",
       "  <matplotlib.lines.Line2D at 0x7f06e9acf898>,\n",
       "  <matplotlib.lines.Line2D at 0x7f06e9acfbe0>,\n",
       "  <matplotlib.lines.Line2D at 0x7f06e9ad6fd0>,\n",
       "  <matplotlib.lines.Line2D at 0x7f06e9add358>,\n",
       "  <matplotlib.lines.Line2D at 0x7f06e9ae5748>,\n",
       "  <matplotlib.lines.Line2D at 0x7f06e9ae5a90>,\n",
       "  <matplotlib.lines.Line2D at 0x7f06e9aeee80>,\n",
       "  <matplotlib.lines.Line2D at 0x7f06e9af3208>]}"
      ]
     },
     "execution_count": 17,
     "metadata": {},
     "output_type": "execute_result"
    },
    {
     "data": {
      "image/png": "[encoded data removed]",
      "text/plain": [
       "<Figure size 864x432 with 1 Axes>"
      ]
     },
     "metadata": {
      "needs_background": "light"
     },
     "output_type": "display_data"
    }
   ],
   "source": [
    "_2019_wo_videos_cit = np.log10(df1[~df1.DOI.isin(_idx_papers_2019)][df1[\"Cited by\"] != \"None\"][\"Cited by\"].dropna().astype(int))\n",
    "_2019_90_w_videos_cit = np.log10(df1[df1.DOI.isin(_idx_papers_2019_90)][df1[\"Cited by\"] != \"None\"][\"Cited by\"].dropna().astype(int))\n",
    "_2019_180_w_videos_cit = np.log10(df1[df1.DOI.isin(_idx_papers_2019_180)][df1[\"Cited by\"] != \"None\"][\"Cited by\"].dropna().astype(int))\n",
    "_2019_270_w_videos_cit = np.log10(df1[df1.DOI.isin(_idx_papers_2019_270)][df1[\"Cited by\"] != \"None\"][\"Cited by\"].dropna().astype(int))\n",
    "_2019_360_w_videos_cit = np.log10(df1[df1.DOI.isin(_idx_papers_2019_360)][df1[\"Cited by\"] != \"None\"][\"Cited by\"].dropna().astype(int))\n",
    "_2019_rest_w_videos_cit = np.log10(df1[df1.DOI.isin(_idx_papers_2019_rest)][df1[\"Cited by\"] != \"None\"][\"Cited by\"].dropna().astype(int))\n",
    "\n",
    "plt.figure(figsize=(12, 6))\n",
    "plt.title(\"Citation by video release date\")\n",
    "# plt.yscale(\"log\")\n",
    "# plt.ylim([0, 200])\n",
    "plt.ylabel(\"log10(Citation)\")\n",
    "plt.boxplot([\n",
    "    _2019_wo_videos_cit,\n",
    "    _2019_90_w_videos_cit,\n",
    "    _2019_180_w_videos_cit,\n",
    "    _2019_270_w_videos_cit,\n",
    "    _2019_360_w_videos_cit,\n",
    "    _2019_rest_w_videos_cit\n",
    "],\n",
    "    labels=[\n",
    "        \"2019 w/o videos\\n(N=%s)\"%len(_2019_wo_videos_cit),\n",
    "        \"2019 w/ videos-90\\n(N=%s)\"%len(_2019_90_w_videos_cit),\n",
    "        \"2019 w/ videos-180\\n(N=%s)\"%len(_2019_180_w_videos_cit),\n",
    "        \"2019 w/ videos-270\\n(N=%s)\"%len(_2019_270_w_videos_cit),\n",
    "        \"2019 w/ videos-360\\n(N=%s)\"%len(_2019_360_w_videos_cit),\n",
    "        \"2019 w/ videos-rest\\n(N=%s)\"%len(_2019_rest_w_videos_cit)\n",
    "    ]\n",
    ")"
   ]
  },
  {
   "cell_type": "code",
   "execution_count": 18,
   "metadata": {},
   "outputs": [
    {
     "name": "stdout",
     "output_type": "stream",
     "text": [
      "2019-90\tS = -3.431868\tp = 0.000603\n",
      "2019-180\tS = -1.480304\tp = 0.138836\n",
      "2019-270\tS = -4.678255\tp = 0.000003\n",
      "2019-360\tS = -4.632342\tp = 0.000004\n",
      "2019-rest\tS = -2.318423\tp = 0.020455\n"
     ]
    }
   ],
   "source": [
    "_s2019, _p2019 = stats.ttest_ind(\n",
    "    _2019_wo_videos_cit,\n",
    "    _2019_90_w_videos_cit\n",
    ")\n",
    "print(\"2019-90\\tS = %f\\tp = %f\"%(_s2019, _p2019))\n",
    "_s2019, _p2019 = stats.ttest_ind(\n",
    "    _2019_wo_videos_cit,\n",
    "    _2019_180_w_videos_cit\n",
    ")\n",
    "print(\"2019-180\\tS = %f\\tp = %f\"%(_s2019, _p2019))\n",
    "_s2019, _p2019 = stats.ttest_ind(\n",
    "    _2019_wo_videos_cit,\n",
    "    _2019_270_w_videos_cit\n",
    ")\n",
    "print(\"2019-270\\tS = %f\\tp = %f\"%(_s2019, _p2019))\n",
    "_s2019, _p2019 = stats.ttest_ind(\n",
    "    _2019_wo_videos_cit,\n",
    "    _2019_360_w_videos_cit\n",
    ")\n",
    "print(\"2019-360\\tS = %f\\tp = %f\"%(_s2019, _p2019))\n",
    "_s2019, _p2019 = stats.ttest_ind(\n",
    "    _2019_wo_videos_cit,\n",
    "    _2019_rest_w_videos_cit\n",
    ")\n",
    "print(\"2019-rest\\tS = %f\\tp = %f\"%(_s2019, _p2019))"
   ]
  },
  {
   "cell_type": "markdown",
   "metadata": {},
   "source": [
    "2019 comp와의 차이점: 전체적으로 유의하다."
   ]
  },
  {
   "cell_type": "markdown",
   "metadata": {},
   "source": [
    "2019 comp:\n",
    "2019-90\tS = 0.270785\tp = 0.786561\n",
    "2019-180\tS = nan\tp = nan\n",
    "2019-270\tS = 0.336739\tp = 0.736319\n",
    "2019-360\tS = -2.410909\tp = 0.015926\n",
    "2019-rest\tS = -1.018102\tp = 0.308648"
   ]
  },
  {
   "cell_type": "code",
   "execution_count": 19,
   "metadata": {},
   "outputs": [
    {
     "name": "stderr",
     "output_type": "stream",
     "text": [
      "/home/hweem/git/mastersdegree/ytcrawl/ytcrawl0/lib/python3.5/site-packages/ipykernel_launcher.py:1: UserWarning: Boolean Series key will be reindexed to match DataFrame index.\n",
      "  \"\"\"Entry point for launching an IPython kernel.\n",
      "/home/hweem/git/mastersdegree/ytcrawl/ytcrawl0/lib/python3.5/site-packages/ipykernel_launcher.py:2: UserWarning: Boolean Series key will be reindexed to match DataFrame index.\n",
      "  \n",
      "/home/hweem/git/mastersdegree/ytcrawl/ytcrawl0/lib/python3.5/site-packages/ipykernel_launcher.py:3: UserWarning: Boolean Series key will be reindexed to match DataFrame index.\n",
      "  This is separate from the ipykernel package so we can avoid doing imports until\n",
      "/home/hweem/git/mastersdegree/ytcrawl/ytcrawl0/lib/python3.5/site-packages/ipykernel_launcher.py:4: UserWarning: Boolean Series key will be reindexed to match DataFrame index.\n",
      "  after removing the cwd from sys.path.\n",
      "/home/hweem/git/mastersdegree/ytcrawl/ytcrawl0/lib/python3.5/site-packages/ipykernel_launcher.py:5: UserWarning: Boolean Series key will be reindexed to match DataFrame index.\n",
      "  \"\"\"\n",
      "/home/hweem/git/mastersdegree/ytcrawl/ytcrawl0/lib/python3.5/site-packages/ipykernel_launcher.py:6: UserWarning: Boolean Series key will be reindexed to match DataFrame index.\n",
      "  \n"
     ]
    },
    {
     "data": {
      "text/plain": [
       "{'boxes': [<matplotlib.lines.Line2D at 0x7f06e9aafe80>,\n",
       "  <matplotlib.lines.Line2D at 0x7f06e9ac24a8>,\n",
       "  <matplotlib.lines.Line2D at 0x7f06e9a4abe0>,\n",
       "  <matplotlib.lines.Line2D at 0x7f06e9a58358>,\n",
       "  <matplotlib.lines.Line2D at 0x7f06e9a5fa90>,\n",
       "  <matplotlib.lines.Line2D at 0x7f06e9a6d208>],\n",
       " 'caps': [<matplotlib.lines.Line2D at 0x7f06e9abb780>,\n",
       "  <matplotlib.lines.Line2D at 0x7f06e9abbac8>,\n",
       "  <matplotlib.lines.Line2D at 0x7f06e9ac2eb8>,\n",
       "  <matplotlib.lines.Line2D at 0x7f06e9a4a240>,\n",
       "  <matplotlib.lines.Line2D at 0x7f06e9a50630>,\n",
       "  <matplotlib.lines.Line2D at 0x7f06e9a50978>,\n",
       "  <matplotlib.lines.Line2D at 0x7f06e9a58d68>,\n",
       "  <matplotlib.lines.Line2D at 0x7f06e9a5f0f0>,\n",
       "  <matplotlib.lines.Line2D at 0x7f06e9a664e0>,\n",
       "  <matplotlib.lines.Line2D at 0x7f06e9a66828>,\n",
       "  <matplotlib.lines.Line2D at 0x7f06e9a6dc18>,\n",
       "  <matplotlib.lines.Line2D at 0x7f06e9a6df60>],\n",
       " 'fliers': [<matplotlib.lines.Line2D at 0x7f06e9ac2198>,\n",
       "  <matplotlib.lines.Line2D at 0x7f06e9a4a8d0>,\n",
       "  <matplotlib.lines.Line2D at 0x7f06e9a58048>,\n",
       "  <matplotlib.lines.Line2D at 0x7f06e9a5f780>,\n",
       "  <matplotlib.lines.Line2D at 0x7f06e9a66eb8>,\n",
       "  <matplotlib.lines.Line2D at 0x7f06e9a74630>],\n",
       " 'means': [],\n",
       " 'medians': [<matplotlib.lines.Line2D at 0x7f06e9abbe10>,\n",
       "  <matplotlib.lines.Line2D at 0x7f06e9a4a588>,\n",
       "  <matplotlib.lines.Line2D at 0x7f06e9a50cc0>,\n",
       "  <matplotlib.lines.Line2D at 0x7f06e9a5f438>,\n",
       "  <matplotlib.lines.Line2D at 0x7f06e9a66b70>,\n",
       "  <matplotlib.lines.Line2D at 0x7f06e9a742e8>],\n",
       " 'whiskers': [<matplotlib.lines.Line2D at 0x7f06e9abb0f0>,\n",
       "  <matplotlib.lines.Line2D at 0x7f06e9abb438>,\n",
       "  <matplotlib.lines.Line2D at 0x7f06e9ac2828>,\n",
       "  <matplotlib.lines.Line2D at 0x7f06e9ac2b70>,\n",
       "  <matplotlib.lines.Line2D at 0x7f06e9a4af60>,\n",
       "  <matplotlib.lines.Line2D at 0x7f06e9a502e8>,\n",
       "  <matplotlib.lines.Line2D at 0x7f06e9a586d8>,\n",
       "  <matplotlib.lines.Line2D at 0x7f06e9a58a20>,\n",
       "  <matplotlib.lines.Line2D at 0x7f06e9a5fe10>,\n",
       "  <matplotlib.lines.Line2D at 0x7f06e9a66198>,\n",
       "  <matplotlib.lines.Line2D at 0x7f06e9a6d588>,\n",
       "  <matplotlib.lines.Line2D at 0x7f06e9a6d8d0>]}"
      ]
     },
     "execution_count": 19,
     "metadata": {},
     "output_type": "execute_result"
    },
    {
     "data": {
      "image/png": "[encoded data removed]",
      "text/plain": [
       "<Figure size 864x432 with 1 Axes>"
      ]
     },
     "metadata": {
      "needs_background": "light"
     },
     "output_type": "display_data"
    }
   ],
   "source": [
    "_2014_wo_videos_aas = np.log10(df3[~df3.DOI.isin(_idx_papers_2014)][df3[\"AAS\"] != \"None\"][\"AAS\"].dropna().astype(int))\n",
    "_2014_90_w_videos_aas = np.log10(df3[df3.DOI.isin(_idx_papers_2014_90)][df3[\"AAS\"] != \"None\"][\"AAS\"].dropna().astype(int))\n",
    "_2014_180_w_videos_aas = np.log10(df3[df3.DOI.isin(_idx_papers_2014_180)][df3[\"AAS\"] != \"None\"][\"AAS\"].dropna().astype(int))\n",
    "_2014_270_w_videos_aas = np.log10(df3[df3.DOI.isin(_idx_papers_2014_270)][df3[\"AAS\"] != \"None\"][\"AAS\"].dropna().astype(int))\n",
    "_2014_360_w_videos_aas = np.log10(df3[df3.DOI.isin(_idx_papers_2014_360)][df3[\"AAS\"] != \"None\"][\"AAS\"].dropna().astype(int))\n",
    "_2014_rest_w_videos_aas = np.log10(df3[df3.DOI.isin(_idx_papers_2014_rest)][df3[\"AAS\"] != \"None\"][\"AAS\"].dropna().astype(int))\n",
    "\n",
    "plt.figure(figsize=(12, 6))\n",
    "plt.title(\"AAS by video release date\")\n",
    "# plt.yscale(\"log\")\n",
    "# plt.ylim([0, 200])\n",
    "plt.ylabel(\"log10(AAS)\")\n",
    "plt.boxplot([\n",
    "    _2014_wo_videos_aas,\n",
    "    _2014_90_w_videos_aas,\n",
    "    _2014_180_w_videos_aas,\n",
    "    _2014_270_w_videos_aas,\n",
    "    _2014_360_w_videos_aas,\n",
    "    _2014_rest_w_videos_aas\n",
    "],\n",
    "    labels=[\n",
    "        \"2014 w/o videos\\n(N=%s)\"%len(_2014_wo_videos_aas),\n",
    "        \"2014 w/ videos-90\\n(N=%s)\"%len(_2014_90_w_videos_aas),\n",
    "        \"2014 w/ videos-180\\n(N=%s)\"%len(_2014_180_w_videos_aas),\n",
    "        \"2014 w/ videos-270\\n(N=%s)\"%len(_2014_270_w_videos_aas),\n",
    "        \"2014 w/ videos-360\\n(N=%s)\"%len(_2014_360_w_videos_aas),\n",
    "        \"2014 w/ videos-rest\\n(N=%s)\"%len(_2014_rest_w_videos_aas)\n",
    "    ]\n",
    ")"
   ]
  },
  {
   "cell_type": "code",
   "execution_count": 20,
   "metadata": {},
   "outputs": [
    {
     "name": "stdout",
     "output_type": "stream",
     "text": [
      "2014-90\tS = -8.555980\tp = 0.000000\n",
      "2014-180\tS = nan\tp = nan\n",
      "2014-270\tS = nan\tp = nan\n",
      "2014-360\tS = -2.534913\tp = 0.011275\n",
      "2014-rest\tS = -15.180361\tp = 0.000000\n"
     ]
    }
   ],
   "source": [
    "_s2014, _p2014 = stats.ttest_ind(\n",
    "    _2014_wo_videos_aas,\n",
    "    _2014_90_w_videos_aas\n",
    ")\n",
    "print(\"2014-90\\tS = %f\\tp = %f\"%(_s2014, _p2014))\n",
    "_s2014, _p2014 = stats.ttest_ind(\n",
    "    _2014_wo_videos_aas,\n",
    "    _2014_180_w_videos_aas\n",
    ")\n",
    "print(\"2014-180\\tS = %f\\tp = %f\"%(_s2014, _p2014))\n",
    "_s2014, _p2014 = stats.ttest_ind(\n",
    "    _2014_wo_videos_aas,\n",
    "    _2014_270_w_videos_aas\n",
    ")\n",
    "print(\"2014-270\\tS = %f\\tp = %f\"%(_s2014, _p2014))\n",
    "_s2014, _p2014 = stats.ttest_ind(\n",
    "    _2014_wo_videos_aas,\n",
    "    _2014_360_w_videos_aas\n",
    ")\n",
    "print(\"2014-360\\tS = %f\\tp = %f\"%(_s2014, _p2014))\n",
    "_s2014, _p2014 = stats.ttest_ind(\n",
    "    _2014_wo_videos_aas,\n",
    "    _2014_rest_w_videos_aas\n",
    ")\n",
    "print(\"2014-rest\\tS = %f\\tp = %f\"%(_s2014, _p2014))"
   ]
  },
  {
   "cell_type": "code",
   "execution_count": 21,
   "metadata": {},
   "outputs": [
    {
     "name": "stderr",
     "output_type": "stream",
     "text": [
      "/home/hweem/git/mastersdegree/ytcrawl/ytcrawl0/lib/python3.5/site-packages/ipykernel_launcher.py:1: UserWarning: Boolean Series key will be reindexed to match DataFrame index.\n",
      "  \"\"\"Entry point for launching an IPython kernel.\n",
      "/home/hweem/git/mastersdegree/ytcrawl/ytcrawl0/lib/python3.5/site-packages/ipykernel_launcher.py:2: UserWarning: Boolean Series key will be reindexed to match DataFrame index.\n",
      "  \n",
      "/home/hweem/git/mastersdegree/ytcrawl/ytcrawl0/lib/python3.5/site-packages/ipykernel_launcher.py:3: UserWarning: Boolean Series key will be reindexed to match DataFrame index.\n",
      "  This is separate from the ipykernel package so we can avoid doing imports until\n",
      "/home/hweem/git/mastersdegree/ytcrawl/ytcrawl0/lib/python3.5/site-packages/ipykernel_launcher.py:4: UserWarning: Boolean Series key will be reindexed to match DataFrame index.\n",
      "  after removing the cwd from sys.path.\n",
      "/home/hweem/git/mastersdegree/ytcrawl/ytcrawl0/lib/python3.5/site-packages/ipykernel_launcher.py:5: UserWarning: Boolean Series key will be reindexed to match DataFrame index.\n",
      "  \"\"\"\n",
      "/home/hweem/git/mastersdegree/ytcrawl/ytcrawl0/lib/python3.5/site-packages/ipykernel_launcher.py:6: UserWarning: Boolean Series key will be reindexed to match DataFrame index.\n",
      "  \n"
     ]
    },
    {
     "data": {
      "text/plain": [
       "{'boxes': [<matplotlib.lines.Line2D at 0x7f06e9a36828>,\n",
       "  <matplotlib.lines.Line2D at 0x7f06e9a3dcf8>,\n",
       "  <matplotlib.lines.Line2D at 0x7f06e99ca470>,\n",
       "  <matplotlib.lines.Line2D at 0x7f06e99d2ba8>,\n",
       "  <matplotlib.lines.Line2D at 0x7f06e99e1320>,\n",
       "  <matplotlib.lines.Line2D at 0x7f06e99e7a58>],\n",
       " 'caps': [<matplotlib.lines.Line2D at 0x7f06e9a36fd0>,\n",
       "  <matplotlib.lines.Line2D at 0x7f06e9a3d358>,\n",
       "  <matplotlib.lines.Line2D at 0x7f06e9a43748>,\n",
       "  <matplotlib.lines.Line2D at 0x7f06e9a43a90>,\n",
       "  <matplotlib.lines.Line2D at 0x7f06e99cae80>,\n",
       "  <matplotlib.lines.Line2D at 0x7f06e99d2208>,\n",
       "  <matplotlib.lines.Line2D at 0x7f06e99da5f8>,\n",
       "  <matplotlib.lines.Line2D at 0x7f06e99da940>,\n",
       "  <matplotlib.lines.Line2D at 0x7f06e99e1d30>,\n",
       "  <matplotlib.lines.Line2D at 0x7f06e99e70b8>,\n",
       "  <matplotlib.lines.Line2D at 0x7f06e99ef4a8>,\n",
       "  <matplotlib.lines.Line2D at 0x7f06e99ef7f0>],\n",
       " 'fliers': [<matplotlib.lines.Line2D at 0x7f06e9a3d9e8>,\n",
       "  <matplotlib.lines.Line2D at 0x7f06e99ca160>,\n",
       "  <matplotlib.lines.Line2D at 0x7f06e99d2898>,\n",
       "  <matplotlib.lines.Line2D at 0x7f06e99dafd0>,\n",
       "  <matplotlib.lines.Line2D at 0x7f06e99e7748>,\n",
       "  <matplotlib.lines.Line2D at 0x7f06e99efe80>],\n",
       " 'means': [],\n",
       " 'medians': [<matplotlib.lines.Line2D at 0x7f06e9a3d6a0>,\n",
       "  <matplotlib.lines.Line2D at 0x7f06e9a43dd8>,\n",
       "  <matplotlib.lines.Line2D at 0x7f06e99d2550>,\n",
       "  <matplotlib.lines.Line2D at 0x7f06e99dac88>,\n",
       "  <matplotlib.lines.Line2D at 0x7f06e99e7400>,\n",
       "  <matplotlib.lines.Line2D at 0x7f06e99efb38>],\n",
       " 'whiskers': [<matplotlib.lines.Line2D at 0x7f06e9a36940>,\n",
       "  <matplotlib.lines.Line2D at 0x7f06e9a36c88>,\n",
       "  <matplotlib.lines.Line2D at 0x7f06e9a430b8>,\n",
       "  <matplotlib.lines.Line2D at 0x7f06e9a43400>,\n",
       "  <matplotlib.lines.Line2D at 0x7f06e99ca7f0>,\n",
       "  <matplotlib.lines.Line2D at 0x7f06e99cab38>,\n",
       "  <matplotlib.lines.Line2D at 0x7f06e99d2f28>,\n",
       "  <matplotlib.lines.Line2D at 0x7f06e99da2b0>,\n",
       "  <matplotlib.lines.Line2D at 0x7f06e99e16a0>,\n",
       "  <matplotlib.lines.Line2D at 0x7f06e99e19e8>,\n",
       "  <matplotlib.lines.Line2D at 0x7f06e99e7dd8>,\n",
       "  <matplotlib.lines.Line2D at 0x7f06e99ef160>]}"
      ]
     },
     "execution_count": 21,
     "metadata": {},
     "output_type": "execute_result"
    },
    {
     "data": {
      "image/png": "[encoded data removed]",
      "text/plain": [
       "<Figure size 864x432 with 1 Axes>"
      ]
     },
     "metadata": {
      "needs_background": "light"
     },
     "output_type": "display_data"
    }
   ],
   "source": [
    "_2019_wo_videos_aas = np.log10(df1[~df1.DOI.isin(_idx_papers_2019)][df1[\"AAS\"] != \"None\"][\"AAS\"].dropna().astype(int))\n",
    "_2019_90_w_videos_aas = np.log10(df1[df1.DOI.isin(_idx_papers_2019_90)][df1[\"AAS\"] != \"None\"][\"AAS\"].dropna().astype(int))\n",
    "_2019_180_w_videos_aas = np.log10(df1[df1.DOI.isin(_idx_papers_2019_180)][df1[\"AAS\"] != \"None\"][\"AAS\"].dropna().astype(int))\n",
    "_2019_270_w_videos_aas = np.log10(df1[df1.DOI.isin(_idx_papers_2019_270)][df1[\"AAS\"] != \"None\"][\"AAS\"].dropna().astype(int))\n",
    "_2019_360_w_videos_aas = np.log10(df1[df1.DOI.isin(_idx_papers_2019_360)][df1[\"AAS\"] != \"None\"][\"AAS\"].dropna().astype(int))\n",
    "_2019_rest_w_videos_aas = np.log10(df1[df1.DOI.isin(_idx_papers_2019_rest)][df1[\"AAS\"] != \"None\"][\"AAS\"].dropna().astype(int))\n",
    "\n",
    "plt.figure(figsize=(12, 6))\n",
    "plt.title(\"AAS by video release date\")\n",
    "# plt.yscale(\"log\")\n",
    "# plt.ylim([0, 200])\n",
    "plt.ylabel(\"log10(AAS)\")\n",
    "plt.boxplot([\n",
    "    _2019_wo_videos_aas,\n",
    "    _2019_90_w_videos_aas,\n",
    "    _2019_180_w_videos_aas,\n",
    "    _2019_270_w_videos_aas,\n",
    "    _2019_360_w_videos_aas,\n",
    "    _2019_rest_w_videos_aas\n",
    "],\n",
    "    labels=[\n",
    "        \"2019 w/o videos\\n(N=%s)\"%len(_2019_wo_videos_aas),\n",
    "        \"2019 w/ videos-90\\n(N=%s)\"%len(_2019_90_w_videos_aas),\n",
    "        \"2019 w/ videos-180\\n(N=%s)\"%len(_2019_180_w_videos_aas),\n",
    "        \"2019 w/ videos-270\\n(N=%s)\"%len(_2019_270_w_videos_aas),\n",
    "        \"2019 w/ videos-360\\n(N=%s)\"%len(_2019_360_w_videos_aas),\n",
    "        \"2019 w/ videos-rest\\n(N=%s)\"%len(_2019_rest_w_videos_aas)\n",
    "    ]\n",
    ")"
   ]
  },
  {
   "cell_type": "code",
   "execution_count": 22,
   "metadata": {},
   "outputs": [
    {
     "name": "stdout",
     "output_type": "stream",
     "text": [
      "2019-90\tS = -21.844594\tp = 0.000000\n",
      "2019-180\tS = -8.725570\tp = 0.000000\n",
      "2019-270\tS = -12.032223\tp = 0.000000\n",
      "2019-360\tS = -10.868221\tp = 0.000000\n",
      "2019-rest\tS = -11.317859\tp = 0.000000\n"
     ]
    }
   ],
   "source": [
    "_s2019, _p2019 = stats.ttest_ind(\n",
    "    _2019_wo_videos_aas,\n",
    "    _2019_90_w_videos_aas\n",
    ")\n",
    "print(\"2019-90\\tS = %f\\tp = %f\"%(_s2019, _p2019))\n",
    "_s2019, _p2019 = stats.ttest_ind(\n",
    "    _2019_wo_videos_aas,\n",
    "    _2019_180_w_videos_aas\n",
    ")\n",
    "print(\"2019-180\\tS = %f\\tp = %f\"%(_s2019, _p2019))\n",
    "_s2019, _p2019 = stats.ttest_ind(\n",
    "    _2019_wo_videos_aas,\n",
    "    _2019_270_w_videos_aas\n",
    ")\n",
    "print(\"2019-270\\tS = %f\\tp = %f\"%(_s2019, _p2019))\n",
    "_s2019, _p2019 = stats.ttest_ind(\n",
    "    _2019_wo_videos_aas,\n",
    "    _2019_360_w_videos_aas\n",
    ")\n",
    "print(\"2019-360\\tS = %f\\tp = %f\"%(_s2019, _p2019))\n",
    "_s2019, _p2019 = stats.ttest_ind(\n",
    "    _2019_wo_videos_aas,\n",
    "    _2019_rest_w_videos_aas\n",
    ")\n",
    "print(\"2019-rest\\tS = %f\\tp = %f\"%(_s2019, _p2019))"
   ]
  },
  {
   "cell_type": "markdown",
   "metadata": {},
   "source": [
    "(2014 comp)Citation, AAS 둘 다, 초창기(90)와 나중(rest)에서 유의하고 180에서 유의성이 낮아지는 경향이 보인다..?\n",
    "다만 180/270/360은 샘플이 적다는 점"
   ]
  },
  {
   "cell_type": "markdown",
   "metadata": {},
   "source": [
    "2014, 2019 둘다 비디오 공개시기에 상관없이 AAS 분포는 유의하게 다르다."
   ]
  },
  {
   "cell_type": "markdown",
   "metadata": {},
   "source": [
    "2014 comp와의 차이점: 2014 comp의 AAS는 초기 비디오의 유무는 유의차를 보이지 않았으나, 2014 life 초기 비디오 논문은 전체적으로 완전히 유의하다."
   ]
  },
  {
   "cell_type": "markdown",
   "metadata": {},
   "source": [
    "2019 comp와의 차이점: 2019 comp-rest는 유의성이 떨어졌으나, 2019 life는 rest까지도 완전히 유의."
   ]
  },
  {
   "cell_type": "markdown",
   "metadata": {},
   "source": [
    "다만 2019 life엔 블랙홀 관측 논문 6편이 큰 주목을 받았기때문에 이례적인 경향에 일조하고 있을수 있음 -> 6편 제외한 scopus set에 대해 분석하면?"
   ]
  },
  {
   "cell_type": "code",
   "execution_count": null,
   "metadata": {},
   "outputs": [],
   "source": []
  }
 ],
 "metadata": {
  "kernelspec": {
   "display_name": "Python 3",
   "language": "python",
   "name": "python3"
  },
  "language_info": {
   "codemirror_mode": {
    "name": "ipython",
    "version": 3
   },
   "file_extension": ".py",
   "mimetype": "text/x-python",
   "name": "python",
   "nbconvert_exporter": "python",
   "pygments_lexer": "ipython3",
   "version": "3.5.2"
  }
 },
 "nbformat": 4,
 "nbformat_minor": 4
}
