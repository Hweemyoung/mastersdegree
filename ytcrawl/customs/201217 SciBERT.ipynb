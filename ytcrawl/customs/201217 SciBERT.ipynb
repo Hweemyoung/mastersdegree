{
 "cells": [
  {
   "cell_type": "code",
   "execution_count": 2,
   "metadata": {},
   "outputs": [
    {
     "name": "stderr",
     "output_type": "stream",
     "text": [
      "/home/hweem/git/s-transformers/lib/python3.7/site-packages/torch/cuda/__init__.py:52: UserWarning: CUDA initialization: The NVIDIA driver on your system is too old (found version 10010). Please update your GPU driver by downloading and installing a new version from the URL: http://www.nvidia.com/Download/index.aspx Alternatively, go to: https://pytorch.org to install a PyTorch version that has been compiled with your version of the CUDA driver. (Triggered internally at  /pytorch/c10/cuda/CUDAFunctions.cpp:100.)\n",
      "  return torch._C._cuda_getDeviceCount() > 0\n"
     ]
    }
   ],
   "source": [
    "from transformers import *\n",
    "\n",
    "tokenizer = AutoTokenizer.from_pretrained('allenai/scibert_scivocab_uncased')\n",
    "model = AutoModel.from_pretrained('allenai/scibert_scivocab_uncased')"
   ]
  },
  {
   "cell_type": "code",
   "execution_count": 3,
   "metadata": {},
   "outputs": [
    {
     "data": {
      "text/plain": [
       "['Domains are modules within proteins that can fold and function independently and are evolutionarily conserved. Here we compared the usage and distribution of protein domain families in the free-living proteomes of Archaea, Bacteria and Eukarya and reconstructed species phylogenies while tracing the history of domain emergence and loss in proteomes. We show that both gains and losses of domains occurred frequently during proteome evolution. The rate of domain discovery increased approximately linearly in evolutionary time. Remarkably, gains generally outnumbered losses and the gain-to-loss ratios were much higher in akaryotes compared to eukaryotes. Functional annotations of domain families revealed that both Archaea and Bacteria gained and lost metabolic capabilities during the course of evolution while Eukarya acquired a number of diverse molecular functions including those involved in extracellular processes, immunological mechanisms, and cell regulation. Results also highlighted significant contemporary sharing of informational enzymes between Archaea and Eukarya and metabolic enzymes between Bacteria and Eukarya. Finally, the analysis provided useful insights into the evolution of species. The archaeal superkingdom appeared first in evolution by gradual loss of ancestral domains, bacterial lineages were the first to gain superkingdom-specific domains, and eukaryotes (likely) originated when an expanding proto-eukaryotic stem lineage gained organelles through endosymbiosis of already diversified bacterial lineages. The evolutionary dynamics of domain families in proteomes and the increasing number of domain gains is predicted to redefine the persistence strategies of organisms in superkingdoms, influence the make up of molecular functions, and enhance organismal complexity by the generation of new domain architectures. This dynamics highlights ongoing secondary evolutionary adaptations in akaryotic microbes, especially Archaea. ',\n",
       " 'The current best asymptotic lower bound on the minimum distance of quantum LDPC codes with a fixed non-zero rate is logarithmic in the blocklength. We propose a construction of quantum LDPC codes with fixed non-zero rate and prove that the minimum distance grows proportionally to the square root of the blocklength. ',\n",
       " 'In this paper we propose a new multiagent metaheuristic based in an artificial society that uses a dynamic creative system to compose music, called \"Method of musical composition\" or MMC. To show the performance of our proposed MMC algorithm, 13 benchmark continuous optimization problems and the related results are compared with harmony search, improved harmony search, global-best harmony search and self-adaptative harmony search. The experimental results demonstrate that MMC improves the results obtained by the other metaheuristics in a set of multi-modal functions. ']"
      ]
     },
     "execution_count": 3,
     "metadata": {},
     "output_type": "execute_result"
    }
   ],
   "source": [
    "import pandas as pd\n",
    "df3 = pd.read_csv(\"/home/hweem/git/mastersdegree/ytcrawl/customs/scopus/scopus_2014_comp.csv\")\n",
    "df3 = df3[df3[\"Abstract\"] != \"[No abstract available]\"]\n",
    "_list_corpus = list(df3[\"Abstract\"])\n",
    "_list_corpus = list(map(lambda abs: abs.split(\"©\")[0], _list_corpus))\n",
    "_list_corpus[:3]"
   ]
  },
  {
   "cell_type": "code",
   "execution_count": 6,
   "metadata": {},
   "outputs": [],
   "source": [
    "# Encode\n",
    "inputs = tokenizer(_list_corpus[10:20], return_tensors=\"pt\", padding=True)\n",
    "# inputs = tokenizer(_list_corpus, return_tensors=\"pt\", padding=True)\n",
    "outputs = model(**inputs)\n",
    "\n",
    "torch.save(outputs[1], \"tensor_temp.pt\")"
   ]
  },
  {
   "cell_type": "code",
   "execution_count": 6,
   "metadata": {},
   "outputs": [
    {
     "data": {
      "text/plain": [
       "KMeans(n_clusters=3)"
      ]
     },
     "execution_count": 6,
     "metadata": {},
     "output_type": "execute_result"
    }
   ],
   "source": [
    "from sklearn.cluster import KMeans\n",
    "_n_clusters = 3\n",
    "_kmeans = KMeans(n_clusters=_n_clusters)\n",
    "_kmeans.fit(outputs[1].detach().numpy())"
   ]
  },
  {
   "cell_type": "code",
   "execution_count": 1,
   "metadata": {},
   "outputs": [
    {
     "data": {
      "text/plain": [
       "tensor([[-0.6138, -0.4307, -0.9996,  ..., -0.7219,  0.8917, -0.9864],\n",
       "        [ 0.0839, -0.3270, -0.9962,  ..., -0.5458,  0.8346, -0.9574],\n",
       "        [ 0.0379, -0.2999, -0.9908,  ..., -0.4046, -0.9672, -0.9530],\n",
       "        ...,\n",
       "        [-0.3527, -0.3585, -0.9976,  ..., -0.5462,  0.9315, -0.9409],\n",
       "        [-0.4248, -0.4041, -0.9983,  ..., -0.4964,  0.9248, -0.9202],\n",
       "        [-0.0732, -0.3574, -0.9870,  ..., -0.5220,  0.2159, -0.8755]],\n",
       "       requires_grad=True)"
      ]
     },
     "execution_count": 1,
     "metadata": {},
     "output_type": "execute_result"
    }
   ],
   "source": [
    "import torch\n",
    "torch.load(\"tensor_temp.pt\")"
   ]
  },
  {
   "cell_type": "code",
   "execution_count": null,
   "metadata": {},
   "outputs": [],
   "source": []
  }
 ],
 "metadata": {
  "kernelspec": {
   "display_name": "s-transformers",
   "language": "python",
   "name": "s-transformers"
  },
  "language_info": {
   "codemirror_mode": {
    "name": "ipython",
    "version": 3
   },
   "file_extension": ".py",
   "mimetype": "text/x-python",
   "name": "python",
   "nbconvert_exporter": "python",
   "pygments_lexer": "ipython3",
   "version": "3.7.9"
  }
 },
 "nbformat": 4,
 "nbformat_minor": 4
}
