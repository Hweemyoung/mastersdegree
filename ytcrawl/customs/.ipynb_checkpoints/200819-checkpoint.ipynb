{
 "cells": [
  {
   "cell_type": "code",
   "execution_count": 2,
   "metadata": {},
   "outputs": [],
   "source": [
    "import numpy as np\n",
    "import pandas as pd\n",
    "from db_handler import DBHandler\n",
    "from matplotlib import pyplot as plt\n",
    "from scipy import stats\n",
    "from datetime import datetime, timedelta\n",
    "from calendar import monthrange\n",
    "%matplotlib inline"
   ]
  },
  {
   "cell_type": "code",
   "execution_count": 3,
   "metadata": {},
   "outputs": [],
   "source": [
    "def parse_fetches(fetches):\n",
    "    _new_fetches = list()\n",
    "    for _fetch in fetches:\n",
    "        for _doi in _fetch[0].split(\", \"):\n",
    "            _new_fetches.append(\n",
    "                (_doi, _fetch[1])\n",
    "            )\n",
    "    return _new_fetches\n",
    "\n",
    "def get_dois_with_videos_within_days_from_publish(df, table_name, num_days=None):\n",
    "    _set_target_dois = set()\n",
    "    db_handler.sql_handler.select(table_name, [\"idx_paper\", \"publishedAt\"])\n",
    "    fetches = db_handler.execute().fetchall()\n",
    "    fetches = parse_fetches(fetches)\n",
    "    if num_days == None:\n",
    "        _set_target_dois = set(map(lambda _row: _row[0], fetches))\n",
    "    else:\n",
    "        for _row in fetches:\n",
    "    #         print(\"DOI:\", _row[0])\n",
    "            _target_paper = df[df[\"DOI\"] == _row[0]]\n",
    "    #         if len(_target_paper) == 0:\n",
    "    #             continue\n",
    "            if len(_target_paper) > 1:\n",
    "                _target_paper = _target_paper.iloc[0]\n",
    "            _dt_publish = datetime(_target_paper[\"Year\"], _target_paper[\"Month\"], 1)\n",
    "            _dt_video_deadline = _dt_publish + timedelta(days=num_days)\n",
    "            if _row[1] < _dt_video_deadline:\n",
    "                _set_target_dois.add(_row[0])\n",
    "    return _set_target_dois"
   ]
  },
  {
   "cell_type": "code",
   "execution_count": 33,
   "metadata": {},
   "outputs": [],
   "source": [
    "df1 = pd.read_csv(\"/home/hweem/git/mastersdegree/ytcrawl/customs/scopus/scopus_math+comp_top5perc_1901-1906.csv\")\n",
    "# df2 = pd.read_csv(\"/home/hweem/git/mastersdegree/ytcrawl/customs/scopus/scopus_math+comp_top5perc_1701-1706.csv\")\n",
    "df3 = pd.read_csv(\"/home/hweem/git/mastersdegree/ytcrawl/customs/scopus/scopus_math+comp_top5perc_1401-1406.csv\")\n",
    "db_handler = DBHandler()"
   ]
  },
  {
   "cell_type": "code",
   "execution_count": 7,
   "metadata": {},
   "outputs": [
    {
     "name": "stdout",
     "output_type": "stream",
     "text": [
      "\tCommand set: SELECT `idx_paper`, `publishedAt` FROM `scopus_videos_2014_comp`\n",
      "\tsql: SELECT `idx_paper`, `publishedAt` FROM `scopus_videos_2014_comp`;\n",
      "\tCommand set: SELECT `idx_paper`, `publishedAt` FROM `scopus_videos_2019_comp`\n",
      "\tsql: SELECT `idx_paper`, `publishedAt` FROM `scopus_videos_2019_comp`;\n"
     ]
    }
   ],
   "source": [
    "db_handler.sql_handler.select(\"scopus_videos_2014_comp\", [\"idx_paper\", \"publishedAt\"])\n",
    "_videos_2014 = db_handler.execute().fetchall()\n",
    "# db_handler.sql_handler.select(\"scopus_videos_2017_comp\", [\"idx_paper\", \"publishedAt\"])\n",
    "# _videos_2017 = db_handler.execute().fetchall()\n",
    "db_handler.sql_handler.select(\"scopus_videos_2019_comp\", [\"idx_paper\", \"publishedAt\"])\n",
    "_videos_2019 = db_handler.execute().fetchall()"
   ]
  },
  {
   "cell_type": "code",
   "execution_count": 34,
   "metadata": {},
   "outputs": [
    {
     "name": "stdout",
     "output_type": "stream",
     "text": [
      "\tCommand set: SELECT `idx_paper`, `publishedAt` FROM `scopus_videos_2019_comp`\n",
      "\tsql: SELECT `idx_paper`, `publishedAt` FROM `scopus_videos_2019_comp`;\n",
      "\tCommand set: SELECT `idx_paper`, `publishedAt` FROM `scopus_videos_2019_comp`\n",
      "\tsql: SELECT `idx_paper`, `publishedAt` FROM `scopus_videos_2019_comp`;\n",
      "64 36\n",
      "\tCommand set: SELECT `idx_paper`, `publishedAt` FROM `scopus_videos_2014_comp`\n",
      "\tsql: SELECT `idx_paper`, `publishedAt` FROM `scopus_videos_2014_comp`;\n",
      "\tCommand set: SELECT `idx_paper`, `publishedAt` FROM `scopus_videos_2014_comp`\n",
      "\tsql: SELECT `idx_paper`, `publishedAt` FROM `scopus_videos_2014_comp`;\n",
      "102 25\n"
     ]
    }
   ],
   "source": [
    "_idx_papers_2019 = get_dois_with_videos_within_days_from_publish(df1, \"scopus_videos_2019_comp\")\n",
    "_idx_papers_2019_90 = get_dois_with_videos_within_days_from_publish(df1, \"scopus_videos_2019_comp\", 90)\n",
    "print(len(_idx_papers_2019), len(_idx_papers_2019_90))\n",
    "# _idx_papers_2017 = get_dois_with_videos_within_days_from_publish(df2, \"scopus_videos_2017_comp\")\n",
    "# _idx_papers_2017_90 = get_dois_with_videos_within_days_from_publish(df2, \"scopus_videos_2017_comp\", 90)\n",
    "# print(len(_idx_2017), len(_idx_2017_90))\n",
    "_idx_papers_2014 = get_dois_with_videos_within_days_from_publish(df3, \"scopus_videos_2014_comp\")\n",
    "_idx_papers_2014_90 = get_dois_with_videos_within_days_from_publish(df3, \"scopus_videos_2014_comp\", 90)\n",
    "print(len(_idx_papers_2014), len(_idx_papers_2014_90))"
   ]
  },
  {
   "cell_type": "code",
   "execution_count": 35,
   "metadata": {},
   "outputs": [
    {
     "name": "stdout",
     "output_type": "stream",
     "text": [
      "37 60\n",
      "163       5\n",
      "187      84\n",
      "198     461\n",
      "219       2\n",
      "226      11\n",
      "337       3\n",
      "517       2\n",
      "631       1\n",
      "678       2\n",
      "681      27\n",
      "750     171\n",
      "774     515\n",
      "802      15\n",
      "838       2\n",
      "854       1\n",
      "919       1\n",
      "936      10\n",
      "944      97\n",
      "948       3\n",
      "1025     28\n",
      "1151      1\n",
      "1374      2\n",
      "1378      1\n",
      "1399    209\n",
      "1505     11\n",
      "1553      5\n",
      "1560      2\n",
      "1601      7\n",
      "1629    269\n",
      "1666     86\n",
      "1717     88\n",
      "1746     22\n",
      "1886    301\n",
      "1969      3\n",
      "1985      2\n",
      "1992      4\n",
      "2003      4\n",
      "2004      1\n",
      "2005      1\n",
      "2006      1\n",
      "2007      1\n",
      "2008      1\n",
      "2009     25\n",
      "2010      2\n",
      "2042      3\n",
      "2132      1\n",
      "2165     44\n",
      "2187      1\n",
      "2348      6\n",
      "2371     21\n",
      "2545      4\n",
      "2556      3\n",
      "2560     21\n",
      "2580     67\n",
      "2814      9\n",
      "2865      2\n",
      "2959      6\n",
      "2970      6\n",
      "3123      3\n",
      "3187      2\n",
      "Name: AAS, dtype: object\n"
     ]
    },
    {
     "name": "stderr",
     "output_type": "stream",
     "text": [
      "/home/hweem/git/mastersdegree/ytcrawl/ytcrawl0/lib/python3.5/site-packages/ipykernel_launcher.py:2: UserWarning: Boolean Series key will be reindexed to match DataFrame index.\n",
      "  \n",
      "/home/hweem/git/mastersdegree/ytcrawl/ytcrawl0/lib/python3.5/site-packages/ipykernel_launcher.py:3: UserWarning: Boolean Series key will be reindexed to match DataFrame index.\n",
      "  This is separate from the ipykernel package so we can avoid doing imports until\n",
      "/home/hweem/git/mastersdegree/ytcrawl/ytcrawl0/lib/python3.5/site-packages/ipykernel_launcher.py:5: UserWarning: Boolean Series key will be reindexed to match DataFrame index.\n",
      "  \"\"\"\n"
     ]
    }
   ],
   "source": [
    "print(\n",
    "    len(df1[df1.DOI.isin(_idx_papers_2019)][df1[\"AAS\"] != \"None\"][\"AAS\"].dropna()),\n",
    "    len(df3[df3.DOI.isin(_idx_papers_2014)][df3[\"AAS\"] != \"None\"][\"AAS\"].dropna())\n",
    ")\n",
    "print(df3[df3.DOI.isin(_idx_papers_2014)][df3[\"AAS\"] != \"None\"][\"AAS\"].dropna())"
   ]
  },
  {
   "cell_type": "code",
   "execution_count": 39,
   "metadata": {},
   "outputs": [
    {
     "name": "stderr",
     "output_type": "stream",
     "text": [
      "/home/hweem/git/mastersdegree/ytcrawl/ytcrawl0/lib/python3.5/site-packages/ipykernel_launcher.py:1: UserWarning: Boolean Series key will be reindexed to match DataFrame index.\n",
      "  \"\"\"Entry point for launching an IPython kernel.\n"
     ]
    },
    {
     "data": {
      "text/plain": [
       "0       28\n",
       "1       15\n",
       "2        1\n",
       "3       10\n",
       "4        2\n",
       "5        1\n",
       "6        1\n",
       "7        4\n",
       "8        2\n",
       "9        1\n",
       "10       1\n",
       "11       1\n",
       "12       1\n",
       "13       1\n",
       "14       4\n",
       "15      12\n",
       "16       1\n",
       "17       1\n",
       "18       1\n",
       "19       3\n",
       "20       5\n",
       "21       1\n",
       "22       5\n",
       "23       1\n",
       "24       1\n",
       "25       2\n",
       "26       4\n",
       "27       3\n",
       "28       6\n",
       "29       1\n",
       "        ..\n",
       "3312     3\n",
       "3313     3\n",
       "3314     3\n",
       "3315     3\n",
       "3316     3\n",
       "3317     3\n",
       "3318     3\n",
       "3319     3\n",
       "3320     3\n",
       "3321     3\n",
       "3322     3\n",
       "3323     3\n",
       "3324     3\n",
       "3325     3\n",
       "3326     3\n",
       "3327     3\n",
       "3328     3\n",
       "3329     3\n",
       "3330     3\n",
       "3331     3\n",
       "3332     3\n",
       "3333     6\n",
       "3334     1\n",
       "3335     1\n",
       "3336     1\n",
       "3337     1\n",
       "3338     6\n",
       "3339     1\n",
       "3340     3\n",
       "3341     3\n",
       "Name: AAS, Length: 3282, dtype: int64"
      ]
     },
     "execution_count": 39,
     "metadata": {},
     "output_type": "execute_result"
    }
   ],
   "source": [
    "df3[~df3.DOI.isin(_idx_papers_2014)][df3[\"AAS\"] != \"None\"][\"AAS\"].dropna().astype(int)"
   ]
  },
  {
   "cell_type": "code",
   "execution_count": 40,
   "metadata": {},
   "outputs": [
    {
     "name": "stderr",
     "output_type": "stream",
     "text": [
      "/home/hweem/git/mastersdegree/ytcrawl/ytcrawl0/lib/python3.5/site-packages/ipykernel_launcher.py:5: UserWarning: Boolean Series key will be reindexed to match DataFrame index.\n",
      "  \"\"\"\n",
      "/home/hweem/git/mastersdegree/ytcrawl/ytcrawl0/lib/python3.5/site-packages/ipykernel_launcher.py:6: UserWarning: Boolean Series key will be reindexed to match DataFrame index.\n",
      "  \n",
      "/home/hweem/git/mastersdegree/ytcrawl/ytcrawl0/lib/python3.5/site-packages/ipykernel_launcher.py:9: UserWarning: Boolean Series key will be reindexed to match DataFrame index.\n",
      "  if __name__ == '__main__':\n",
      "/home/hweem/git/mastersdegree/ytcrawl/ytcrawl0/lib/python3.5/site-packages/ipykernel_launcher.py:10: UserWarning: Boolean Series key will be reindexed to match DataFrame index.\n",
      "  # Remove the CWD from sys.path while we load stuff.\n",
      "/home/hweem/git/mastersdegree/ytcrawl/ytcrawl0/lib/python3.5/site-packages/ipykernel_launcher.py:13: UserWarning: Boolean Series key will be reindexed to match DataFrame index.\n",
      "  del sys.path[0]\n",
      "/home/hweem/git/mastersdegree/ytcrawl/ytcrawl0/lib/python3.5/site-packages/ipykernel_launcher.py:14: UserWarning: Boolean Series key will be reindexed to match DataFrame index.\n",
      "  \n",
      "/home/hweem/git/mastersdegree/ytcrawl/ytcrawl0/lib/python3.5/site-packages/ipykernel_launcher.py:17: UserWarning: Boolean Series key will be reindexed to match DataFrame index.\n",
      "/home/hweem/git/mastersdegree/ytcrawl/ytcrawl0/lib/python3.5/site-packages/ipykernel_launcher.py:18: UserWarning: Boolean Series key will be reindexed to match DataFrame index.\n"
     ]
    },
    {
     "data": {
      "text/plain": [
       "{'boxes': [<matplotlib.lines.Line2D at 0x7fdee2689240>,\n",
       "  <matplotlib.lines.Line2D at 0x7fdee2684a90>,\n",
       "  <matplotlib.lines.Line2D at 0x7fdee26a21d0>,\n",
       "  <matplotlib.lines.Line2D at 0x7fdee267e908>],\n",
       " 'caps': [<matplotlib.lines.Line2D at 0x7fdee2689cf8>,\n",
       "  <matplotlib.lines.Line2D at 0x7fdee2684080>,\n",
       "  <matplotlib.lines.Line2D at 0x7fdee26904a8>,\n",
       "  <matplotlib.lines.Line2D at 0x7fdee26907f0>,\n",
       "  <matplotlib.lines.Line2D at 0x7fdee26a2be0>,\n",
       "  <matplotlib.lines.Line2D at 0x7fdee26a2f28>,\n",
       "  <matplotlib.lines.Line2D at 0x7fdee268c358>,\n",
       "  <matplotlib.lines.Line2D at 0x7fdee268c6a0>],\n",
       " 'fliers': [<matplotlib.lines.Line2D at 0x7fdee2684710>,\n",
       "  <matplotlib.lines.Line2D at 0x7fdee2690e80>,\n",
       "  <matplotlib.lines.Line2D at 0x7fdee267e5f8>,\n",
       "  <matplotlib.lines.Line2D at 0x7fdee268cd30>],\n",
       " 'means': [],\n",
       " 'medians': [<matplotlib.lines.Line2D at 0x7fdee26843c8>,\n",
       "  <matplotlib.lines.Line2D at 0x7fdee2690b38>,\n",
       "  <matplotlib.lines.Line2D at 0x7fdee267e2b0>,\n",
       "  <matplotlib.lines.Line2D at 0x7fdee268c9e8>],\n",
       " 'whiskers': [<matplotlib.lines.Line2D at 0x7fdee2689518>,\n",
       "  <matplotlib.lines.Line2D at 0x7fdee26899b0>,\n",
       "  <matplotlib.lines.Line2D at 0x7fdee2684dd8>,\n",
       "  <matplotlib.lines.Line2D at 0x7fdee2690160>,\n",
       "  <matplotlib.lines.Line2D at 0x7fdee26a2550>,\n",
       "  <matplotlib.lines.Line2D at 0x7fdee26a2898>,\n",
       "  <matplotlib.lines.Line2D at 0x7fdee267ec88>,\n",
       "  <matplotlib.lines.Line2D at 0x7fdee267efd0>]}"
      ]
     },
     "execution_count": 40,
     "metadata": {},
     "output_type": "execute_result"
    },
    {
     "data": {
      "image/png": "[encoded data removed]",
      "text/plain": [
       "<Figure size 720x432 with 1 Axes>"
      ]
     },
     "metadata": {
      "needs_background": "light"
     },
     "output_type": "display_data"
    }
   ],
   "source": [
    "plt.figure(figsize=(10, 6))\n",
    "plt.yscale(\"log\")\n",
    "# plt.ylim([0, 200])\n",
    "plt.boxplot([\n",
    "    df1[~df1.DOI.isin(_idx_papers_2019)][df1[\"AAS\"] != \"None\"][\"AAS\"].dropna().astype(int),\n",
    "    df1[df1.DOI.isin(_idx_papers_2019)][df1[\"AAS\"] != \"None\"][\"AAS\"].dropna().astype(int),\n",
    "#     df2[~df2.DOI.isin(_idx_papers_2017)][\"AAS\"].dropna(),\n",
    "#     df2[df2.DOI.isin(_idx_papers_2017)][\"AAS\"].dropna(),\n",
    "    df3[~df3.DOI.isin(_idx_papers_2014)][df3[\"AAS\"] != \"None\"][\"AAS\"].dropna().astype(int),\n",
    "    df3[df3.DOI.isin(_idx_papers_2014)][df3[\"AAS\"] != \"None\"][\"AAS\"].dropna().astype(int)\n",
    "],\n",
    "    labels=[\n",
    "        \"2019 w/o videos\\n(N=%s)\"%len(df1[~df1.DOI.isin(_idx_papers_2019)][df1[\"AAS\"] != \"None\"][\"AAS\"].dropna().astype(int)),\n",
    "        \"2019 w/ videos\\n(N=%s)\"%len(df1[df1.DOI.isin(_idx_papers_2019)][df1[\"AAS\"] != \"None\"][\"AAS\"].dropna().astype(int)),\n",
    "#         \"2017 w/o videos\\n(N=%s)\"%len(df2[~df2.DOI.isin(_idx_papers_2017)][\"AAS\"].dropna()),\n",
    "#         \"2017 w/ videos\\n(N=%s)\"%len(df2[df2.DOI.isin(_idx_papers_2017)][\"AAS\"].dropna()),\n",
    "        \"2014 w/o videos\\n(N=%s)\"%len(df3[~df3.DOI.isin(_idx_papers_2014)][df3[\"AAS\"] != \"None\"][\"AAS\"].dropna().astype(int)),\n",
    "        \"2014 w/ videos\\n(N=%s)\"%len(df3[df3.DOI.isin(_idx_papers_2014)][df3[\"AAS\"] != \"None\"][\"AAS\"].dropna().astype(int))\n",
    "    ]\n",
    ")"
   ]
  },
  {
   "cell_type": "code",
   "execution_count": 41,
   "metadata": {},
   "outputs": [
    {
     "name": "stdout",
     "output_type": "stream",
     "text": [
      "2019\tS = -13.606527\tp = 0.000000\n",
      "2014\tS = -13.092784\tp = 0.000000\n"
     ]
    },
    {
     "name": "stderr",
     "output_type": "stream",
     "text": [
      "/home/hweem/git/mastersdegree/ytcrawl/ytcrawl0/lib/python3.5/site-packages/ipykernel_launcher.py:2: UserWarning: Boolean Series key will be reindexed to match DataFrame index.\n",
      "  \n",
      "/home/hweem/git/mastersdegree/ytcrawl/ytcrawl0/lib/python3.5/site-packages/ipykernel_launcher.py:3: UserWarning: Boolean Series key will be reindexed to match DataFrame index.\n",
      "  This is separate from the ipykernel package so we can avoid doing imports until\n",
      "/home/hweem/git/mastersdegree/ytcrawl/ytcrawl0/lib/python3.5/site-packages/ipykernel_launcher.py:8: UserWarning: Boolean Series key will be reindexed to match DataFrame index.\n",
      "  \n",
      "/home/hweem/git/mastersdegree/ytcrawl/ytcrawl0/lib/python3.5/site-packages/ipykernel_launcher.py:9: UserWarning: Boolean Series key will be reindexed to match DataFrame index.\n",
      "  if __name__ == '__main__':\n"
     ]
    }
   ],
   "source": [
    "_s2019, _p2019 = stats.ttest_ind(\n",
    "    df1[~df1.DOI.isin(_idx_papers_2019)][df1[\"AAS\"] != \"None\"][\"AAS\"].dropna().astype(int),\n",
    "    df1[df1.DOI.isin(_idx_papers_2019)][df1[\"AAS\"] != \"None\"][\"AAS\"].dropna().astype(int)\n",
    ")\n",
    "print(\"2019\\tS = %f\\tp = %f\"%(_s2019, _p2019))\n",
    "\n",
    "_s2014, _p2014 = stats.ttest_ind(\n",
    "    df3[~df3.DOI.isin(_idx_papers_2014)][df3[\"AAS\"] != \"None\"][\"AAS\"].dropna().astype(int),\n",
    "    df3[df3.DOI.isin(_idx_papers_2014)][df3[\"AAS\"] != \"None\"][\"AAS\"].dropna().astype(int)\n",
    ")\n",
    "print(\"2014\\tS = %f\\tp = %f\"%(_s2014, _p2014))"
   ]
  },
  {
   "cell_type": "code",
   "execution_count": null,
   "metadata": {},
   "outputs": [],
   "source": []
  }
 ],
 "metadata": {
  "kernelspec": {
   "display_name": "Python 3",
   "language": "python",
   "name": "python3"
  },
  "language_info": {
   "codemirror_mode": {
    "name": "ipython",
    "version": 3
   },
   "file_extension": ".py",
   "mimetype": "text/x-python",
   "name": "python",
   "nbconvert_exporter": "python",
   "pygments_lexer": "ipython3",
   "version": "3.5.2"
  }
 },
 "nbformat": 4,
 "nbformat_minor": 4
}
