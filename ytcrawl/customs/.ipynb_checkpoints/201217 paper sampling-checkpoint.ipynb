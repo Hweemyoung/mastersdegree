{
 "cells": [
  {
   "cell_type": "code",
   "execution_count": 1,
   "metadata": {},
   "outputs": [],
   "source": [
    "import numpy as np\n",
    "import pandas as pd\n",
    "import matplotlib.pyplot as plt\n",
    "%matplotlib inline"
   ]
  },
  {
   "cell_type": "code",
   "execution_count": 82,
   "metadata": {},
   "outputs": [],
   "source": [
    "# 저자 수, 기관 수: 같은 수\n",
    "# 국제 집필 여부, 펀드 유무, 공개 논문 여부: 같은 여부\n",
    "# 동일 저널, 동일 문서 타입, 동일 토픽: 같은 분류\n",
    "df3 = pd.read_csv(\"/home/hweem/git/mastersdegree/ytcrawl/customs/scopus/scopus_2014_comp.csv\")"
   ]
  },
  {
   "cell_type": "code",
   "execution_count": 10,
   "metadata": {},
   "outputs": [],
   "source": [
    "def preprocess_authors(df):\n",
    "    _column_name = \"Author(s) ID\"\n",
    "    df = df.astype({_column_name: str})\n",
    "    # nan, \"[No author id available]\"\n",
    "    df = df[df[_column_name].notna()]\n",
    "    df = df[df[_column_name] != \"[No author id available]\"]\n",
    "    # Split by ;\n",
    "    df[\"num_authors\"] = df[_column_name].apply(lambda _text: len(_text.split(\";\")))\n",
    "    return df"
   ]
  },
  {
   "cell_type": "code",
   "execution_count": 12,
   "metadata": {},
   "outputs": [],
   "source": [
    "def preprocess_affiliations(df):\n",
    "    _column_name = \"Affiliations\"\n",
    "    df = df.astype({_column_name: str})\n",
    "    # nan\n",
    "    df = df[df[_column_name].notna()]\n",
    "    # Split by ;\n",
    "    df[\"num_affiliations\"] = df[_column_name].apply(lambda _text: len(_text.split(\";\")))\n",
    "    return df"
   ]
  },
  {
   "cell_type": "code",
   "execution_count": 77,
   "metadata": {},
   "outputs": [],
   "source": [
    "def preprocess_funding(df):\n",
    "    import math\n",
    "    _column_name = \"Funding Details\"\n",
    "    df[\"is_funded\"] = df[_column_name].fillna(False)\n",
    "    df[\"is_funded\"] = df[\"is_funded\"].apply(lambda _text: True if _text != False else _text)\n",
    "#     df[\"is_funded\"] = df[_column_name].apply(lambda _text: False if math.isnan(_text) else True)\n",
    "    return df"
   ]
  },
  {
   "cell_type": "code",
   "execution_count": 80,
   "metadata": {},
   "outputs": [],
   "source": [
    "def preprocess_access_type(df):\n",
    "    _column_name = \"Access Type\"\n",
    "    df[\"is_open\"] = df[_column_name].fillna(False)\n",
    "    df[\"is_open\"] = df[\"is_open\"].apply(lambda _text: True if _text != False else _text)\n",
    "#     df[\"is_funded\"] = df[_column_name].apply(lambda _text: False if math.isnan(_text) else True)\n",
    "    return df"
   ]
  },
  {
   "cell_type": "code",
   "execution_count": 81,
   "metadata": {},
   "outputs": [
    {
     "data": {
      "text/plain": [
       "0        True\n",
       "1       False\n",
       "2       False\n",
       "3       False\n",
       "4        True\n",
       "        ...  \n",
       "9593     True\n",
       "9594    False\n",
       "9595    False\n",
       "9596    False\n",
       "9597    False\n",
       "Name: is_open, Length: 9598, dtype: bool"
      ]
     },
     "execution_count": 81,
     "metadata": {},
     "output_type": "execute_result"
    }
   ],
   "source": [
    "preprocess_access_type(df3)[\"is_open\"]"
   ]
  },
  {
   "cell_type": "code",
   "execution_count": 83,
   "metadata": {},
   "outputs": [],
   "source": [
    "def preprocess_df(df):\n",
    "    df = preprocess_authors(df)\n",
    "    df = preprocess_affiliations(df)\n",
    "    df = preprocess_funding(df)\n",
    "    df = preprocess_access_type(df)\n",
    "    return df"
   ]
  },
  {
   "cell_type": "code",
   "execution_count": null,
   "metadata": {},
   "outputs": [],
   "source": []
  }
 ],
 "metadata": {
  "kernelspec": {
   "display_name": "s-transformers",
   "language": "python",
   "name": "s-transformers"
  },
  "language_info": {
   "codemirror_mode": {
    "name": "ipython",
    "version": 3
   },
   "file_extension": ".py",
   "mimetype": "text/x-python",
   "name": "python",
   "nbconvert_exporter": "python",
   "pygments_lexer": "ipython3",
   "version": "3.8.5"
  }
 },
 "nbformat": 4,
 "nbformat_minor": 4
}
