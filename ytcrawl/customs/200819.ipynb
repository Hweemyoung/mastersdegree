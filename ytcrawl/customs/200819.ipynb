{
 "cells": [
  {
   "cell_type": "code",
   "execution_count": 1,
   "metadata": {},
   "outputs": [],
   "source": [
    "import numpy as np\n",
    "import pandas as pd\n",
    "from db_handler import DBHandler\n",
    "from matplotlib import pyplot as plt\n",
    "from scipy import stats\n",
    "from datetime import datetime, timedelta\n",
    "from calendar import monthrange\n",
    "%matplotlib inline"
   ]
  },
  {
   "cell_type": "code",
   "execution_count": 2,
   "metadata": {},
   "outputs": [],
   "source": [
    "def parse_fetches(fetches):\n",
    "    _new_fetches = list()\n",
    "    for _fetch in fetches:\n",
    "        for _doi in _fetch[0].split(\", \"):\n",
    "            _new_fetches.append(\n",
    "                (_doi, _fetch[1])\n",
    "            )\n",
    "    return _new_fetches\n",
    "\n",
    "def get_dois_with_videos_within_days_from_publish(df, table_name, days_from=None, days_until=None):\n",
    "    _set_target_dois = set()\n",
    "    db_handler.sql_handler.select(table_name, [\"idx_paper\", \"publishedAt\"])\n",
    "    fetches = db_handler.execute().fetchall()\n",
    "    fetches = parse_fetches(fetches)\n",
    "    \n",
    "    for _row in fetches:\n",
    "#         print(\"DOI:\", _row[0])\n",
    "        _target_paper = df[df[\"DOI\"] == _row[0]]\n",
    "#         if len(_target_paper) == 0:\n",
    "#             continue\n",
    "        if len(_target_paper) > 1:\n",
    "            _target_paper = _target_paper.iloc[0]\n",
    "        _dt_publish = datetime(_target_paper[\"Year\"], _target_paper[\"Month\"], 1)\n",
    "        \n",
    "        if days_from != None:\n",
    "            _dt_video_from = _dt_publish + timedelta(days=days_from)\n",
    "            if _row[1] < _dt_video_from:\n",
    "                continue\n",
    "        \n",
    "        if days_until != None:\n",
    "            _dt_video_until = _dt_publish + timedelta(days=days_until)\n",
    "            if _row[1] > _dt_video_until:\n",
    "                continue\n",
    "        \n",
    "        _set_target_dois.add(_row[0])\n",
    "    \n",
    "#     if days_until == None:\n",
    "#         _set_target_dois = set(map(lambda _row: _row[0], fetches))\n",
    "#     else:\n",
    "#         for _row in fetches:\n",
    "#             _target_paper = df[df[\"DOI\"] == _row[0]]\n",
    "#             if len(_target_paper) > 1:\n",
    "#                 _target_paper = _target_paper.iloc[0]\n",
    "#             _dt_publish = datetime(_target_paper[\"Year\"], _target_paper[\"Month\"], 1)\n",
    "            \n",
    "#             _dt_video_from = _dt_publish + timedelta(days=days_from)\n",
    "#             _dt_video_until = _dt_publish + timedelta(days=days_until)\n",
    "            \n",
    "#             if _row[1] < _dt_video_deadline:\n",
    "#                 _set_target_dois.add(_row[0])\n",
    "    \n",
    "    return _set_target_dois"
   ]
  },
  {
   "cell_type": "code",
   "execution_count": 3,
   "metadata": {},
   "outputs": [],
   "source": [
    "df1 = pd.read_csv(\"/home/hweem/git/mastersdegree/ytcrawl/customs/scopus/scopus_math+comp_top5perc_1901-1906.csv\")\n",
    "df2 = pd.read_csv(\"/home/hweem/git/mastersdegree/ytcrawl/customs/scopus/scopus_math+comp_top5perc_1701-1706.csv\")\n",
    "df3 = pd.read_csv(\"/home/hweem/git/mastersdegree/ytcrawl/customs/scopus/scopus_math+comp_top5perc_1401-1406.csv\")\n",
    "db_handler = DBHandler()"
   ]
  },
  {
   "cell_type": "code",
   "execution_count": 4,
   "metadata": {},
   "outputs": [
    {
     "name": "stdout",
     "output_type": "stream",
     "text": [
      "\tCommand set: SELECT `idx_paper`, `publishedAt` FROM `scopus_videos_2014_comp`\n",
      "\tsql: SELECT `idx_paper`, `publishedAt` FROM `scopus_videos_2014_comp`;\n",
      "\tCommand set: SELECT `idx_paper`, `publishedAt` FROM `scopus_videos_2017_comp`\n",
      "\tsql: SELECT `idx_paper`, `publishedAt` FROM `scopus_videos_2017_comp`;\n",
      "\tCommand set: SELECT `idx_paper`, `publishedAt` FROM `scopus_videos_2019_comp`\n",
      "\tsql: SELECT `idx_paper`, `publishedAt` FROM `scopus_videos_2019_comp`;\n"
     ]
    }
   ],
   "source": [
    "db_handler.sql_handler.select(\"scopus_videos_2014_comp\", [\"idx_paper\", \"publishedAt\"])\n",
    "_videos_2014 = db_handler.execute().fetchall()\n",
    "db_handler.sql_handler.select(\"scopus_videos_2017_comp\", [\"idx_paper\", \"publishedAt\"])\n",
    "_videos_2017 = db_handler.execute().fetchall()\n",
    "db_handler.sql_handler.select(\"scopus_videos_2019_comp\", [\"idx_paper\", \"publishedAt\"])\n",
    "_videos_2019 = db_handler.execute().fetchall()"
   ]
  },
  {
   "cell_type": "code",
   "execution_count": 5,
   "metadata": {},
   "outputs": [
    {
     "name": "stdout",
     "output_type": "stream",
     "text": [
      "\tCommand set: SELECT `idx_paper`, `publishedAt` FROM `scopus_videos_2019_comp`\n",
      "\tsql: SELECT `idx_paper`, `publishedAt` FROM `scopus_videos_2019_comp`;\n",
      "\tCommand set: SELECT `idx_paper`, `publishedAt` FROM `scopus_videos_2019_comp`\n",
      "\tsql: SELECT `idx_paper`, `publishedAt` FROM `scopus_videos_2019_comp`;\n",
      "64 36\n",
      "\tCommand set: SELECT `idx_paper`, `publishedAt` FROM `scopus_videos_2017_comp`\n",
      "\tsql: SELECT `idx_paper`, `publishedAt` FROM `scopus_videos_2017_comp`;\n",
      "\tCommand set: SELECT `idx_paper`, `publishedAt` FROM `scopus_videos_2017_comp`\n",
      "\tsql: SELECT `idx_paper`, `publishedAt` FROM `scopus_videos_2017_comp`;\n",
      "72 30\n",
      "\tCommand set: SELECT `idx_paper`, `publishedAt` FROM `scopus_videos_2014_comp`\n",
      "\tsql: SELECT `idx_paper`, `publishedAt` FROM `scopus_videos_2014_comp`;\n",
      "\tCommand set: SELECT `idx_paper`, `publishedAt` FROM `scopus_videos_2014_comp`\n",
      "\tsql: SELECT `idx_paper`, `publishedAt` FROM `scopus_videos_2014_comp`;\n",
      "102 25\n"
     ]
    }
   ],
   "source": [
    "_idx_papers_2019 = get_dois_with_videos_within_days_from_publish(df1, \"scopus_videos_2019_comp\")\n",
    "_idx_papers_2019_90 = get_dois_with_videos_within_days_from_publish(df1, \"scopus_videos_2019_comp\", None, 90)\n",
    "print(len(_idx_papers_2019), len(_idx_papers_2019_90))\n",
    "_idx_papers_2017 = get_dois_with_videos_within_days_from_publish(df2, \"scopus_videos_2017_comp\")\n",
    "_idx_papers_2017_90 = get_dois_with_videos_within_days_from_publish(df2, \"scopus_videos_2017_comp\", None, 90)\n",
    "print(len(_idx_papers_2017), len(_idx_papers_2017_90))\n",
    "_idx_papers_2014 = get_dois_with_videos_within_days_from_publish(df3, \"scopus_videos_2014_comp\")\n",
    "_idx_papers_2014_90 = get_dois_with_videos_within_days_from_publish(df3, \"scopus_videos_2014_comp\", None, 90)\n",
    "print(len(_idx_papers_2014), len(_idx_papers_2014_90))"
   ]
  },
  {
   "cell_type": "code",
   "execution_count": 6,
   "metadata": {},
   "outputs": [
    {
     "name": "stdout",
     "output_type": "stream",
     "text": [
      "37 60\n",
      "439      10.0\n",
      "489      67.0\n",
      "596      44.0\n",
      "730       2.0\n",
      "766       1.0\n",
      "1558      3.0\n",
      "2101      3.0\n",
      "2108      2.0\n",
      "2419      6.0\n",
      "2450      1.0\n",
      "2912      6.0\n",
      "3051      9.0\n",
      "3380      2.0\n",
      "3586      2.0\n",
      "3824      1.0\n",
      "4050      3.0\n",
      "5173      3.0\n",
      "5181     97.0\n",
      "5231    209.0\n",
      "5250      7.0\n",
      "5276    515.0\n",
      "5318     22.0\n",
      "5322    301.0\n",
      "5352      2.0\n",
      "5441      1.0\n",
      "5448      1.0\n",
      "5449      1.0\n",
      "5453      1.0\n",
      "5454      1.0\n",
      "5461     25.0\n",
      "5473      4.0\n",
      "5474      2.0\n",
      "5627      5.0\n",
      "5708      1.0\n",
      "5762      2.0\n",
      "6513      2.0\n",
      "6553      1.0\n",
      "6626     28.0\n",
      "6656     11.0\n",
      "6739      4.0\n",
      "6839      2.0\n",
      "6866      6.0\n",
      "6892      3.0\n",
      "7534      4.0\n",
      "7537      3.0\n",
      "8154     84.0\n",
      "8170     11.0\n",
      "8224      2.0\n",
      "8235     15.0\n",
      "8237    171.0\n",
      "8293     88.0\n",
      "8335      5.0\n",
      "8352     86.0\n",
      "8357    269.0\n",
      "8401      1.0\n",
      "8524      1.0\n",
      "9384    461.0\n",
      "9386     21.0\n",
      "9392     27.0\n",
      "9403     21.0\n",
      "Name: AAS, dtype: float64\n"
     ]
    },
    {
     "name": "stderr",
     "output_type": "stream",
     "text": [
      "/home/hweem/git/mastersdegree/ytcrawl/ytcrawl0/lib/python3.5/site-packages/ipykernel_launcher.py:2: UserWarning: Boolean Series key will be reindexed to match DataFrame index.\n",
      "  \n",
      "/home/hweem/git/mastersdegree/ytcrawl/ytcrawl0/lib/python3.5/site-packages/pandas/core/ops.py:1649: FutureWarning: elementwise comparison failed; returning scalar instead, but in the future will perform elementwise comparison\n",
      "  result = method(y)\n",
      "/home/hweem/git/mastersdegree/ytcrawl/ytcrawl0/lib/python3.5/site-packages/ipykernel_launcher.py:3: UserWarning: Boolean Series key will be reindexed to match DataFrame index.\n",
      "  This is separate from the ipykernel package so we can avoid doing imports until\n",
      "/home/hweem/git/mastersdegree/ytcrawl/ytcrawl0/lib/python3.5/site-packages/ipykernel_launcher.py:5: UserWarning: Boolean Series key will be reindexed to match DataFrame index.\n",
      "  \"\"\"\n"
     ]
    }
   ],
   "source": [
    "print(\n",
    "    len(df1[df1.DOI.isin(_idx_papers_2019)][df1[\"AAS\"] != \"None\"][\"AAS\"].dropna()),\n",
    "    len(df3[df3.DOI.isin(_idx_papers_2014)][df3[\"AAS\"] != \"None\"][\"AAS\"].dropna())\n",
    ")\n",
    "print(df3[df3.DOI.isin(_idx_papers_2014)][df3[\"AAS\"] != \"None\"][\"AAS\"].dropna())"
   ]
  },
  {
   "cell_type": "code",
   "execution_count": 7,
   "metadata": {},
   "outputs": [
    {
     "name": "stderr",
     "output_type": "stream",
     "text": [
      "/home/hweem/git/mastersdegree/ytcrawl/ytcrawl0/lib/python3.5/site-packages/ipykernel_launcher.py:1: UserWarning: Boolean Series key will be reindexed to match DataFrame index.\n",
      "  \"\"\"Entry point for launching an IPython kernel.\n"
     ]
    },
    {
     "data": {
      "text/plain": [
       "0        2\n",
       "1        5\n",
       "2        6\n",
       "5        1\n",
       "6        3\n",
       "7        5\n",
       "8        4\n",
       "9        3\n",
       "10      15\n",
       "11      28\n",
       "12       2\n",
       "13       3\n",
       "14       2\n",
       "15       7\n",
       "16       2\n",
       "17       1\n",
       "18       4\n",
       "19      95\n",
       "20       1\n",
       "21       1\n",
       "22       1\n",
       "23       1\n",
       "24       6\n",
       "25       2\n",
       "26      19\n",
       "27       3\n",
       "28       4\n",
       "29      21\n",
       "30       6\n",
       "31       7\n",
       "        ..\n",
       "9481     3\n",
       "9490     1\n",
       "9491     2\n",
       "9492    19\n",
       "9493     3\n",
       "9494     1\n",
       "9496     5\n",
       "9497     1\n",
       "9499     2\n",
       "9502     9\n",
       "9503     3\n",
       "9505     9\n",
       "9509     1\n",
       "9513     3\n",
       "9514     1\n",
       "9515     4\n",
       "9519     2\n",
       "9520     4\n",
       "9524     5\n",
       "9526     6\n",
       "9528     9\n",
       "9542     1\n",
       "9551     7\n",
       "9560     4\n",
       "9561     4\n",
       "9563     3\n",
       "9580     1\n",
       "9586     1\n",
       "9589     1\n",
       "9594     1\n",
       "Name: AAS, Length: 3287, dtype: int64"
      ]
     },
     "execution_count": 7,
     "metadata": {},
     "output_type": "execute_result"
    }
   ],
   "source": [
    "df3[~df3.DOI.isin(_idx_papers_2014)][df3[\"AAS\"] != \"None\"][\"AAS\"].dropna().astype(int)"
   ]
  },
  {
   "cell_type": "code",
   "execution_count": 8,
   "metadata": {},
   "outputs": [
    {
     "name": "stderr",
     "output_type": "stream",
     "text": [
      "/home/hweem/git/mastersdegree/ytcrawl/ytcrawl0/lib/python3.5/site-packages/ipykernel_launcher.py:8: UserWarning: Boolean Series key will be reindexed to match DataFrame index.\n",
      "  \n",
      "/home/hweem/git/mastersdegree/ytcrawl/ytcrawl0/lib/python3.5/site-packages/ipykernel_launcher.py:9: UserWarning: Boolean Series key will be reindexed to match DataFrame index.\n",
      "  if __name__ == '__main__':\n",
      "/home/hweem/git/mastersdegree/ytcrawl/ytcrawl0/lib/python3.5/site-packages/ipykernel_launcher.py:10: UserWarning: Boolean Series key will be reindexed to match DataFrame index.\n",
      "  # Remove the CWD from sys.path while we load stuff.\n",
      "/home/hweem/git/mastersdegree/ytcrawl/ytcrawl0/lib/python3.5/site-packages/ipykernel_launcher.py:11: UserWarning: Boolean Series key will be reindexed to match DataFrame index.\n",
      "  # This is added back by InteractiveShellApp.init_path()\n",
      "/home/hweem/git/mastersdegree/ytcrawl/ytcrawl0/lib/python3.5/site-packages/ipykernel_launcher.py:12: UserWarning: Boolean Series key will be reindexed to match DataFrame index.\n",
      "  if sys.path[0] == '':\n",
      "/home/hweem/git/mastersdegree/ytcrawl/ytcrawl0/lib/python3.5/site-packages/ipykernel_launcher.py:13: UserWarning: Boolean Series key will be reindexed to match DataFrame index.\n",
      "  del sys.path[0]\n"
     ]
    },
    {
     "data": {
      "text/plain": [
       "{'boxes': [<matplotlib.lines.Line2D at 0x7f27cae21eb8>,\n",
       "  <matplotlib.lines.Line2D at 0x7f27ca981518>,\n",
       "  <matplotlib.lines.Line2D at 0x7f27ca988c18>,\n",
       "  <matplotlib.lines.Line2D at 0x7f27ca996390>,\n",
       "  <matplotlib.lines.Line2D at 0x7f27ca99dac8>,\n",
       "  <matplotlib.lines.Line2D at 0x7f27ca9ad240>],\n",
       " 'caps': [<matplotlib.lines.Line2D at 0x7f27ca97b780>,\n",
       "  <matplotlib.lines.Line2D at 0x7f27ca97bac8>,\n",
       "  <matplotlib.lines.Line2D at 0x7f27ca981ef0>,\n",
       "  <matplotlib.lines.Line2D at 0x7f27ca988278>,\n",
       "  <matplotlib.lines.Line2D at 0x7f27ca990668>,\n",
       "  <matplotlib.lines.Line2D at 0x7f27ca9909b0>,\n",
       "  <matplotlib.lines.Line2D at 0x7f27ca996da0>,\n",
       "  <matplotlib.lines.Line2D at 0x7f27ca99d128>,\n",
       "  <matplotlib.lines.Line2D at 0x7f27ca9a5518>,\n",
       "  <matplotlib.lines.Line2D at 0x7f27ca9a5860>,\n",
       "  <matplotlib.lines.Line2D at 0x7f27ca9adc50>,\n",
       "  <matplotlib.lines.Line2D at 0x7f27ca9adf98>],\n",
       " 'fliers': [<matplotlib.lines.Line2D at 0x7f27ca981198>,\n",
       "  <matplotlib.lines.Line2D at 0x7f27ca988908>,\n",
       "  <matplotlib.lines.Line2D at 0x7f27ca996080>,\n",
       "  <matplotlib.lines.Line2D at 0x7f27ca99d7b8>,\n",
       "  <matplotlib.lines.Line2D at 0x7f27ca9a5ef0>,\n",
       "  <matplotlib.lines.Line2D at 0x7f27ca9b5668>],\n",
       " 'means': [],\n",
       " 'medians': [<matplotlib.lines.Line2D at 0x7f27ca97be10>,\n",
       "  <matplotlib.lines.Line2D at 0x7f27ca9885c0>,\n",
       "  <matplotlib.lines.Line2D at 0x7f27ca990cf8>,\n",
       "  <matplotlib.lines.Line2D at 0x7f27ca99d470>,\n",
       "  <matplotlib.lines.Line2D at 0x7f27ca9a5ba8>,\n",
       "  <matplotlib.lines.Line2D at 0x7f27ca9b5320>],\n",
       " 'whiskers': [<matplotlib.lines.Line2D at 0x7f27ca97b0f0>,\n",
       "  <matplotlib.lines.Line2D at 0x7f27ca97b438>,\n",
       "  <matplotlib.lines.Line2D at 0x7f27ca981860>,\n",
       "  <matplotlib.lines.Line2D at 0x7f27ca981ba8>,\n",
       "  <matplotlib.lines.Line2D at 0x7f27ca988f98>,\n",
       "  <matplotlib.lines.Line2D at 0x7f27ca990320>,\n",
       "  <matplotlib.lines.Line2D at 0x7f27ca996710>,\n",
       "  <matplotlib.lines.Line2D at 0x7f27ca996a58>,\n",
       "  <matplotlib.lines.Line2D at 0x7f27ca99de48>,\n",
       "  <matplotlib.lines.Line2D at 0x7f27ca9a51d0>,\n",
       "  <matplotlib.lines.Line2D at 0x7f27ca9ad5c0>,\n",
       "  <matplotlib.lines.Line2D at 0x7f27ca9ad908>]}"
      ]
     },
     "execution_count": 8,
     "metadata": {},
     "output_type": "execute_result"
    },
    {
     "data": {
      "image/png": "[encoded data removed]",
      "text/plain": [
       "<Figure size 720x432 with 1 Axes>"
      ]
     },
     "metadata": {
      "needs_background": "light"
     },
     "output_type": "display_data"
    }
   ],
   "source": [
    "# _2019_wo_videos_cit = df1[~df1.DOI.isin(_idx_papers_2019)][df1[\"Cited by\"] != \"None\"][\"Cited by\"].dropna().astype(int)\n",
    "# _2019_w_videos_cit = df1[df1.DOI.isin(_idx_papers_2019)][df1[\"Cited by\"] != \"None\"][\"Cited by\"].dropna().astype(int)\n",
    "# _2017_wo_videos_cit = df2[~df2.DOI.isin(_idx_papers_2017)][df2[\"Cited by\"] != \"None\"][\"Cited by\"].dropna().astype(int)\n",
    "# _2017_w_videos_cit = df2[df2.DOI.isin(_idx_papers_2017)][df2[\"Cited by\"] != \"None\"][\"Cited by\"].dropna().astype(int)\n",
    "# _2014_wo_videos_cit = df3[~df3.DOI.isin(_idx_papers_2014)][df3[\"Cited by\"] != \"None\"][\"Cited by\"].dropna().astype(int)\n",
    "# _2014_w_videos_cit = df3[df3.DOI.isin(_idx_papers_2014)][df3[\"Cited by\"] != \"None\"][\"Cited by\"].dropna().astype(int)\n",
    "\n",
    "_2019_wo_videos_cit = np.log10(df1[~df1.DOI.isin(_idx_papers_2019)][df1[\"Cited by\"] != \"None\"][\"Cited by\"].dropna().astype(int))\n",
    "_2019_w_videos_cit = np.log10(df1[df1.DOI.isin(_idx_papers_2019)][df1[\"Cited by\"] != \"None\"][\"Cited by\"].dropna().astype(int))\n",
    "_2017_wo_videos_cit = np.log10(df2[~df2.DOI.isin(_idx_papers_2017)][df2[\"Cited by\"] != \"None\"][\"Cited by\"].dropna().astype(int))\n",
    "_2017_w_videos_cit = np.log10(df2[df2.DOI.isin(_idx_papers_2017)][df2[\"Cited by\"] != \"None\"][\"Cited by\"].dropna().astype(int))\n",
    "_2014_wo_videos_cit = np.log10(df3[~df3.DOI.isin(_idx_papers_2014)][df3[\"Cited by\"] != \"None\"][\"Cited by\"].dropna().astype(int))\n",
    "_2014_w_videos_cit = np.log10(df3[df3.DOI.isin(_idx_papers_2014)][df3[\"Cited by\"] != \"None\"][\"Cited by\"].dropna().astype(int))\n",
    "\n",
    "plt.figure(figsize=(10, 6))\n",
    "plt.title(\"Citation\")\n",
    "# plt.yscale(\"log\")\n",
    "# plt.ylim([0, 200])\n",
    "plt.ylabel(\"log10(Citation)\")\n",
    "plt.boxplot([\n",
    "    _2019_wo_videos_cit,\n",
    "    _2019_w_videos_cit,\n",
    "    _2017_wo_videos_cit,\n",
    "    _2017_w_videos_cit,\n",
    "    _2014_wo_videos_cit,\n",
    "    _2014_w_videos_cit\n",
    "],\n",
    "    labels=[\n",
    "        \"2019 w/o videos\\n(N=%s)\"%len(_2019_wo_videos_cit),\n",
    "        \"2019 w/ videos\\n(N=%s)\"%len(_2019_w_videos_cit),\n",
    "        \"2017 w/o videos\\n(N=%s)\"%len(_2017_wo_videos_cit),\n",
    "        \"2017 w/ videos\\n(N=%s)\"%len(_2017_w_videos_cit),\n",
    "        \"2014 w/o videos\\n(N=%s)\"%len(_2014_wo_videos_cit),\n",
    "        \"2014 w/ videos\\n(N=%s)\"%len(_2014_w_videos_cit)\n",
    "    ]\n",
    ")"
   ]
  },
  {
   "cell_type": "code",
   "execution_count": 9,
   "metadata": {},
   "outputs": [
    {
     "name": "stdout",
     "output_type": "stream",
     "text": [
      "2019\tS = -1.385420\tp = 0.165947\n",
      "2017\tS = -3.761786\tp = 0.000170\n",
      "2014\tS = -5.388758\tp = 0.000000\n"
     ]
    }
   ],
   "source": [
    "_s2019, _p2019 = stats.ttest_ind(\n",
    "    _2019_wo_videos_cit,\n",
    "    _2019_w_videos_cit\n",
    ")\n",
    "print(\"2019\\tS = %f\\tp = %f\"%(_s2019, _p2019))\n",
    "\n",
    "_s2017, _p2017 = stats.ttest_ind(\n",
    "    _2017_wo_videos_cit,\n",
    "    _2017_w_videos_cit\n",
    ")\n",
    "print(\"2017\\tS = %f\\tp = %f\"%(_s2017, _p2017))\n",
    "\n",
    "_s2014, _p2014 = stats.ttest_ind(\n",
    "    _2014_wo_videos_cit,\n",
    "    _2014_w_videos_cit\n",
    ")\n",
    "print(\"2014\\tS = %f\\tp = %f\"%(_s2014, _p2014))"
   ]
  },
  {
   "cell_type": "code",
   "execution_count": 10,
   "metadata": {},
   "outputs": [
    {
     "name": "stderr",
     "output_type": "stream",
     "text": [
      "/home/hweem/git/mastersdegree/ytcrawl/ytcrawl0/lib/python3.5/site-packages/ipykernel_launcher.py:8: UserWarning: Boolean Series key will be reindexed to match DataFrame index.\n",
      "  \n",
      "/home/hweem/git/mastersdegree/ytcrawl/ytcrawl0/lib/python3.5/site-packages/ipykernel_launcher.py:9: UserWarning: Boolean Series key will be reindexed to match DataFrame index.\n",
      "  if __name__ == '__main__':\n",
      "/home/hweem/git/mastersdegree/ytcrawl/ytcrawl0/lib/python3.5/site-packages/ipykernel_launcher.py:10: UserWarning: Boolean Series key will be reindexed to match DataFrame index.\n",
      "  # Remove the CWD from sys.path while we load stuff.\n",
      "/home/hweem/git/mastersdegree/ytcrawl/ytcrawl0/lib/python3.5/site-packages/ipykernel_launcher.py:11: UserWarning: Boolean Series key will be reindexed to match DataFrame index.\n",
      "  # This is added back by InteractiveShellApp.init_path()\n",
      "/home/hweem/git/mastersdegree/ytcrawl/ytcrawl0/lib/python3.5/site-packages/ipykernel_launcher.py:12: UserWarning: Boolean Series key will be reindexed to match DataFrame index.\n",
      "  if sys.path[0] == '':\n",
      "/home/hweem/git/mastersdegree/ytcrawl/ytcrawl0/lib/python3.5/site-packages/ipykernel_launcher.py:13: UserWarning: Boolean Series key will be reindexed to match DataFrame index.\n",
      "  del sys.path[0]\n"
     ]
    },
    {
     "data": {
      "text/plain": [
       "{'boxes': [<matplotlib.lines.Line2D at 0x7f27ca96d0b8>,\n",
       "  <matplotlib.lines.Line2D at 0x7f27ca8f3588>,\n",
       "  <matplotlib.lines.Line2D at 0x7f27ca8f9cc0>,\n",
       "  <matplotlib.lines.Line2D at 0x7f27ca90c438>,\n",
       "  <matplotlib.lines.Line2D at 0x7f27ca913b70>,\n",
       "  <matplotlib.lines.Line2D at 0x7f27ca9212e8>],\n",
       " 'caps': [<matplotlib.lines.Line2D at 0x7f27ca96d860>,\n",
       "  <matplotlib.lines.Line2D at 0x7f27ca96dba8>,\n",
       "  <matplotlib.lines.Line2D at 0x7f27ca8f3f98>,\n",
       "  <matplotlib.lines.Line2D at 0x7f27ca8f9320>,\n",
       "  <matplotlib.lines.Line2D at 0x7f27ca904710>,\n",
       "  <matplotlib.lines.Line2D at 0x7f27ca904a58>,\n",
       "  <matplotlib.lines.Line2D at 0x7f27ca90ce48>,\n",
       "  <matplotlib.lines.Line2D at 0x7f27ca9131d0>,\n",
       "  <matplotlib.lines.Line2D at 0x7f27ca9195c0>,\n",
       "  <matplotlib.lines.Line2D at 0x7f27ca919908>,\n",
       "  <matplotlib.lines.Line2D at 0x7f27ca921cf8>,\n",
       "  <matplotlib.lines.Line2D at 0x7f27ca928080>],\n",
       " 'fliers': [<matplotlib.lines.Line2D at 0x7f27ca8f3278>,\n",
       "  <matplotlib.lines.Line2D at 0x7f27ca8f99b0>,\n",
       "  <matplotlib.lines.Line2D at 0x7f27ca90c128>,\n",
       "  <matplotlib.lines.Line2D at 0x7f27ca913860>,\n",
       "  <matplotlib.lines.Line2D at 0x7f27ca919f98>,\n",
       "  <matplotlib.lines.Line2D at 0x7f27ca928710>],\n",
       " 'means': [],\n",
       " 'medians': [<matplotlib.lines.Line2D at 0x7f27ca96def0>,\n",
       "  <matplotlib.lines.Line2D at 0x7f27ca8f9668>,\n",
       "  <matplotlib.lines.Line2D at 0x7f27ca904da0>,\n",
       "  <matplotlib.lines.Line2D at 0x7f27ca913518>,\n",
       "  <matplotlib.lines.Line2D at 0x7f27ca919c50>,\n",
       "  <matplotlib.lines.Line2D at 0x7f27ca9283c8>],\n",
       " 'whiskers': [<matplotlib.lines.Line2D at 0x7f27ca96d1d0>,\n",
       "  <matplotlib.lines.Line2D at 0x7f27ca96d518>,\n",
       "  <matplotlib.lines.Line2D at 0x7f27ca8f3908>,\n",
       "  <matplotlib.lines.Line2D at 0x7f27ca8f3c50>,\n",
       "  <matplotlib.lines.Line2D at 0x7f27ca904080>,\n",
       "  <matplotlib.lines.Line2D at 0x7f27ca9043c8>,\n",
       "  <matplotlib.lines.Line2D at 0x7f27ca90c7b8>,\n",
       "  <matplotlib.lines.Line2D at 0x7f27ca90cb00>,\n",
       "  <matplotlib.lines.Line2D at 0x7f27ca913ef0>,\n",
       "  <matplotlib.lines.Line2D at 0x7f27ca919278>,\n",
       "  <matplotlib.lines.Line2D at 0x7f27ca921668>,\n",
       "  <matplotlib.lines.Line2D at 0x7f27ca9219b0>]}"
      ]
     },
     "execution_count": 10,
     "metadata": {},
     "output_type": "execute_result"
    },
    {
     "data": {
      "image/png": "[encoded data removed]",
      "text/plain": [
       "<Figure size 720x432 with 1 Axes>"
      ]
     },
     "metadata": {
      "needs_background": "light"
     },
     "output_type": "display_data"
    }
   ],
   "source": [
    "# _2019_wo_videos = df1[~df1.DOI.isin(_idx_papers_2019)][df1[\"AAS\"] != \"None\"][\"AAS\"].dropna().astype(int)\n",
    "# _2019_w_videos = df1[df1.DOI.isin(_idx_papers_2019)][df1[\"AAS\"] != \"None\"][\"AAS\"].dropna().astype(int)\n",
    "# _2017_wo_videos = df2[~df2.DOI.isin(_idx_papers_2017)][df2[\"AAS\"] != \"None\"][\"AAS\"].dropna().astype(int)\n",
    "# _2017_w_videos = df2[df2.DOI.isin(_idx_papers_2017)][df2[\"AAS\"] != \"None\"][\"AAS\"].dropna().astype(int)\n",
    "# _2014_wo_videos = df3[~df3.DOI.isin(_idx_papers_2014)][df3[\"AAS\"] != \"None\"][\"AAS\"].dropna().astype(int)\n",
    "# _2014_w_videos = df3[df3.DOI.isin(_idx_papers_2014)][df3[\"AAS\"] != \"None\"][\"AAS\"].dropna().astype(int)\n",
    "\n",
    "_2019_wo_videos_aas = np.log10(df1[~df1.DOI.isin(_idx_papers_2019)][df1[\"AAS\"] != \"None\"][\"AAS\"].dropna().astype(int))\n",
    "_2019_w_videos_aas = np.log10(df1[df1.DOI.isin(_idx_papers_2019)][df1[\"AAS\"] != \"None\"][\"AAS\"].dropna().astype(int))\n",
    "_2017_wo_videos_aas = np.log10(df2[~df2.DOI.isin(_idx_papers_2017)][df2[\"AAS\"] != \"None\"][\"AAS\"].dropna().astype(int))\n",
    "_2017_w_videos_aas = np.log10(df2[df2.DOI.isin(_idx_papers_2017)][df2[\"AAS\"] != \"None\"][\"AAS\"].dropna().astype(int))\n",
    "_2014_wo_videos_aas = np.log10(df3[~df3.DOI.isin(_idx_papers_2014)][df3[\"AAS\"] != \"None\"][\"AAS\"].dropna().astype(int))\n",
    "_2014_w_videos_aas = np.log10(df3[df3.DOI.isin(_idx_papers_2014)][df3[\"AAS\"] != \"None\"][\"AAS\"].dropna().astype(int))\n",
    "\n",
    "plt.figure(figsize=(10, 6))\n",
    "plt.title(\"AAS\")\n",
    "# plt.yscale(\"log\")\n",
    "# plt.ylim([0, 200])\n",
    "plt.ylabel(\"log10(AAS)\")\n",
    "plt.boxplot([\n",
    "    _2019_wo_videos_aas,\n",
    "    _2019_w_videos_aas,\n",
    "    _2017_wo_videos_aas,\n",
    "    _2017_w_videos_aas,\n",
    "    _2014_wo_videos_aas,\n",
    "    _2014_w_videos_aas\n",
    "],\n",
    "    labels=[\n",
    "        \"2019 w/o videos\\n(N=%s)\"%len(_2019_wo_videos_aas),\n",
    "        \"2019 w/ videos\\n(N=%s)\"%len(_2019_w_videos_aas),\n",
    "        \"2017 w/o videos\\n(N=%s)\"%len(_2017_wo_videos_aas),\n",
    "        \"2017 w/ videos\\n(N=%s)\"%len(_2017_w_videos_aas),\n",
    "        \"2014 w/o videos\\n(N=%s)\"%len(_2014_wo_videos_aas),\n",
    "        \"2014 w/ videos\\n(N=%s)\"%len(_2014_w_videos_aas)\n",
    "    ]\n",
    ")"
   ]
  },
  {
   "cell_type": "code",
   "execution_count": 12,
   "metadata": {},
   "outputs": [
    {
     "name": "stdout",
     "output_type": "stream",
     "text": [
      "2019\tS = -6.413542\tp = 0.000000\n",
      "2017\tS = -8.613805\tp = 0.000000\n",
      "2014\tS = -6.811143\tp = 0.000000\n"
     ]
    }
   ],
   "source": [
    "_s2019, _p2019 = stats.ttest_ind(\n",
    "    _2019_wo_videos_aas,\n",
    "    _2019_w_videos_aas\n",
    ")\n",
    "print(\"2019\\tS = %f\\tp = %f\"%(_s2019, _p2019))\n",
    "\n",
    "_s2017, _p2017 = stats.ttest_ind(\n",
    "    _2017_wo_videos_aas,\n",
    "    _2017_w_videos_aas\n",
    ")\n",
    "print(\"2017\\tS = %f\\tp = %f\"%(_s2017, _p2017))\n",
    "\n",
    "_s2014, _p2014 = stats.ttest_ind(\n",
    "    _2014_wo_videos_aas,\n",
    "    _2014_w_videos_aas\n",
    ")\n",
    "print(\"2014\\tS = %f\\tp = %f\"%(_s2014, _p2014))"
   ]
  },
  {
   "cell_type": "markdown",
   "metadata": {},
   "source": [
    "AAS는 citation보다 일찍 유의차를 보임: 2019 p=0"
   ]
  },
  {
   "cell_type": "markdown",
   "metadata": {},
   "source": [
    "論文掲載初期動画付きの場合"
   ]
  },
  {
   "cell_type": "code",
   "execution_count": 19,
   "metadata": {},
   "outputs": [
    {
     "name": "stderr",
     "output_type": "stream",
     "text": [
      "/home/hweem/git/mastersdegree/ytcrawl/ytcrawl0/lib/python3.5/site-packages/ipykernel_launcher.py:8: UserWarning: Boolean Series key will be reindexed to match DataFrame index.\n",
      "  \n",
      "/home/hweem/git/mastersdegree/ytcrawl/ytcrawl0/lib/python3.5/site-packages/ipykernel_launcher.py:9: UserWarning: Boolean Series key will be reindexed to match DataFrame index.\n",
      "  if __name__ == '__main__':\n",
      "/home/hweem/git/mastersdegree/ytcrawl/ytcrawl0/lib/python3.5/site-packages/ipykernel_launcher.py:10: UserWarning: Boolean Series key will be reindexed to match DataFrame index.\n",
      "  # Remove the CWD from sys.path while we load stuff.\n",
      "/home/hweem/git/mastersdegree/ytcrawl/ytcrawl0/lib/python3.5/site-packages/ipykernel_launcher.py:11: UserWarning: Boolean Series key will be reindexed to match DataFrame index.\n",
      "  # This is added back by InteractiveShellApp.init_path()\n",
      "/home/hweem/git/mastersdegree/ytcrawl/ytcrawl0/lib/python3.5/site-packages/ipykernel_launcher.py:12: UserWarning: Boolean Series key will be reindexed to match DataFrame index.\n",
      "  if sys.path[0] == '':\n",
      "/home/hweem/git/mastersdegree/ytcrawl/ytcrawl0/lib/python3.5/site-packages/ipykernel_launcher.py:13: UserWarning: Boolean Series key will be reindexed to match DataFrame index.\n",
      "  del sys.path[0]\n"
     ]
    },
    {
     "data": {
      "text/plain": [
       "{'boxes': [<matplotlib.lines.Line2D at 0x7f27ca6092b0>,\n",
       "  <matplotlib.lines.Line2D at 0x7f27ca60f780>,\n",
       "  <matplotlib.lines.Line2D at 0x7f27ca615eb8>,\n",
       "  <matplotlib.lines.Line2D at 0x7f27ca625630>,\n",
       "  <matplotlib.lines.Line2D at 0x7f27ca62bd68>,\n",
       "  <matplotlib.lines.Line2D at 0x7f27ca5b54e0>],\n",
       " 'caps': [<matplotlib.lines.Line2D at 0x7f27ca609a58>,\n",
       "  <matplotlib.lines.Line2D at 0x7f27ca609da0>,\n",
       "  <matplotlib.lines.Line2D at 0x7f27ca6151d0>,\n",
       "  <matplotlib.lines.Line2D at 0x7f27ca615518>,\n",
       "  <matplotlib.lines.Line2D at 0x7f27ca61e908>,\n",
       "  <matplotlib.lines.Line2D at 0x7f27ca61ec50>,\n",
       "  <matplotlib.lines.Line2D at 0x7f27ca62b080>,\n",
       "  <matplotlib.lines.Line2D at 0x7f27ca62b3c8>,\n",
       "  <matplotlib.lines.Line2D at 0x7f27ca5d57b8>,\n",
       "  <matplotlib.lines.Line2D at 0x7f27ca5d5b00>,\n",
       "  <matplotlib.lines.Line2D at 0x7f27ca5b5ef0>,\n",
       "  <matplotlib.lines.Line2D at 0x7f27ca5be278>],\n",
       " 'fliers': [<matplotlib.lines.Line2D at 0x7f27ca60f470>,\n",
       "  <matplotlib.lines.Line2D at 0x7f27ca615ba8>,\n",
       "  <matplotlib.lines.Line2D at 0x7f27ca625320>,\n",
       "  <matplotlib.lines.Line2D at 0x7f27ca62ba58>,\n",
       "  <matplotlib.lines.Line2D at 0x7f27ca5b51d0>,\n",
       "  <matplotlib.lines.Line2D at 0x7f27ca5be908>],\n",
       " 'means': [],\n",
       " 'medians': [<matplotlib.lines.Line2D at 0x7f27ca60f128>,\n",
       "  <matplotlib.lines.Line2D at 0x7f27ca615860>,\n",
       "  <matplotlib.lines.Line2D at 0x7f27ca61ef98>,\n",
       "  <matplotlib.lines.Line2D at 0x7f27ca62b710>,\n",
       "  <matplotlib.lines.Line2D at 0x7f27ca5d5e48>,\n",
       "  <matplotlib.lines.Line2D at 0x7f27ca5be5c0>],\n",
       " 'whiskers': [<matplotlib.lines.Line2D at 0x7f27ca6093c8>,\n",
       "  <matplotlib.lines.Line2D at 0x7f27ca609710>,\n",
       "  <matplotlib.lines.Line2D at 0x7f27ca60fb00>,\n",
       "  <matplotlib.lines.Line2D at 0x7f27ca60fe48>,\n",
       "  <matplotlib.lines.Line2D at 0x7f27ca61e278>,\n",
       "  <matplotlib.lines.Line2D at 0x7f27ca61e5c0>,\n",
       "  <matplotlib.lines.Line2D at 0x7f27ca6259b0>,\n",
       "  <matplotlib.lines.Line2D at 0x7f27ca625cf8>,\n",
       "  <matplotlib.lines.Line2D at 0x7f27ca5d5128>,\n",
       "  <matplotlib.lines.Line2D at 0x7f27ca5d5470>,\n",
       "  <matplotlib.lines.Line2D at 0x7f27ca5b5860>,\n",
       "  <matplotlib.lines.Line2D at 0x7f27ca5b5ba8>]}"
      ]
     },
     "execution_count": 19,
     "metadata": {},
     "output_type": "execute_result"
    },
    {
     "data": {
      "image/png": "[encoded data removed]",
      "text/plain": [
       "<Figure size 864x432 with 1 Axes>"
      ]
     },
     "metadata": {
      "needs_background": "light"
     },
     "output_type": "display_data"
    }
   ],
   "source": [
    "# _2019_90_wo_videos_cit = df1[~df1.DOI.isin(_idx_papers_2019_90)][df1[\"Cited by\"] != \"None\"][\"Cited by\"].dropna().astype(int)\n",
    "# _2019_90_w_videos_cit = df1[df1.DOI.isin(_idx_papers_2019_90)][df1[\"Cited by\"] != \"None\"][\"Cited by\"].dropna().astype(int)\n",
    "# _2017_90_wo_videos_cit = df2[~df2.DOI.isin(_idx_papers_2017_90)][df2[\"Cited by\"] != \"None\"][\"Cited by\"].dropna().astype(int)\n",
    "# _2017_90_w_videos_cit = df2[df2.DOI.isin(_idx_papers_2017_90)][df2[\"Cited by\"] != \"None\"][\"Cited by\"].dropna().astype(int)\n",
    "# _2014_90_wo_videos_cit = df3[~df3.DOI.isin(_idx_papers_2014_90)][df3[\"Cited by\"] != \"None\"][\"Cited by\"].dropna().astype(int)\n",
    "# _2014_90_w_videos_cit = df3[df3.DOI.isin(_idx_papers_2014_90)][df3[\"Cited by\"] != \"None\"][\"Cited by\"].dropna().astype(int)\n",
    "\n",
    "_2019_90_wo_videos_cit = np.log10(df1[~df1.DOI.isin(_idx_papers_2019_90)][df1[\"Cited by\"] != \"None\"][\"Cited by\"].dropna().astype(int))\n",
    "_2019_90_w_videos_cit = np.log10(df1[df1.DOI.isin(_idx_papers_2019_90)][df1[\"Cited by\"] != \"None\"][\"Cited by\"].dropna().astype(int))\n",
    "_2017_90_wo_videos_cit = np.log10(df2[~df2.DOI.isin(_idx_papers_2017_90)][df2[\"Cited by\"] != \"None\"][\"Cited by\"].dropna().astype(int))\n",
    "_2017_90_w_videos_cit = np.log10(df2[df2.DOI.isin(_idx_papers_2017_90)][df2[\"Cited by\"] != \"None\"][\"Cited by\"].dropna().astype(int))\n",
    "_2014_90_wo_videos_cit = np.log10(df3[~df3.DOI.isin(_idx_papers_2014_90)][df3[\"Cited by\"] != \"None\"][\"Cited by\"].dropna().astype(int))\n",
    "_2014_90_w_videos_cit = np.log10(df3[df3.DOI.isin(_idx_papers_2014_90)][df3[\"Cited by\"] != \"None\"][\"Cited by\"].dropna().astype(int))\n",
    "\n",
    "plt.figure(figsize=(12, 6))\n",
    "plt.title(\"Citation-90\")\n",
    "# plt.yscale(\"log\")\n",
    "# plt.ylim([0, 200])\n",
    "plt.ylabel(\"log10(citation)\")\n",
    "plt.boxplot([\n",
    "    _2019_90_wo_videos_cit,\n",
    "    _2019_90_w_videos_cit,\n",
    "    _2017_90_wo_videos_cit,\n",
    "    _2017_90_w_videos_cit,\n",
    "    _2014_90_wo_videos_cit,\n",
    "    _2014_90_w_videos_cit\n",
    "],\n",
    "    labels=[\n",
    "        \"2019 w/o videos-90\\n(N=%s)\"%len(_2019_90_wo_videos_cit),\n",
    "        \"2019 w/ videos-90\\n(N=%s)\"%len(_2019_90_w_videos_cit),\n",
    "        \"2017 w/o videos-90\\n(N=%s)\"%len(_2017_90_wo_videos_cit),\n",
    "        \"2017 w/ videos-90\\n(N=%s)\"%len(_2017_90_w_videos_cit),\n",
    "        \"2014 w/o videos-90\\n(N=%s)\"%len(_2014_90_wo_videos_cit),\n",
    "        \"2014 w/ videos-90\\n(N=%s)\"%len(_2014_90_w_videos_cit)\n",
    "    ]\n",
    ")"
   ]
  },
  {
   "cell_type": "code",
   "execution_count": 20,
   "metadata": {},
   "outputs": [
    {
     "name": "stdout",
     "output_type": "stream",
     "text": [
      "2019\tS = 0.276202\tp = 0.782397\n",
      "2017\tS = -1.734803\tp = 0.082803\n",
      "2014\tS = -1.937225\tp = 0.052748\n"
     ]
    }
   ],
   "source": [
    "_s2019, _p2019 = stats.ttest_ind(\n",
    "    _2019_90_wo_videos_cit,\n",
    "    _2019_90_w_videos_cit\n",
    ")\n",
    "print(\"2019\\tS = %f\\tp = %f\"%(_s2019, _p2019))\n",
    "\n",
    "_s2017, _p2017 = stats.ttest_ind(\n",
    "    _2017_90_wo_videos_cit,\n",
    "    _2017_90_w_videos_cit\n",
    ")\n",
    "print(\"2017\\tS = %f\\tp = %f\"%(_s2017, _p2017))\n",
    "\n",
    "_s2014, _p2014 = stats.ttest_ind(\n",
    "    _2014_90_wo_videos_cit,\n",
    "    _2014_90_w_videos_cit\n",
    ")\n",
    "print(\"2014\\tS = %f\\tp = %f\"%(_s2014, _p2014))"
   ]
  },
  {
   "cell_type": "markdown",
   "metadata": {},
   "source": [
    "논문 게재 초기(90일 이내) 비디오로 한정하면 p값이 커짐. 즉 초기 비디오 유무에 따른 피인용수의 유의차는 없다."
   ]
  },
  {
   "cell_type": "code",
   "execution_count": 14,
   "metadata": {},
   "outputs": [
    {
     "name": "stderr",
     "output_type": "stream",
     "text": [
      "/home/hweem/git/mastersdegree/ytcrawl/ytcrawl0/lib/python3.5/site-packages/ipykernel_launcher.py:8: UserWarning: Boolean Series key will be reindexed to match DataFrame index.\n",
      "  \n",
      "/home/hweem/git/mastersdegree/ytcrawl/ytcrawl0/lib/python3.5/site-packages/ipykernel_launcher.py:9: UserWarning: Boolean Series key will be reindexed to match DataFrame index.\n",
      "  if __name__ == '__main__':\n",
      "/home/hweem/git/mastersdegree/ytcrawl/ytcrawl0/lib/python3.5/site-packages/ipykernel_launcher.py:10: UserWarning: Boolean Series key will be reindexed to match DataFrame index.\n",
      "  # Remove the CWD from sys.path while we load stuff.\n",
      "/home/hweem/git/mastersdegree/ytcrawl/ytcrawl0/lib/python3.5/site-packages/ipykernel_launcher.py:11: UserWarning: Boolean Series key will be reindexed to match DataFrame index.\n",
      "  # This is added back by InteractiveShellApp.init_path()\n",
      "/home/hweem/git/mastersdegree/ytcrawl/ytcrawl0/lib/python3.5/site-packages/ipykernel_launcher.py:12: UserWarning: Boolean Series key will be reindexed to match DataFrame index.\n",
      "  if sys.path[0] == '':\n",
      "/home/hweem/git/mastersdegree/ytcrawl/ytcrawl0/lib/python3.5/site-packages/ipykernel_launcher.py:13: UserWarning: Boolean Series key will be reindexed to match DataFrame index.\n",
      "  del sys.path[0]\n"
     ]
    },
    {
     "data": {
      "text/plain": [
       "{'boxes': [<matplotlib.lines.Line2D at 0x7f27ca704630>,\n",
       "  <matplotlib.lines.Line2D at 0x7f27ca71eb00>,\n",
       "  <matplotlib.lines.Line2D at 0x7f27ca716278>,\n",
       "  <matplotlib.lines.Line2D at 0x7f27ca7249b0>,\n",
       "  <matplotlib.lines.Line2D at 0x7f27ca6b2128>,\n",
       "  <matplotlib.lines.Line2D at 0x7f27ca6b6860>],\n",
       " 'caps': [<matplotlib.lines.Line2D at 0x7f27ca704dd8>,\n",
       "  <matplotlib.lines.Line2D at 0x7f27ca71e160>,\n",
       "  <matplotlib.lines.Line2D at 0x7f27ca702550>,\n",
       "  <matplotlib.lines.Line2D at 0x7f27ca702898>,\n",
       "  <matplotlib.lines.Line2D at 0x7f27ca716c88>,\n",
       "  <matplotlib.lines.Line2D at 0x7f27ca716fd0>,\n",
       "  <matplotlib.lines.Line2D at 0x7f27ca72b400>,\n",
       "  <matplotlib.lines.Line2D at 0x7f27ca72b748>,\n",
       "  <matplotlib.lines.Line2D at 0x7f27ca6b2b38>,\n",
       "  <matplotlib.lines.Line2D at 0x7f27ca6b2e80>,\n",
       "  <matplotlib.lines.Line2D at 0x7f27ca6be2b0>,\n",
       "  <matplotlib.lines.Line2D at 0x7f27ca6be5f8>],\n",
       " 'fliers': [<matplotlib.lines.Line2D at 0x7f27ca71e7f0>,\n",
       "  <matplotlib.lines.Line2D at 0x7f27ca702f28>,\n",
       "  <matplotlib.lines.Line2D at 0x7f27ca7246a0>,\n",
       "  <matplotlib.lines.Line2D at 0x7f27ca72bdd8>,\n",
       "  <matplotlib.lines.Line2D at 0x7f27ca6b6550>,\n",
       "  <matplotlib.lines.Line2D at 0x7f27ca6bec88>],\n",
       " 'means': [],\n",
       " 'medians': [<matplotlib.lines.Line2D at 0x7f27ca71e4a8>,\n",
       "  <matplotlib.lines.Line2D at 0x7f27ca702be0>,\n",
       "  <matplotlib.lines.Line2D at 0x7f27ca724358>,\n",
       "  <matplotlib.lines.Line2D at 0x7f27ca72ba90>,\n",
       "  <matplotlib.lines.Line2D at 0x7f27ca6b6208>,\n",
       "  <matplotlib.lines.Line2D at 0x7f27ca6be940>],\n",
       " 'whiskers': [<matplotlib.lines.Line2D at 0x7f27ca704748>,\n",
       "  <matplotlib.lines.Line2D at 0x7f27ca704a90>,\n",
       "  <matplotlib.lines.Line2D at 0x7f27ca71ee80>,\n",
       "  <matplotlib.lines.Line2D at 0x7f27ca702208>,\n",
       "  <matplotlib.lines.Line2D at 0x7f27ca7165f8>,\n",
       "  <matplotlib.lines.Line2D at 0x7f27ca716940>,\n",
       "  <matplotlib.lines.Line2D at 0x7f27ca724d30>,\n",
       "  <matplotlib.lines.Line2D at 0x7f27ca72b0b8>,\n",
       "  <matplotlib.lines.Line2D at 0x7f27ca6b24a8>,\n",
       "  <matplotlib.lines.Line2D at 0x7f27ca6b27f0>,\n",
       "  <matplotlib.lines.Line2D at 0x7f27ca6b6be0>,\n",
       "  <matplotlib.lines.Line2D at 0x7f27ca6b6f28>]}"
      ]
     },
     "execution_count": 14,
     "metadata": {},
     "output_type": "execute_result"
    },
    {
     "data": {
      "image/png": "[encoded data removed]",
      "text/plain": [
       "<Figure size 864x432 with 1 Axes>"
      ]
     },
     "metadata": {
      "needs_background": "light"
     },
     "output_type": "display_data"
    }
   ],
   "source": [
    "# _2019_90_wo_videos_aas = df1[~df1.DOI.isin(_idx_papers_2019_90)][df1[\"AAS\"] != \"None\"][\"AAS\"].dropna().astype(int)\n",
    "# _2019_90_w_videos_aas = df1[df1.DOI.isin(_idx_papers_2019_90)][df1[\"AAS\"] != \"None\"][\"AAS\"].dropna().astype(int)\n",
    "# _2017_90_wo_videos_aas = df2[~df2.DOI.isin(_idx_papers_2017_90)][df2[\"AAS\"] != \"None\"][\"AAS\"].dropna().astype(int)\n",
    "# _2017_90_w_videos_aas = df2[df2.DOI.isin(_idx_papers_2017_90)][df2[\"AAS\"] != \"None\"][\"AAS\"].dropna().astype(int)\n",
    "# _2014_90_wo_videos_aas = df3[~df3.DOI.isin(_idx_papers_2014_90)][df3[\"AAS\"] != \"None\"][\"AAS\"].dropna().astype(int)\n",
    "# _2014_90_w_videos_aas = df3[df3.DOI.isin(_idx_papers_2014_90)][df3[\"AAS\"] != \"None\"][\"AAS\"].dropna().astype(int)\n",
    "\n",
    "_2019_90_wo_videos_aas = np.log10(df1[~df1.DOI.isin(_idx_papers_2019_90)][df1[\"AAS\"] != \"None\"][\"AAS\"].dropna().astype(int))\n",
    "_2019_90_w_videos_aas = np.log10(df1[df1.DOI.isin(_idx_papers_2019_90)][df1[\"AAS\"] != \"None\"][\"AAS\"].dropna().astype(int))\n",
    "_2017_90_wo_videos_aas = np.log10(df2[~df2.DOI.isin(_idx_papers_2017_90)][df2[\"AAS\"] != \"None\"][\"AAS\"].dropna().astype(int))\n",
    "_2017_90_w_videos_aas = np.log10(df2[df2.DOI.isin(_idx_papers_2017_90)][df2[\"AAS\"] != \"None\"][\"AAS\"].dropna().astype(int))\n",
    "_2014_90_wo_videos_aas = np.log10(df3[~df3.DOI.isin(_idx_papers_2014_90)][df3[\"AAS\"] != \"None\"][\"AAS\"].dropna().astype(int))\n",
    "_2014_90_w_videos_aas = np.log10(df3[df3.DOI.isin(_idx_papers_2014_90)][df3[\"AAS\"] != \"None\"][\"AAS\"].dropna().astype(int))\n",
    "\n",
    "plt.figure(figsize=(12, 6))\n",
    "plt.title(\"AAS-90\")\n",
    "# plt.yscale(\"log\")\n",
    "# plt.ylim([0, 200])\n",
    "plt.ylabel(\"log10(AAS)\")\n",
    "plt.boxplot([\n",
    "    _2019_90_wo_videos_aas,\n",
    "    _2019_90_w_videos_aas,\n",
    "    _2017_90_wo_videos_aas,\n",
    "    _2017_90_w_videos_aas,\n",
    "    _2014_90_wo_videos_aas,\n",
    "    _2014_90_w_videos_aas\n",
    "],\n",
    "    labels=[\n",
    "        \"2019 w/o videos-90\\n(N=%s)\"%len(_2019_90_wo_videos_aas),\n",
    "        \"2019 w/ videos-90\\n(N=%s)\"%len(_2019_90_w_videos_aas),\n",
    "        \"2017 w/o videos-90\\n(N=%s)\"%len(_2017_90_wo_videos_aas),\n",
    "        \"2017 w/ videos-90\\n(N=%s)\"%len(_2017_90_w_videos_aas),\n",
    "        \"2014 w/o videos-90\\n(N=%s)\"%len(_2014_90_wo_videos_aas),\n",
    "        \"2014 w/ videos-90\\n(N=%s)\"%len(_2014_90_w_videos_aas)\n",
    "    ]\n",
    ")"
   ]
  },
  {
   "cell_type": "code",
   "execution_count": 16,
   "metadata": {},
   "outputs": [
    {
     "name": "stdout",
     "output_type": "stream",
     "text": [
      "2019\tS = -4.040040\tp = 0.000055\n",
      "2017\tS = -3.127068\tp = 0.001780\n",
      "2014\tS = 1.272111\tp = 0.203422\n"
     ]
    }
   ],
   "source": [
    "_s2019, _p2019 = stats.ttest_ind(\n",
    "    _2019_90_wo_videos_aas,\n",
    "    _2019_90_w_videos_aas\n",
    ")\n",
    "print(\"2019\\tS = %f\\tp = %f\"%(_s2019, _p2019))\n",
    "\n",
    "_s2017, _p2017 = stats.ttest_ind(\n",
    "    _2017_90_wo_videos_aas,\n",
    "    _2017_90_w_videos_aas\n",
    ")\n",
    "print(\"2017\\tS = %f\\tp = %f\"%(_s2017, _p2017))\n",
    "\n",
    "_s2014, _p2014 = stats.ttest_ind(\n",
    "    _2014_90_wo_videos_aas,\n",
    "    _2014_90_w_videos_aas\n",
    ")\n",
    "print(\"2014\\tS = %f\\tp = %f\"%(_s2014, _p2014))"
   ]
  },
  {
   "cell_type": "markdown",
   "metadata": {},
   "source": [
    "피인용수와 달리, 초기 비디오 유무는 AAS에 대해서 영향력이 있어 보임.\n",
    "다만 과거 논문일수록 유의성이 떨어지는 경향. 2014엔 유의하지 않음. -> 가설:과거엔 대중적인지(AAS)가 활성화되지 않음? -> 관계 논문이 있으면 찾아보고, 그의 뒷받침 자료로도 설명할 수 있음"
   ]
  },
  {
   "cell_type": "code",
   "execution_count": null,
   "metadata": {},
   "outputs": [],
   "source": []
  }
 ],
 "metadata": {
  "kernelspec": {
   "display_name": "Python 3",
   "language": "python",
   "name": "python3"
  },
  "language_info": {
   "codemirror_mode": {
    "name": "ipython",
    "version": 3
   },
   "file_extension": ".py",
   "mimetype": "text/x-python",
   "name": "python",
   "nbconvert_exporter": "python",
   "pygments_lexer": "ipython3",
   "version": "3.5.2"
  }
 },
 "nbformat": 4,
 "nbformat_minor": 4
}
