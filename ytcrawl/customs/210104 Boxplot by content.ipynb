{
 "cells": [
  {
   "cell_type": "code",
   "execution_count": 1,
   "metadata": {},
   "outputs": [],
   "source": [
    "import numpy as np\n",
    "import pandas as pd\n",
    "from db_handler import DBHandler\n",
    "from matplotlib import pyplot as plt\n",
    "from scipy import stats\n",
    "from datetime import datetime, timedelta\n",
    "from calendar import monthrange\n",
    "from scopus_handler import ScopusHandler"
   ]
  },
  {
   "cell_type": "code",
   "execution_count": 2,
   "metadata": {},
   "outputs": [
    {
     "name": "stdout",
     "output_type": "stream",
     "text": [
      "[+]Duplicates have been dropped from df_scopus.\tBefore: 9598\tAfter: 9336\n",
      "[+]Duplicates have been dropped from df_scopus.\tBefore: 14533\tAfter: 14330\n"
     ]
    }
   ],
   "source": [
    "subject = \"comp\"\n",
    "df4 = pd.read_csv(\"/home/hweem/git/mastersdegree/ytcrawl/customs/scopus/scopus_2014_%s.csv\" % subject)\n",
    "df4_sources = pd.read_csv(\"scopus/source_2013_%s.csv\" % subject, header=0)\n",
    "scopus_2014 = ScopusHandler(df4, df4_sources, \"scopus_videos_2014_%s\" % subject, verbose=True)\n",
    "scopus_2014.db_handler.sql_handler.list_where_clauses = []\n",
    "df3 = pd.read_csv(\"/home/hweem/git/mastersdegree/ytcrawl/customs/scopus/scopus_2019_%s.csv\" % subject)\n",
    "df3_sources = pd.read_csv(\"scopus/source_2018_%s.csv\" % subject, header=0)\n",
    "scopus_2019 = ScopusHandler(df3, df3_sources, \"scopus_videos_2019_%s\" % subject, verbose=True)\n",
    "scopus_2019.db_handler.sql_handler.list_where_clauses = []"
   ]
  },
  {
   "cell_type": "code",
   "execution_count": 3,
   "metadata": {},
   "outputs": [
    {
     "name": "stdout",
     "output_type": "stream",
     "text": [
      "\tCommand set: SELECT `idx`, `videoId`, `idx_paper`, `publishedAt` FROM `scopus_videos_2014_comp`\n",
      "\tCurrent list_where_clauses: [\"content IN ('paper_explanation', 'paper_application', 'paper_assessment')\"]\n",
      "\tCurrent list_where_clauses: [\"content IN ('paper_explanation', 'paper_application', 'paper_assessment')\", 'idx IN (1, 2, 3, 4, 6, 7, 9, 11, 12, 14, 15, 16, 17, 18, 19, 20, 21, 24, 25, 27, 28, 29, 30, 31, 33, 34, 36, 38, 39, 41, 43, 46, 48, 50, 51, 52, 53, 55, 56, 57, 58, 62, 64, 65, 69, 70, 71, 73, 74, 75, 76, 77, 78, 79, 80, 81, 82, 84, 85, 87, 88, 89, 91, 92, 95, 96, 97, 98, 99, 101, 102, 103, 105, 106, 107, 109, 111, 114, 115, 118, 119, 120, 121, 122, 124, 125, 127, 128, 129, 131, 132, 135, 137, 138, 142, 143, 144, 145, 147, 148)']\n",
      "\tsql: SELECT `idx`, `videoId`, `idx_paper`, `publishedAt` FROM `scopus_videos_2014_comp` WHERE (content IN ('paper_explanation', 'paper_application', 'paper_assessment') AND idx IN (1, 2, 3, 4, 6, 7, 9, 11, 12, 14, 15, 16, 17, 18, 19, 20, 21, 24, 25, 27, 28, 29, 30, 31, 33, 34, 36, 38, 39, 41, 43, 46, 48, 50, 51, 52, 53, 55, 56, 57, 58, 62, 64, 65, 69, 70, 71, 73, 74, 75, 76, 77, 78, 79, 80, 81, 82, 84, 85, 87, 88, 89, 91, 92, 95, 96, 97, 98, 99, 101, 102, 103, 105, 106, 107, 109, 111, 114, 115, 118, 119, 120, 121, 122, 124, 125, 127, 128, 129, 131, 132, 135, 137, 138, 142, 143, 144, 145, 147, 148));\n",
      "Total videos: 12\n",
      "# Total DOIs: 9336\t# DOIs w/ videos: 10\tRatio: 0.001\n",
      "# Total videos: 12\t# Target videos: 12\tRatio: 1.000\n",
      "# Total subjects: 43\t# subjects w/ videos: 7\tRatio: 0.163\n",
      "# Total journals: 133\t# journals w/ videos: 8\tRatio: 0.060\n",
      "\tCommand set: SELECT `idx`, `videoId`, `idx_paper`, `publishedAt` FROM `scopus_videos_2014_comp`\n",
      "\tCurrent list_where_clauses: [\"content IN ('news')\"]\n",
      "\tCurrent list_where_clauses: [\"content IN ('news')\", 'idx IN (1, 2, 3, 4, 6, 7, 9, 11, 12, 14, 15, 16, 17, 18, 19, 20, 21, 24, 25, 27, 28, 29, 30, 31, 33, 34, 36, 38, 39, 41, 43, 46, 48, 50, 51, 52, 53, 55, 56, 57, 58, 62, 64, 65, 69, 70, 71, 73, 74, 75, 76, 77, 78, 79, 80, 81, 82, 84, 85, 87, 88, 89, 91, 92, 95, 96, 97, 98, 99, 101, 102, 103, 105, 106, 107, 109, 111, 114, 115, 118, 119, 120, 121, 122, 124, 125, 127, 128, 129, 131, 132, 135, 137, 138, 142, 143, 144, 145, 147, 148)']\n",
      "\tsql: SELECT `idx`, `videoId`, `idx_paper`, `publishedAt` FROM `scopus_videos_2014_comp` WHERE (content IN ('news') AND idx IN (1, 2, 3, 4, 6, 7, 9, 11, 12, 14, 15, 16, 17, 18, 19, 20, 21, 24, 25, 27, 28, 29, 30, 31, 33, 34, 36, 38, 39, 41, 43, 46, 48, 50, 51, 52, 53, 55, 56, 57, 58, 62, 64, 65, 69, 70, 71, 73, 74, 75, 76, 77, 78, 79, 80, 81, 82, 84, 85, 87, 88, 89, 91, 92, 95, 96, 97, 98, 99, 101, 102, 103, 105, 106, 107, 109, 111, 114, 115, 118, 119, 120, 121, 122, 124, 125, 127, 128, 129, 131, 132, 135, 137, 138, 142, 143, 144, 145, 147, 148));\n",
      "Total videos: 0\n",
      "# Total DOIs: 9336\t# DOIs w/ videos: 0\tRatio: 0.000\n",
      "No videos found.\n",
      "\tCommand set: SELECT `idx`, `videoId`, `idx_paper`, `publishedAt` FROM `scopus_videos_2014_comp`\n",
      "\tCurrent list_where_clauses: [\"content IN ('paper_linked_supplementary', 'paper_supplementary')\"]\n",
      "\tCurrent list_where_clauses: [\"content IN ('paper_linked_supplementary', 'paper_supplementary')\", 'idx IN (1, 2, 3, 4, 6, 7, 9, 11, 12, 14, 15, 16, 17, 18, 19, 20, 21, 24, 25, 27, 28, 29, 30, 31, 33, 34, 36, 38, 39, 41, 43, 46, 48, 50, 51, 52, 53, 55, 56, 57, 58, 62, 64, 65, 69, 70, 71, 73, 74, 75, 76, 77, 78, 79, 80, 81, 82, 84, 85, 87, 88, 89, 91, 92, 95, 96, 97, 98, 99, 101, 102, 103, 105, 106, 107, 109, 111, 114, 115, 118, 119, 120, 121, 122, 124, 125, 127, 128, 129, 131, 132, 135, 137, 138, 142, 143, 144, 145, 147, 148)']\n",
      "\tsql: SELECT `idx`, `videoId`, `idx_paper`, `publishedAt` FROM `scopus_videos_2014_comp` WHERE (content IN ('paper_linked_supplementary', 'paper_supplementary') AND idx IN (1, 2, 3, 4, 6, 7, 9, 11, 12, 14, 15, 16, 17, 18, 19, 20, 21, 24, 25, 27, 28, 29, 30, 31, 33, 34, 36, 38, 39, 41, 43, 46, 48, 50, 51, 52, 53, 55, 56, 57, 58, 62, 64, 65, 69, 70, 71, 73, 74, 75, 76, 77, 78, 79, 80, 81, 82, 84, 85, 87, 88, 89, 91, 92, 95, 96, 97, 98, 99, 101, 102, 103, 105, 106, 107, 109, 111, 114, 115, 118, 119, 120, 121, 122, 124, 125, 127, 128, 129, 131, 132, 135, 137, 138, 142, 143, 144, 145, 147, 148));\n",
      "Total videos: 21\n",
      "# Total DOIs: 9336\t# DOIs w/ videos: 18\tRatio: 0.002\n",
      "# Total videos: 20\t# Target videos: 20\tRatio: 1.000\n",
      "# Total subjects: 43\t# subjects w/ videos: 8\tRatio: 0.186\n",
      "# Total journals: 133\t# journals w/ videos: 9\tRatio: 0.068\n",
      "\tCommand set: SELECT `idx`, `videoId`, `idx_paper`, `publishedAt` FROM `scopus_videos_2014_comp`\n",
      "\tCurrent list_where_clauses: [\"content IN ('paper_reference')\"]\n",
      "\tCurrent list_where_clauses: [\"content IN ('paper_reference')\", 'idx IN (1, 2, 3, 4, 6, 7, 9, 11, 12, 14, 15, 16, 17, 18, 19, 20, 21, 24, 25, 27, 28, 29, 30, 31, 33, 34, 36, 38, 39, 41, 43, 46, 48, 50, 51, 52, 53, 55, 56, 57, 58, 62, 64, 65, 69, 70, 71, 73, 74, 75, 76, 77, 78, 79, 80, 81, 82, 84, 85, 87, 88, 89, 91, 92, 95, 96, 97, 98, 99, 101, 102, 103, 105, 106, 107, 109, 111, 114, 115, 118, 119, 120, 121, 122, 124, 125, 127, 128, 129, 131, 132, 135, 137, 138, 142, 143, 144, 145, 147, 148)']\n",
      "\tsql: SELECT `idx`, `videoId`, `idx_paper`, `publishedAt` FROM `scopus_videos_2014_comp` WHERE (content IN ('paper_reference') AND idx IN (1, 2, 3, 4, 6, 7, 9, 11, 12, 14, 15, 16, 17, 18, 19, 20, 21, 24, 25, 27, 28, 29, 30, 31, 33, 34, 36, 38, 39, 41, 43, 46, 48, 50, 51, 52, 53, 55, 56, 57, 58, 62, 64, 65, 69, 70, 71, 73, 74, 75, 76, 77, 78, 79, 80, 81, 82, 84, 85, 87, 88, 89, 91, 92, 95, 96, 97, 98, 99, 101, 102, 103, 105, 106, 107, 109, 111, 114, 115, 118, 119, 120, 121, 122, 124, 125, 127, 128, 129, 131, 132, 135, 137, 138, 142, 143, 144, 145, 147, 148));\n",
      "Total videos: 67\n",
      "# Total DOIs: 9336\t# DOIs w/ videos: 53\tRatio: 0.006\n",
      "# Total videos: 65\t# Target videos: 65\tRatio: 1.000\n"
     ]
    },
    {
     "name": "stderr",
     "output_type": "stream",
     "text": [
      "<ipython-input-3-51819caefaa4>:3: UserWarning: Boolean Series key will be reindexed to match DataFrame index.\n",
      "  return np.log10(scopus_handler.df_scopus[scopus_handler.df_scopus.DOI.isin(_list_dois)][scopus_handler.df_scopus[metric] != \"None\"][metric].dropna().astype(int).values)\n",
      "<ipython-input-3-51819caefaa4>:3: UserWarning: Boolean Series key will be reindexed to match DataFrame index.\n",
      "  return np.log10(scopus_handler.df_scopus[scopus_handler.df_scopus.DOI.isin(_list_dois)][scopus_handler.df_scopus[metric] != \"None\"][metric].dropna().astype(int).values)\n"
     ]
    },
    {
     "name": "stdout",
     "output_type": "stream",
     "text": [
      "# Total subjects: 43\t# subjects w/ videos: 17\tRatio: 0.395\n",
      "# Total journals: 133\t# journals w/ videos: 24\tRatio: 0.180\n",
      "\tCommand set: SELECT `idx`, `videoId`, `idx_paper`, `publishedAt` FROM `scopus_videos_2019_comp`\n",
      "\tCurrent list_where_clauses: [\"content IN ('paper_explanation', 'paper_application', 'paper_assessment')\"]\n",
      "\tCurrent list_where_clauses: [\"content IN ('paper_explanation', 'paper_application', 'paper_assessment')\", 'idx IN (1, 2, 3, 4, 5, 6, 7, 8, 9, 10, 11, 12, 13, 14, 15, 16, 17, 18, 19, 20, 21, 22, 23, 24, 25, 26, 27, 28, 29, 30, 31, 32, 33, 34, 35, 36, 37, 38, 39, 40, 41, 42, 43, 44, 45, 46, 47, 48, 49, 50, 51, 52, 53, 54, 55, 56, 57, 58, 59, 60, 61, 62, 63, 64, 65, 66, 67, 68, 69, 70, 71, 72, 73, 74, 75, 76, 77, 78, 79, 80)']\n",
      "\tsql: SELECT `idx`, `videoId`, `idx_paper`, `publishedAt` FROM `scopus_videos_2019_comp` WHERE (content IN ('paper_explanation', 'paper_application', 'paper_assessment') AND idx IN (1, 2, 3, 4, 5, 6, 7, 8, 9, 10, 11, 12, 13, 14, 15, 16, 17, 18, 19, 20, 21, 22, 23, 24, 25, 26, 27, 28, 29, 30, 31, 32, 33, 34, 35, 36, 37, 38, 39, 40, 41, 42, 43, 44, 45, 46, 47, 48, 49, 50, 51, 52, 53, 54, 55, 56, 57, 58, 59, 60, 61, 62, 63, 64, 65, 66, 67, 68, 69, 70, 71, 72, 73, 74, 75, 76, 77, 78, 79, 80));\n",
      "Total videos: 19\n",
      "# Total DOIs: 14330\t# DOIs w/ videos: 16\tRatio: 0.001\n",
      "# Total videos: 19\t# Target videos: 19\tRatio: 1.000\n",
      "# Total subjects: 46\t# subjects w/ videos: 9\tRatio: 0.196\n",
      "# Total journals: 133\t# journals w/ videos: 10\tRatio: 0.075\n",
      "\tCommand set: SELECT `idx`, `videoId`, `idx_paper`, `publishedAt` FROM `scopus_videos_2019_comp`\n",
      "\tCurrent list_where_clauses: [\"content IN ('news')\"]\n",
      "\tCurrent list_where_clauses: [\"content IN ('news')\", 'idx IN (1, 2, 3, 4, 5, 6, 7, 8, 9, 10, 11, 12, 13, 14, 15, 16, 17, 18, 19, 20, 21, 22, 23, 24, 25, 26, 27, 28, 29, 30, 31, 32, 33, 34, 35, 36, 37, 38, 39, 40, 41, 42, 43, 44, 45, 46, 47, 48, 49, 50, 51, 52, 53, 54, 55, 56, 57, 58, 59, 60, 61, 62, 63, 64, 65, 66, 67, 68, 69, 70, 71, 72, 73, 74, 75, 76, 77, 78, 79, 80)']\n",
      "\tsql: SELECT `idx`, `videoId`, `idx_paper`, `publishedAt` FROM `scopus_videos_2019_comp` WHERE (content IN ('news') AND idx IN (1, 2, 3, 4, 5, 6, 7, 8, 9, 10, 11, 12, 13, 14, 15, 16, 17, 18, 19, 20, 21, 22, 23, 24, 25, 26, 27, 28, 29, 30, 31, 32, 33, 34, 35, 36, 37, 38, 39, 40, 41, 42, 43, 44, 45, 46, 47, 48, 49, 50, 51, 52, 53, 54, 55, 56, 57, 58, 59, 60, 61, 62, 63, 64, 65, 66, 67, 68, 69, 70, 71, 72, 73, 74, 75, 76, 77, 78, 79, 80));\n",
      "Total videos: 11\n",
      "# Total DOIs: 14330\t# DOIs w/ videos: 8\tRatio: 0.001\n",
      "# Total videos: 11\t# Target videos: 11\tRatio: 1.000\n",
      "# Total subjects: 46\t# subjects w/ videos: 6\tRatio: 0.130\n",
      "# Total journals: 133\t# journals w/ videos: 6\tRatio: 0.045\n",
      "\tCommand set: SELECT `idx`, `videoId`, `idx_paper`, `publishedAt` FROM `scopus_videos_2019_comp`\n",
      "\tCurrent list_where_clauses: [\"content IN ('paper_linked_supplementary', 'paper_supplementary')\"]\n",
      "\tCurrent list_where_clauses: [\"content IN ('paper_linked_supplementary', 'paper_supplementary')\", 'idx IN (1, 2, 3, 4, 5, 6, 7, 8, 9, 10, 11, 12, 13, 14, 15, 16, 17, 18, 19, 20, 21, 22, 23, 24, 25, 26, 27, 28, 29, 30, 31, 32, 33, 34, 35, 36, 37, 38, 39, 40, 41, 42, 43, 44, 45, 46, 47, 48, 49, 50, 51, 52, 53, 54, 55, 56, 57, 58, 59, 60, 61, 62, 63, 64, 65, 66, 67, 68, 69, 70, 71, 72, 73, 74, 75, 76, 77, 78, 79, 80)']\n",
      "\tsql: SELECT `idx`, `videoId`, `idx_paper`, `publishedAt` FROM `scopus_videos_2019_comp` WHERE (content IN ('paper_linked_supplementary', 'paper_supplementary') AND idx IN (1, 2, 3, 4, 5, 6, 7, 8, 9, 10, 11, 12, 13, 14, 15, 16, 17, 18, 19, 20, 21, 22, 23, 24, 25, 26, 27, 28, 29, 30, 31, 32, 33, 34, 35, 36, 37, 38, 39, 40, 41, 42, 43, 44, 45, 46, 47, 48, 49, 50, 51, 52, 53, 54, 55, 56, 57, 58, 59, 60, 61, 62, 63, 64, 65, 66, 67, 68, 69, 70, 71, 72, 73, 74, 75, 76, 77, 78, 79, 80));\n",
      "Total videos: 34\n"
     ]
    },
    {
     "name": "stderr",
     "output_type": "stream",
     "text": [
      "<ipython-input-3-51819caefaa4>:3: UserWarning: Boolean Series key will be reindexed to match DataFrame index.\n",
      "  return np.log10(scopus_handler.df_scopus[scopus_handler.df_scopus.DOI.isin(_list_dois)][scopus_handler.df_scopus[metric] != \"None\"][metric].dropna().astype(int).values)\n",
      "<ipython-input-3-51819caefaa4>:3: UserWarning: Boolean Series key will be reindexed to match DataFrame index.\n",
      "  return np.log10(scopus_handler.df_scopus[scopus_handler.df_scopus.DOI.isin(_list_dois)][scopus_handler.df_scopus[metric] != \"None\"][metric].dropna().astype(int).values)\n",
      "<ipython-input-3-51819caefaa4>:3: UserWarning: Boolean Series key will be reindexed to match DataFrame index.\n",
      "  return np.log10(scopus_handler.df_scopus[scopus_handler.df_scopus.DOI.isin(_list_dois)][scopus_handler.df_scopus[metric] != \"None\"][metric].dropna().astype(int).values)\n"
     ]
    },
    {
     "name": "stdout",
     "output_type": "stream",
     "text": [
      "# Total DOIs: 14330\t# DOIs w/ videos: 27\tRatio: 0.002\n",
      "# Total videos: 34\t# Target videos: 34\tRatio: 1.000\n",
      "# Total subjects: 46\t# subjects w/ videos: 14\tRatio: 0.304\n",
      "# Total journals: 133\t# journals w/ videos: 18\tRatio: 0.135\n",
      "\tCommand set: SELECT `idx`, `videoId`, `idx_paper`, `publishedAt` FROM `scopus_videos_2019_comp`\n",
      "\tCurrent list_where_clauses: [\"content IN ('paper_reference')\"]\n",
      "\tCurrent list_where_clauses: [\"content IN ('paper_reference')\", 'idx IN (1, 2, 3, 4, 5, 6, 7, 8, 9, 10, 11, 12, 13, 14, 15, 16, 17, 18, 19, 20, 21, 22, 23, 24, 25, 26, 27, 28, 29, 30, 31, 32, 33, 34, 35, 36, 37, 38, 39, 40, 41, 42, 43, 44, 45, 46, 47, 48, 49, 50, 51, 52, 53, 54, 55, 56, 57, 58, 59, 60, 61, 62, 63, 64, 65, 66, 67, 68, 69, 70, 71, 72, 73, 74, 75, 76, 77, 78, 79, 80)']\n",
      "\tsql: SELECT `idx`, `videoId`, `idx_paper`, `publishedAt` FROM `scopus_videos_2019_comp` WHERE (content IN ('paper_reference') AND idx IN (1, 2, 3, 4, 5, 6, 7, 8, 9, 10, 11, 12, 13, 14, 15, 16, 17, 18, 19, 20, 21, 22, 23, 24, 25, 26, 27, 28, 29, 30, 31, 32, 33, 34, 35, 36, 37, 38, 39, 40, 41, 42, 43, 44, 45, 46, 47, 48, 49, 50, 51, 52, 53, 54, 55, 56, 57, 58, 59, 60, 61, 62, 63, 64, 65, 66, 67, 68, 69, 70, 71, 72, 73, 74, 75, 76, 77, 78, 79, 80));\n",
      "Total videos: 16\n",
      "# Total DOIs: 14330\t# DOIs w/ videos: 15\tRatio: 0.001\n",
      "# Total videos: 15\t# Target videos: 15\tRatio: 1.000\n",
      "# Total subjects: 46\t# subjects w/ videos: 10\tRatio: 0.217\n",
      "# Total journals: 133\t# journals w/ videos: 11\tRatio: 0.083\n"
     ]
    },
    {
     "name": "stderr",
     "output_type": "stream",
     "text": [
      "<ipython-input-3-51819caefaa4>:3: UserWarning: Boolean Series key will be reindexed to match DataFrame index.\n",
      "  return np.log10(scopus_handler.df_scopus[scopus_handler.df_scopus.DOI.isin(_list_dois)][scopus_handler.df_scopus[metric] != \"None\"][metric].dropna().astype(int).values)\n",
      "<ipython-input-3-51819caefaa4>:3: UserWarning: Boolean Series key will be reindexed to match DataFrame index.\n",
      "  return np.log10(scopus_handler.df_scopus[scopus_handler.df_scopus.DOI.isin(_list_dois)][scopus_handler.df_scopus[metric] != \"None\"][metric].dropna().astype(int).values)\n"
     ]
    }
   ],
   "source": [
    "def get_list_meters(scopus_handler, metric=\"Cited by\", where=None):\n",
    "    _list_dois = list(map(lambda _row: _row[2], scopus_handler.set_target_videos(where=where).list_target_videos))\n",
    "    return np.log10(scopus_handler.df_scopus[scopus_handler.df_scopus.DOI.isin(_list_dois)][scopus_handler.df_scopus[metric] != \"None\"][metric].dropna().astype(int).values)\n",
    "\n",
    "metric = \"Cited by\"\n",
    "\n",
    "_2014_w_videos_cit_exp = get_list_meters(scopus_2014, metric=metric, where=(\"content\", [\"paper_explanation\", \"paper_application\", \"paper_assessment\"], \"in\"))\n",
    "_2014_w_videos_cit_news = get_list_meters(scopus_2014, metric=metric, where=(\"content\", [\"news\"], \"in\"))\n",
    "_2014_w_videos_cit_sup = get_list_meters(scopus_2014, metric=metric, where=(\"content\", [\"paper_linked_supplementary\", \"paper_supplementary\"], \"in\"))\n",
    "_2014_w_videos_cit_ref = get_list_meters(scopus_2014, metric=metric, where=(\"content\", [\"paper_reference\"], \"in\"))\n",
    "_2019_w_videos_cit_exp = get_list_meters(scopus_2019, metric=metric, where=(\"content\", [\"paper_explanation\", \"paper_application\", \"paper_assessment\"], \"in\"))\n",
    "_2019_w_videos_cit_news = get_list_meters(scopus_2019, metric=metric, where=(\"content\", [\"news\"], \"in\"))\n",
    "_2019_w_videos_cit_sup = get_list_meters(scopus_2019, metric=metric, where=(\"content\", [\"paper_linked_supplementary\", \"paper_supplementary\"], \"in\"))\n",
    "_2019_w_videos_cit_ref = get_list_meters(scopus_2019, metric=metric, where=(\"content\", [\"paper_reference\"], \"in\"))"
   ]
  },
  {
   "cell_type": "code",
   "execution_count": 5,
   "metadata": {},
   "outputs": [
    {
     "data": {
      "text/plain": [
       "{'whiskers': [<matplotlib.lines.Line2D at 0x7f783c8a1280>,\n",
       "  <matplotlib.lines.Line2D at 0x7f783c8a15e0>,\n",
       "  <matplotlib.lines.Line2D at 0x7f783c8aca60>,\n",
       "  <matplotlib.lines.Line2D at 0x7f783c8acdc0>,\n",
       "  <matplotlib.lines.Line2D at 0x7f783c843280>,\n",
       "  <matplotlib.lines.Line2D at 0x7f783c8435e0>,\n",
       "  <matplotlib.lines.Line2D at 0x7f783c84fa60>,\n",
       "  <matplotlib.lines.Line2D at 0x7f783c84fdc0>,\n",
       "  <matplotlib.lines.Line2D at 0x7f783c866280>,\n",
       "  <matplotlib.lines.Line2D at 0x7f783c8665e0>,\n",
       "  <matplotlib.lines.Line2D at 0x7f783c872a60>,\n",
       "  <matplotlib.lines.Line2D at 0x7f783c872dc0>,\n",
       "  <matplotlib.lines.Line2D at 0x7f783c80b280>,\n",
       "  <matplotlib.lines.Line2D at 0x7f783c80b5e0>,\n",
       "  <matplotlib.lines.Line2D at 0x7f783c813a60>,\n",
       "  <matplotlib.lines.Line2D at 0x7f783c813dc0>],\n",
       " 'caps': [<matplotlib.lines.Line2D at 0x7f783c8a1940>,\n",
       "  <matplotlib.lines.Line2D at 0x7f783c8a1ca0>,\n",
       "  <matplotlib.lines.Line2D at 0x7f783c8b8160>,\n",
       "  <matplotlib.lines.Line2D at 0x7f783c8b84c0>,\n",
       "  <matplotlib.lines.Line2D at 0x7f783c843940>,\n",
       "  <matplotlib.lines.Line2D at 0x7f783c843ca0>,\n",
       "  <matplotlib.lines.Line2D at 0x7f783c85b160>,\n",
       "  <matplotlib.lines.Line2D at 0x7f783c85b4c0>,\n",
       "  <matplotlib.lines.Line2D at 0x7f783c866940>,\n",
       "  <matplotlib.lines.Line2D at 0x7f783c866ca0>,\n",
       "  <matplotlib.lines.Line2D at 0x7f783c7fd160>,\n",
       "  <matplotlib.lines.Line2D at 0x7f783c7fd4c0>,\n",
       "  <matplotlib.lines.Line2D at 0x7f783c80b940>,\n",
       "  <matplotlib.lines.Line2D at 0x7f783c80bca0>,\n",
       "  <matplotlib.lines.Line2D at 0x7f783c821160>,\n",
       "  <matplotlib.lines.Line2D at 0x7f783c8214c0>],\n",
       " 'boxes': [<matplotlib.lines.Line2D at 0x7f783c892ee0>,\n",
       "  <matplotlib.lines.Line2D at 0x7f783c8ac700>,\n",
       "  <matplotlib.lines.Line2D at 0x7f783c8b8ee0>,\n",
       "  <matplotlib.lines.Line2D at 0x7f783c84f700>,\n",
       "  <matplotlib.lines.Line2D at 0x7f783c85bee0>,\n",
       "  <matplotlib.lines.Line2D at 0x7f783c872700>,\n",
       "  <matplotlib.lines.Line2D at 0x7f783c7fdee0>,\n",
       "  <matplotlib.lines.Line2D at 0x7f783c813700>],\n",
       " 'medians': [<matplotlib.lines.Line2D at 0x7f783c8ac040>,\n",
       "  <matplotlib.lines.Line2D at 0x7f783c8b8820>,\n",
       "  <matplotlib.lines.Line2D at 0x7f783c84f040>,\n",
       "  <matplotlib.lines.Line2D at 0x7f783c85b820>,\n",
       "  <matplotlib.lines.Line2D at 0x7f783c872040>,\n",
       "  <matplotlib.lines.Line2D at 0x7f783c7fd820>,\n",
       "  <matplotlib.lines.Line2D at 0x7f783c813040>,\n",
       "  <matplotlib.lines.Line2D at 0x7f783c821820>],\n",
       " 'fliers': [<matplotlib.lines.Line2D at 0x7f783c8ac3a0>,\n",
       "  <matplotlib.lines.Line2D at 0x7f783c8b8b80>,\n",
       "  <matplotlib.lines.Line2D at 0x7f783c84f3a0>,\n",
       "  <matplotlib.lines.Line2D at 0x7f783c85bb80>,\n",
       "  <matplotlib.lines.Line2D at 0x7f783c8723a0>,\n",
       "  <matplotlib.lines.Line2D at 0x7f783c7fdb80>,\n",
       "  <matplotlib.lines.Line2D at 0x7f783c8133a0>,\n",
       "  <matplotlib.lines.Line2D at 0x7f783c821b80>],\n",
       " 'means': []}"
      ]
     },
     "execution_count": 5,
     "metadata": {},
     "output_type": "execute_result"
    },
    {
     "data": {
      "image/png": "[encoded data removed]",
      "text/plain": [
       "<Figure size 864x432 with 1 Axes>"
      ]
     },
     "metadata": {
      "needs_background": "light"
     },
     "output_type": "display_data"
    }
   ],
   "source": [
    "plt.figure(figsize=(12, 6))\n",
    "plt.title(\"Citation\")\n",
    "# plt.yscale(\"log\")\n",
    "# plt.ylim([0, 200])\n",
    "plt.ylabel(\"log10(Citation)\")\n",
    "plt.boxplot([\n",
    "    _2019_w_videos_cit_exp,\n",
    "    _2019_w_videos_cit_news,\n",
    "    _2019_w_videos_cit_sup,\n",
    "    _2019_w_videos_cit_ref,\n",
    "    _2014_w_videos_cit_exp,\n",
    "    _2014_w_videos_cit_news,\n",
    "    _2014_w_videos_cit_sup,\n",
    "    _2014_w_videos_cit_ref\n",
    "],\n",
    "    labels=[\n",
    "        \"2019 w/ exp\\n(N=%s)\"%len(_2019_w_videos_cit_exp),\n",
    "        \"2019 w/ news\\n(N=%s)\"%len(_2019_w_videos_cit_news),\n",
    "        \"2019 w/ sup\\n(N=%s)\"%len(_2019_w_videos_cit_sup),\n",
    "        \"2019 w/ ref\\n(N=%s)\"%len(_2019_w_videos_cit_ref),\n",
    "        \"2014 w/ exp\\n(N=%s)\"%len(_2014_w_videos_cit_exp),\n",
    "        \"2014 w/ news\\n(N=%s)\"%len(_2014_w_videos_cit_news),\n",
    "        \"2014 w/ sup\\n(N=%s)\"%len(_2014_w_videos_cit_sup),\n",
    "        \"2014 w/ ref\\n(N=%s)\"%len(_2014_w_videos_cit_ref),\n",
    "    ]\n",
    ")"
   ]
  },
  {
   "cell_type": "code",
   "execution_count": null,
   "metadata": {},
   "outputs": [],
   "source": []
  }
 ],
 "metadata": {
  "kernelspec": {
   "display_name": "s-transformers",
   "language": "python",
   "name": "s-transformers"
  },
  "language_info": {
   "codemirror_mode": {
    "name": "ipython",
    "version": 3
   },
   "file_extension": ".py",
   "mimetype": "text/x-python",
   "name": "python",
   "nbconvert_exporter": "python",
   "pygments_lexer": "ipython3",
   "version": "3.8.5"
  }
 },
 "nbformat": 4,
 "nbformat_minor": 4
}
