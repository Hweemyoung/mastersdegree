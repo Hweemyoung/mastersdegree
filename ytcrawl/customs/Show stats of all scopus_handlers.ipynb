{
 "cells": [
  {
   "cell_type": "code",
   "execution_count": 1,
   "metadata": {},
   "outputs": [],
   "source": [
    "import numpy as np\n",
    "import pandas as pd\n",
    "from db_handler import DBHandler\n",
    "from matplotlib import pyplot as plt\n",
    "from scipy import stats\n",
    "from datetime import datetime, timedelta\n",
    "from calendar import monthrange\n",
    "%matplotlib inline\n",
    "from scopus_handler import ScopusHandler"
   ]
  },
  {
   "cell_type": "code",
   "execution_count": 2,
   "metadata": {},
   "outputs": [
    {
     "name": "stdout",
     "output_type": "stream",
     "text": [
      "[+]Duplicates have been dropped from df_scopus.\tBefore: 14533\tAfter: 14330\n",
      "[+]Duplicates have been dropped from df_scopus.\tBefore: 7742\tAfter: 7735\n",
      "[+]Duplicates have been dropped from df_scopus.\tBefore: 9598\tAfter: 9336\n",
      "[+]Duplicates have been dropped from df_scopus.\tBefore: 7816\tAfter: 7717\n"
     ]
    }
   ],
   "source": [
    "df1 = pd.read_csv(\"/home/hweem/git/mastersdegree/ytcrawl/customs/scopus/scopus_2019_comp.csv\")\n",
    "df1_sources = pd.read_csv(\"scopus/source_2018_comp.csv\", header=0)\n",
    "scopus_2019_comp = ScopusHandler(df1, df1_sources, \"scopus_videos_2019_comp\", verbose=False, preset_videos=False)\n",
    "df2 = pd.read_csv(\"/home/hweem/git/mastersdegree/ytcrawl/customs/scopus/scopus_2019_life.csv\")\n",
    "df2_sources = pd.read_csv(\"scopus/source_2018_life.csv\", header=0)\n",
    "scopus_2019_life = ScopusHandler(df2, df2_sources, \"scopus_videos_2019_life\", verbose=False, preset_videos=False)\n",
    "df3 = pd.read_csv(\"/home/hweem/git/mastersdegree/ytcrawl/customs/scopus/scopus_2014_comp.csv\")\n",
    "df3_sources = pd.read_csv(\"scopus/source_2013_comp.csv\", header=0)\n",
    "scopus_2014_comp = ScopusHandler(df3, df3_sources, \"scopus_videos_2014_comp\", verbose=False, preset_videos=False)\n",
    "df4 = pd.read_csv(\"/home/hweem/git/mastersdegree/ytcrawl/customs/scopus/scopus_2014_life.csv\")\n",
    "df4_sources = pd.read_csv(\"scopus/source_2013_life.csv\", header=0)\n",
    "scopus_2014_life = ScopusHandler(df4, df4_sources, \"scopus_videos_2014_life\", verbose=False, preset_videos=False)"
   ]
  },
  {
   "cell_type": "code",
   "execution_count": 3,
   "metadata": {},
   "outputs": [
    {
     "name": "stdout",
     "output_type": "stream",
     "text": [
      "Total videos: 148\n",
      "# Total DOIs: 9336\t# DOIs w/ videos: 102\tRatio: 0.011\n",
      "# Total videos: 143\t# Target videos: 143\tRatio: 1.000\n",
      "# Total subjects: 43\t# subjects w/ videos: 24\tRatio: 0.558\n",
      "# Total journals: 133\t# journals w/ videos: 35\tRatio: 0.263\n",
      "Total videos: 112\n",
      "# Total DOIs: 7717\t# DOIs w/ videos: 78\tRatio: 0.010\n",
      "# Total videos: 112\t# Target videos: 112\tRatio: 1.000\n",
      "# Total subjects: 25\t# subjects w/ videos: 17\tRatio: 0.680\n",
      "# Total journals: 52\t# journals w/ videos: 27\tRatio: 0.519\n"
     ]
    },
    {
     "data": {
      "text/plain": [
       "<scopus_handler.ScopusHandler at 0x7f94180d0a90>"
      ]
     },
     "execution_count": 3,
     "metadata": {},
     "output_type": "execute_result"
    }
   ],
   "source": [
    "scopus_2014_comp.db_handler.sql_handler.list_where_clauses = []\n",
    "scopus_2014_comp.set_target_videos()\n",
    "scopus_2014_life.db_handler.sql_handler.list_where_clauses = []\n",
    "scopus_2014_life.set_target_videos()"
   ]
  },
  {
   "cell_type": "code",
   "execution_count": 4,
   "metadata": {},
   "outputs": [
    {
     "name": "stdout",
     "output_type": "stream",
     "text": [
      "Total videos: 80\n",
      "# Total DOIs: 14330\t# DOIs w/ videos: 64\tRatio: 0.004\n",
      "# Total videos: 79\t# Target videos: 79\tRatio: 1.000\n",
      "# Total subjects: 46\t# subjects w/ videos: 22\tRatio: 0.478\n",
      "# Total journals: 133\t# journals w/ videos: 36\tRatio: 0.271\n",
      "Total videos: 351\n",
      "# Total DOIs: 7735\t# DOIs w/ videos: 134\tRatio: 0.017\n",
      "# Total videos: 284\t# Target videos: 284\tRatio: 1.000\n",
      "# Total subjects: 32\t# subjects w/ videos: 20\tRatio: 0.625\n",
      "# Total journals: 53\t# journals w/ videos: 25\tRatio: 0.472\n"
     ]
    },
    {
     "data": {
      "text/plain": [
       "<scopus_handler.ScopusHandler at 0x7f94180d0df0>"
      ]
     },
     "execution_count": 4,
     "metadata": {},
     "output_type": "execute_result"
    }
   ],
   "source": [
    "scopus_2019_comp.db_handler.sql_handler.list_where_clauses = []\n",
    "scopus_2019_comp.set_target_videos()\n",
    "scopus_2019_life.db_handler.sql_handler.list_where_clauses = []\n",
    "scopus_2019_life.set_target_videos()"
   ]
  },
  {
   "cell_type": "code",
   "execution_count": 7,
   "metadata": {},
   "outputs": [],
   "source": [
    "def get_num_metric(scopus_handler, metric=\"Cited by\"):\n",
    "    _df = scopus_handler.df_scopus.copy()\n",
    "    _S = _df[metric]\n",
    "    _S = _S.dropna()\n",
    "    _S = _S[_S != \"None\"]\n",
    "    print(\"%s: %d\" % (metric, len(_S)))\n",
    "    return(len(_S))"
   ]
  },
  {
   "cell_type": "code",
   "execution_count": 10,
   "metadata": {},
   "outputs": [
    {
     "name": "stdout",
     "output_type": "stream",
     "text": [
      "Cited by: 9022\n",
      "Cited by: 7481\n",
      "Cited by: 13057\n",
      "Cited by: 7228\n"
     ]
    },
    {
     "data": {
      "text/plain": [
       "7228"
      ]
     },
     "execution_count": 10,
     "metadata": {},
     "output_type": "execute_result"
    }
   ],
   "source": [
    "get_num_metric(scopus_2014_comp, metric=\"Cited by\")\n",
    "get_num_metric(scopus_2014_life, metric=\"Cited by\")\n",
    "get_num_metric(scopus_2019_comp, metric=\"Cited by\")\n",
    "get_num_metric(scopus_2019_life, metric=\"Cited by\")"
   ]
  },
  {
   "cell_type": "code",
   "execution_count": 11,
   "metadata": {},
   "outputs": [
    {
     "name": "stdout",
     "output_type": "stream",
     "text": [
      "AAS: 3303\n",
      "AAS: 5612\n",
      "AAS: 3382\n",
      "AAS: 4301\n"
     ]
    },
    {
     "data": {
      "text/plain": [
       "4301"
      ]
     },
     "execution_count": 11,
     "metadata": {},
     "output_type": "execute_result"
    }
   ],
   "source": [
    "get_num_metric(scopus_2014_comp, metric=\"AAS\")\n",
    "get_num_metric(scopus_2014_life, metric=\"AAS\")\n",
    "get_num_metric(scopus_2019_comp, metric=\"AAS\")\n",
    "get_num_metric(scopus_2019_life, metric=\"AAS\")"
   ]
  },
  {
   "cell_type": "code",
   "execution_count": 5,
   "metadata": {},
   "outputs": [
    {
     "name": "stdout",
     "output_type": "stream",
     "text": [
      "Total videos: 148\n",
      "# Total DOIs: 9336\t# DOIs w/ videos: 67\tRatio: 0.007\n",
      "# Total videos: 143\t# Target videos: 79\tRatio: 0.552\n",
      "# Total subjects: 43\t# subjects w/ videos: 18\tRatio: 0.419\n",
      "# Total journals: 133\t# journals w/ videos: 25\tRatio: 0.188\n",
      "Total videos: 80\n",
      "# Total DOIs: 14330\t# DOIs w/ videos: 50\tRatio: 0.003\n",
      "# Total videos: 79\t# Target videos: 63\tRatio: 0.797\n",
      "# Total subjects: 46\t# subjects w/ videos: 20\tRatio: 0.435\n",
      "# Total journals: 133\t# journals w/ videos: 26\tRatio: 0.195\n",
      "Total videos: 112\n",
      "# Total DOIs: 7717\t# DOIs w/ videos: 21\tRatio: 0.003\n",
      "# Total videos: 112\t# Target videos: 32\tRatio: 0.286\n",
      "# Total subjects: 25\t# subjects w/ videos: 9\tRatio: 0.360\n",
      "# Total journals: 52\t# journals w/ videos: 12\tRatio: 0.231\n",
      "Total videos: 351\n",
      "# Total DOIs: 7735\t# DOIs w/ videos: 124\tRatio: 0.016\n",
      "# Total videos: 284\t# Target videos: 261\tRatio: 0.919\n",
      "# Total subjects: 32\t# subjects w/ videos: 19\tRatio: 0.594\n",
      "# Total journals: 53\t# journals w/ videos: 24\tRatio: 0.453\n"
     ]
    },
    {
     "data": {
      "text/plain": [
       "<scopus_handler.ScopusHandler at 0x7f5f696a2130>"
      ]
     },
     "execution_count": 5,
     "metadata": {},
     "output_type": "execute_result"
    }
   ],
   "source": [
    "scopus_2014_comp.db_handler.sql_handler.list_where_clauses = []\n",
    "scopus_2014_comp.set_target_videos(days_until=365)\n",
    "scopus_2019_comp.db_handler.sql_handler.list_where_clauses = []\n",
    "scopus_2019_comp.set_target_videos(days_until=365)\n",
    "scopus_2014_life.db_handler.sql_handler.list_where_clauses = []\n",
    "scopus_2014_life.set_target_videos(days_until=365)\n",
    "scopus_2019_life.db_handler.sql_handler.list_where_clauses = []\n",
    "scopus_2019_life.set_target_videos(days_until=365)"
   ]
  },
  {
   "cell_type": "markdown",
   "metadata": {},
   "source": [
    "#### "
   ]
  }
 ],
 "metadata": {
  "kernelspec": {
   "display_name": "s-transformers",
   "language": "python",
   "name": "s-transformers"
  },
  "language_info": {
   "codemirror_mode": {
    "name": "ipython",
    "version": 3
   },
   "file_extension": ".py",
   "mimetype": "text/x-python",
   "name": "python",
   "nbconvert_exporter": "python",
   "pygments_lexer": "ipython3",
   "version": "3.8.5"
  }
 },
 "nbformat": 4,
 "nbformat_minor": 4
}
