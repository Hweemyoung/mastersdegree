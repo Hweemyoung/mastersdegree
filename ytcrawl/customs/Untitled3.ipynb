{
 "cells": [
  {
   "cell_type": "code",
   "execution_count": 20,
   "metadata": {},
   "outputs": [],
   "source": [
    "import random\n",
    "import pandas as pd\n",
    "from scopus_handler import ScopusHandler"
   ]
  },
  {
   "cell_type": "code",
   "execution_count": 21,
   "metadata": {},
   "outputs": [
    {
     "name": "stdout",
     "output_type": "stream",
     "text": [
      "[+]Duplicates have been dropped from df_scopus.\tBefore: 7816\tAfter: 7717\n"
     ]
    }
   ],
   "source": [
    "# CS2014\n",
    "# sorted(random.sample(range(1, 149), 100))\n",
    "# CS2019\n",
    "# sorted(random.sample(range(1, 113), 100))\n",
    "# sorted(random.sample(range(1, 81), 80))\n",
    "subject = \"life\"\n",
    "df4 = pd.read_csv(\"/home/hweem/git/mastersdegree/ytcrawl/customs/scopus/scopus_2014_%s.csv\" % subject)\n",
    "df4_sources = pd.read_csv(\"scopus/source_2013_%s.csv\" % subject, header=0)\n",
    "scopus_2014_life = ScopusHandler(df4, df4_sources, \"scopus_videos_2014_%s\" % subject, verbose=False)"
   ]
  },
  {
   "cell_type": "code",
   "execution_count": 22,
   "metadata": {},
   "outputs": [
    {
     "name": "stdout",
     "output_type": "stream",
     "text": [
      "Total videos: 79\n",
      "# Total DOIs: 7717\t# DOIs w/ videos: 51\tRatio: 0.007\n",
      "# Total videos: 79\t# Target videos: 79\tRatio: 1.000\n",
      "# Total subjects: 25\t# subjects w/ videos: 14\tRatio: 0.560\n",
      "# Total journals: 52\t# journals w/ videos: 21\tRatio: 0.404\n"
     ]
    },
    {
     "data": {
      "text/plain": [
       "<scopus_handler.ScopusHandler at 0x7f6c9d4c4430>"
      ]
     },
     "execution_count": 22,
     "metadata": {},
     "output_type": "execute_result"
    }
   ],
   "source": [
    "scopus_2014_life.set_target_videos()"
   ]
  },
  {
   "cell_type": "code",
   "execution_count": null,
   "metadata": {},
   "outputs": [],
   "source": []
  }
 ],
 "metadata": {
  "kernelspec": {
   "display_name": "s-transformers",
   "language": "python",
   "name": "s-transformers"
  },
  "language_info": {
   "codemirror_mode": {
    "name": "ipython",
    "version": 3
   },
   "file_extension": ".py",
   "mimetype": "text/x-python",
   "name": "python",
   "nbconvert_exporter": "python",
   "pygments_lexer": "ipython3",
   "version": "3.8.5"
  }
 },
 "nbformat": 4,
 "nbformat_minor": 4
}
