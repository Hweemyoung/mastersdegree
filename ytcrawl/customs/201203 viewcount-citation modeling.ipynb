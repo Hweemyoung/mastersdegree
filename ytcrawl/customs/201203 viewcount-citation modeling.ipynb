{
 "cells": [
  {
   "cell_type": "code",
   "execution_count": 1,
   "metadata": {},
   "outputs": [],
   "source": [
    "import numpy as np\n",
    "import pandas as pd\n",
    "from db_handler import DBHandler\n",
    "from matplotlib import pyplot as plt\n",
    "from scipy import stats\n",
    "from datetime import datetime, timedelta\n",
    "from calendar import monthrange\n",
    "%matplotlib inline"
   ]
  },
  {
   "cell_type": "code",
   "execution_count": 2,
   "metadata": {},
   "outputs": [],
   "source": [
    "from scopus_handler import ScopusHandler"
   ]
  },
  {
   "cell_type": "code",
   "execution_count": 3,
   "metadata": {},
   "outputs": [
    {
     "name": "stdout",
     "output_type": "stream",
     "text": [
      "[+]Duplicates have been dropped from df_scopus.\tBefore: 9598\tAfter: 9336\n"
     ]
    }
   ],
   "source": [
    "df3 = pd.read_csv(\"/home/hweem/git/mastersdegree/ytcrawl/customs/scopus/scopus_2014_comp.csv\")\n",
    "df3_sources = pd.read_csv(\"scopus/source-results-math_cs-citescore-2013.csv\", header=0)\n",
    "scopus_2014_comp = ScopusHandler(df3, df3_sources, \"scopus_videos_2014_comp\")"
   ]
  },
  {
   "cell_type": "code",
   "execution_count": 4,
   "metadata": {},
   "outputs": [
    {
     "name": "stdout",
     "output_type": "stream",
     "text": [
      "\tCommand set: SELECT `idx`, `videoId`, `content`, `idx_paper`, `channelId`, `viewCount` FROM `scopus_videos_2014_comp`\n",
      "\tsql: SELECT `idx`, `videoId`, `content`, `idx_paper`, `channelId`, `viewCount` FROM `scopus_videos_2014_comp`;\n",
      "\t[-]DOI 10.1021/ct401105x: not found in df_scopus.\n",
      "\t[-]DOI 10.1109/TNNLS.2013.2285928: not found in df_scopus.\n",
      "\t[-]DOI 10.1021/ct401105x: Either YTscore or paper meter is None.\n",
      "\t[-]DOI 10.1109/TNNLS.2013.2285928: Either YTscore or paper meter is None.\n"
     ]
    },
    {
     "data": {
      "image/png": "[encoded data removed]",
      "text/plain": [
       "<Figure size 432x288 with 1 Axes>"
      ]
     },
     "metadata": {
      "needs_background": "light"
     },
     "output_type": "display_data"
    },
    {
     "data": {
      "text/plain": [
       "<scopus_handler.ScopusHandler at 0x7fee58113f40>"
      ]
     },
     "execution_count": 4,
     "metadata": {},
     "output_type": "execute_result"
    }
   ],
   "source": [
    "scopus_2014_comp.model_metrics(paper_metric=\"Cited by\", video_metric=\"viewCount\", method=\"sum\", log_scale=True)"
   ]
  },
  {
   "cell_type": "code",
   "execution_count": 5,
   "metadata": {},
   "outputs": [
    {
     "name": "stdout",
     "output_type": "stream",
     "text": [
      "\tCommand set: SELECT `idx`, `videoId`, `content`, `idx_paper`, `channelId`, `viewCount` FROM `scopus_videos_2014_comp`\n",
      "\tsql: SELECT `idx`, `videoId`, `content`, `idx_paper`, `channelId`, `viewCount` FROM `scopus_videos_2014_comp`;\n",
      "\t[-]DOI 10.1109/TII.2014.2306329: not found in df_scopus.\n",
      "\t[-]DOI 10.1109/TNNLS.2014.2302477: not found in df_scopus.\n",
      "\t[-]DOI 10.1109/TSC.2013.18: not found in df_scopus.\n",
      "\t[-]DOI 10.1371/journal.pcbi.1003446: not found in df_scopus.\n",
      "\t[-]DOI 10.1109/TRO.2013.2280831: not found in df_scopus.\n",
      "\t[-]DOI 10.1109/TSE.2013.48: not found in df_scopus.\n",
      "\t[-]DOI 10.1109/TSC.2013.29: not found in df_scopus.\n",
      "\t[-]DOI 10.1109/TVT.2013.2281213: not found in df_scopus.\n",
      "\t[-]DOI 10.1016/j.imavis.2014.02.003: not found in df_scopus.\n",
      "\t[-]DOI 10.1109/TKDE.2013.124: not found in df_scopus.\n",
      "\t[-]DOI 10.1109/TKDE.2013.134: not found in df_scopus.\n",
      "\t[-]DOI 10.1109/TKDE.2013.88: not found in df_scopus.\n",
      "\t[-]DOI 10.1109/TPDS.2013.299: not found in df_scopus.\n",
      "\t[-]DOI 10.1109/TKDE.2013.11: not found in df_scopus.\n",
      "\t[-]DOI 10.1109/TPDS.2013.122: not found in df_scopus.\n",
      "\t[-]DOI 10.1109/TKDE.2013.123: not found in df_scopus.\n",
      "\t[-]DOI 10.1177/0278364913519148: not found in df_scopus.\n",
      "\t[-]DOI 10.1109/TPDS.2013.132: not found in df_scopus.\n",
      "\t[-]DOI 10.1109/MIC.2014.19: not found in df_scopus.\n",
      "\t[-]DOI 10.1109/TVT.2014.2310394: not found in df_scopus.\n",
      "\t[-]DOI 10.1109/TKDE.2013.41: not found in df_scopus.\n",
      "\t[-]DOI 10.1177/0278364912473169: not found in df_scopus.\n",
      "\t[-]DOI 10.1109/TITS.2013.2294723: not found in df_scopus.\n",
      "\t[-]DOI 10.1109/TSC.2013.3: not found in df_scopus.\n",
      "\t[-]DOI 10.1016/j.cviu.2013.12.006: not found in df_scopus.\n",
      "\t[-]DOI 10.1109/TII.2014.2305641: not found in df_scopus.\n",
      "\t[-]DOI 10.1109/TKDE.2013.109: not found in df_scopus.\n",
      "\t[-]DOI 10.1109/JBHI.2013.2282827: not found in df_scopus.\n",
      "\t[-]DOI 10.1371/journal.pcbi.1003439: not found in df_scopus.\n",
      "\t[-]DOI 10.1109/TKDE.2013.89: not found in df_scopus.\n",
      "\t[-]DOI 10.1109/TNNLS.2013.2285242: not found in df_scopus.\n",
      "\t[-]DOI 10.1109/TSE.2013.58: not found in df_scopus.\n",
      "\t[-]DOI 10.1109/TRO.2013.2283927: not found in df_scopus.\n",
      "\t[-]DOI 10.1109/TPDS.2013.261: not found in df_scopus.\n",
      "\t[-]DOI 10.1016/j.knosys.2013.12.005: not found in df_scopus.\n",
      "\t[-]DOI 10.1016/j.compedu.2013.12.002: not found in df_scopus.\n",
      "\t[-]DOI 10.1109/TITS.2013.2291241: not found in df_scopus.\n",
      "\t[-]DOI 10.1109/TNNLS.2013.2285928: not found in df_scopus.\n",
      "\t[-]DOI 10.1177/0278364914522141: not found in df_scopus.\n",
      "\t[-]DOI 10.1109/TIFS.2013.2291220: not found in df_scopus.\n",
      "\t[-]DOI 10.1177/0278364913509858: not found in df_scopus.\n",
      "\t[-]DOI 10.1109/TSE.2013.2297712: not found in df_scopus.\n",
      "\t[-]DOI 10.1109/TII.2014.2306329: Either YTscore or paper meter is None.\n",
      "\t[-]DOI 10.1109/TNNLS.2014.2302477: Either YTscore or paper meter is None.\n",
      "\t[-]DOI 10.1109/TSC.2013.18: Either YTscore or paper meter is None.\n",
      "\t[-]DOI 10.1371/journal.pcbi.1003446: Either YTscore or paper meter is None.\n",
      "\t[-]DOI 10.1109/TRO.2013.2280831: Either YTscore or paper meter is None.\n",
      "\t[-]DOI 10.1109/TSE.2013.48: Either YTscore or paper meter is None.\n",
      "\t[-]DOI 10.1109/TSC.2013.29: Either YTscore or paper meter is None.\n",
      "\t[-]DOI 10.1109/TVT.2013.2281213: Either YTscore or paper meter is None.\n",
      "\t[-]DOI 10.1016/j.imavis.2014.02.003: Either YTscore or paper meter is None.\n",
      "\t[-]DOI 10.1109/TKDE.2013.124: Either YTscore or paper meter is None.\n",
      "\t[-]DOI 10.1109/TKDE.2013.134: Either YTscore or paper meter is None.\n",
      "\t[-]DOI 10.1109/TKDE.2013.88: Either YTscore or paper meter is None.\n",
      "\t[-]DOI 10.1109/TPDS.2013.299: Either YTscore or paper meter is None.\n",
      "\t[-]DOI 10.1109/TKDE.2013.11: Either YTscore or paper meter is None.\n",
      "\t[-]DOI 10.1109/TPDS.2013.122: Either YTscore or paper meter is None.\n",
      "\t[-]DOI 10.1109/TKDE.2013.123: Either YTscore or paper meter is None.\n",
      "\t[-]DOI 10.1177/0278364913519148: Either YTscore or paper meter is None.\n",
      "\t[-]DOI 10.1109/TPDS.2013.132: Either YTscore or paper meter is None.\n",
      "\t[-]DOI 10.1109/MIC.2014.19: Either YTscore or paper meter is None.\n",
      "\t[-]DOI 10.1109/TVT.2014.2310394: Either YTscore or paper meter is None.\n",
      "\t[-]DOI 10.1109/TKDE.2013.41: Either YTscore or paper meter is None.\n",
      "\t[-]DOI 10.1177/0278364912473169: Either YTscore or paper meter is None.\n",
      "\t[-]DOI 10.1109/TITS.2013.2294723: Either YTscore or paper meter is None.\n",
      "\t[-]DOI 10.1109/TSC.2013.3: Either YTscore or paper meter is None.\n",
      "\t[-]DOI 10.1016/j.cviu.2013.12.006: Either YTscore or paper meter is None.\n",
      "\t[-]DOI 10.1109/TII.2014.2305641: Either YTscore or paper meter is None.\n",
      "\t[-]DOI 10.1109/TKDE.2013.109: Either YTscore or paper meter is None.\n",
      "\t[-]DOI 10.1109/JBHI.2013.2282827: Either YTscore or paper meter is None.\n",
      "\t[-]DOI 10.1371/journal.pcbi.1003439: Either YTscore or paper meter is None.\n",
      "\t[-]DOI 10.1109/TKDE.2013.89: Either YTscore or paper meter is None.\n",
      "\t[-]DOI 10.1109/TNNLS.2013.2285242: Either YTscore or paper meter is None.\n",
      "\t[-]DOI 10.1109/TSE.2013.58: Either YTscore or paper meter is None.\n",
      "\t[-]DOI 10.1109/TRO.2013.2283927: Either YTscore or paper meter is None.\n",
      "\t[-]DOI 10.1109/TPDS.2013.261: Either YTscore or paper meter is None.\n",
      "\t[-]DOI 10.1016/j.knosys.2013.12.005: Either YTscore or paper meter is None.\n",
      "\t[-]DOI 10.1016/j.compedu.2013.12.002: Either YTscore or paper meter is None.\n",
      "\t[-]DOI 10.1109/TITS.2013.2291241: Either YTscore or paper meter is None.\n",
      "\t[-]DOI 10.1109/TNNLS.2013.2285928: Either YTscore or paper meter is None.\n",
      "\t[-]DOI 10.1177/0278364914522141: Either YTscore or paper meter is None.\n",
      "\t[-]DOI 10.1109/TIFS.2013.2291220: Either YTscore or paper meter is None.\n",
      "\t[-]DOI 10.1177/0278364913509858: Either YTscore or paper meter is None.\n",
      "\t[-]DOI 10.1109/TSE.2013.2297712: Either YTscore or paper meter is None.\n"
     ]
    },
    {
     "data": {
      "image/png": "[encoded data removed]",
      "text/plain": [
       "<Figure size 432x288 with 1 Axes>"
      ]
     },
     "metadata": {
      "needs_background": "light"
     },
     "output_type": "display_data"
    },
    {
     "data": {
      "text/plain": [
       "<scopus_handler.ScopusHandler at 0x7fee58113f40>"
      ]
     },
     "execution_count": 5,
     "metadata": {},
     "output_type": "execute_result"
    }
   ],
   "source": [
    "scopus_2014_comp.model_metrics(paper_metric=\"AAS\", video_metric=\"viewCount\", method=\"sum\", log_scale=True)"
   ]
  },
  {
   "cell_type": "code",
   "execution_count": null,
   "metadata": {},
   "outputs": [],
   "source": []
  }
 ],
 "metadata": {
  "kernelspec": {
   "display_name": "s-transformers",
   "language": "python",
   "name": "s-transformers"
  },
  "language_info": {
   "codemirror_mode": {
    "name": "ipython",
    "version": 3
   },
   "file_extension": ".py",
   "mimetype": "text/x-python",
   "name": "python",
   "nbconvert_exporter": "python",
   "pygments_lexer": "ipython3",
   "version": "3.8.5"
  }
 },
 "nbformat": 4,
 "nbformat_minor": 4
}
