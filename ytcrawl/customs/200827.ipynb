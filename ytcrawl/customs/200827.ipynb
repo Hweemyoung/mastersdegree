{
 "cells": [
  {
   "cell_type": "markdown",
   "metadata": {},
   "source": [
    "출판과의 시간차에 따른 관계"
   ]
  },
  {
   "cell_type": "code",
   "execution_count": 23,
   "metadata": {},
   "outputs": [],
   "source": [
    "import numpy as np\n",
    "import pandas as pd\n",
    "from db_handler import DBHandler\n",
    "from matplotlib import pyplot as plt\n",
    "from scipy import stats\n",
    "from datetime import datetime, timedelta\n",
    "from calendar import monthrange\n",
    "%matplotlib inline\n",
    "\n",
    "def parse_fetches(fetches):\n",
    "    _new_fetches = list()\n",
    "    for _fetch in fetches:\n",
    "        for _doi in _fetch[0].split(\", \"):\n",
    "            _new_fetches.append(\n",
    "                (_doi, _fetch[1])\n",
    "            )\n",
    "    return _new_fetches\n",
    "\n",
    "def get_dois_with_videos_within_days_from_publish(df, table_name, days_from=None, days_until=None):\n",
    "    _set_target_dois = set()\n",
    "    db_handler.sql_handler.select(table_name, [\"idx_paper\", \"publishedAt\"])\n",
    "    fetches = db_handler.execute().fetchall()\n",
    "    fetches = parse_fetches(fetches)\n",
    "    \n",
    "    for _row in fetches:\n",
    "#         print(\"DOI:\", _row[0])\n",
    "        _target_paper = df[df[\"DOI\"] == _row[0]]\n",
    "#         if len(_target_paper) == 0:\n",
    "#             continue\n",
    "        if len(_target_paper) > 1:\n",
    "            _target_paper = _target_paper.iloc[0]\n",
    "#         print(_target_paper)\n",
    "        _dt_publish = datetime(_target_paper[\"Year\"], _target_paper[\"Month\"], 1)\n",
    "        \n",
    "        if days_from != None:\n",
    "            _dt_video_from = _dt_publish + timedelta(days=days_from)\n",
    "            if _row[1] < _dt_video_from:\n",
    "                continue\n",
    "        \n",
    "        if days_until != None:\n",
    "            _dt_video_until = _dt_publish + timedelta(days=days_until)\n",
    "            if _row[1] > _dt_video_until:\n",
    "                continue\n",
    "        \n",
    "        _set_target_dois.add(_row[0])\n",
    "    \n",
    "#     if days_until == None:\n",
    "#         _set_target_dois = set(map(lambda _row: _row[0], fetches))\n",
    "#     else:\n",
    "#         for _row in fetches:\n",
    "#             _target_paper = df[df[\"DOI\"] == _row[0]]\n",
    "#             if len(_target_paper) > 1:\n",
    "#                 _target_paper = _target_paper.iloc[0]\n",
    "#             _dt_publish = datetime(_target_paper[\"Year\"], _target_paper[\"Month\"], 1)\n",
    "            \n",
    "#             _dt_video_from = _dt_publish + timedelta(days=days_from)\n",
    "#             _dt_video_until = _dt_publish + timedelta(days=days_until)\n",
    "            \n",
    "#             if _row[1] < _dt_video_deadline:\n",
    "#                 _set_target_dois.add(_row[0])\n",
    "    \n",
    "    return _set_target_dois"
   ]
  },
  {
   "cell_type": "code",
   "execution_count": 4,
   "metadata": {},
   "outputs": [],
   "source": [
    "df1 = pd.read_csv(\"/home/hweem/git/mastersdegree/ytcrawl/customs/scopus/scopus_math+comp_top5perc_1901-1906.csv\")\n",
    "df2 = pd.read_csv(\"/home/hweem/git/mastersdegree/ytcrawl/customs/scopus/scopus_math+comp_top5perc_1701-1706.csv\")\n",
    "df3 = pd.read_csv(\"/home/hweem/git/mastersdegree/ytcrawl/customs/scopus/scopus_math+comp_top5perc_1401-1406.csv\")\n",
    "db_handler = DBHandler()"
   ]
  },
  {
   "cell_type": "code",
   "execution_count": 5,
   "metadata": {},
   "outputs": [
    {
     "name": "stdout",
     "output_type": "stream",
     "text": [
      "\tCommand set: SELECT `idx_paper`, `publishedAt` FROM `scopus_videos_2014_comp`\n",
      "\tsql: SELECT `idx_paper`, `publishedAt` FROM `scopus_videos_2014_comp`;\n",
      "\tCommand set: SELECT `idx_paper`, `publishedAt` FROM `scopus_videos_2017_comp`\n",
      "\tsql: SELECT `idx_paper`, `publishedAt` FROM `scopus_videos_2017_comp`;\n",
      "\tCommand set: SELECT `idx_paper`, `publishedAt` FROM `scopus_videos_2019_comp`\n",
      "\tsql: SELECT `idx_paper`, `publishedAt` FROM `scopus_videos_2019_comp`;\n"
     ]
    }
   ],
   "source": [
    "db_handler.sql_handler.select(\"scopus_videos_2014_comp\", [\"idx_paper\", \"publishedAt\"])\n",
    "_videos_2014 = db_handler.execute().fetchall()\n",
    "db_handler.sql_handler.select(\"scopus_videos_2017_comp\", [\"idx_paper\", \"publishedAt\"])\n",
    "_videos_2017 = db_handler.execute().fetchall()\n",
    "db_handler.sql_handler.select(\"scopus_videos_2019_comp\", [\"idx_paper\", \"publishedAt\"])\n",
    "_videos_2019 = db_handler.execute().fetchall()"
   ]
  },
  {
   "cell_type": "code",
   "execution_count": 6,
   "metadata": {},
   "outputs": [
    {
     "name": "stdout",
     "output_type": "stream",
     "text": [
      "\tCommand set: SELECT `idx_paper`, `publishedAt` FROM `scopus_videos_2014_comp`\n",
      "\tsql: SELECT `idx_paper`, `publishedAt` FROM `scopus_videos_2014_comp`;\n",
      "\tCommand set: SELECT `idx_paper`, `publishedAt` FROM `scopus_videos_2014_comp`\n",
      "\tsql: SELECT `idx_paper`, `publishedAt` FROM `scopus_videos_2014_comp`;\n",
      "\tCommand set: SELECT `idx_paper`, `publishedAt` FROM `scopus_videos_2014_comp`\n",
      "\tsql: SELECT `idx_paper`, `publishedAt` FROM `scopus_videos_2014_comp`;\n",
      "\tCommand set: SELECT `idx_paper`, `publishedAt` FROM `scopus_videos_2014_comp`\n",
      "\tsql: SELECT `idx_paper`, `publishedAt` FROM `scopus_videos_2014_comp`;\n",
      "\tCommand set: SELECT `idx_paper`, `publishedAt` FROM `scopus_videos_2014_comp`\n",
      "\tsql: SELECT `idx_paper`, `publishedAt` FROM `scopus_videos_2014_comp`;\n",
      "\tCommand set: SELECT `idx_paper`, `publishedAt` FROM `scopus_videos_2014_comp`\n",
      "\tsql: SELECT `idx_paper`, `publishedAt` FROM `scopus_videos_2014_comp`;\n",
      "102 25 35 7 0 39\n"
     ]
    }
   ],
   "source": [
    "# _idx_papers_2019 = get_dois_with_videos_within_days_from_publish(df1, \"scopus_videos_2019_comp\")\n",
    "# _idx_papers_2019_90 = get_dois_with_videos_within_days_from_publish(df1, \"scopus_videos_2019_comp\", None, 90)\n",
    "# print(len(_idx_papers_2019), len(_idx_papers_2019_90))\n",
    "# _idx_papers_2017 = get_dois_with_videos_within_days_from_publish(df2, \"scopus_videos_2017_comp\")\n",
    "# _idx_papers_2017_90 = get_dois_with_videos_within_days_from_publish(df2, \"scopus_videos_2017_comp\", None, 90)\n",
    "# print(len(_idx_papers_2017), len(_idx_papers_2017_90))\n",
    "_idx_papers_2014 = get_dois_with_videos_within_days_from_publish(df3, \"scopus_videos_2014_comp\")\n",
    "_idx_papers_2014_90 = get_dois_with_videos_within_days_from_publish(df3, \"scopus_videos_2014_comp\", None, 90)\n",
    "_idx_papers_2014_180 = get_dois_with_videos_within_days_from_publish(df3, \"scopus_videos_2014_comp\", 90, 180)\n",
    "_idx_papers_2014_270 = get_dois_with_videos_within_days_from_publish(df3, \"scopus_videos_2014_comp\", 180, 270)\n",
    "_idx_papers_2014_360 = get_dois_with_videos_within_days_from_publish(df3, \"scopus_videos_2014_comp\", 270, 360)\n",
    "_idx_papers_2014_rest = get_dois_with_videos_within_days_from_publish(df3, \"scopus_videos_2014_comp\", 360, None)\n",
    "print(len(_idx_papers_2014), len(_idx_papers_2014_90), len(_idx_papers_2014_180), len(_idx_papers_2014_270), len(_idx_papers_2014_360), len(_idx_papers_2014_rest))"
   ]
  },
  {
   "cell_type": "code",
   "execution_count": 14,
   "metadata": {},
   "outputs": [
    {
     "name": "stderr",
     "output_type": "stream",
     "text": [
      "/home/hweem/git/mastersdegree/ytcrawl/ytcrawl0/lib/python3.5/site-packages/ipykernel_launcher.py:5: UserWarning: Boolean Series key will be reindexed to match DataFrame index.\n",
      "  \"\"\"\n",
      "/home/hweem/git/mastersdegree/ytcrawl/ytcrawl0/lib/python3.5/site-packages/ipykernel_launcher.py:6: UserWarning: Boolean Series key will be reindexed to match DataFrame index.\n",
      "  \n",
      "/home/hweem/git/mastersdegree/ytcrawl/ytcrawl0/lib/python3.5/site-packages/ipykernel_launcher.py:7: UserWarning: Boolean Series key will be reindexed to match DataFrame index.\n",
      "  import sys\n",
      "/home/hweem/git/mastersdegree/ytcrawl/ytcrawl0/lib/python3.5/site-packages/ipykernel_launcher.py:8: UserWarning: Boolean Series key will be reindexed to match DataFrame index.\n",
      "  \n",
      "/home/hweem/git/mastersdegree/ytcrawl/ytcrawl0/lib/python3.5/site-packages/ipykernel_launcher.py:9: UserWarning: Boolean Series key will be reindexed to match DataFrame index.\n",
      "  if __name__ == '__main__':\n",
      "/home/hweem/git/mastersdegree/ytcrawl/ytcrawl0/lib/python3.5/site-packages/ipykernel_launcher.py:10: UserWarning: Boolean Series key will be reindexed to match DataFrame index.\n",
      "  # Remove the CWD from sys.path while we load stuff.\n"
     ]
    },
    {
     "data": {
      "text/plain": [
       "{'boxes': [<matplotlib.lines.Line2D at 0x7fdd5d5a80f0>,\n",
       "  <matplotlib.lines.Line2D at 0x7fdd5d5b45c0>,\n",
       "  <matplotlib.lines.Line2D at 0x7fdd5d5b9cf8>,\n",
       "  <matplotlib.lines.Line2D at 0x7fdd5d543470>,\n",
       "  <matplotlib.lines.Line2D at 0x7fdd5d547ba8>,\n",
       "  <matplotlib.lines.Line2D at 0x7fdd5d551320>],\n",
       " 'caps': [<matplotlib.lines.Line2D at 0x7fdd5d5a8898>,\n",
       "  <matplotlib.lines.Line2D at 0x7fdd5d5a8be0>,\n",
       "  <matplotlib.lines.Line2D at 0x7fdd5d5b4fd0>,\n",
       "  <matplotlib.lines.Line2D at 0x7fdd5d5b9358>,\n",
       "  <matplotlib.lines.Line2D at 0x7fdd5d53d748>,\n",
       "  <matplotlib.lines.Line2D at 0x7fdd5d53da90>,\n",
       "  <matplotlib.lines.Line2D at 0x7fdd5d543e80>,\n",
       "  <matplotlib.lines.Line2D at 0x7fdd5d547208>,\n",
       "  <matplotlib.lines.Line2D at 0x7fdd5d54c5f8>,\n",
       "  <matplotlib.lines.Line2D at 0x7fdd5d54c940>,\n",
       "  <matplotlib.lines.Line2D at 0x7fdd5d551d30>,\n",
       "  <matplotlib.lines.Line2D at 0x7fdd5d5580b8>],\n",
       " 'fliers': [<matplotlib.lines.Line2D at 0x7fdd5d5b42b0>,\n",
       "  <matplotlib.lines.Line2D at 0x7fdd5d5b99e8>,\n",
       "  <matplotlib.lines.Line2D at 0x7fdd5d543160>,\n",
       "  <matplotlib.lines.Line2D at 0x7fdd5d547898>,\n",
       "  <matplotlib.lines.Line2D at 0x7fdd5d54cfd0>,\n",
       "  <matplotlib.lines.Line2D at 0x7fdd5d558748>],\n",
       " 'means': [],\n",
       " 'medians': [<matplotlib.lines.Line2D at 0x7fdd5d5a8f28>,\n",
       "  <matplotlib.lines.Line2D at 0x7fdd5d5b96a0>,\n",
       "  <matplotlib.lines.Line2D at 0x7fdd5d53ddd8>,\n",
       "  <matplotlib.lines.Line2D at 0x7fdd5d547550>,\n",
       "  <matplotlib.lines.Line2D at 0x7fdd5d54cc88>,\n",
       "  <matplotlib.lines.Line2D at 0x7fdd5d558400>],\n",
       " 'whiskers': [<matplotlib.lines.Line2D at 0x7fdd5d5a8208>,\n",
       "  <matplotlib.lines.Line2D at 0x7fdd5d5a8550>,\n",
       "  <matplotlib.lines.Line2D at 0x7fdd5d5b4940>,\n",
       "  <matplotlib.lines.Line2D at 0x7fdd5d5b4c88>,\n",
       "  <matplotlib.lines.Line2D at 0x7fdd5d53d0b8>,\n",
       "  <matplotlib.lines.Line2D at 0x7fdd5d53d400>,\n",
       "  <matplotlib.lines.Line2D at 0x7fdd5d5437f0>,\n",
       "  <matplotlib.lines.Line2D at 0x7fdd5d543b38>,\n",
       "  <matplotlib.lines.Line2D at 0x7fdd5d547f28>,\n",
       "  <matplotlib.lines.Line2D at 0x7fdd5d54c2b0>,\n",
       "  <matplotlib.lines.Line2D at 0x7fdd5d5516a0>,\n",
       "  <matplotlib.lines.Line2D at 0x7fdd5d5519e8>]}"
      ]
     },
     "execution_count": 14,
     "metadata": {},
     "output_type": "execute_result"
    },
    {
     "data": {
      "image/png": "[encoded data removed]",
      "text/plain": [
       "<Figure size 864x432 with 1 Axes>"
      ]
     },
     "metadata": {
      "needs_background": "light"
     },
     "output_type": "display_data"
    }
   ],
   "source": [
    "# _2019_90_wo_videos_cit = df1[~df1.DOI.isin(_idx_papers_2019_90)][df1[\"Cited by\"] != \"None\"][\"Cited by\"].dropna().astype(int)\n",
    "# _2019_90_w_videos_cit = df1[df1.DOI.isin(_idx_papers_2019_90)][df1[\"Cited by\"] != \"None\"][\"Cited by\"].dropna().astype(int)\n",
    "# _2017_90_wo_videos_cit = df2[~df2.DOI.isin(_idx_papers_2017_90)][df2[\"Cited by\"] != \"None\"][\"Cited by\"].dropna().astype(int)\n",
    "# _2017_90_w_videos_cit = df2[df2.DOI.isin(_idx_papers_2017_90)][df2[\"Cited by\"] != \"None\"][\"Cited by\"].dropna().astype(int)\n",
    "_2014_wo_videos_cit = df3[~df3.DOI.isin(_idx_papers_2014)][df3[\"Cited by\"] != \"None\"][\"Cited by\"].dropna().astype(int)\n",
    "_2014_90_w_videos_cit = df3[df3.DOI.isin(_idx_papers_2014_90)][df3[\"Cited by\"] != \"None\"][\"Cited by\"].dropna().astype(int)\n",
    "_2014_180_w_videos_cit = df3[df3.DOI.isin(_idx_papers_2014_180)][df3[\"Cited by\"] != \"None\"][\"Cited by\"].dropna().astype(int)\n",
    "_2014_270_w_videos_cit = df3[df3.DOI.isin(_idx_papers_2014_270)][df3[\"Cited by\"] != \"None\"][\"Cited by\"].dropna().astype(int)\n",
    "_2014_360_w_videos_cit = df3[df3.DOI.isin(_idx_papers_2014_360)][df3[\"Cited by\"] != \"None\"][\"Cited by\"].dropna().astype(int)\n",
    "_2014_rest_w_videos_cit = df3[df3.DOI.isin(_idx_papers_2014_rest)][df3[\"Cited by\"] != \"None\"][\"Cited by\"].dropna().astype(int)\n",
    "\n",
    "plt.figure(figsize=(12, 6))\n",
    "plt.title(\"Citation by video age\")\n",
    "plt.yscale(\"log\")\n",
    "# plt.ylim([0, 200])\n",
    "plt.boxplot([\n",
    "    _2014_wo_videos_cit,\n",
    "    _2014_90_w_videos_cit,\n",
    "    _2014_180_w_videos_cit,\n",
    "    _2014_270_w_videos_cit,\n",
    "    _2014_360_w_videos_cit,\n",
    "    _2014_rest_w_videos_cit\n",
    "],\n",
    "    labels=[\n",
    "        \"2014 w/o videos\\n(N=%s)\"%len(_2014_wo_videos_cit),\n",
    "        \"2014 w/ videos-90\\n(N=%s)\"%len(_2014_90_w_videos_cit),\n",
    "        \"2014 w/ videos-180\\n(N=%s)\"%len(_2014_180_w_videos_cit),\n",
    "        \"2014 w/ videos-270\\n(N=%s)\"%len(_2014_270_w_videos_cit),\n",
    "        \"2014 w/ videos-360\\n(N=%s)\"%len(_2014_360_w_videos_cit),\n",
    "        \"2014 w/ videos-rest\\n(N=%s)\"%len(_2014_rest_w_videos_cit)\n",
    "    ]\n",
    ")"
   ]
  },
  {
   "cell_type": "code",
   "execution_count": 8,
   "metadata": {},
   "outputs": [
    {
     "name": "stdout",
     "output_type": "stream",
     "text": [
      "2014-90\tS = -0.326882\tp = 0.743764\n",
      "2014-180\tS = -0.656361\tp = 0.511608\n",
      "2014-270\tS = -3.121227\tp = 0.001807\n",
      "2014-360\tS = nan\tp = nan\n",
      "2014-rest\tS = -2.791337\tp = 0.005260\n"
     ]
    }
   ],
   "source": [
    "# _s2019, _p2019 = stats.ttest_ind(\n",
    "#     _2019_90_wo_videos_cit,\n",
    "#     _2019_90_w_videos_cit\n",
    "# )\n",
    "# print(\"2019\\tS = %f\\tp = %f\"%(_s2019, _p2019))\n",
    "\n",
    "# _s2017, _p2017 = stats.ttest_ind(\n",
    "#     _2017_90_wo_videos_cit,\n",
    "#     _2017_90_w_videos_cit\n",
    "# )\n",
    "# print(\"2017\\tS = %f\\tp = %f\"%(_s2017, _p2017))\n",
    "\n",
    "_s2014, _p2014 = stats.ttest_ind(\n",
    "    _2014_wo_videos_cit,\n",
    "    _2014_90_w_videos_cit\n",
    ")\n",
    "print(\"2014-90\\tS = %f\\tp = %f\"%(_s2014, _p2014))\n",
    "_s2014, _p2014 = stats.ttest_ind(\n",
    "    _2014_wo_videos_cit,\n",
    "    _2014_180_w_videos_cit\n",
    ")\n",
    "print(\"2014-180\\tS = %f\\tp = %f\"%(_s2014, _p2014))\n",
    "_s2014, _p2014 = stats.ttest_ind(\n",
    "    _2014_wo_videos_cit,\n",
    "    _2014_270_w_videos_cit\n",
    ")\n",
    "print(\"2014-270\\tS = %f\\tp = %f\"%(_s2014, _p2014))\n",
    "_s2014, _p2014 = stats.ttest_ind(\n",
    "    _2014_wo_videos_cit,\n",
    "    _2014_360_w_videos_cit\n",
    ")\n",
    "print(\"2014-360\\tS = %f\\tp = %f\"%(_s2014, _p2014))\n",
    "_s2014, _p2014 = stats.ttest_ind(\n",
    "    _2014_wo_videos_cit,\n",
    "    _2014_rest_w_videos_cit\n",
    ")\n",
    "print(\"2014-rest\\tS = %f\\tp = %f\"%(_s2014, _p2014))"
   ]
  },
  {
   "cell_type": "markdown",
   "metadata": {},
   "source": [
    "출판 초기 비디오일수록 유의성이 없다. 의외로 나중 비디오일수록 더 유의하다."
   ]
  },
  {
   "cell_type": "code",
   "execution_count": 9,
   "metadata": {},
   "outputs": [
    {
     "name": "stdout",
     "output_type": "stream",
     "text": [
      "\tCommand set: SELECT `idx_paper`, `publishedAt` FROM `scopus_videos_2017_comp`\n",
      "\tsql: SELECT `idx_paper`, `publishedAt` FROM `scopus_videos_2017_comp`;\n",
      "\tCommand set: SELECT `idx_paper`, `publishedAt` FROM `scopus_videos_2017_comp`\n",
      "\tsql: SELECT `idx_paper`, `publishedAt` FROM `scopus_videos_2017_comp`;\n",
      "\tCommand set: SELECT `idx_paper`, `publishedAt` FROM `scopus_videos_2017_comp`\n",
      "\tsql: SELECT `idx_paper`, `publishedAt` FROM `scopus_videos_2017_comp`;\n",
      "\tCommand set: SELECT `idx_paper`, `publishedAt` FROM `scopus_videos_2017_comp`\n",
      "\tsql: SELECT `idx_paper`, `publishedAt` FROM `scopus_videos_2017_comp`;\n",
      "\tCommand set: SELECT `idx_paper`, `publishedAt` FROM `scopus_videos_2017_comp`\n",
      "\tsql: SELECT `idx_paper`, `publishedAt` FROM `scopus_videos_2017_comp`;\n",
      "\tCommand set: SELECT `idx_paper`, `publishedAt` FROM `scopus_videos_2017_comp`\n",
      "\tsql: SELECT `idx_paper`, `publishedAt` FROM `scopus_videos_2017_comp`;\n",
      "72 30 6 3 5 34\n"
     ]
    }
   ],
   "source": [
    "_idx_papers_2017 = get_dois_with_videos_within_days_from_publish(df2, \"scopus_videos_2017_comp\")\n",
    "_idx_papers_2017_90 = get_dois_with_videos_within_days_from_publish(df2, \"scopus_videos_2017_comp\", None, 90)\n",
    "_idx_papers_2017_180 = get_dois_with_videos_within_days_from_publish(df2, \"scopus_videos_2017_comp\", 90, 180)\n",
    "_idx_papers_2017_270 = get_dois_with_videos_within_days_from_publish(df2, \"scopus_videos_2017_comp\", 180, 270)\n",
    "_idx_papers_2017_360 = get_dois_with_videos_within_days_from_publish(df2, \"scopus_videos_2017_comp\", 270, 360)\n",
    "_idx_papers_2017_rest = get_dois_with_videos_within_days_from_publish(df2, \"scopus_videos_2017_comp\", 360, None)\n",
    "print(len(_idx_papers_2017), len(_idx_papers_2017_90), len(_idx_papers_2017_180), len(_idx_papers_2017_270), len(_idx_papers_2017_360), len(_idx_papers_2017_rest))"
   ]
  },
  {
   "cell_type": "code",
   "execution_count": 13,
   "metadata": {},
   "outputs": [
    {
     "name": "stderr",
     "output_type": "stream",
     "text": [
      "/home/hweem/git/mastersdegree/ytcrawl/ytcrawl0/lib/python3.5/site-packages/ipykernel_launcher.py:1: UserWarning: Boolean Series key will be reindexed to match DataFrame index.\n",
      "  \"\"\"Entry point for launching an IPython kernel.\n",
      "/home/hweem/git/mastersdegree/ytcrawl/ytcrawl0/lib/python3.5/site-packages/ipykernel_launcher.py:2: UserWarning: Boolean Series key will be reindexed to match DataFrame index.\n",
      "  \n",
      "/home/hweem/git/mastersdegree/ytcrawl/ytcrawl0/lib/python3.5/site-packages/ipykernel_launcher.py:3: UserWarning: Boolean Series key will be reindexed to match DataFrame index.\n",
      "  This is separate from the ipykernel package so we can avoid doing imports until\n",
      "/home/hweem/git/mastersdegree/ytcrawl/ytcrawl0/lib/python3.5/site-packages/ipykernel_launcher.py:4: UserWarning: Boolean Series key will be reindexed to match DataFrame index.\n",
      "  after removing the cwd from sys.path.\n",
      "/home/hweem/git/mastersdegree/ytcrawl/ytcrawl0/lib/python3.5/site-packages/ipykernel_launcher.py:5: UserWarning: Boolean Series key will be reindexed to match DataFrame index.\n",
      "  \"\"\"\n",
      "/home/hweem/git/mastersdegree/ytcrawl/ytcrawl0/lib/python3.5/site-packages/ipykernel_launcher.py:6: UserWarning: Boolean Series key will be reindexed to match DataFrame index.\n",
      "  \n"
     ]
    },
    {
     "data": {
      "text/plain": [
       "{'boxes': [<matplotlib.lines.Line2D at 0x7fdd5d698978>,\n",
       "  <matplotlib.lines.Line2D at 0x7fdd5d6a8e48>,\n",
       "  <matplotlib.lines.Line2D at 0x7fdd5d6b35c0>,\n",
       "  <matplotlib.lines.Line2D at 0x7fdd5d6b7cf8>,\n",
       "  <matplotlib.lines.Line2D at 0x7fdd5d641470>,\n",
       "  <matplotlib.lines.Line2D at 0x7fdd5d646ba8>],\n",
       " 'caps': [<matplotlib.lines.Line2D at 0x7fdd5d6a8160>,\n",
       "  <matplotlib.lines.Line2D at 0x7fdd5d6a84a8>,\n",
       "  <matplotlib.lines.Line2D at 0x7fdd5d6b0898>,\n",
       "  <matplotlib.lines.Line2D at 0x7fdd5d6b0be0>,\n",
       "  <matplotlib.lines.Line2D at 0x7fdd5d6b3fd0>,\n",
       "  <matplotlib.lines.Line2D at 0x7fdd5d6b7358>,\n",
       "  <matplotlib.lines.Line2D at 0x7fdd5d63d748>,\n",
       "  <matplotlib.lines.Line2D at 0x7fdd5d63da90>,\n",
       "  <matplotlib.lines.Line2D at 0x7fdd5d641e80>,\n",
       "  <matplotlib.lines.Line2D at 0x7fdd5d646208>,\n",
       "  <matplotlib.lines.Line2D at 0x7fdd5d64d5f8>,\n",
       "  <matplotlib.lines.Line2D at 0x7fdd5d64d940>],\n",
       " 'fliers': [<matplotlib.lines.Line2D at 0x7fdd5d6a8b38>,\n",
       "  <matplotlib.lines.Line2D at 0x7fdd5d6b32b0>,\n",
       "  <matplotlib.lines.Line2D at 0x7fdd5d6b79e8>,\n",
       "  <matplotlib.lines.Line2D at 0x7fdd5d641160>,\n",
       "  <matplotlib.lines.Line2D at 0x7fdd5d646898>,\n",
       "  <matplotlib.lines.Line2D at 0x7fdd5d64dfd0>],\n",
       " 'means': [],\n",
       " 'medians': [<matplotlib.lines.Line2D at 0x7fdd5d6a87f0>,\n",
       "  <matplotlib.lines.Line2D at 0x7fdd5d6b0f28>,\n",
       "  <matplotlib.lines.Line2D at 0x7fdd5d6b76a0>,\n",
       "  <matplotlib.lines.Line2D at 0x7fdd5d63ddd8>,\n",
       "  <matplotlib.lines.Line2D at 0x7fdd5d646550>,\n",
       "  <matplotlib.lines.Line2D at 0x7fdd5d64dc88>],\n",
       " 'whiskers': [<matplotlib.lines.Line2D at 0x7fdd5d698a90>,\n",
       "  <matplotlib.lines.Line2D at 0x7fdd5d698dd8>,\n",
       "  <matplotlib.lines.Line2D at 0x7fdd5d6b0208>,\n",
       "  <matplotlib.lines.Line2D at 0x7fdd5d6b0550>,\n",
       "  <matplotlib.lines.Line2D at 0x7fdd5d6b3940>,\n",
       "  <matplotlib.lines.Line2D at 0x7fdd5d6b3c88>,\n",
       "  <matplotlib.lines.Line2D at 0x7fdd5d63d0b8>,\n",
       "  <matplotlib.lines.Line2D at 0x7fdd5d63d400>,\n",
       "  <matplotlib.lines.Line2D at 0x7fdd5d6417f0>,\n",
       "  <matplotlib.lines.Line2D at 0x7fdd5d641b38>,\n",
       "  <matplotlib.lines.Line2D at 0x7fdd5d646f28>,\n",
       "  <matplotlib.lines.Line2D at 0x7fdd5d64d2b0>]}"
      ]
     },
     "execution_count": 13,
     "metadata": {},
     "output_type": "execute_result"
    },
    {
     "data": {
      "image/png": "[encoded data removed]",
      "text/plain": [
       "<Figure size 864x432 with 1 Axes>"
      ]
     },
     "metadata": {
      "needs_background": "light"
     },
     "output_type": "display_data"
    }
   ],
   "source": [
    "_2017_wo_videos_cit = df2[~df2.DOI.isin(_idx_papers_2017)][df2[\"Cited by\"] != \"None\"][\"Cited by\"].dropna().astype(int)\n",
    "_2017_90_w_videos_cit = df2[df2.DOI.isin(_idx_papers_2017_90)][df2[\"Cited by\"] != \"None\"][\"Cited by\"].dropna().astype(int)\n",
    "_2017_180_w_videos_cit = df2[df2.DOI.isin(_idx_papers_2017_180)][df2[\"Cited by\"] != \"None\"][\"Cited by\"].dropna().astype(int)\n",
    "_2017_270_w_videos_cit = df2[df2.DOI.isin(_idx_papers_2017_270)][df2[\"Cited by\"] != \"None\"][\"Cited by\"].dropna().astype(int)\n",
    "_2017_360_w_videos_cit = df2[df2.DOI.isin(_idx_papers_2017_360)][df2[\"Cited by\"] != \"None\"][\"Cited by\"].dropna().astype(int)\n",
    "_2017_rest_w_videos_cit = df2[df2.DOI.isin(_idx_papers_2017_rest)][df2[\"Cited by\"] != \"None\"][\"Cited by\"].dropna().astype(int)\n",
    "\n",
    "plt.figure(figsize=(12, 6))\n",
    "plt.title(\"Citation by video age\")\n",
    "plt.yscale(\"log\")\n",
    "# plt.ylim([0, 200])\n",
    "plt.boxplot([\n",
    "    _2017_wo_videos_cit,\n",
    "    _2017_90_w_videos_cit,\n",
    "    _2017_180_w_videos_cit,\n",
    "    _2017_270_w_videos_cit,\n",
    "    _2017_360_w_videos_cit,\n",
    "    _2017_rest_w_videos_cit\n",
    "],\n",
    "    labels=[\n",
    "        \"2017 w/o videos\\n(N=%s)\"%len(_2017_wo_videos_cit),\n",
    "        \"2017 w/ videos-90\\n(N=%s)\"%len(_2017_90_w_videos_cit),\n",
    "        \"2017 w/ videos-180\\n(N=%s)\"%len(_2017_180_w_videos_cit),\n",
    "        \"2017 w/ videos-270\\n(N=%s)\"%len(_2017_270_w_videos_cit),\n",
    "        \"2017 w/ videos-360\\n(N=%s)\"%len(_2017_360_w_videos_cit),\n",
    "        \"2017 w/ videos-rest\\n(N=%s)\"%len(_2017_rest_w_videos_cit)\n",
    "    ]\n",
    ")"
   ]
  },
  {
   "cell_type": "code",
   "execution_count": 12,
   "metadata": {},
   "outputs": [
    {
     "name": "stdout",
     "output_type": "stream",
     "text": [
      "2017-90\tS = -0.668930\tp = 0.503554\n",
      "2017-180\tS = 0.227802\tp = 0.819804\n",
      "2017-270\tS = -0.156641\tp = 0.875530\n",
      "2017-360\tS = -0.188546\tp = 0.850452\n",
      "2017-rest\tS = -5.319197\tp = 0.000000\n"
     ]
    }
   ],
   "source": [
    "_s2017, _p2017 = stats.ttest_ind(\n",
    "    _2017_wo_videos_cit,\n",
    "    _2017_90_w_videos_cit\n",
    ")\n",
    "print(\"2017-90\\tS = %f\\tp = %f\"%(_s2017, _p2017))\n",
    "_s2017, _p2017 = stats.ttest_ind(\n",
    "    _2017_wo_videos_cit,\n",
    "    _2017_180_w_videos_cit\n",
    ")\n",
    "print(\"2017-180\\tS = %f\\tp = %f\"%(_s2017, _p2017))\n",
    "_s2017, _p2017 = stats.ttest_ind(\n",
    "    _2017_wo_videos_cit,\n",
    "    _2017_270_w_videos_cit\n",
    ")\n",
    "print(\"2017-270\\tS = %f\\tp = %f\"%(_s2017, _p2017))\n",
    "_s2017, _p2017 = stats.ttest_ind(\n",
    "    _2017_wo_videos_cit,\n",
    "    _2017_360_w_videos_cit\n",
    ")\n",
    "print(\"2017-360\\tS = %f\\tp = %f\"%(_s2017, _p2017))\n",
    "_s2017, _p2017 = stats.ttest_ind(\n",
    "    _2017_wo_videos_cit,\n",
    "    _2017_rest_w_videos_cit\n",
    ")\n",
    "print(\"2017-rest\\tS = %f\\tp = %f\"%(_s2017, _p2017))"
   ]
  },
  {
   "cell_type": "code",
   "execution_count": 24,
   "metadata": {},
   "outputs": [
    {
     "name": "stdout",
     "output_type": "stream",
     "text": [
      "\tCommand set: SELECT `idx_paper`, `publishedAt` FROM `scopus_videos_2019_comp`\n",
      "\tsql: SELECT `idx_paper`, `publishedAt` FROM `scopus_videos_2019_comp`;\n",
      "\tCommand set: SELECT `idx_paper`, `publishedAt` FROM `scopus_videos_2019_comp`\n",
      "\tsql: SELECT `idx_paper`, `publishedAt` FROM `scopus_videos_2019_comp`;\n",
      "\tCommand set: SELECT `idx_paper`, `publishedAt` FROM `scopus_videos_2019_comp`\n",
      "\tsql: SELECT `idx_paper`, `publishedAt` FROM `scopus_videos_2019_comp`;\n",
      "\tCommand set: SELECT `idx_paper`, `publishedAt` FROM `scopus_videos_2019_comp`\n",
      "\tsql: SELECT `idx_paper`, `publishedAt` FROM `scopus_videos_2019_comp`;\n",
      "\tCommand set: SELECT `idx_paper`, `publishedAt` FROM `scopus_videos_2019_comp`\n",
      "\tsql: SELECT `idx_paper`, `publishedAt` FROM `scopus_videos_2019_comp`;\n",
      "\tCommand set: SELECT `idx_paper`, `publishedAt` FROM `scopus_videos_2019_comp`\n",
      "\tsql: SELECT `idx_paper`, `publishedAt` FROM `scopus_videos_2019_comp`;\n",
      "64 36 1 3 12 14\n"
     ]
    }
   ],
   "source": [
    "_idx_papers_2019 = get_dois_with_videos_within_days_from_publish(df1, \"scopus_videos_2019_comp\")\n",
    "_idx_papers_2019_90 = get_dois_with_videos_within_days_from_publish(df1, \"scopus_videos_2019_comp\", None, 90)\n",
    "_idx_papers_2019_180 = get_dois_with_videos_within_days_from_publish(df1, \"scopus_videos_2019_comp\", 90, 180)\n",
    "_idx_papers_2019_270 = get_dois_with_videos_within_days_from_publish(df1, \"scopus_videos_2019_comp\", 180, 270)\n",
    "_idx_papers_2019_360 = get_dois_with_videos_within_days_from_publish(df1, \"scopus_videos_2019_comp\", 270, 360)\n",
    "_idx_papers_2019_rest = get_dois_with_videos_within_days_from_publish(df1, \"scopus_videos_2019_comp\", 360, None)\n",
    "print(len(_idx_papers_2019), len(_idx_papers_2019_90), len(_idx_papers_2019_180), len(_idx_papers_2019_270), len(_idx_papers_2019_360), len(_idx_papers_2019_rest))"
   ]
  },
  {
   "cell_type": "code",
   "execution_count": 25,
   "metadata": {},
   "outputs": [
    {
     "name": "stderr",
     "output_type": "stream",
     "text": [
      "/home/hweem/git/mastersdegree/ytcrawl/ytcrawl0/lib/python3.5/site-packages/ipykernel_launcher.py:1: UserWarning: Boolean Series key will be reindexed to match DataFrame index.\n",
      "  \"\"\"Entry point for launching an IPython kernel.\n",
      "/home/hweem/git/mastersdegree/ytcrawl/ytcrawl0/lib/python3.5/site-packages/ipykernel_launcher.py:2: UserWarning: Boolean Series key will be reindexed to match DataFrame index.\n",
      "  \n",
      "/home/hweem/git/mastersdegree/ytcrawl/ytcrawl0/lib/python3.5/site-packages/ipykernel_launcher.py:3: UserWarning: Boolean Series key will be reindexed to match DataFrame index.\n",
      "  This is separate from the ipykernel package so we can avoid doing imports until\n",
      "/home/hweem/git/mastersdegree/ytcrawl/ytcrawl0/lib/python3.5/site-packages/ipykernel_launcher.py:4: UserWarning: Boolean Series key will be reindexed to match DataFrame index.\n",
      "  after removing the cwd from sys.path.\n",
      "/home/hweem/git/mastersdegree/ytcrawl/ytcrawl0/lib/python3.5/site-packages/ipykernel_launcher.py:5: UserWarning: Boolean Series key will be reindexed to match DataFrame index.\n",
      "  \"\"\"\n",
      "/home/hweem/git/mastersdegree/ytcrawl/ytcrawl0/lib/python3.5/site-packages/ipykernel_launcher.py:6: UserWarning: Boolean Series key will be reindexed to match DataFrame index.\n",
      "  \n"
     ]
    },
    {
     "data": {
      "text/plain": [
       "{'boxes': [<matplotlib.lines.Line2D at 0x7fdd5d498470>,\n",
       "  <matplotlib.lines.Line2D at 0x7fdd5d44cb00>,\n",
       "  <matplotlib.lines.Line2D at 0x7fdd5d455278>,\n",
       "  <matplotlib.lines.Line2D at 0x7fdd5d4599b0>,\n",
       "  <matplotlib.lines.Line2D at 0x7fdd5d464128>,\n",
       "  <matplotlib.lines.Line2D at 0x7fdd5d468860>],\n",
       " 'caps': [<matplotlib.lines.Line2D at 0x7fdd5d498ba8>,\n",
       "  <matplotlib.lines.Line2D at 0x7fdd5d44c160>,\n",
       "  <matplotlib.lines.Line2D at 0x7fdd5d44a550>,\n",
       "  <matplotlib.lines.Line2D at 0x7fdd5d44a898>,\n",
       "  <matplotlib.lines.Line2D at 0x7fdd5d455c88>,\n",
       "  <matplotlib.lines.Line2D at 0x7fdd5d455fd0>,\n",
       "  <matplotlib.lines.Line2D at 0x7fdd5d45f400>,\n",
       "  <matplotlib.lines.Line2D at 0x7fdd5d45f748>,\n",
       "  <matplotlib.lines.Line2D at 0x7fdd5d464b38>,\n",
       "  <matplotlib.lines.Line2D at 0x7fdd5d464e80>,\n",
       "  <matplotlib.lines.Line2D at 0x7fdd5d46d2b0>,\n",
       "  <matplotlib.lines.Line2D at 0x7fdd5d46d5f8>],\n",
       " 'fliers': [<matplotlib.lines.Line2D at 0x7fdd5d44c7f0>,\n",
       "  <matplotlib.lines.Line2D at 0x7fdd5d44af28>,\n",
       "  <matplotlib.lines.Line2D at 0x7fdd5d4596a0>,\n",
       "  <matplotlib.lines.Line2D at 0x7fdd5d45fdd8>,\n",
       "  <matplotlib.lines.Line2D at 0x7fdd5d468550>,\n",
       "  <matplotlib.lines.Line2D at 0x7fdd5d46dc88>],\n",
       " 'means': [],\n",
       " 'medians': [<matplotlib.lines.Line2D at 0x7fdd5d44c4a8>,\n",
       "  <matplotlib.lines.Line2D at 0x7fdd5d44abe0>,\n",
       "  <matplotlib.lines.Line2D at 0x7fdd5d459358>,\n",
       "  <matplotlib.lines.Line2D at 0x7fdd5d45fa90>,\n",
       "  <matplotlib.lines.Line2D at 0x7fdd5d468208>,\n",
       "  <matplotlib.lines.Line2D at 0x7fdd5d46d940>],\n",
       " 'whiskers': [<matplotlib.lines.Line2D at 0x7fdd5d498160>,\n",
       "  <matplotlib.lines.Line2D at 0x7fdd5d4987b8>,\n",
       "  <matplotlib.lines.Line2D at 0x7fdd5d44ce80>,\n",
       "  <matplotlib.lines.Line2D at 0x7fdd5d44a208>,\n",
       "  <matplotlib.lines.Line2D at 0x7fdd5d4555f8>,\n",
       "  <matplotlib.lines.Line2D at 0x7fdd5d455940>,\n",
       "  <matplotlib.lines.Line2D at 0x7fdd5d459d30>,\n",
       "  <matplotlib.lines.Line2D at 0x7fdd5d45f0b8>,\n",
       "  <matplotlib.lines.Line2D at 0x7fdd5d4644a8>,\n",
       "  <matplotlib.lines.Line2D at 0x7fdd5d4647f0>,\n",
       "  <matplotlib.lines.Line2D at 0x7fdd5d468be0>,\n",
       "  <matplotlib.lines.Line2D at 0x7fdd5d468f28>]}"
      ]
     },
     "execution_count": 25,
     "metadata": {},
     "output_type": "execute_result"
    },
    {
     "data": {
      "image/png": "[encoded data removed]",
      "text/plain": [
       "<Figure size 864x432 with 1 Axes>"
      ]
     },
     "metadata": {
      "needs_background": "light"
     },
     "output_type": "display_data"
    }
   ],
   "source": [
    "_2019_wo_videos_cit = df1[~df1.DOI.isin(_idx_papers_2019)][df1[\"Cited by\"] != \"None\"][\"Cited by\"].dropna().astype(int)\n",
    "_2019_90_w_videos_cit = df1[df1.DOI.isin(_idx_papers_2019_90)][df1[\"Cited by\"] != \"None\"][\"Cited by\"].dropna().astype(int)\n",
    "_2019_180_w_videos_cit = df1[df1.DOI.isin(_idx_papers_2019_180)][df1[\"Cited by\"] != \"None\"][\"Cited by\"].dropna().astype(int)\n",
    "_2019_270_w_videos_cit = df1[df1.DOI.isin(_idx_papers_2019_270)][df1[\"Cited by\"] != \"None\"][\"Cited by\"].dropna().astype(int)\n",
    "_2019_360_w_videos_cit = df1[df1.DOI.isin(_idx_papers_2019_360)][df1[\"Cited by\"] != \"None\"][\"Cited by\"].dropna().astype(int)\n",
    "_2019_rest_w_videos_cit = df1[df1.DOI.isin(_idx_papers_2019_rest)][df1[\"Cited by\"] != \"None\"][\"Cited by\"].dropna().astype(int)\n",
    "\n",
    "plt.figure(figsize=(12, 6))\n",
    "plt.title(\"Citation by video age\")\n",
    "plt.yscale(\"log\")\n",
    "# plt.ylim([0, 200])\n",
    "plt.boxplot([\n",
    "    _2019_wo_videos_cit,\n",
    "    _2019_90_w_videos_cit,\n",
    "    _2019_180_w_videos_cit,\n",
    "    _2019_270_w_videos_cit,\n",
    "    _2019_360_w_videos_cit,\n",
    "    _2019_rest_w_videos_cit\n",
    "],\n",
    "    labels=[\n",
    "        \"2019 w/o videos\\n(N=%s)\"%len(_2019_wo_videos_cit),\n",
    "        \"2019 w/ videos-90\\n(N=%s)\"%len(_2019_90_w_videos_cit),\n",
    "        \"2019 w/ videos-180\\n(N=%s)\"%len(_2019_180_w_videos_cit),\n",
    "        \"2019 w/ videos-270\\n(N=%s)\"%len(_2019_270_w_videos_cit),\n",
    "        \"2019 w/ videos-360\\n(N=%s)\"%len(_2019_360_w_videos_cit),\n",
    "        \"2019 w/ videos-rest\\n(N=%s)\"%len(_2019_rest_w_videos_cit)\n",
    "    ]\n",
    ")"
   ]
  },
  {
   "cell_type": "code",
   "execution_count": 26,
   "metadata": {},
   "outputs": [
    {
     "name": "stdout",
     "output_type": "stream",
     "text": [
      "2019-90\tS = 0.964122\tp = 0.335003\n",
      "2019-180\tS = nan\tp = nan\n",
      "2019-270\tS = 0.390429\tp = 0.696225\n",
      "2019-360\tS = -2.882830\tp = 0.003948\n",
      "2019-rest\tS = -1.488579\tp = 0.136622\n"
     ]
    },
    {
     "name": "stderr",
     "output_type": "stream",
     "text": [
      "/home/hweem/git/mastersdegree/ytcrawl/ytcrawl0/lib/python3.5/site-packages/numpy/core/fromnumeric.py:3584: RuntimeWarning: Degrees of freedom <= 0 for slice\n",
      "  **kwargs)\n",
      "/home/hweem/git/mastersdegree/ytcrawl/ytcrawl0/lib/python3.5/site-packages/numpy/core/_methods.py:209: RuntimeWarning: invalid value encountered in double_scalars\n",
      "  ret = ret.dtype.type(ret / rcount)\n"
     ]
    }
   ],
   "source": [
    "_s2019, _p2019 = stats.ttest_ind(\n",
    "    _2019_wo_videos_cit,\n",
    "    _2019_90_w_videos_cit\n",
    ")\n",
    "print(\"2019-90\\tS = %f\\tp = %f\"%(_s2019, _p2019))\n",
    "_s2019, _p2019 = stats.ttest_ind(\n",
    "    _2019_wo_videos_cit,\n",
    "    _2019_180_w_videos_cit\n",
    ")\n",
    "print(\"2019-180\\tS = %f\\tp = %f\"%(_s2019, _p2019))\n",
    "_s2019, _p2019 = stats.ttest_ind(\n",
    "    _2019_wo_videos_cit,\n",
    "    _2019_270_w_videos_cit\n",
    ")\n",
    "print(\"2019-270\\tS = %f\\tp = %f\"%(_s2019, _p2019))\n",
    "_s2019, _p2019 = stats.ttest_ind(\n",
    "    _2019_wo_videos_cit,\n",
    "    _2019_360_w_videos_cit\n",
    ")\n",
    "print(\"2019-360\\tS = %f\\tp = %f\"%(_s2019, _p2019))\n",
    "_s2019, _p2019 = stats.ttest_ind(\n",
    "    _2019_wo_videos_cit,\n",
    "    _2019_rest_w_videos_cit\n",
    ")\n",
    "print(\"2019-rest\\tS = %f\\tp = %f\"%(_s2019, _p2019))"
   ]
  },
  {
   "cell_type": "markdown",
   "metadata": {},
   "source": [
    "비디오 공개 시점과는 별 상관이 없다?\n",
    "AAS와는?"
   ]
  },
  {
   "cell_type": "code",
   "execution_count": null,
   "metadata": {},
   "outputs": [],
   "source": []
  }
 ],
 "metadata": {
  "kernelspec": {
   "display_name": "Python 3",
   "language": "python",
   "name": "python3"
  },
  "language_info": {
   "codemirror_mode": {
    "name": "ipython",
    "version": 3
   },
   "file_extension": ".py",
   "mimetype": "text/x-python",
   "name": "python",
   "nbconvert_exporter": "python",
   "pygments_lexer": "ipython3",
   "version": "3.5.2"
  }
 },
 "nbformat": 4,
 "nbformat_minor": 4
}
