{
 "cells": [
  {
   "cell_type": "code",
   "execution_count": 1,
   "metadata": {},
   "outputs": [],
   "source": [
    "import numpy as np\n",
    "import pandas as pd\n",
    "from db_handler import DBHandler\n",
    "from matplotlib import pyplot as plt\n",
    "from scipy import stats\n",
    "from datetime import datetime, timedelta\n",
    "from calendar import monthrange\n",
    "%matplotlib inline"
   ]
  },
  {
   "cell_type": "code",
   "execution_count": 4,
   "metadata": {},
   "outputs": [],
   "source": [
    "def parse_fetches(fetches):\n",
    "    _new_fetches = list()\n",
    "    for _fetch in fetches:\n",
    "        for _doi in _fetch[0].split(\", \"):\n",
    "            _new_fetches.append(\n",
    "                (_doi, _fetch[1])\n",
    "            )\n",
    "    return _new_fetches\n",
    "\n",
    "def get_dois_with_videos_within_days_from_publish(df, table_name, days_from=None, days_until=None):\n",
    "    _set_target_dois = set()\n",
    "    db_handler.sql_handler.select(table_name, [\"idx_paper\", \"publishedAt\"])\n",
    "    fetches = db_handler.execute().fetchall()\n",
    "    fetches = parse_fetches(fetches)\n",
    "    \n",
    "    for _row in fetches:\n",
    "#         print(\"DOI:\", _row[0])\n",
    "        _target_paper = df[df[\"DOI\"] == _row[0]]\n",
    "#         if len(_target_paper) == 0:\n",
    "#             continue\n",
    "        if len(_target_paper) > 1:\n",
    "            _target_paper = _target_paper.iloc[0]\n",
    "        _dt_publish = datetime(_target_paper[\"Year\"], _target_paper[\"Month\"], 1)\n",
    "        \n",
    "        if days_from != None:\n",
    "            _dt_video_from = _dt_publish + timedelta(days=days_from)\n",
    "            if _row[1] < _dt_video_from:\n",
    "                continue\n",
    "        \n",
    "        if days_until != None:\n",
    "            _dt_video_until = _dt_publish + timedelta(days=days_until)\n",
    "            if _row[1] > _dt_video_until:\n",
    "                continue\n",
    "        \n",
    "        _set_target_dois.add(_row[0])\n",
    "    \n",
    "#     if days_until == None:\n",
    "#         _set_target_dois = set(map(lambda _row: _row[0], fetches))\n",
    "#     else:\n",
    "#         for _row in fetches:\n",
    "#             _target_paper = df[df[\"DOI\"] == _row[0]]\n",
    "#             if len(_target_paper) > 1:\n",
    "#                 _target_paper = _target_paper.iloc[0]\n",
    "#             _dt_publish = datetime(_target_paper[\"Year\"], _target_paper[\"Month\"], 1)\n",
    "            \n",
    "#             _dt_video_from = _dt_publish + timedelta(days=days_from)\n",
    "#             _dt_video_until = _dt_publish + timedelta(days=days_until)\n",
    "            \n",
    "#             if _row[1] < _dt_video_deadline:\n",
    "#                 _set_target_dois.add(_row[0])\n",
    "    \n",
    "    return _set_target_dois"
   ]
  },
  {
   "cell_type": "code",
   "execution_count": 5,
   "metadata": {},
   "outputs": [],
   "source": [
    "df1 = pd.read_csv(\"/home/hweem/git/mastersdegree/ytcrawl/customs/scopus/scopus_math+comp_top5perc_1901-1906.csv\")\n",
    "df2 = pd.read_csv(\"/home/hweem/git/mastersdegree/ytcrawl/customs/scopus/scopus_math+comp_top5perc_1701-1706.csv\")\n",
    "df3 = pd.read_csv(\"/home/hweem/git/mastersdegree/ytcrawl/customs/scopus/scopus_math+comp_top5perc_1401-1406.csv\")\n",
    "db_handler = DBHandler()"
   ]
  },
  {
   "cell_type": "code",
   "execution_count": 6,
   "metadata": {},
   "outputs": [
    {
     "name": "stdout",
     "output_type": "stream",
     "text": [
      "\tCommand set: SELECT `idx_paper`, `publishedAt` FROM `scopus_videos_2014_comp`\n",
      "\tsql: SELECT `idx_paper`, `publishedAt` FROM `scopus_videos_2014_comp`;\n",
      "\tCommand set: SELECT `idx_paper`, `publishedAt` FROM `scopus_videos_2017_comp`\n",
      "\tsql: SELECT `idx_paper`, `publishedAt` FROM `scopus_videos_2017_comp`;\n",
      "\tCommand set: SELECT `idx_paper`, `publishedAt` FROM `scopus_videos_2019_comp`\n",
      "\tsql: SELECT `idx_paper`, `publishedAt` FROM `scopus_videos_2019_comp`;\n"
     ]
    }
   ],
   "source": [
    "db_handler.sql_handler.select(\"scopus_videos_2014_comp\", [\"idx_paper\", \"publishedAt\"])\n",
    "_videos_2014 = db_handler.execute().fetchall()\n",
    "db_handler.sql_handler.select(\"scopus_videos_2017_comp\", [\"idx_paper\", \"publishedAt\"])\n",
    "_videos_2017 = db_handler.execute().fetchall()\n",
    "db_handler.sql_handler.select(\"scopus_videos_2019_comp\", [\"idx_paper\", \"publishedAt\"])\n",
    "_videos_2019 = db_handler.execute().fetchall()"
   ]
  },
  {
   "cell_type": "code",
   "execution_count": 24,
   "metadata": {},
   "outputs": [
    {
     "name": "stdout",
     "output_type": "stream",
     "text": [
      "\tCommand set: SELECT `idx_paper`, `publishedAt` FROM `scopus_videos_2019_comp`\n",
      "\tsql: SELECT `idx_paper`, `publishedAt` FROM `scopus_videos_2019_comp`;\n",
      "\tCommand set: SELECT `idx_paper`, `publishedAt` FROM `scopus_videos_2019_comp`\n",
      "\tsql: SELECT `idx_paper`, `publishedAt` FROM `scopus_videos_2019_comp`;\n",
      "64 36\n",
      "\tCommand set: SELECT `idx_paper`, `publishedAt` FROM `scopus_videos_2017_comp`\n",
      "\tsql: SELECT `idx_paper`, `publishedAt` FROM `scopus_videos_2017_comp`;\n",
      "\tCommand set: SELECT `idx_paper`, `publishedAt` FROM `scopus_videos_2017_comp`\n",
      "\tsql: SELECT `idx_paper`, `publishedAt` FROM `scopus_videos_2017_comp`;\n",
      "72 30\n",
      "\tCommand set: SELECT `idx_paper`, `publishedAt` FROM `scopus_videos_2014_comp`\n",
      "\tsql: SELECT `idx_paper`, `publishedAt` FROM `scopus_videos_2014_comp`;\n",
      "\tCommand set: SELECT `idx_paper`, `publishedAt` FROM `scopus_videos_2014_comp`\n",
      "\tsql: SELECT `idx_paper`, `publishedAt` FROM `scopus_videos_2014_comp`;\n",
      "102 25\n"
     ]
    }
   ],
   "source": [
    "_idx_papers_2019 = get_dois_with_videos_within_days_from_publish(df1, \"scopus_videos_2019_comp\")\n",
    "_idx_papers_2019_90 = get_dois_with_videos_within_days_from_publish(df1, \"scopus_videos_2019_comp\", None, 90)\n",
    "print(len(_idx_papers_2019), len(_idx_papers_2019_90))\n",
    "_idx_papers_2017 = get_dois_with_videos_within_days_from_publish(df2, \"scopus_videos_2017_comp\")\n",
    "_idx_papers_2017_90 = get_dois_with_videos_within_days_from_publish(df2, \"scopus_videos_2017_comp\", None, 90)\n",
    "print(len(_idx_papers_2017), len(_idx_papers_2017_90))\n",
    "_idx_papers_2014 = get_dois_with_videos_within_days_from_publish(df3, \"scopus_videos_2014_comp\")\n",
    "_idx_papers_2014_90 = get_dois_with_videos_within_days_from_publish(df3, \"scopus_videos_2014_comp\", None, 90)\n",
    "print(len(_idx_papers_2014), len(_idx_papers_2014_90))"
   ]
  },
  {
   "cell_type": "code",
   "execution_count": 35,
   "metadata": {},
   "outputs": [
    {
     "name": "stdout",
     "output_type": "stream",
     "text": [
      "37 60\n",
      "163       5\n",
      "187      84\n",
      "198     461\n",
      "219       2\n",
      "226      11\n",
      "337       3\n",
      "517       2\n",
      "631       1\n",
      "678       2\n",
      "681      27\n",
      "750     171\n",
      "774     515\n",
      "802      15\n",
      "838       2\n",
      "854       1\n",
      "919       1\n",
      "936      10\n",
      "944      97\n",
      "948       3\n",
      "1025     28\n",
      "1151      1\n",
      "1374      2\n",
      "1378      1\n",
      "1399    209\n",
      "1505     11\n",
      "1553      5\n",
      "1560      2\n",
      "1601      7\n",
      "1629    269\n",
      "1666     86\n",
      "1717     88\n",
      "1746     22\n",
      "1886    301\n",
      "1969      3\n",
      "1985      2\n",
      "1992      4\n",
      "2003      4\n",
      "2004      1\n",
      "2005      1\n",
      "2006      1\n",
      "2007      1\n",
      "2008      1\n",
      "2009     25\n",
      "2010      2\n",
      "2042      3\n",
      "2132      1\n",
      "2165     44\n",
      "2187      1\n",
      "2348      6\n",
      "2371     21\n",
      "2545      4\n",
      "2556      3\n",
      "2560     21\n",
      "2580     67\n",
      "2814      9\n",
      "2865      2\n",
      "2959      6\n",
      "2970      6\n",
      "3123      3\n",
      "3187      2\n",
      "Name: AAS, dtype: object\n"
     ]
    },
    {
     "name": "stderr",
     "output_type": "stream",
     "text": [
      "/home/hweem/git/mastersdegree/ytcrawl/ytcrawl0/lib/python3.5/site-packages/ipykernel_launcher.py:2: UserWarning: Boolean Series key will be reindexed to match DataFrame index.\n",
      "  \n",
      "/home/hweem/git/mastersdegree/ytcrawl/ytcrawl0/lib/python3.5/site-packages/ipykernel_launcher.py:3: UserWarning: Boolean Series key will be reindexed to match DataFrame index.\n",
      "  This is separate from the ipykernel package so we can avoid doing imports until\n",
      "/home/hweem/git/mastersdegree/ytcrawl/ytcrawl0/lib/python3.5/site-packages/ipykernel_launcher.py:5: UserWarning: Boolean Series key will be reindexed to match DataFrame index.\n",
      "  \"\"\"\n"
     ]
    }
   ],
   "source": [
    "print(\n",
    "    len(df1[df1.DOI.isin(_idx_papers_2019)][df1[\"AAS\"] != \"None\"][\"AAS\"].dropna()),\n",
    "    len(df3[df3.DOI.isin(_idx_papers_2014)][df3[\"AAS\"] != \"None\"][\"AAS\"].dropna())\n",
    ")\n",
    "print(df3[df3.DOI.isin(_idx_papers_2014)][df3[\"AAS\"] != \"None\"][\"AAS\"].dropna())"
   ]
  },
  {
   "cell_type": "code",
   "execution_count": 39,
   "metadata": {},
   "outputs": [
    {
     "name": "stderr",
     "output_type": "stream",
     "text": [
      "/home/hweem/git/mastersdegree/ytcrawl/ytcrawl0/lib/python3.5/site-packages/ipykernel_launcher.py:1: UserWarning: Boolean Series key will be reindexed to match DataFrame index.\n",
      "  \"\"\"Entry point for launching an IPython kernel.\n"
     ]
    },
    {
     "data": {
      "text/plain": [
       "0       28\n",
       "1       15\n",
       "2        1\n",
       "3       10\n",
       "4        2\n",
       "5        1\n",
       "6        1\n",
       "7        4\n",
       "8        2\n",
       "9        1\n",
       "10       1\n",
       "11       1\n",
       "12       1\n",
       "13       1\n",
       "14       4\n",
       "15      12\n",
       "16       1\n",
       "17       1\n",
       "18       1\n",
       "19       3\n",
       "20       5\n",
       "21       1\n",
       "22       5\n",
       "23       1\n",
       "24       1\n",
       "25       2\n",
       "26       4\n",
       "27       3\n",
       "28       6\n",
       "29       1\n",
       "        ..\n",
       "3312     3\n",
       "3313     3\n",
       "3314     3\n",
       "3315     3\n",
       "3316     3\n",
       "3317     3\n",
       "3318     3\n",
       "3319     3\n",
       "3320     3\n",
       "3321     3\n",
       "3322     3\n",
       "3323     3\n",
       "3324     3\n",
       "3325     3\n",
       "3326     3\n",
       "3327     3\n",
       "3328     3\n",
       "3329     3\n",
       "3330     3\n",
       "3331     3\n",
       "3332     3\n",
       "3333     6\n",
       "3334     1\n",
       "3335     1\n",
       "3336     1\n",
       "3337     1\n",
       "3338     6\n",
       "3339     1\n",
       "3340     3\n",
       "3341     3\n",
       "Name: AAS, Length: 3282, dtype: int64"
      ]
     },
     "execution_count": 39,
     "metadata": {},
     "output_type": "execute_result"
    }
   ],
   "source": [
    "df3[~df3.DOI.isin(_idx_papers_2014)][df3[\"AAS\"] != \"None\"][\"AAS\"].dropna().astype(int)"
   ]
  },
  {
   "cell_type": "code",
   "execution_count": 17,
   "metadata": {},
   "outputs": [
    {
     "name": "stderr",
     "output_type": "stream",
     "text": [
      "/home/hweem/git/mastersdegree/ytcrawl/ytcrawl0/lib/python3.5/site-packages/pandas/core/ops.py:1649: FutureWarning: elementwise comparison failed; returning scalar instead, but in the future will perform elementwise comparison\n",
      "  result = method(y)\n",
      "/home/hweem/git/mastersdegree/ytcrawl/ytcrawl0/lib/python3.5/site-packages/ipykernel_launcher.py:1: UserWarning: Boolean Series key will be reindexed to match DataFrame index.\n",
      "  \"\"\"Entry point for launching an IPython kernel.\n",
      "/home/hweem/git/mastersdegree/ytcrawl/ytcrawl0/lib/python3.5/site-packages/ipykernel_launcher.py:2: UserWarning: Boolean Series key will be reindexed to match DataFrame index.\n",
      "  \n",
      "/home/hweem/git/mastersdegree/ytcrawl/ytcrawl0/lib/python3.5/site-packages/ipykernel_launcher.py:3: UserWarning: Boolean Series key will be reindexed to match DataFrame index.\n",
      "  This is separate from the ipykernel package so we can avoid doing imports until\n",
      "/home/hweem/git/mastersdegree/ytcrawl/ytcrawl0/lib/python3.5/site-packages/ipykernel_launcher.py:4: UserWarning: Boolean Series key will be reindexed to match DataFrame index.\n",
      "  after removing the cwd from sys.path.\n",
      "/home/hweem/git/mastersdegree/ytcrawl/ytcrawl0/lib/python3.5/site-packages/ipykernel_launcher.py:5: UserWarning: Boolean Series key will be reindexed to match DataFrame index.\n",
      "  \"\"\"\n",
      "/home/hweem/git/mastersdegree/ytcrawl/ytcrawl0/lib/python3.5/site-packages/ipykernel_launcher.py:6: UserWarning: Boolean Series key will be reindexed to match DataFrame index.\n",
      "  \n"
     ]
    },
    {
     "data": {
      "text/plain": [
       "{'boxes': [<matplotlib.lines.Line2D at 0x7fe3697efc18>,\n",
       "  <matplotlib.lines.Line2D at 0x7fe369af49b0>,\n",
       "  <matplotlib.lines.Line2D at 0x7fe369ae9128>,\n",
       "  <matplotlib.lines.Line2D at 0x7fe36976b860>,\n",
       "  <matplotlib.lines.Line2D at 0x7fe36975af98>,\n",
       "  <matplotlib.lines.Line2D at 0x7fe3693c5710>],\n",
       " 'caps': [<matplotlib.lines.Line2D at 0x7fe369a2dc50>,\n",
       "  <matplotlib.lines.Line2D at 0x7fe369a2dfd0>,\n",
       "  <matplotlib.lines.Line2D at 0x7fe369ada400>,\n",
       "  <matplotlib.lines.Line2D at 0x7fe369ada748>,\n",
       "  <matplotlib.lines.Line2D at 0x7fe369ae9b38>,\n",
       "  <matplotlib.lines.Line2D at 0x7fe369ae9e80>,\n",
       "  <matplotlib.lines.Line2D at 0x7fe36975a2b0>,\n",
       "  <matplotlib.lines.Line2D at 0x7fe36975a5f8>,\n",
       "  <matplotlib.lines.Line2D at 0x7fe3693fd9e8>,\n",
       "  <matplotlib.lines.Line2D at 0x7fe3693fdd30>,\n",
       "  <matplotlib.lines.Line2D at 0x7fe369404160>,\n",
       "  <matplotlib.lines.Line2D at 0x7fe3694044a8>],\n",
       " 'fliers': [<matplotlib.lines.Line2D at 0x7fe369af46a0>,\n",
       "  <matplotlib.lines.Line2D at 0x7fe369adadd8>,\n",
       "  <matplotlib.lines.Line2D at 0x7fe36976b550>,\n",
       "  <matplotlib.lines.Line2D at 0x7fe36975ac88>,\n",
       "  <matplotlib.lines.Line2D at 0x7fe3693c5400>,\n",
       "  <matplotlib.lines.Line2D at 0x7fe369404b38>],\n",
       " 'means': [],\n",
       " 'medians': [<matplotlib.lines.Line2D at 0x7fe369af4358>,\n",
       "  <matplotlib.lines.Line2D at 0x7fe369adaa90>,\n",
       "  <matplotlib.lines.Line2D at 0x7fe36976b208>,\n",
       "  <matplotlib.lines.Line2D at 0x7fe36975a940>,\n",
       "  <matplotlib.lines.Line2D at 0x7fe3693c50b8>,\n",
       "  <matplotlib.lines.Line2D at 0x7fe3694047f0>],\n",
       " 'whiskers': [<matplotlib.lines.Line2D at 0x7fe369a2dbe0>,\n",
       "  <matplotlib.lines.Line2D at 0x7fe369a2d748>,\n",
       "  <matplotlib.lines.Line2D at 0x7fe369af4d30>,\n",
       "  <matplotlib.lines.Line2D at 0x7fe369ada0b8>,\n",
       "  <matplotlib.lines.Line2D at 0x7fe369ae94a8>,\n",
       "  <matplotlib.lines.Line2D at 0x7fe369ae97f0>,\n",
       "  <matplotlib.lines.Line2D at 0x7fe36976bbe0>,\n",
       "  <matplotlib.lines.Line2D at 0x7fe36976bf28>,\n",
       "  <matplotlib.lines.Line2D at 0x7fe3693fd358>,\n",
       "  <matplotlib.lines.Line2D at 0x7fe3693fd6a0>,\n",
       "  <matplotlib.lines.Line2D at 0x7fe3693c5a90>,\n",
       "  <matplotlib.lines.Line2D at 0x7fe3693c5dd8>]}"
      ]
     },
     "execution_count": 17,
     "metadata": {},
     "output_type": "execute_result"
    },
    {
     "data": {
      "image/png": "[encoded data removed]",
      "text/plain": [
       "<Figure size 720x432 with 1 Axes>"
      ]
     },
     "metadata": {
      "needs_background": "light"
     },
     "output_type": "display_data"
    }
   ],
   "source": [
    "_2019_wo_videos_cit = df1[~df1.DOI.isin(_idx_papers_2019)][df1[\"Cited by\"] != \"None\"][\"Cited by\"].dropna().astype(int)\n",
    "_2019_w_videos_cit = df1[df1.DOI.isin(_idx_papers_2019)][df1[\"Cited by\"] != \"None\"][\"Cited by\"].dropna().astype(int)\n",
    "_2017_wo_videos_cit = df2[~df2.DOI.isin(_idx_papers_2017)][df2[\"Cited by\"] != \"None\"][\"Cited by\"].dropna().astype(int)\n",
    "_2017_w_videos_cit = df2[df2.DOI.isin(_idx_papers_2017)][df2[\"Cited by\"] != \"None\"][\"Cited by\"].dropna().astype(int)\n",
    "_2014_wo_videos_cit = df3[~df3.DOI.isin(_idx_papers_2014)][df3[\"Cited by\"] != \"None\"][\"Cited by\"].dropna().astype(int)\n",
    "_2014_w_videos_cit = df3[df3.DOI.isin(_idx_papers_2014)][df3[\"Cited by\"] != \"None\"][\"Cited by\"].dropna().astype(int)\n",
    "\n",
    "plt.figure(figsize=(10, 6))\n",
    "plt.title(\"Citation\")\n",
    "plt.yscale(\"log\")\n",
    "# plt.ylim([0, 200])\n",
    "plt.boxplot([\n",
    "    _2019_wo_videos_cit,\n",
    "    _2019_w_videos_cit,\n",
    "    _2017_wo_videos_cit,\n",
    "    _2017_w_videos_cit,\n",
    "    _2014_wo_videos_cit,\n",
    "    _2014_w_videos_cit\n",
    "],\n",
    "    labels=[\n",
    "        \"2019 w/o videos\\n(N=%s)\"%len(_2019_wo_videos_cit),\n",
    "        \"2019 w/ videos\\n(N=%s)\"%len(_2019_w_videos_cit),\n",
    "        \"2017 w/o videos\\n(N=%s)\"%len(_2017_wo_videos_cit),\n",
    "        \"2017 w/ videos\\n(N=%s)\"%len(_2017_w_videos_cit),\n",
    "        \"2014 w/o videos\\n(N=%s)\"%len(_2014_wo_videos_cit),\n",
    "        \"2014 w/ videos\\n(N=%s)\"%len(_2014_w_videos_cit)\n",
    "    ]\n",
    ")"
   ]
  },
  {
   "cell_type": "code",
   "execution_count": 18,
   "metadata": {},
   "outputs": [
    {
     "name": "stdout",
     "output_type": "stream",
     "text": [
      "2019\tS = -1.238932\tp = 0.215393\n",
      "2017\tS = -3.403171\tp = 0.000668\n",
      "2014\tS = -3.047478\tp = 0.002314\n"
     ]
    }
   ],
   "source": [
    "_s2019, _p2019 = stats.ttest_ind(\n",
    "    _2019_wo_videos_cit,\n",
    "    _2019_w_videos_cit\n",
    ")\n",
    "print(\"2019\\tS = %f\\tp = %f\"%(_s2019, _p2019))\n",
    "\n",
    "_s2017, _p2017 = stats.ttest_ind(\n",
    "    _2017_wo_videos_cit,\n",
    "    _2017_w_videos_cit\n",
    ")\n",
    "print(\"2017\\tS = %f\\tp = %f\"%(_s2017, _p2017))\n",
    "\n",
    "_s2014, _p2014 = stats.ttest_ind(\n",
    "    _2014_wo_videos_cit,\n",
    "    _2014_w_videos_cit\n",
    ")\n",
    "print(\"2014\\tS = %f\\tp = %f\"%(_s2014, _p2014))"
   ]
  },
  {
   "cell_type": "code",
   "execution_count": 20,
   "metadata": {},
   "outputs": [
    {
     "name": "stderr",
     "output_type": "stream",
     "text": [
      "/home/hweem/git/mastersdegree/ytcrawl/ytcrawl0/lib/python3.5/site-packages/ipykernel_launcher.py:1: UserWarning: Boolean Series key will be reindexed to match DataFrame index.\n",
      "  \"\"\"Entry point for launching an IPython kernel.\n",
      "/home/hweem/git/mastersdegree/ytcrawl/ytcrawl0/lib/python3.5/site-packages/ipykernel_launcher.py:2: UserWarning: Boolean Series key will be reindexed to match DataFrame index.\n",
      "  \n",
      "/home/hweem/git/mastersdegree/ytcrawl/ytcrawl0/lib/python3.5/site-packages/ipykernel_launcher.py:3: UserWarning: Boolean Series key will be reindexed to match DataFrame index.\n",
      "  This is separate from the ipykernel package so we can avoid doing imports until\n",
      "/home/hweem/git/mastersdegree/ytcrawl/ytcrawl0/lib/python3.5/site-packages/ipykernel_launcher.py:4: UserWarning: Boolean Series key will be reindexed to match DataFrame index.\n",
      "  after removing the cwd from sys.path.\n",
      "/home/hweem/git/mastersdegree/ytcrawl/ytcrawl0/lib/python3.5/site-packages/ipykernel_launcher.py:5: UserWarning: Boolean Series key will be reindexed to match DataFrame index.\n",
      "  \"\"\"\n",
      "/home/hweem/git/mastersdegree/ytcrawl/ytcrawl0/lib/python3.5/site-packages/ipykernel_launcher.py:6: UserWarning: Boolean Series key will be reindexed to match DataFrame index.\n",
      "  \n"
     ]
    },
    {
     "data": {
      "text/plain": [
       "{'boxes': [<matplotlib.lines.Line2D at 0x7fe36931db38>,\n",
       "  <matplotlib.lines.Line2D at 0x7fe369311668>,\n",
       "  <matplotlib.lines.Line2D at 0x7fe369330da0>,\n",
       "  <matplotlib.lines.Line2D at 0x7fe36933b518>,\n",
       "  <matplotlib.lines.Line2D at 0x7fe36933fc50>,\n",
       "  <matplotlib.lines.Line2D at 0x7fe36371c3c8>],\n",
       " 'caps': [<matplotlib.lines.Line2D at 0x7fe369320940>,\n",
       "  <matplotlib.lines.Line2D at 0x7fe369320c88>,\n",
       "  <matplotlib.lines.Line2D at 0x7fe3693300b8>,\n",
       "  <matplotlib.lines.Line2D at 0x7fe369330400>,\n",
       "  <matplotlib.lines.Line2D at 0x7fe3693367f0>,\n",
       "  <matplotlib.lines.Line2D at 0x7fe369336b38>,\n",
       "  <matplotlib.lines.Line2D at 0x7fe36933bf28>,\n",
       "  <matplotlib.lines.Line2D at 0x7fe36933f2b0>,\n",
       "  <matplotlib.lines.Line2D at 0x7fe3693436a0>,\n",
       "  <matplotlib.lines.Line2D at 0x7fe3693439e8>,\n",
       "  <matplotlib.lines.Line2D at 0x7fe36371cdd8>,\n",
       "  <matplotlib.lines.Line2D at 0x7fe363721160>],\n",
       " 'fliers': [<matplotlib.lines.Line2D at 0x7fe369311358>,\n",
       "  <matplotlib.lines.Line2D at 0x7fe369330a90>,\n",
       "  <matplotlib.lines.Line2D at 0x7fe36933b208>,\n",
       "  <matplotlib.lines.Line2D at 0x7fe36933f940>,\n",
       "  <matplotlib.lines.Line2D at 0x7fe36371c0b8>,\n",
       "  <matplotlib.lines.Line2D at 0x7fe3637217f0>],\n",
       " 'means': [],\n",
       " 'medians': [<matplotlib.lines.Line2D at 0x7fe369320fd0>,\n",
       "  <matplotlib.lines.Line2D at 0x7fe369330748>,\n",
       "  <matplotlib.lines.Line2D at 0x7fe369336e80>,\n",
       "  <matplotlib.lines.Line2D at 0x7fe36933f5f8>,\n",
       "  <matplotlib.lines.Line2D at 0x7fe369343d30>,\n",
       "  <matplotlib.lines.Line2D at 0x7fe3637214a8>],\n",
       " 'whiskers': [<matplotlib.lines.Line2D at 0x7fe369320128>,\n",
       "  <matplotlib.lines.Line2D at 0x7fe3693205f8>,\n",
       "  <matplotlib.lines.Line2D at 0x7fe3693119e8>,\n",
       "  <matplotlib.lines.Line2D at 0x7fe369311d30>,\n",
       "  <matplotlib.lines.Line2D at 0x7fe369336160>,\n",
       "  <matplotlib.lines.Line2D at 0x7fe3693364a8>,\n",
       "  <matplotlib.lines.Line2D at 0x7fe36933b898>,\n",
       "  <matplotlib.lines.Line2D at 0x7fe36933bbe0>,\n",
       "  <matplotlib.lines.Line2D at 0x7fe36933ffd0>,\n",
       "  <matplotlib.lines.Line2D at 0x7fe369343358>,\n",
       "  <matplotlib.lines.Line2D at 0x7fe36371c748>,\n",
       "  <matplotlib.lines.Line2D at 0x7fe36371ca90>]}"
      ]
     },
     "execution_count": 20,
     "metadata": {},
     "output_type": "execute_result"
    },
    {
     "data": {
      "image/png": "[encoded data removed]",
      "text/plain": [
       "<Figure size 720x432 with 1 Axes>"
      ]
     },
     "metadata": {
      "needs_background": "light"
     },
     "output_type": "display_data"
    }
   ],
   "source": [
    "_2019_wo_videos = df1[~df1.DOI.isin(_idx_papers_2019)][df1[\"AAS\"] != \"None\"][\"AAS\"].dropna().astype(int)\n",
    "_2019_w_videos = df1[df1.DOI.isin(_idx_papers_2019)][df1[\"AAS\"] != \"None\"][\"AAS\"].dropna().astype(int)\n",
    "_2017_wo_videos = df2[~df2.DOI.isin(_idx_papers_2017)][df2[\"AAS\"] != \"None\"][\"AAS\"].dropna().astype(int)\n",
    "_2017_w_videos = df2[df2.DOI.isin(_idx_papers_2017)][df2[\"AAS\"] != \"None\"][\"AAS\"].dropna().astype(int)\n",
    "_2014_wo_videos = df3[~df3.DOI.isin(_idx_papers_2014)][df3[\"AAS\"] != \"None\"][\"AAS\"].dropna().astype(int)\n",
    "_2014_w_videos = df3[df3.DOI.isin(_idx_papers_2014)][df3[\"AAS\"] != \"None\"][\"AAS\"].dropna().astype(int)\n",
    "\n",
    "plt.figure(figsize=(10, 6))\n",
    "plt.title(\"AAS\")\n",
    "plt.yscale(\"log\")\n",
    "# plt.ylim([0, 200])\n",
    "plt.boxplot([\n",
    "    _2019_wo_videos,\n",
    "    _2019_w_videos,\n",
    "    _2017_wo_videos,\n",
    "    _2017_w_videos,\n",
    "    _2014_wo_videos,\n",
    "    _2014_w_videos\n",
    "],\n",
    "    labels=[\n",
    "        \"2019 w/o videos\\n(N=%s)\"%len(_2019_wo_videos),\n",
    "        \"2019 w/ videos\\n(N=%s)\"%len(_2019_w_videos),\n",
    "        \"2017 w/o videos\\n(N=%s)\"%len(_2017_wo_videos),\n",
    "        \"2017 w/ videos\\n(N=%s)\"%len(_2017_w_videos),\n",
    "        \"2014 w/o videos\\n(N=%s)\"%len(_2014_wo_videos),\n",
    "        \"2014 w/ videos\\n(N=%s)\"%len(_2014_w_videos)\n",
    "    ]\n",
    ")"
   ]
  },
  {
   "cell_type": "code",
   "execution_count": 21,
   "metadata": {},
   "outputs": [
    {
     "name": "stdout",
     "output_type": "stream",
     "text": [
      "2019\tS = -13.606527\tp = 0.000000\n",
      "2017\tS = -16.142444\tp = 0.000000\n",
      "2014\tS = -13.092784\tp = 0.000000\n"
     ]
    }
   ],
   "source": [
    "_s2019, _p2019 = stats.ttest_ind(\n",
    "    _2019_wo_videos,\n",
    "    _2019_w_videos\n",
    ")\n",
    "print(\"2019\\tS = %f\\tp = %f\"%(_s2019, _p2019))\n",
    "\n",
    "_s2017, _p2017 = stats.ttest_ind(\n",
    "    _2017_wo_videos,\n",
    "    _2017_w_videos\n",
    ")\n",
    "print(\"2017\\tS = %f\\tp = %f\"%(_s2017, _p2017))\n",
    "\n",
    "_s2014, _p2014 = stats.ttest_ind(\n",
    "    _2014_wo_videos,\n",
    "    _2014_w_videos\n",
    ")\n",
    "print(\"2014\\tS = %f\\tp = %f\"%(_s2014, _p2014))"
   ]
  },
  {
   "cell_type": "markdown",
   "metadata": {},
   "source": [
    "論文掲載初期動画付きの場合"
   ]
  },
  {
   "cell_type": "code",
   "execution_count": 31,
   "metadata": {},
   "outputs": [
    {
     "name": "stderr",
     "output_type": "stream",
     "text": [
      "/home/hweem/git/mastersdegree/ytcrawl/ytcrawl0/lib/python3.5/site-packages/ipykernel_launcher.py:1: UserWarning: Boolean Series key will be reindexed to match DataFrame index.\n",
      "  \"\"\"Entry point for launching an IPython kernel.\n",
      "/home/hweem/git/mastersdegree/ytcrawl/ytcrawl0/lib/python3.5/site-packages/ipykernel_launcher.py:2: UserWarning: Boolean Series key will be reindexed to match DataFrame index.\n",
      "  \n",
      "/home/hweem/git/mastersdegree/ytcrawl/ytcrawl0/lib/python3.5/site-packages/ipykernel_launcher.py:3: UserWarning: Boolean Series key will be reindexed to match DataFrame index.\n",
      "  This is separate from the ipykernel package so we can avoid doing imports until\n",
      "/home/hweem/git/mastersdegree/ytcrawl/ytcrawl0/lib/python3.5/site-packages/ipykernel_launcher.py:4: UserWarning: Boolean Series key will be reindexed to match DataFrame index.\n",
      "  after removing the cwd from sys.path.\n",
      "/home/hweem/git/mastersdegree/ytcrawl/ytcrawl0/lib/python3.5/site-packages/ipykernel_launcher.py:5: UserWarning: Boolean Series key will be reindexed to match DataFrame index.\n",
      "  \"\"\"\n",
      "/home/hweem/git/mastersdegree/ytcrawl/ytcrawl0/lib/python3.5/site-packages/ipykernel_launcher.py:6: UserWarning: Boolean Series key will be reindexed to match DataFrame index.\n",
      "  \n"
     ]
    },
    {
     "data": {
      "text/plain": [
       "{'boxes': [<matplotlib.lines.Line2D at 0x7fe3631d81d0>,\n",
       "  <matplotlib.lines.Line2D at 0x7fe3631f26a0>,\n",
       "  <matplotlib.lines.Line2D at 0x7fe3631fadd8>,\n",
       "  <matplotlib.lines.Line2D at 0x7fe363202550>,\n",
       "  <matplotlib.lines.Line2D at 0x7fe363209c88>,\n",
       "  <matplotlib.lines.Line2D at 0x7fe363210400>],\n",
       " 'caps': [<matplotlib.lines.Line2D at 0x7fe3631d8978>,\n",
       "  <matplotlib.lines.Line2D at 0x7fe3631d8cc0>,\n",
       "  <matplotlib.lines.Line2D at 0x7fe3631fa0f0>,\n",
       "  <matplotlib.lines.Line2D at 0x7fe3631fa438>,\n",
       "  <matplotlib.lines.Line2D at 0x7fe3631fe828>,\n",
       "  <matplotlib.lines.Line2D at 0x7fe3631feb70>,\n",
       "  <matplotlib.lines.Line2D at 0x7fe363202f60>,\n",
       "  <matplotlib.lines.Line2D at 0x7fe3632092e8>,\n",
       "  <matplotlib.lines.Line2D at 0x7fe36320d6d8>,\n",
       "  <matplotlib.lines.Line2D at 0x7fe36320da20>,\n",
       "  <matplotlib.lines.Line2D at 0x7fe363210e10>,\n",
       "  <matplotlib.lines.Line2D at 0x7fe363216198>],\n",
       " 'fliers': [<matplotlib.lines.Line2D at 0x7fe3631f2390>,\n",
       "  <matplotlib.lines.Line2D at 0x7fe3631faac8>,\n",
       "  <matplotlib.lines.Line2D at 0x7fe363202240>,\n",
       "  <matplotlib.lines.Line2D at 0x7fe363209978>,\n",
       "  <matplotlib.lines.Line2D at 0x7fe3632100f0>,\n",
       "  <matplotlib.lines.Line2D at 0x7fe363216828>],\n",
       " 'means': [],\n",
       " 'medians': [<matplotlib.lines.Line2D at 0x7fe3631f2048>,\n",
       "  <matplotlib.lines.Line2D at 0x7fe3631fa780>,\n",
       "  <matplotlib.lines.Line2D at 0x7fe3631feeb8>,\n",
       "  <matplotlib.lines.Line2D at 0x7fe363209630>,\n",
       "  <matplotlib.lines.Line2D at 0x7fe36320dd68>,\n",
       "  <matplotlib.lines.Line2D at 0x7fe3632164e0>],\n",
       " 'whiskers': [<matplotlib.lines.Line2D at 0x7fe3631d82e8>,\n",
       "  <matplotlib.lines.Line2D at 0x7fe3631d8630>,\n",
       "  <matplotlib.lines.Line2D at 0x7fe3631f2a20>,\n",
       "  <matplotlib.lines.Line2D at 0x7fe3631f2d68>,\n",
       "  <matplotlib.lines.Line2D at 0x7fe3631fe198>,\n",
       "  <matplotlib.lines.Line2D at 0x7fe3631fe4e0>,\n",
       "  <matplotlib.lines.Line2D at 0x7fe3632028d0>,\n",
       "  <matplotlib.lines.Line2D at 0x7fe363202c18>,\n",
       "  <matplotlib.lines.Line2D at 0x7fe36320d048>,\n",
       "  <matplotlib.lines.Line2D at 0x7fe36320d390>,\n",
       "  <matplotlib.lines.Line2D at 0x7fe363210780>,\n",
       "  <matplotlib.lines.Line2D at 0x7fe363210ac8>]}"
      ]
     },
     "execution_count": 31,
     "metadata": {},
     "output_type": "execute_result"
    },
    {
     "data": {
      "image/png": "[encoded data removed]",
      "text/plain": [
       "<Figure size 864x432 with 1 Axes>"
      ]
     },
     "metadata": {
      "needs_background": "light"
     },
     "output_type": "display_data"
    }
   ],
   "source": [
    "_2019_90_wo_videos_cit = df1[~df1.DOI.isin(_idx_papers_2019_90)][df1[\"Cited by\"] != \"None\"][\"Cited by\"].dropna().astype(int)\n",
    "_2019_90_w_videos_cit = df1[df1.DOI.isin(_idx_papers_2019_90)][df1[\"Cited by\"] != \"None\"][\"Cited by\"].dropna().astype(int)\n",
    "_2017_90_wo_videos_cit = df2[~df2.DOI.isin(_idx_papers_2017_90)][df2[\"Cited by\"] != \"None\"][\"Cited by\"].dropna().astype(int)\n",
    "_2017_90_w_videos_cit = df2[df2.DOI.isin(_idx_papers_2017_90)][df2[\"Cited by\"] != \"None\"][\"Cited by\"].dropna().astype(int)\n",
    "_2014_90_wo_videos_cit = df3[~df3.DOI.isin(_idx_papers_2014_90)][df3[\"Cited by\"] != \"None\"][\"Cited by\"].dropna().astype(int)\n",
    "_2014_90_w_videos_cit = df3[df3.DOI.isin(_idx_papers_2014_90)][df3[\"Cited by\"] != \"None\"][\"Cited by\"].dropna().astype(int)\n",
    "\n",
    "plt.figure(figsize=(12, 6))\n",
    "plt.title(\"Citation-90\")\n",
    "plt.yscale(\"log\")\n",
    "# plt.ylim([0, 200])\n",
    "plt.boxplot([\n",
    "    _2019_90_wo_videos_cit,\n",
    "    _2019_90_w_videos_cit,\n",
    "    _2017_90_wo_videos_cit,\n",
    "    _2017_90_w_videos_cit,\n",
    "    _2014_90_wo_videos_cit,\n",
    "    _2014_90_w_videos_cit\n",
    "],\n",
    "    labels=[\n",
    "        \"2019 w/o videos-90\\n(N=%s)\"%len(_2019_90_wo_videos_cit),\n",
    "        \"2019 w/ videos-90\\n(N=%s)\"%len(_2019_90_w_videos_cit),\n",
    "        \"2017 w/o videos-90\\n(N=%s)\"%len(_2017_90_wo_videos_cit),\n",
    "        \"2017 w/ videos-90\\n(N=%s)\"%len(_2017_90_w_videos_cit),\n",
    "        \"2014 w/o videos-90\\n(N=%s)\"%len(_2014_90_wo_videos_cit),\n",
    "        \"2014 w/ videos-90\\n(N=%s)\"%len(_2014_90_w_videos_cit)\n",
    "    ]\n",
    ")"
   ]
  },
  {
   "cell_type": "code",
   "execution_count": 32,
   "metadata": {},
   "outputs": [
    {
     "name": "stdout",
     "output_type": "stream",
     "text": [
      "2019\tS = 0.967969\tp = 0.333078\n",
      "2017\tS = -0.649511\tp = 0.516021\n",
      "2014\tS = -0.309336\tp = 0.757073\n"
     ]
    }
   ],
   "source": [
    "_s2019, _p2019 = stats.ttest_ind(\n",
    "    _2019_90_wo_videos_cit,\n",
    "    _2019_90_w_videos_cit\n",
    ")\n",
    "print(\"2019\\tS = %f\\tp = %f\"%(_s2019, _p2019))\n",
    "\n",
    "_s2017, _p2017 = stats.ttest_ind(\n",
    "    _2017_90_wo_videos_cit,\n",
    "    _2017_90_w_videos_cit\n",
    ")\n",
    "print(\"2017\\tS = %f\\tp = %f\"%(_s2017, _p2017))\n",
    "\n",
    "_s2014, _p2014 = stats.ttest_ind(\n",
    "    _2014_90_wo_videos_cit,\n",
    "    _2014_90_w_videos_cit\n",
    ")\n",
    "print(\"2014\\tS = %f\\tp = %f\"%(_s2014, _p2014))"
   ]
  },
  {
   "cell_type": "markdown",
   "metadata": {},
   "source": [
    "논문 게재 초기(90일 이내) 비디오로 한정하면 p값이 커짐. 즉 초기 비디오 유무에 따른 피인용수의 유의차는 없다."
   ]
  },
  {
   "cell_type": "code",
   "execution_count": 33,
   "metadata": {},
   "outputs": [
    {
     "name": "stderr",
     "output_type": "stream",
     "text": [
      "/home/hweem/git/mastersdegree/ytcrawl/ytcrawl0/lib/python3.5/site-packages/ipykernel_launcher.py:1: UserWarning: Boolean Series key will be reindexed to match DataFrame index.\n",
      "  \"\"\"Entry point for launching an IPython kernel.\n",
      "/home/hweem/git/mastersdegree/ytcrawl/ytcrawl0/lib/python3.5/site-packages/ipykernel_launcher.py:2: UserWarning: Boolean Series key will be reindexed to match DataFrame index.\n",
      "  \n",
      "/home/hweem/git/mastersdegree/ytcrawl/ytcrawl0/lib/python3.5/site-packages/ipykernel_launcher.py:3: UserWarning: Boolean Series key will be reindexed to match DataFrame index.\n",
      "  This is separate from the ipykernel package so we can avoid doing imports until\n",
      "/home/hweem/git/mastersdegree/ytcrawl/ytcrawl0/lib/python3.5/site-packages/ipykernel_launcher.py:4: UserWarning: Boolean Series key will be reindexed to match DataFrame index.\n",
      "  after removing the cwd from sys.path.\n",
      "/home/hweem/git/mastersdegree/ytcrawl/ytcrawl0/lib/python3.5/site-packages/ipykernel_launcher.py:5: UserWarning: Boolean Series key will be reindexed to match DataFrame index.\n",
      "  \"\"\"\n",
      "/home/hweem/git/mastersdegree/ytcrawl/ytcrawl0/lib/python3.5/site-packages/ipykernel_launcher.py:6: UserWarning: Boolean Series key will be reindexed to match DataFrame index.\n",
      "  \n"
     ]
    },
    {
     "data": {
      "text/plain": [
       "{'boxes': [<matplotlib.lines.Line2D at 0x7fe3630f06d8>,\n",
       "  <matplotlib.lines.Line2D at 0x7fe3630f5ba8>,\n",
       "  <matplotlib.lines.Line2D at 0x7fe363107320>,\n",
       "  <matplotlib.lines.Line2D at 0x7fe36310ca58>,\n",
       "  <matplotlib.lines.Line2D at 0x7fe3631151d0>,\n",
       "  <matplotlib.lines.Line2D at 0x7fe363099908>],\n",
       " 'caps': [<matplotlib.lines.Line2D at 0x7fe3630f0e80>,\n",
       "  <matplotlib.lines.Line2D at 0x7fe3630f5208>,\n",
       "  <matplotlib.lines.Line2D at 0x7fe3631025f8>,\n",
       "  <matplotlib.lines.Line2D at 0x7fe363102940>,\n",
       "  <matplotlib.lines.Line2D at 0x7fe363107d30>,\n",
       "  <matplotlib.lines.Line2D at 0x7fe36310c0b8>,\n",
       "  <matplotlib.lines.Line2D at 0x7fe3631104a8>,\n",
       "  <matplotlib.lines.Line2D at 0x7fe3631107f0>,\n",
       "  <matplotlib.lines.Line2D at 0x7fe363115be0>,\n",
       "  <matplotlib.lines.Line2D at 0x7fe363115f28>,\n",
       "  <matplotlib.lines.Line2D at 0x7fe3630a0358>,\n",
       "  <matplotlib.lines.Line2D at 0x7fe3630a06a0>],\n",
       " 'fliers': [<matplotlib.lines.Line2D at 0x7fe3630f5898>,\n",
       "  <matplotlib.lines.Line2D at 0x7fe363102fd0>,\n",
       "  <matplotlib.lines.Line2D at 0x7fe36310c748>,\n",
       "  <matplotlib.lines.Line2D at 0x7fe363110e80>,\n",
       "  <matplotlib.lines.Line2D at 0x7fe3630995f8>,\n",
       "  <matplotlib.lines.Line2D at 0x7fe3630a0d30>],\n",
       " 'means': [],\n",
       " 'medians': [<matplotlib.lines.Line2D at 0x7fe3630f5550>,\n",
       "  <matplotlib.lines.Line2D at 0x7fe363102c88>,\n",
       "  <matplotlib.lines.Line2D at 0x7fe36310c400>,\n",
       "  <matplotlib.lines.Line2D at 0x7fe363110b38>,\n",
       "  <matplotlib.lines.Line2D at 0x7fe3630992b0>,\n",
       "  <matplotlib.lines.Line2D at 0x7fe3630a09e8>],\n",
       " 'whiskers': [<matplotlib.lines.Line2D at 0x7fe3630f0630>,\n",
       "  <matplotlib.lines.Line2D at 0x7fe3630f0b38>,\n",
       "  <matplotlib.lines.Line2D at 0x7fe3630f5f28>,\n",
       "  <matplotlib.lines.Line2D at 0x7fe3631022b0>,\n",
       "  <matplotlib.lines.Line2D at 0x7fe3631076a0>,\n",
       "  <matplotlib.lines.Line2D at 0x7fe3631079e8>,\n",
       "  <matplotlib.lines.Line2D at 0x7fe36310cdd8>,\n",
       "  <matplotlib.lines.Line2D at 0x7fe363110160>,\n",
       "  <matplotlib.lines.Line2D at 0x7fe363115550>,\n",
       "  <matplotlib.lines.Line2D at 0x7fe363115898>,\n",
       "  <matplotlib.lines.Line2D at 0x7fe363099c88>,\n",
       "  <matplotlib.lines.Line2D at 0x7fe363099fd0>]}"
      ]
     },
     "execution_count": 33,
     "metadata": {},
     "output_type": "execute_result"
    },
    {
     "data": {
      "image/png": "[encoded data removed]",
      "text/plain": [
       "<Figure size 864x432 with 1 Axes>"
      ]
     },
     "metadata": {
      "needs_background": "light"
     },
     "output_type": "display_data"
    }
   ],
   "source": [
    "_2019_90_wo_videos = df1[~df1.DOI.isin(_idx_papers_2019_90)][df1[\"AAS\"] != \"None\"][\"AAS\"].dropna().astype(int)\n",
    "_2019_90_w_videos = df1[df1.DOI.isin(_idx_papers_2019_90)][df1[\"AAS\"] != \"None\"][\"AAS\"].dropna().astype(int)\n",
    "_2017_90_wo_videos = df2[~df2.DOI.isin(_idx_papers_2017_90)][df2[\"AAS\"] != \"None\"][\"AAS\"].dropna().astype(int)\n",
    "_2017_90_w_videos = df2[df2.DOI.isin(_idx_papers_2017_90)][df2[\"AAS\"] != \"None\"][\"AAS\"].dropna().astype(int)\n",
    "_2014_90_wo_videos = df3[~df3.DOI.isin(_idx_papers_2014_90)][df3[\"AAS\"] != \"None\"][\"AAS\"].dropna().astype(int)\n",
    "_2014_90_w_videos = df3[df3.DOI.isin(_idx_papers_2014_90)][df3[\"AAS\"] != \"None\"][\"AAS\"].dropna().astype(int)\n",
    "\n",
    "plt.figure(figsize=(12, 6))\n",
    "plt.title(\"AAS-90\")\n",
    "plt.yscale(\"log\")\n",
    "# plt.ylim([0, 200])\n",
    "plt.boxplot([\n",
    "    _2019_90_wo_videos,\n",
    "    _2019_90_w_videos,\n",
    "    _2017_90_wo_videos,\n",
    "    _2017_90_w_videos,\n",
    "    _2014_90_wo_videos,\n",
    "    _2014_90_w_videos\n",
    "],\n",
    "    labels=[\n",
    "        \"2019 w/o videos-90\\n(N=%s)\"%len(_2019_90_wo_videos),\n",
    "        \"2019 w/ videos-90\\n(N=%s)\"%len(_2019_90_w_videos),\n",
    "        \"2017 w/o videos-90\\n(N=%s)\"%len(_2017_90_wo_videos),\n",
    "        \"2017 w/ videos-90\\n(N=%s)\"%len(_2017_90_w_videos),\n",
    "        \"2014 w/o videos-90\\n(N=%s)\"%len(_2014_90_wo_videos),\n",
    "        \"2014 w/ videos-90\\n(N=%s)\"%len(_2014_90_w_videos)\n",
    "    ]\n",
    ")"
   ]
  },
  {
   "cell_type": "code",
   "execution_count": 34,
   "metadata": {},
   "outputs": [
    {
     "name": "stdout",
     "output_type": "stream",
     "text": [
      "2019\tS = -4.388272\tp = 0.000012\n",
      "2017\tS = -11.461586\tp = 0.000000\n",
      "2014\tS = 0.620947\tp = 0.534677\n"
     ]
    }
   ],
   "source": [
    "_s2019, _p2019 = stats.ttest_ind(\n",
    "    _2019_90_wo_videos,\n",
    "    _2019_90_w_videos\n",
    ")\n",
    "print(\"2019\\tS = %f\\tp = %f\"%(_s2019, _p2019))\n",
    "\n",
    "_s2017, _p2017 = stats.ttest_ind(\n",
    "    _2017_90_wo_videos,\n",
    "    _2017_90_w_videos\n",
    ")\n",
    "print(\"2017\\tS = %f\\tp = %f\"%(_s2017, _p2017))\n",
    "\n",
    "_s2014, _p2014 = stats.ttest_ind(\n",
    "    _2014_90_wo_videos,\n",
    "    _2014_90_w_videos\n",
    ")\n",
    "print(\"2014\\tS = %f\\tp = %f\"%(_s2014, _p2014))"
   ]
  },
  {
   "cell_type": "markdown",
   "metadata": {},
   "source": [
    "피인용수와 달리, 초기 비디오 유무는 AAS에 대해서 영향력이 있어 보임.\n",
    "다만 2014년에는 역전 현상이 보임."
   ]
  },
  {
   "cell_type": "code",
   "execution_count": null,
   "metadata": {},
   "outputs": [],
   "source": []
  }
 ],
 "metadata": {
  "kernelspec": {
   "display_name": "Python 3",
   "language": "python",
   "name": "python3"
  },
  "language_info": {
   "codemirror_mode": {
    "name": "ipython",
    "version": 3
   },
   "file_extension": ".py",
   "mimetype": "text/x-python",
   "name": "python",
   "nbconvert_exporter": "python",
   "pygments_lexer": "ipython3",
   "version": "3.5.2"
  }
 },
 "nbformat": 4,
 "nbformat_minor": 4
}
