{
 "cells": [
  {
   "cell_type": "code",
   "execution_count": 1,
   "metadata": {},
   "outputs": [],
   "source": [
    "import numpy as np\n",
    "import pandas as pd\n",
    "from db_handler import DBHandler\n",
    "from matplotlib import pyplot as plt\n",
    "from scipy import stats\n",
    "from datetime import datetime, timedelta\n",
    "from calendar import monthrange\n",
    "%matplotlib inline"
   ]
  },
  {
   "cell_type": "code",
   "execution_count": 2,
   "metadata": {},
   "outputs": [],
   "source": [
    "def parse_fetches(fetches):\n",
    "    _new_fetches = list()\n",
    "    for _fetch in fetches:\n",
    "        for _doi in _fetch[0].split(\", \"):\n",
    "            _new_fetches.append(\n",
    "                (_doi, _fetch[1])\n",
    "            )\n",
    "    return _new_fetches\n",
    "\n",
    "def get_dois_with_videos_within_days_from_publish(df, table_name, days_from=None, days_until=None):\n",
    "    _set_target_dois = set()\n",
    "    db_handler.sql_handler.select(table_name, [\"idx_paper\", \"publishedAt\"])\n",
    "    fetches = db_handler.execute().fetchall()\n",
    "    fetches = parse_fetches(fetches)\n",
    "    \n",
    "    for _row in fetches:\n",
    "#         print(\"DOI:\", _row[0])\n",
    "        _target_paper = df[df[\"DOI\"] == _row[0]]\n",
    "#         if len(_target_paper) == 0:\n",
    "#             continue\n",
    "        if len(_target_paper) > 1:\n",
    "            _target_paper = _target_paper.iloc[0]\n",
    "        _dt_publish = datetime(_target_paper[\"Year\"], _target_paper[\"Month\"], 1)\n",
    "        \n",
    "        if days_from != None:\n",
    "            _dt_video_from = _dt_publish + timedelta(days=days_from)\n",
    "            if _row[1] < _dt_video_from:\n",
    "                continue\n",
    "        \n",
    "        if days_until != None:\n",
    "            _dt_video_until = _dt_publish + timedelta(days=days_until)\n",
    "            if _row[1] > _dt_video_until:\n",
    "                continue\n",
    "        \n",
    "        _set_target_dois.add(_row[0])\n",
    "    \n",
    "#     if days_until == None:\n",
    "#         _set_target_dois = set(map(lambda _row: _row[0], fetches))\n",
    "#     else:\n",
    "#         for _row in fetches:\n",
    "#             _target_paper = df[df[\"DOI\"] == _row[0]]\n",
    "#             if len(_target_paper) > 1:\n",
    "#                 _target_paper = _target_paper.iloc[0]\n",
    "#             _dt_publish = datetime(_target_paper[\"Year\"], _target_paper[\"Month\"], 1)\n",
    "            \n",
    "#             _dt_video_from = _dt_publish + timedelta(days=days_from)\n",
    "#             _dt_video_until = _dt_publish + timedelta(days=days_until)\n",
    "            \n",
    "#             if _row[1] < _dt_video_deadline:\n",
    "#                 _set_target_dois.add(_row[0])\n",
    "    \n",
    "    return _set_target_dois"
   ]
  },
  {
   "cell_type": "code",
   "execution_count": 3,
   "metadata": {},
   "outputs": [
    {
     "name": "stdout",
     "output_type": "stream",
     "text": [
      "7742 7816\n",
      "7735 7717\n"
     ]
    }
   ],
   "source": [
    "df1 = pd.read_csv(\"/home/hweem/git/mastersdegree/ytcrawl/customs/scopus/scopus_life+earch_top60_1901-1906.csv\")\n",
    "# df2 = pd.read_csv(\"/home/hweem/git/mastersdegree/ytcrawl/customs/scopus/scopus_math+comp_top5perc_1701-1706.csv\")\n",
    "df3 = pd.read_csv(\"/home/hweem/git/mastersdegree/ytcrawl/customs/scopus/scopus_life+earch_top60_1401-1406.csv\")\n",
    "print(len(df1), len(df3))\n",
    "df1 = df1.drop_duplicates(subset=[\"DOI\"])\n",
    "# df2 = df2.drop_duplicates(subset=[\"DOI\"])\n",
    "df3 = df3.drop_duplicates(subset=[\"DOI\"])\n",
    "print(len(df1), len(df3))"
   ]
  },
  {
   "cell_type": "code",
   "execution_count": 4,
   "metadata": {},
   "outputs": [
    {
     "name": "stdout",
     "output_type": "stream",
     "text": [
      "\tCommand set: SELECT `idx_paper`, `publishedAt` FROM `scopus_videos_2014_life`\n",
      "\tsql: SELECT `idx_paper`, `publishedAt` FROM `scopus_videos_2014_life`;\n",
      "\tCommand set: SELECT `idx_paper`, `publishedAt` FROM `scopus_videos_2019_life`\n",
      "\tsql: SELECT `idx_paper`, `publishedAt` FROM `scopus_videos_2019_life`;\n"
     ]
    }
   ],
   "source": [
    "db_handler = DBHandler()\n",
    "db_handler.sql_handler.select(\"scopus_videos_2014_life\", [\"idx_paper\", \"publishedAt\"])\n",
    "_videos_2014 = db_handler.execute().fetchall()\n",
    "# db_handler.sql_handler.select(\"scopus_videos_2017_comp\", [\"idx_paper\", \"publishedAt\"])\n",
    "# _videos_2017 = db_handler.execute().fetchall()\n",
    "db_handler.sql_handler.select(\"scopus_videos_2019_life\", [\"idx_paper\", \"publishedAt\"])\n",
    "_videos_2019 = db_handler.execute().fetchall()"
   ]
  },
  {
   "cell_type": "code",
   "execution_count": 5,
   "metadata": {},
   "outputs": [
    {
     "name": "stdout",
     "output_type": "stream",
     "text": [
      "\tCommand set: SELECT `idx_paper`, `publishedAt` FROM `scopus_videos_2019_life`\n",
      "\tsql: SELECT `idx_paper`, `publishedAt` FROM `scopus_videos_2019_life`;\n",
      "\tCommand set: SELECT `idx_paper`, `publishedAt` FROM `scopus_videos_2019_life`\n",
      "\tsql: SELECT `idx_paper`, `publishedAt` FROM `scopus_videos_2019_life`;\n",
      "134 99\n",
      "\tCommand set: SELECT `idx_paper`, `publishedAt` FROM `scopus_videos_2014_life`\n",
      "\tsql: SELECT `idx_paper`, `publishedAt` FROM `scopus_videos_2014_life`;\n",
      "\tCommand set: SELECT `idx_paper`, `publishedAt` FROM `scopus_videos_2014_life`\n",
      "\tsql: SELECT `idx_paper`, `publishedAt` FROM `scopus_videos_2014_life`;\n",
      "78 18\n"
     ]
    }
   ],
   "source": [
    "_idx_papers_2019 = get_dois_with_videos_within_days_from_publish(df1, \"scopus_videos_2019_life\")\n",
    "_idx_papers_2019_90 = get_dois_with_videos_within_days_from_publish(df1, \"scopus_videos_2019_life\", None, 90)\n",
    "print(len(_idx_papers_2019), len(_idx_papers_2019_90))\n",
    "\n",
    "_idx_papers_2014 = get_dois_with_videos_within_days_from_publish(df3, \"scopus_videos_2014_life\")\n",
    "_idx_papers_2014_90 = get_dois_with_videos_within_days_from_publish(df3, \"scopus_videos_2014_life\", None, 90)\n",
    "print(len(_idx_papers_2014), len(_idx_papers_2014_90))"
   ]
  },
  {
   "cell_type": "code",
   "execution_count": 6,
   "metadata": {},
   "outputs": [
    {
     "data": {
      "text/plain": [
       "{'whiskers': [<matplotlib.lines.Line2D at 0x7f1daf6787f0>,\n",
       "  <matplotlib.lines.Line2D at 0x7f1daf678ac8>,\n",
       "  <matplotlib.lines.Line2D at 0x7f1daf616cc0>,\n",
       "  <matplotlib.lines.Line2D at 0x7f1daf616f98>,\n",
       "  <matplotlib.lines.Line2D at 0x7f1daf631128>,\n",
       "  <matplotlib.lines.Line2D at 0x7f1daf631400>,\n",
       "  <matplotlib.lines.Line2D at 0x7f1daf63e550>,\n",
       "  <matplotlib.lines.Line2D at 0x7f1daf63e828>],\n",
       " 'caps': [<matplotlib.lines.Line2D at 0x7f1daf678dd8>,\n",
       "  <matplotlib.lines.Line2D at 0x7f1daf6160f0>,\n",
       "  <matplotlib.lines.Line2D at 0x7f1daf6252b0>,\n",
       "  <matplotlib.lines.Line2D at 0x7f1daf625588>,\n",
       "  <matplotlib.lines.Line2D at 0x7f1daf6316d8>,\n",
       "  <matplotlib.lines.Line2D at 0x7f1daf6319b0>,\n",
       "  <matplotlib.lines.Line2D at 0x7f1daf63eb00>,\n",
       "  <matplotlib.lines.Line2D at 0x7f1daf63edd8>],\n",
       " 'boxes': [<matplotlib.lines.Line2D at 0x7f1daf678748>,\n",
       "  <matplotlib.lines.Line2D at 0x7f1daf6169b0>,\n",
       "  <matplotlib.lines.Line2D at 0x7f1daf625d30>,\n",
       "  <matplotlib.lines.Line2D at 0x7f1daf63e198>],\n",
       " 'medians': [<matplotlib.lines.Line2D at 0x7f1daf6163c8>,\n",
       "  <matplotlib.lines.Line2D at 0x7f1daf625860>,\n",
       "  <matplotlib.lines.Line2D at 0x7f1daf631c88>,\n",
       "  <matplotlib.lines.Line2D at 0x7f1daf64c0f0>],\n",
       " 'fliers': [<matplotlib.lines.Line2D at 0x7f1daf6166a0>,\n",
       "  <matplotlib.lines.Line2D at 0x7f1daf625b38>,\n",
       "  <matplotlib.lines.Line2D at 0x7f1daf631f60>,\n",
       "  <matplotlib.lines.Line2D at 0x7f1daf64c3c8>],\n",
       " 'means': []}"
      ]
     },
     "execution_count": 6,
     "metadata": {},
     "output_type": "execute_result"
    },
    {
     "data": {
      "image/png": "[encoded data removed]",
      "text/plain": [
       "<Figure size 720x432 with 1 Axes>"
      ]
     },
     "metadata": {
      "needs_background": "light"
     },
     "output_type": "display_data"
    }
   ],
   "source": [
    "_2019_wo_videos_cit = np.log10(df1[~df1.DOI.isin(_idx_papers_2019)][\"Cited by\"].dropna().astype(int))\n",
    "_2019_w_videos_cit = np.log10(df1[df1.DOI.isin(_idx_papers_2019)][\"Cited by\"].dropna().astype(int))\n",
    "\n",
    "_2014_wo_videos_cit = np.log10(df3[~df3.DOI.isin(_idx_papers_2014)][\"Cited by\"].dropna().astype(int))\n",
    "_2014_w_videos_cit = np.log10(df3[df3.DOI.isin(_idx_papers_2014)][\"Cited by\"].dropna().astype(int))\n",
    "\n",
    "plt.figure(figsize=(10, 6))\n",
    "plt.title(\"Citation\")\n",
    "# plt.yscale(\"log\")\n",
    "# plt.ylim([0, 200])\n",
    "plt.ylabel(\"log10(Citation)\")\n",
    "plt.boxplot([\n",
    "    _2019_wo_videos_cit,\n",
    "    _2019_w_videos_cit,\n",
    "    _2014_wo_videos_cit,\n",
    "    _2014_w_videos_cit\n",
    "],\n",
    "    labels=[\n",
    "        \"2019 w/o videos\\n(N=%s)\"%len(_2019_wo_videos_cit),\n",
    "        \"2019 w/ videos\\n(N=%s)\"%len(_2019_w_videos_cit),\n",
    "        \"2014 w/o videos\\n(N=%s)\"%len(_2014_wo_videos_cit),\n",
    "        \"2014 w/ videos\\n(N=%s)\"%len(_2014_w_videos_cit)\n",
    "    ]\n",
    ")"
   ]
  },
  {
   "cell_type": "code",
   "execution_count": 7,
   "metadata": {},
   "outputs": [
    {
     "name": "stdout",
     "output_type": "stream",
     "text": [
      "2019\tS = -3.968070\tp = 0.000073\n",
      "2014\tS = -6.164704\tp = 0.000000\n"
     ]
    }
   ],
   "source": [
    "_s2019, _p2019 = stats.ttest_ind(\n",
    "    _2019_wo_videos_cit,\n",
    "    _2019_w_videos_cit\n",
    ")\n",
    "print(\"2019\\tS = %f\\tp = %f\"%(_s2019, _p2019))\n",
    "\n",
    "_s2014, _p2014 = stats.ttest_ind(\n",
    "    _2014_wo_videos_cit,\n",
    "    _2014_w_videos_cit\n",
    ")\n",
    "print(\"2014\\tS = %f\\tp = %f\"%(_s2014, _p2014))"
   ]
  },
  {
   "cell_type": "code",
   "execution_count": 8,
   "metadata": {},
   "outputs": [
    {
     "name": "stderr",
     "output_type": "stream",
     "text": [
      "/home/hweem/git/mastersdegree/ytcrawl/s-transformers/lib/python3.7/site-packages/pandas/core/computation/expressions.py:68: FutureWarning: elementwise comparison failed; returning scalar instead, but in the future will perform elementwise comparison\n",
      "  return op(a, b)\n",
      "/home/hweem/git/mastersdegree/ytcrawl/s-transformers/lib/python3.7/site-packages/ipykernel_launcher.py:1: UserWarning: Boolean Series key will be reindexed to match DataFrame index.\n",
      "  \"\"\"Entry point for launching an IPython kernel.\n",
      "/home/hweem/git/mastersdegree/ytcrawl/s-transformers/lib/python3.7/site-packages/pandas/core/computation/expressions.py:68: FutureWarning: elementwise comparison failed; returning scalar instead, but in the future will perform elementwise comparison\n",
      "  return op(a, b)\n",
      "/home/hweem/git/mastersdegree/ytcrawl/s-transformers/lib/python3.7/site-packages/ipykernel_launcher.py:2: UserWarning: Boolean Series key will be reindexed to match DataFrame index.\n",
      "  \n",
      "/home/hweem/git/mastersdegree/ytcrawl/s-transformers/lib/python3.7/site-packages/pandas/core/computation/expressions.py:68: FutureWarning: elementwise comparison failed; returning scalar instead, but in the future will perform elementwise comparison\n",
      "  return op(a, b)\n",
      "/home/hweem/git/mastersdegree/ytcrawl/s-transformers/lib/python3.7/site-packages/ipykernel_launcher.py:4: UserWarning: Boolean Series key will be reindexed to match DataFrame index.\n",
      "  after removing the cwd from sys.path.\n",
      "/home/hweem/git/mastersdegree/ytcrawl/s-transformers/lib/python3.7/site-packages/pandas/core/computation/expressions.py:68: FutureWarning: elementwise comparison failed; returning scalar instead, but in the future will perform elementwise comparison\n",
      "  return op(a, b)\n",
      "/home/hweem/git/mastersdegree/ytcrawl/s-transformers/lib/python3.7/site-packages/ipykernel_launcher.py:5: UserWarning: Boolean Series key will be reindexed to match DataFrame index.\n",
      "  \"\"\"\n"
     ]
    },
    {
     "data": {
      "text/plain": [
       "{'whiskers': [<matplotlib.lines.Line2D at 0x7f1daf53c1d0>,\n",
       "  <matplotlib.lines.Line2D at 0x7f1daf53c4e0>,\n",
       "  <matplotlib.lines.Line2D at 0x7f1daf54b630>,\n",
       "  <matplotlib.lines.Line2D at 0x7f1daf54b908>,\n",
       "  <matplotlib.lines.Line2D at 0x7f1daf4d7a58>,\n",
       "  <matplotlib.lines.Line2D at 0x7f1daf4d7d30>,\n",
       "  <matplotlib.lines.Line2D at 0x7f1daf4e7e80>,\n",
       "  <matplotlib.lines.Line2D at 0x7f1daf4f2198>],\n",
       " 'caps': [<matplotlib.lines.Line2D at 0x7f1daf53c7b8>,\n",
       "  <matplotlib.lines.Line2D at 0x7f1daf53ca90>,\n",
       "  <matplotlib.lines.Line2D at 0x7f1daf54bbe0>,\n",
       "  <matplotlib.lines.Line2D at 0x7f1daf54beb8>,\n",
       "  <matplotlib.lines.Line2D at 0x7f1daf4e7048>,\n",
       "  <matplotlib.lines.Line2D at 0x7f1daf4e7320>,\n",
       "  <matplotlib.lines.Line2D at 0x7f1daf4f2470>,\n",
       "  <matplotlib.lines.Line2D at 0x7f1daf4f2748>],\n",
       " 'boxes': [<matplotlib.lines.Line2D at 0x7f1daf53c128>,\n",
       "  <matplotlib.lines.Line2D at 0x7f1daf54b278>,\n",
       "  <matplotlib.lines.Line2D at 0x7f1daf4d76a0>,\n",
       "  <matplotlib.lines.Line2D at 0x7f1daf4e7ac8>],\n",
       " 'medians': [<matplotlib.lines.Line2D at 0x7f1daf53cd68>,\n",
       "  <matplotlib.lines.Line2D at 0x7f1daf4d71d0>,\n",
       "  <matplotlib.lines.Line2D at 0x7f1daf4e75f8>,\n",
       "  <matplotlib.lines.Line2D at 0x7f1daf4f2a20>],\n",
       " 'fliers': [<matplotlib.lines.Line2D at 0x7f1daf54b080>,\n",
       "  <matplotlib.lines.Line2D at 0x7f1daf4d74a8>,\n",
       "  <matplotlib.lines.Line2D at 0x7f1daf4e78d0>,\n",
       "  <matplotlib.lines.Line2D at 0x7f1daf4f2cf8>],\n",
       " 'means': []}"
      ]
     },
     "execution_count": 8,
     "metadata": {},
     "output_type": "execute_result"
    },
    {
     "data": {
      "image/png": "[encoded data removed]",
      "text/plain": [
       "<Figure size 720x432 with 1 Axes>"
      ]
     },
     "metadata": {
      "needs_background": "light"
     },
     "output_type": "display_data"
    }
   ],
   "source": [
    "_2019_wo_videos_aas = np.log10(df1[~df1.DOI.isin(_idx_papers_2019)][df1[\"AAS\"] != \"None\"][\"AAS\"].dropna().astype(int))\n",
    "_2019_w_videos_aas = np.log10(df1[df1.DOI.isin(_idx_papers_2019)][df1[\"AAS\"] != \"None\"][\"AAS\"].dropna().astype(int))\n",
    "\n",
    "_2014_wo_videos_aas = np.log10(df3[~df3.DOI.isin(_idx_papers_2014)][df3[\"AAS\"] != \"None\"][\"AAS\"].dropna().astype(int))\n",
    "_2014_w_videos_aas = np.log10(df3[df3.DOI.isin(_idx_papers_2014)][df3[\"AAS\"] != \"None\"][\"AAS\"].dropna().astype(int))\n",
    "\n",
    "plt.figure(figsize=(10, 6))\n",
    "plt.title(\"AAS\")\n",
    "# plt.yscale(\"log\")\n",
    "# plt.ylim([0, 200])\n",
    "plt.ylabel(\"log10(AAS)\")\n",
    "plt.boxplot([\n",
    "    _2019_wo_videos_aas,\n",
    "    _2019_w_videos_aas,\n",
    "    _2014_wo_videos_aas,\n",
    "    _2014_w_videos_aas\n",
    "],\n",
    "    labels=[\n",
    "        \"2019 w/o videos\\n(N=%s)\"%len(_2019_wo_videos_aas),\n",
    "        \"2019 w/ videos\\n(N=%s)\"%len(_2019_w_videos_aas),\n",
    "        \"2014 w/o videos\\n(N=%s)\"%len(_2014_wo_videos_aas),\n",
    "        \"2014 w/ videos\\n(N=%s)\"%len(_2014_w_videos_aas)\n",
    "    ]\n",
    ")"
   ]
  },
  {
   "cell_type": "code",
   "execution_count": 9,
   "metadata": {},
   "outputs": [
    {
     "name": "stdout",
     "output_type": "stream",
     "text": [
      "2019\tS = -23.744003\tp = 0.000000\n",
      "2014\tS = -16.502451\tp = 0.000000\n"
     ]
    }
   ],
   "source": [
    "_s2019, _p2019 = stats.ttest_ind(\n",
    "    _2019_wo_videos_aas,\n",
    "    _2019_w_videos_aas\n",
    ")\n",
    "print(\"2019\\tS = %f\\tp = %f\"%(_s2019, _p2019))\n",
    "\n",
    "_s2014, _p2014 = stats.ttest_ind(\n",
    "    _2014_wo_videos_aas,\n",
    "    _2014_w_videos_aas\n",
    ")\n",
    "print(\"2014\\tS = %f\\tp = %f\"%(_s2014, _p2014))"
   ]
  },
  {
   "cell_type": "markdown",
   "metadata": {},
   "source": [
    "comp분야와의 공통점: 비디오의 영향은 AAS가 Citation에서보다 더 즉발적인 효과가 나타남"
   ]
  },
  {
   "cell_type": "markdown",
   "metadata": {},
   "source": [
    "comp분야와의 차이점:\n",
    "1.comp의 2014, 2017, 2019의 AAS분포는 거의 비슷하지만, life+earth에선 2019 AAS가 2014 AAS보다 높게 형성되어있음\n",
    "2.비디오 논문 수에 있어서, 2019가 2014보다 압도적으로 많음\n",
    "-> 두 차이점 모두, 해당 분야의 대중적 인지도가 2014년 이후로 크게 증가한 증거?\n",
    "3.2019 Citation에서 비디오의 유무는, comp보다 life에서 더 큰 유의성을 지님 (p=0.166(comp), 0.000(life)). 단 대상 논문이 comp에선 상위 5%, life에선 상위 1%이기 때문."
   ]
  },
  {
   "cell_type": "markdown",
   "metadata": {},
   "source": [
    "논문수가 비슷하면 상관없나? <- 비슷하지 않음..."
   ]
  },
  {
   "cell_type": "code",
   "execution_count": 10,
   "metadata": {},
   "outputs": [
    {
     "name": "stderr",
     "output_type": "stream",
     "text": [
      "/home/hweem/git/mastersdegree/ytcrawl/s-transformers/lib/python3.7/site-packages/pandas/core/computation/expressions.py:68: FutureWarning: elementwise comparison failed; returning scalar instead, but in the future will perform elementwise comparison\n",
      "  return op(a, b)\n",
      "/home/hweem/git/mastersdegree/ytcrawl/s-transformers/lib/python3.7/site-packages/ipykernel_launcher.py:2: UserWarning: Boolean Series key will be reindexed to match DataFrame index.\n",
      "  \n",
      "/home/hweem/git/mastersdegree/ytcrawl/s-transformers/lib/python3.7/site-packages/pandas/core/computation/expressions.py:68: FutureWarning: elementwise comparison failed; returning scalar instead, but in the future will perform elementwise comparison\n",
      "  return op(a, b)\n",
      "/home/hweem/git/mastersdegree/ytcrawl/s-transformers/lib/python3.7/site-packages/ipykernel_launcher.py:4: UserWarning: Boolean Series key will be reindexed to match DataFrame index.\n",
      "  after removing the cwd from sys.path.\n"
     ]
    },
    {
     "data": {
      "text/plain": [
       "{'whiskers': [<matplotlib.lines.Line2D at 0x7f1daf1e2da0>,\n",
       "  <matplotlib.lines.Line2D at 0x7f1daf1f00f0>,\n",
       "  <matplotlib.lines.Line2D at 0x7f1daf1fe240>,\n",
       "  <matplotlib.lines.Line2D at 0x7f1daf1fe518>,\n",
       "  <matplotlib.lines.Line2D at 0x7f1daf18b668>,\n",
       "  <matplotlib.lines.Line2D at 0x7f1daf18b940>,\n",
       "  <matplotlib.lines.Line2D at 0x7f1daf19aa90>,\n",
       "  <matplotlib.lines.Line2D at 0x7f1daf19ad68>],\n",
       " 'caps': [<matplotlib.lines.Line2D at 0x7f1daf1f03c8>,\n",
       "  <matplotlib.lines.Line2D at 0x7f1daf1f06a0>,\n",
       "  <matplotlib.lines.Line2D at 0x7f1daf1fe7f0>,\n",
       "  <matplotlib.lines.Line2D at 0x7f1daf1feac8>,\n",
       "  <matplotlib.lines.Line2D at 0x7f1daf18bc18>,\n",
       "  <matplotlib.lines.Line2D at 0x7f1daf18bef0>,\n",
       "  <matplotlib.lines.Line2D at 0x7f1daf1a6080>,\n",
       "  <matplotlib.lines.Line2D at 0x7f1daf1a6358>],\n",
       " 'boxes': [<matplotlib.lines.Line2D at 0x7f1daf1e2cf8>,\n",
       "  <matplotlib.lines.Line2D at 0x7f1daf1f0e48>,\n",
       "  <matplotlib.lines.Line2D at 0x7f1daf18b2b0>,\n",
       "  <matplotlib.lines.Line2D at 0x7f1daf19a6d8>],\n",
       " 'medians': [<matplotlib.lines.Line2D at 0x7f1daf1f0978>,\n",
       "  <matplotlib.lines.Line2D at 0x7f1daf1feda0>,\n",
       "  <matplotlib.lines.Line2D at 0x7f1daf19a208>,\n",
       "  <matplotlib.lines.Line2D at 0x7f1daf1a6630>],\n",
       " 'fliers': [<matplotlib.lines.Line2D at 0x7f1daf1f0c50>,\n",
       "  <matplotlib.lines.Line2D at 0x7f1daf18b0b8>,\n",
       "  <matplotlib.lines.Line2D at 0x7f1daf19a4e0>,\n",
       "  <matplotlib.lines.Line2D at 0x7f1daf1a6908>],\n",
       " 'means': []}"
      ]
     },
     "execution_count": 10,
     "metadata": {},
     "output_type": "execute_result"
    },
    {
     "data": {
      "image/png": "[encoded data removed]",
      "text/plain": [
       "<Figure size 864x432 with 1 Axes>"
      ]
     },
     "metadata": {
      "needs_background": "light"
     },
     "output_type": "display_data"
    }
   ],
   "source": [
    "# _2019_90_wo_videos_cit = np.log10(df1[~df1.DOI.isin(_idx_papers_2019_90)][df1[\"Cited by\"] != \"None\"][\"Cited by\"].dropna().astype(int))\n",
    "_2019_90_w_videos_cit = np.log10(df1[df1.DOI.isin(_idx_papers_2019_90)][df1[\"Cited by\"] != \"None\"][\"Cited by\"].dropna().astype(int))\n",
    "# _2014_90_wo_videos_cit = np.log10(df3[~df3.DOI.isin(_idx_papers_2014_90)][df3[\"Cited by\"] != \"None\"][\"Cited by\"].dropna().astype(int))\n",
    "_2014_90_w_videos_cit = np.log10(df3[df3.DOI.isin(_idx_papers_2014_90)][df3[\"Cited by\"] != \"None\"][\"Cited by\"].dropna().astype(int))\n",
    "\n",
    "plt.figure(figsize=(12, 6))\n",
    "plt.title(\"Citation-90\")\n",
    "# plt.yscale(\"log\")\n",
    "# plt.ylim([0, 200])\n",
    "plt.ylabel(\"log10(citation)\")\n",
    "plt.boxplot([\n",
    "    _2019_wo_videos_cit,\n",
    "    _2019_90_w_videos_cit,\n",
    "    _2014_wo_videos_cit,\n",
    "    _2014_90_w_videos_cit\n",
    "],\n",
    "    labels=[\n",
    "        \"2019 w/o videos-90\\n(N=%s)\"%len(_2019_wo_videos_cit),\n",
    "        \"2019 w/ videos-90\\n(N=%s)\"%len(_2019_90_w_videos_cit),\n",
    "        \"2014 w/o videos-90\\n(N=%s)\"%len(_2014_wo_videos_cit),\n",
    "        \"2014 w/ videos-90\\n(N=%s)\"%len(_2014_90_w_videos_cit)\n",
    "    ]\n",
    ")"
   ]
  },
  {
   "cell_type": "code",
   "execution_count": 11,
   "metadata": {},
   "outputs": [
    {
     "name": "stdout",
     "output_type": "stream",
     "text": [
      "2019\tS = -3.431868\tp = 0.000603\n",
      "2014\tS = -2.044611\tp = 0.040928\n"
     ]
    }
   ],
   "source": [
    "_s2019, _p2019 = stats.ttest_ind(\n",
    "    _2019_wo_videos_cit,\n",
    "    _2019_90_w_videos_cit\n",
    ")\n",
    "print(\"2019\\tS = %f\\tp = %f\"%(_s2019, _p2019))\n",
    "\n",
    "_s2014, _p2014 = stats.ttest_ind(\n",
    "    _2014_wo_videos_cit,\n",
    "    _2014_90_w_videos_cit\n",
    ")\n",
    "print(\"2014\\tS = %f\\tp = %f\"%(_s2014, _p2014))"
   ]
  },
  {
   "cell_type": "code",
   "execution_count": 12,
   "metadata": {},
   "outputs": [
    {
     "name": "stderr",
     "output_type": "stream",
     "text": [
      "/home/hweem/git/mastersdegree/ytcrawl/s-transformers/lib/python3.7/site-packages/pandas/core/computation/expressions.py:68: FutureWarning: elementwise comparison failed; returning scalar instead, but in the future will perform elementwise comparison\n",
      "  return op(a, b)\n",
      "/home/hweem/git/mastersdegree/ytcrawl/s-transformers/lib/python3.7/site-packages/ipykernel_launcher.py:2: UserWarning: Boolean Series key will be reindexed to match DataFrame index.\n",
      "  \n",
      "/home/hweem/git/mastersdegree/ytcrawl/s-transformers/lib/python3.7/site-packages/pandas/core/computation/expressions.py:68: FutureWarning: elementwise comparison failed; returning scalar instead, but in the future will perform elementwise comparison\n",
      "  return op(a, b)\n",
      "/home/hweem/git/mastersdegree/ytcrawl/s-transformers/lib/python3.7/site-packages/ipykernel_launcher.py:4: UserWarning: Boolean Series key will be reindexed to match DataFrame index.\n",
      "  after removing the cwd from sys.path.\n"
     ]
    },
    {
     "data": {
      "text/plain": [
       "{'whiskers': [<matplotlib.lines.Line2D at 0x7f1daf10ddd8>,\n",
       "  <matplotlib.lines.Line2D at 0x7f1daf11e128>,\n",
       "  <matplotlib.lines.Line2D at 0x7f1daf12c278>,\n",
       "  <matplotlib.lines.Line2D at 0x7f1daf12c550>,\n",
       "  <matplotlib.lines.Line2D at 0x7f1daf1396a0>,\n",
       "  <matplotlib.lines.Line2D at 0x7f1daf139978>,\n",
       "  <matplotlib.lines.Line2D at 0x7f1daf148ac8>,\n",
       "  <matplotlib.lines.Line2D at 0x7f1daf148da0>],\n",
       " 'caps': [<matplotlib.lines.Line2D at 0x7f1daf11e400>,\n",
       "  <matplotlib.lines.Line2D at 0x7f1daf11e6d8>,\n",
       "  <matplotlib.lines.Line2D at 0x7f1daf12c828>,\n",
       "  <matplotlib.lines.Line2D at 0x7f1daf12cb00>,\n",
       "  <matplotlib.lines.Line2D at 0x7f1daf139c50>,\n",
       "  <matplotlib.lines.Line2D at 0x7f1daf139f28>,\n",
       "  <matplotlib.lines.Line2D at 0x7f1daf0d80b8>,\n",
       "  <matplotlib.lines.Line2D at 0x7f1daf0d8390>],\n",
       " 'boxes': [<matplotlib.lines.Line2D at 0x7f1daf10dd30>,\n",
       "  <matplotlib.lines.Line2D at 0x7f1daf11ee80>,\n",
       "  <matplotlib.lines.Line2D at 0x7f1daf1392e8>,\n",
       "  <matplotlib.lines.Line2D at 0x7f1daf148710>],\n",
       " 'medians': [<matplotlib.lines.Line2D at 0x7f1daf11e9b0>,\n",
       "  <matplotlib.lines.Line2D at 0x7f1daf12cdd8>,\n",
       "  <matplotlib.lines.Line2D at 0x7f1daf148240>,\n",
       "  <matplotlib.lines.Line2D at 0x7f1daf0d8668>],\n",
       " 'fliers': [<matplotlib.lines.Line2D at 0x7f1daf11ec88>,\n",
       "  <matplotlib.lines.Line2D at 0x7f1daf1390f0>,\n",
       "  <matplotlib.lines.Line2D at 0x7f1daf148518>,\n",
       "  <matplotlib.lines.Line2D at 0x7f1daf0d8940>],\n",
       " 'means': []}"
      ]
     },
     "execution_count": 12,
     "metadata": {},
     "output_type": "execute_result"
    },
    {
     "data": {
      "image/png": "[encoded data removed]",
      "text/plain": [
       "<Figure size 864x432 with 1 Axes>"
      ]
     },
     "metadata": {
      "needs_background": "light"
     },
     "output_type": "display_data"
    }
   ],
   "source": [
    "# _2019_90_wo_videos_aas = np.log10(df1[~df1.DOI.isin(_idx_papers_2019_90)][df1[\"AAS\"] != \"None\"][\"AAS\"].dropna().astype(int))\n",
    "_2019_90_w_videos_aas = np.log10(df1[df1.DOI.isin(_idx_papers_2019_90)][df1[\"AAS\"] != \"None\"][\"AAS\"].dropna().astype(int))\n",
    "# _2014_90_wo_videos_aas = np.log10(df3[~df3.DOI.isin(_idx_papers_2014_90)][df3[\"AAS\"] != \"None\"][\"AAS\"].dropna().astype(int))\n",
    "_2014_90_w_videos_aas = np.log10(df3[df3.DOI.isin(_idx_papers_2014_90)][df3[\"AAS\"] != \"None\"][\"AAS\"].dropna().astype(int))\n",
    "\n",
    "plt.figure(figsize=(12, 6))\n",
    "plt.title(\"AAS-90\")\n",
    "# plt.yscale(\"log\")\n",
    "# plt.ylim([0, 200])\n",
    "plt.ylabel(\"log10(AAS)\")\n",
    "plt.boxplot([\n",
    "    _2019_wo_videos_aas,\n",
    "    _2019_90_w_videos_aas,\n",
    "    _2014_wo_videos_aas,\n",
    "    _2014_90_w_videos_aas\n",
    "],\n",
    "    labels=[\n",
    "        \"2019 w/o videos\\n(N=%s)\"%len(_2019_wo_videos_aas),\n",
    "        \"2019 w/ videos-90\\n(N=%s)\"%len(_2019_90_w_videos_aas),\n",
    "        \"2014 w/o videos\\n(N=%s)\"%len(_2014_wo_videos_aas),\n",
    "        \"2014 w/ videos-90\\n(N=%s)\"%len(_2014_90_w_videos_aas)\n",
    "    ]\n",
    ")"
   ]
  },
  {
   "cell_type": "code",
   "execution_count": 13,
   "metadata": {},
   "outputs": [
    {
     "name": "stdout",
     "output_type": "stream",
     "text": [
      "2019\tS = -21.844594\tp = 0.000000\n",
      "2014\tS = -8.555980\tp = 0.000000\n"
     ]
    }
   ],
   "source": [
    "_s2019, _p2019 = stats.ttest_ind(\n",
    "    _2019_wo_videos_aas,\n",
    "    _2019_90_w_videos_aas\n",
    ")\n",
    "print(\"2019\\tS = %f\\tp = %f\"%(_s2019, _p2019))\n",
    "\n",
    "_s2014, _p2014 = stats.ttest_ind(\n",
    "    _2014_wo_videos_aas,\n",
    "    _2014_90_w_videos_aas\n",
    ")\n",
    "print(\"2014\\tS = %f\\tp = %f\"%(_s2014, _p2014))"
   ]
  },
  {
   "cell_type": "markdown",
   "metadata": {},
   "source": [
    "comp와의 차이점:\n",
    "1.comp에선 과거일수록 초기 비디오의 피인용수에 대한 영향력의 유의성이 커졌으나, life에선 반대(p=0.001(2019), 0.041(2014)) <- 2014 초기 비디오 논문 수가 적어서(19) 그럴수도.\n",
    "2.life에선 2019 초기 비디오의 피인용수 영향력이 유의함.(p=0.001(life), 0.782(comp))\n",
    "3.comp에선 과거일수록 초기 비디오의 AAS에 대한 영향력의 유의성이 떨어졌으나, life에서는 그렇지 않음."
   ]
  },
  {
   "cell_type": "code",
   "execution_count": 14,
   "metadata": {},
   "outputs": [
    {
     "name": "stdout",
     "output_type": "stream",
     "text": [
      "\tCommand set: SELECT `idx_paper`, `publishedAt` FROM `scopus_videos_2019_life`\n",
      "\tsql: SELECT `idx_paper`, `publishedAt` FROM `scopus_videos_2019_life`;\n",
      "\tCommand set: SELECT `idx_paper`, `publishedAt` FROM `scopus_videos_2019_life`\n",
      "\tsql: SELECT `idx_paper`, `publishedAt` FROM `scopus_videos_2019_life`;\n",
      "\tCommand set: SELECT `idx_paper`, `publishedAt` FROM `scopus_videos_2019_life`\n",
      "\tsql: SELECT `idx_paper`, `publishedAt` FROM `scopus_videos_2019_life`;\n",
      "\tCommand set: SELECT `idx_paper`, `publishedAt` FROM `scopus_videos_2019_life`\n",
      "\tsql: SELECT `idx_paper`, `publishedAt` FROM `scopus_videos_2019_life`;\n",
      "\tCommand set: SELECT `idx_paper`, `publishedAt` FROM `scopus_videos_2019_life`\n",
      "\tsql: SELECT `idx_paper`, `publishedAt` FROM `scopus_videos_2019_life`;\n",
      "\tCommand set: SELECT `idx_paper`, `publishedAt` FROM `scopus_videos_2019_life`\n",
      "\tsql: SELECT `idx_paper`, `publishedAt` FROM `scopus_videos_2019_life`;\n",
      "134 99 13 26 19 22\n",
      "\tCommand set: SELECT `idx_paper`, `publishedAt` FROM `scopus_videos_2014_life`\n",
      "\tsql: SELECT `idx_paper`, `publishedAt` FROM `scopus_videos_2014_life`;\n",
      "\tCommand set: SELECT `idx_paper`, `publishedAt` FROM `scopus_videos_2014_life`\n",
      "\tsql: SELECT `idx_paper`, `publishedAt` FROM `scopus_videos_2014_life`;\n",
      "\tCommand set: SELECT `idx_paper`, `publishedAt` FROM `scopus_videos_2014_life`\n",
      "\tsql: SELECT `idx_paper`, `publishedAt` FROM `scopus_videos_2014_life`;\n",
      "\tCommand set: SELECT `idx_paper`, `publishedAt` FROM `scopus_videos_2014_life`\n",
      "\tsql: SELECT `idx_paper`, `publishedAt` FROM `scopus_videos_2014_life`;\n",
      "\tCommand set: SELECT `idx_paper`, `publishedAt` FROM `scopus_videos_2014_life`\n",
      "\tsql: SELECT `idx_paper`, `publishedAt` FROM `scopus_videos_2014_life`;\n",
      "\tCommand set: SELECT `idx_paper`, `publishedAt` FROM `scopus_videos_2014_life`\n",
      "\tsql: SELECT `idx_paper`, `publishedAt` FROM `scopus_videos_2014_life`;\n",
      "78 18 1 1 2 61\n"
     ]
    }
   ],
   "source": [
    "_idx_papers_2019 = get_dois_with_videos_within_days_from_publish(df1, \"scopus_videos_2019_life\")\n",
    "_idx_papers_2019_90 = get_dois_with_videos_within_days_from_publish(df1, \"scopus_videos_2019_life\", None, 90)\n",
    "_idx_papers_2019_180 = get_dois_with_videos_within_days_from_publish(df1, \"scopus_videos_2019_life\", 90, 180)\n",
    "_idx_papers_2019_270 = get_dois_with_videos_within_days_from_publish(df1, \"scopus_videos_2019_life\", 180, 270)\n",
    "_idx_papers_2019_360 = get_dois_with_videos_within_days_from_publish(df1, \"scopus_videos_2019_life\", 270, 360)\n",
    "_idx_papers_2019_rest = get_dois_with_videos_within_days_from_publish(df1, \"scopus_videos_2019_life\", 360, None)\n",
    "print(len(_idx_papers_2019), len(_idx_papers_2019_90), len(_idx_papers_2019_180), len(_idx_papers_2019_270), len(_idx_papers_2019_360), len(_idx_papers_2019_rest))\n",
    "\n",
    "_idx_papers_2014 = get_dois_with_videos_within_days_from_publish(df3, \"scopus_videos_2014_life\")\n",
    "_idx_papers_2014_90 = get_dois_with_videos_within_days_from_publish(df3, \"scopus_videos_2014_life\", None, 90)\n",
    "_idx_papers_2014_180 = get_dois_with_videos_within_days_from_publish(df3, \"scopus_videos_2014_life\", 90, 180)\n",
    "_idx_papers_2014_270 = get_dois_with_videos_within_days_from_publish(df3, \"scopus_videos_2014_life\", 180, 270)\n",
    "_idx_papers_2014_360 = get_dois_with_videos_within_days_from_publish(df3, \"scopus_videos_2014_life\", 270, 360)\n",
    "_idx_papers_2014_rest = get_dois_with_videos_within_days_from_publish(df3, \"scopus_videos_2014_life\", 360, None)\n",
    "print(len(_idx_papers_2014), len(_idx_papers_2014_90), len(_idx_papers_2014_180), len(_idx_papers_2014_270), len(_idx_papers_2014_360), len(_idx_papers_2014_rest))"
   ]
  },
  {
   "cell_type": "code",
   "execution_count": 15,
   "metadata": {},
   "outputs": [
    {
     "name": "stderr",
     "output_type": "stream",
     "text": [
      "/home/hweem/git/mastersdegree/ytcrawl/s-transformers/lib/python3.7/site-packages/pandas/core/computation/expressions.py:68: FutureWarning: elementwise comparison failed; returning scalar instead, but in the future will perform elementwise comparison\n",
      "  return op(a, b)\n",
      "/home/hweem/git/mastersdegree/ytcrawl/s-transformers/lib/python3.7/site-packages/ipykernel_launcher.py:1: UserWarning: Boolean Series key will be reindexed to match DataFrame index.\n",
      "  \"\"\"Entry point for launching an IPython kernel.\n",
      "/home/hweem/git/mastersdegree/ytcrawl/s-transformers/lib/python3.7/site-packages/pandas/core/computation/expressions.py:68: FutureWarning: elementwise comparison failed; returning scalar instead, but in the future will perform elementwise comparison\n",
      "  return op(a, b)\n",
      "/home/hweem/git/mastersdegree/ytcrawl/s-transformers/lib/python3.7/site-packages/ipykernel_launcher.py:2: UserWarning: Boolean Series key will be reindexed to match DataFrame index.\n",
      "  \n",
      "/home/hweem/git/mastersdegree/ytcrawl/s-transformers/lib/python3.7/site-packages/pandas/core/computation/expressions.py:68: FutureWarning: elementwise comparison failed; returning scalar instead, but in the future will perform elementwise comparison\n",
      "  return op(a, b)\n",
      "/home/hweem/git/mastersdegree/ytcrawl/s-transformers/lib/python3.7/site-packages/ipykernel_launcher.py:3: UserWarning: Boolean Series key will be reindexed to match DataFrame index.\n",
      "  This is separate from the ipykernel package so we can avoid doing imports until\n",
      "/home/hweem/git/mastersdegree/ytcrawl/s-transformers/lib/python3.7/site-packages/pandas/core/computation/expressions.py:68: FutureWarning: elementwise comparison failed; returning scalar instead, but in the future will perform elementwise comparison\n",
      "  return op(a, b)\n",
      "/home/hweem/git/mastersdegree/ytcrawl/s-transformers/lib/python3.7/site-packages/ipykernel_launcher.py:4: UserWarning: Boolean Series key will be reindexed to match DataFrame index.\n",
      "  after removing the cwd from sys.path.\n",
      "/home/hweem/git/mastersdegree/ytcrawl/s-transformers/lib/python3.7/site-packages/pandas/core/computation/expressions.py:68: FutureWarning: elementwise comparison failed; returning scalar instead, but in the future will perform elementwise comparison\n",
      "  return op(a, b)\n",
      "/home/hweem/git/mastersdegree/ytcrawl/s-transformers/lib/python3.7/site-packages/ipykernel_launcher.py:5: UserWarning: Boolean Series key will be reindexed to match DataFrame index.\n",
      "  \"\"\"\n",
      "/home/hweem/git/mastersdegree/ytcrawl/s-transformers/lib/python3.7/site-packages/pandas/core/computation/expressions.py:68: FutureWarning: elementwise comparison failed; returning scalar instead, but in the future will perform elementwise comparison\n",
      "  return op(a, b)\n",
      "/home/hweem/git/mastersdegree/ytcrawl/s-transformers/lib/python3.7/site-packages/ipykernel_launcher.py:6: UserWarning: Boolean Series key will be reindexed to match DataFrame index.\n",
      "  \n"
     ]
    },
    {
     "data": {
      "text/plain": [
       "{'whiskers': [<matplotlib.lines.Line2D at 0x7f1daf077358>,\n",
       "  <matplotlib.lines.Line2D at 0x7f1daf077668>,\n",
       "  <matplotlib.lines.Line2D at 0x7f1daf0837b8>,\n",
       "  <matplotlib.lines.Line2D at 0x7f1daf083a90>,\n",
       "  <matplotlib.lines.Line2D at 0x7f1daf012be0>,\n",
       "  <matplotlib.lines.Line2D at 0x7f1daf012eb8>,\n",
       "  <matplotlib.lines.Line2D at 0x7f1daf02d048>,\n",
       "  <matplotlib.lines.Line2D at 0x7f1daf02d320>,\n",
       "  <matplotlib.lines.Line2D at 0x7f1daf03a470>,\n",
       "  <matplotlib.lines.Line2D at 0x7f1daf03a748>,\n",
       "  <matplotlib.lines.Line2D at 0x7f1daf049898>,\n",
       "  <matplotlib.lines.Line2D at 0x7f1daf049b70>],\n",
       " 'caps': [<matplotlib.lines.Line2D at 0x7f1daf077940>,\n",
       "  <matplotlib.lines.Line2D at 0x7f1daf077c18>,\n",
       "  <matplotlib.lines.Line2D at 0x7f1daf083d68>,\n",
       "  <matplotlib.lines.Line2D at 0x7f1daf012080>,\n",
       "  <matplotlib.lines.Line2D at 0x7f1daf0221d0>,\n",
       "  <matplotlib.lines.Line2D at 0x7f1daf0224a8>,\n",
       "  <matplotlib.lines.Line2D at 0x7f1daf02d5f8>,\n",
       "  <matplotlib.lines.Line2D at 0x7f1daf02d8d0>,\n",
       "  <matplotlib.lines.Line2D at 0x7f1daf03aa20>,\n",
       "  <matplotlib.lines.Line2D at 0x7f1daf03acf8>,\n",
       "  <matplotlib.lines.Line2D at 0x7f1daf049e48>,\n",
       "  <matplotlib.lines.Line2D at 0x7f1daefd7160>],\n",
       " 'boxes': [<matplotlib.lines.Line2D at 0x7f1daf0772b0>,\n",
       "  <matplotlib.lines.Line2D at 0x7f1daf083400>,\n",
       "  <matplotlib.lines.Line2D at 0x7f1daf012828>,\n",
       "  <matplotlib.lines.Line2D at 0x7f1daf022c50>,\n",
       "  <matplotlib.lines.Line2D at 0x7f1daf03a0b8>,\n",
       "  <matplotlib.lines.Line2D at 0x7f1daf0494e0>],\n",
       " 'medians': [<matplotlib.lines.Line2D at 0x7f1daf077ef0>,\n",
       "  <matplotlib.lines.Line2D at 0x7f1daf012358>,\n",
       "  <matplotlib.lines.Line2D at 0x7f1daf022780>,\n",
       "  <matplotlib.lines.Line2D at 0x7f1daf02dba8>,\n",
       "  <matplotlib.lines.Line2D at 0x7f1daf03afd0>,\n",
       "  <matplotlib.lines.Line2D at 0x7f1daefd7438>],\n",
       " 'fliers': [<matplotlib.lines.Line2D at 0x7f1daf083208>,\n",
       "  <matplotlib.lines.Line2D at 0x7f1daf012630>,\n",
       "  <matplotlib.lines.Line2D at 0x7f1daf022a58>,\n",
       "  <matplotlib.lines.Line2D at 0x7f1daf02de80>,\n",
       "  <matplotlib.lines.Line2D at 0x7f1daf0492e8>,\n",
       "  <matplotlib.lines.Line2D at 0x7f1daefd7710>],\n",
       " 'means': []}"
      ]
     },
     "execution_count": 15,
     "metadata": {},
     "output_type": "execute_result"
    },
    {
     "data": {
      "image/png": "[encoded data removed]",
      "text/plain": [
       "<Figure size 864x432 with 1 Axes>"
      ]
     },
     "metadata": {
      "needs_background": "light"
     },
     "output_type": "display_data"
    }
   ],
   "source": [
    "_2014_wo_videos_cit = np.log10(df3[~df3.DOI.isin(_idx_papers_2014)][df3[\"Cited by\"] != \"None\"][\"Cited by\"].dropna().astype(int))\n",
    "_2014_90_w_videos_cit = np.log10(df3[df3.DOI.isin(_idx_papers_2014_90)][df3[\"Cited by\"] != \"None\"][\"Cited by\"].dropna().astype(int))\n",
    "_2014_180_w_videos_cit = np.log10(df3[df3.DOI.isin(_idx_papers_2014_180)][df3[\"Cited by\"] != \"None\"][\"Cited by\"].dropna().astype(int))\n",
    "_2014_270_w_videos_cit = np.log10(df3[df3.DOI.isin(_idx_papers_2014_270)][df3[\"Cited by\"] != \"None\"][\"Cited by\"].dropna().astype(int))\n",
    "_2014_360_w_videos_cit = np.log10(df3[df3.DOI.isin(_idx_papers_2014_360)][df3[\"Cited by\"] != \"None\"][\"Cited by\"].dropna().astype(int))\n",
    "_2014_rest_w_videos_cit = np.log10(df3[df3.DOI.isin(_idx_papers_2014_rest)][df3[\"Cited by\"] != \"None\"][\"Cited by\"].dropna().astype(int))\n",
    "\n",
    "plt.figure(figsize=(12, 6))\n",
    "plt.title(\"Citation by video release date\")\n",
    "# plt.yscale(\"log\")\n",
    "# plt.ylim([0, 200])\n",
    "plt.ylabel(\"log10(Citation)\")\n",
    "plt.boxplot([\n",
    "    _2014_wo_videos_cit,\n",
    "    _2014_90_w_videos_cit,\n",
    "    _2014_180_w_videos_cit,\n",
    "    _2014_270_w_videos_cit,\n",
    "    _2014_360_w_videos_cit,\n",
    "    _2014_rest_w_videos_cit\n",
    "],\n",
    "    labels=[\n",
    "        \"2014 w/o videos\\n(N=%s)\"%len(_2014_wo_videos_cit),\n",
    "        \"2014 w/ videos-90\\n(N=%s)\"%len(_2014_90_w_videos_cit),\n",
    "        \"2014 w/ videos-180\\n(N=%s)\"%len(_2014_180_w_videos_cit),\n",
    "        \"2014 w/ videos-270\\n(N=%s)\"%len(_2014_270_w_videos_cit),\n",
    "        \"2014 w/ videos-360\\n(N=%s)\"%len(_2014_360_w_videos_cit),\n",
    "        \"2014 w/ videos-rest\\n(N=%s)\"%len(_2014_rest_w_videos_cit)\n",
    "    ]\n",
    ")"
   ]
  },
  {
   "cell_type": "code",
   "execution_count": 16,
   "metadata": {},
   "outputs": [
    {
     "name": "stdout",
     "output_type": "stream",
     "text": [
      "2014-90\tS = -2.044611\tp = 0.040928\n",
      "2014-180\tS = nan\tp = nan\n",
      "2014-270\tS = nan\tp = nan\n",
      "2014-360\tS = -0.954897\tp = 0.339661\n",
      "2014-rest\tS = -5.862861\tp = 0.000000\n"
     ]
    },
    {
     "name": "stderr",
     "output_type": "stream",
     "text": [
      "/home/hweem/git/mastersdegree/ytcrawl/s-transformers/lib/python3.7/site-packages/numpy/core/fromnumeric.py:3622: RuntimeWarning: Degrees of freedom <= 0 for slice\n",
      "  **kwargs)\n",
      "/home/hweem/git/mastersdegree/ytcrawl/s-transformers/lib/python3.7/site-packages/numpy/core/_methods.py:226: RuntimeWarning: invalid value encountered in double_scalars\n",
      "  ret = ret.dtype.type(ret / rcount)\n"
     ]
    }
   ],
   "source": [
    "_s2014, _p2014 = stats.ttest_ind(\n",
    "    _2014_wo_videos_cit,\n",
    "    _2014_90_w_videos_cit\n",
    ")\n",
    "print(\"2014-90\\tS = %f\\tp = %f\"%(_s2014, _p2014))\n",
    "_s2014, _p2014 = stats.ttest_ind(\n",
    "    _2014_wo_videos_cit,\n",
    "    _2014_180_w_videos_cit\n",
    ")\n",
    "print(\"2014-180\\tS = %f\\tp = %f\"%(_s2014, _p2014))\n",
    "_s2014, _p2014 = stats.ttest_ind(\n",
    "    _2014_wo_videos_cit,\n",
    "    _2014_270_w_videos_cit\n",
    ")\n",
    "print(\"2014-270\\tS = %f\\tp = %f\"%(_s2014, _p2014))\n",
    "_s2014, _p2014 = stats.ttest_ind(\n",
    "    _2014_wo_videos_cit,\n",
    "    _2014_360_w_videos_cit\n",
    ")\n",
    "print(\"2014-360\\tS = %f\\tp = %f\"%(_s2014, _p2014))\n",
    "_s2014, _p2014 = stats.ttest_ind(\n",
    "    _2014_wo_videos_cit,\n",
    "    _2014_rest_w_videos_cit\n",
    ")\n",
    "print(\"2014-rest\\tS = %f\\tp = %f\"%(_s2014, _p2014))"
   ]
  },
  {
   "cell_type": "markdown",
   "metadata": {},
   "source": [
    "2014 comp와의 공통점: 초창기(90)와 상당히 나중 비디오(rest)일수록 더 유의하다."
   ]
  },
  {
   "cell_type": "code",
   "execution_count": 17,
   "metadata": {},
   "outputs": [
    {
     "name": "stderr",
     "output_type": "stream",
     "text": [
      "/home/hweem/git/mastersdegree/ytcrawl/s-transformers/lib/python3.7/site-packages/pandas/core/computation/expressions.py:68: FutureWarning: elementwise comparison failed; returning scalar instead, but in the future will perform elementwise comparison\n",
      "  return op(a, b)\n",
      "/home/hweem/git/mastersdegree/ytcrawl/s-transformers/lib/python3.7/site-packages/ipykernel_launcher.py:1: UserWarning: Boolean Series key will be reindexed to match DataFrame index.\n",
      "  \"\"\"Entry point for launching an IPython kernel.\n",
      "/home/hweem/git/mastersdegree/ytcrawl/s-transformers/lib/python3.7/site-packages/pandas/core/computation/expressions.py:68: FutureWarning: elementwise comparison failed; returning scalar instead, but in the future will perform elementwise comparison\n",
      "  return op(a, b)\n",
      "/home/hweem/git/mastersdegree/ytcrawl/s-transformers/lib/python3.7/site-packages/ipykernel_launcher.py:2: UserWarning: Boolean Series key will be reindexed to match DataFrame index.\n",
      "  \n",
      "/home/hweem/git/mastersdegree/ytcrawl/s-transformers/lib/python3.7/site-packages/pandas/core/computation/expressions.py:68: FutureWarning: elementwise comparison failed; returning scalar instead, but in the future will perform elementwise comparison\n",
      "  return op(a, b)\n",
      "/home/hweem/git/mastersdegree/ytcrawl/s-transformers/lib/python3.7/site-packages/ipykernel_launcher.py:3: UserWarning: Boolean Series key will be reindexed to match DataFrame index.\n",
      "  This is separate from the ipykernel package so we can avoid doing imports until\n",
      "/home/hweem/git/mastersdegree/ytcrawl/s-transformers/lib/python3.7/site-packages/pandas/core/computation/expressions.py:68: FutureWarning: elementwise comparison failed; returning scalar instead, but in the future will perform elementwise comparison\n",
      "  return op(a, b)\n",
      "/home/hweem/git/mastersdegree/ytcrawl/s-transformers/lib/python3.7/site-packages/ipykernel_launcher.py:4: UserWarning: Boolean Series key will be reindexed to match DataFrame index.\n",
      "  after removing the cwd from sys.path.\n",
      "/home/hweem/git/mastersdegree/ytcrawl/s-transformers/lib/python3.7/site-packages/pandas/core/computation/expressions.py:68: FutureWarning: elementwise comparison failed; returning scalar instead, but in the future will perform elementwise comparison\n",
      "  return op(a, b)\n",
      "/home/hweem/git/mastersdegree/ytcrawl/s-transformers/lib/python3.7/site-packages/ipykernel_launcher.py:5: UserWarning: Boolean Series key will be reindexed to match DataFrame index.\n",
      "  \"\"\"\n",
      "/home/hweem/git/mastersdegree/ytcrawl/s-transformers/lib/python3.7/site-packages/pandas/core/computation/expressions.py:68: FutureWarning: elementwise comparison failed; returning scalar instead, but in the future will perform elementwise comparison\n",
      "  return op(a, b)\n",
      "/home/hweem/git/mastersdegree/ytcrawl/s-transformers/lib/python3.7/site-packages/ipykernel_launcher.py:6: UserWarning: Boolean Series key will be reindexed to match DataFrame index.\n",
      "  \n"
     ]
    },
    {
     "data": {
      "text/plain": [
       "{'whiskers': [<matplotlib.lines.Line2D at 0x7f1daf168b38>,\n",
       "  <matplotlib.lines.Line2D at 0x7f1daf168eb8>,\n",
       "  <matplotlib.lines.Line2D at 0x7f1daf04a240>,\n",
       "  <matplotlib.lines.Line2D at 0x7f1daf04a828>,\n",
       "  <matplotlib.lines.Line2D at 0x7f1daf083978>,\n",
       "  <matplotlib.lines.Line2D at 0x7f1daf59e358>,\n",
       "  <matplotlib.lines.Line2D at 0x7f1daf0fd160>,\n",
       "  <matplotlib.lines.Line2D at 0x7f1daf0f3588>,\n",
       "  <matplotlib.lines.Line2D at 0x7f1daeff8fd0>,\n",
       "  <matplotlib.lines.Line2D at 0x7f1daeff8860>,\n",
       "  <matplotlib.lines.Line2D at 0x7f1daf228080>,\n",
       "  <matplotlib.lines.Line2D at 0x7f1daf228898>],\n",
       " 'caps': [<matplotlib.lines.Line2D at 0x7f1daf12c438>,\n",
       "  <matplotlib.lines.Line2D at 0x7f1daf20c6a0>,\n",
       "  <matplotlib.lines.Line2D at 0x7f1daf04af28>,\n",
       "  <matplotlib.lines.Line2D at 0x7f1daf0503c8>,\n",
       "  <matplotlib.lines.Line2D at 0x7f1daeffc470>,\n",
       "  <matplotlib.lines.Line2D at 0x7f1daeffc860>,\n",
       "  <matplotlib.lines.Line2D at 0x7f1daf0d8b00>,\n",
       "  <matplotlib.lines.Line2D at 0x7f1daef8cb00>,\n",
       "  <matplotlib.lines.Line2D at 0x7f1daf1576d8>,\n",
       "  <matplotlib.lines.Line2D at 0x7f1daf157a20>,\n",
       "  <matplotlib.lines.Line2D at 0x7f1daf0030f0>,\n",
       "  <matplotlib.lines.Line2D at 0x7f1daf0036a0>],\n",
       " 'boxes': [<matplotlib.lines.Line2D at 0x7f1daf168b00>,\n",
       "  <matplotlib.lines.Line2D at 0x7f1daf139588>,\n",
       "  <matplotlib.lines.Line2D at 0x7f1daf0a0668>,\n",
       "  <matplotlib.lines.Line2D at 0x7f1daf0fd6a0>,\n",
       "  <matplotlib.lines.Line2D at 0x7f1daeff8748>,\n",
       "  <matplotlib.lines.Line2D at 0x7f1dcf58dd30>],\n",
       " 'medians': [<matplotlib.lines.Line2D at 0x7f1daf16d0f0>,\n",
       "  <matplotlib.lines.Line2D at 0x7f1daf050710>,\n",
       "  <matplotlib.lines.Line2D at 0x7f1daeffcfd0>,\n",
       "  <matplotlib.lines.Line2D at 0x7f1daef8cf28>,\n",
       "  <matplotlib.lines.Line2D at 0x7f1daef912e8>,\n",
       "  <matplotlib.lines.Line2D at 0x7f1daf003eb8>],\n",
       " 'fliers': [<matplotlib.lines.Line2D at 0x7f1daf16d400>,\n",
       "  <matplotlib.lines.Line2D at 0x7f1daf0a0358>,\n",
       "  <matplotlib.lines.Line2D at 0x7f1daf022668>,\n",
       "  <matplotlib.lines.Line2D at 0x7f1daeff8048>,\n",
       "  <matplotlib.lines.Line2D at 0x7f1daf231320>,\n",
       "  <matplotlib.lines.Line2D at 0x7f1daf15c198>],\n",
       " 'means': []}"
      ]
     },
     "execution_count": 17,
     "metadata": {},
     "output_type": "execute_result"
    },
    {
     "data": {
      "image/png": "[encoded data removed]",
      "text/plain": [
       "<Figure size 864x432 with 1 Axes>"
      ]
     },
     "metadata": {
      "needs_background": "light"
     },
     "output_type": "display_data"
    }
   ],
   "source": [
    "_2019_wo_videos_cit = np.log10(df1[~df1.DOI.isin(_idx_papers_2019)][df1[\"Cited by\"] != \"None\"][\"Cited by\"].dropna().astype(int))\n",
    "_2019_90_w_videos_cit = np.log10(df1[df1.DOI.isin(_idx_papers_2019_90)][df1[\"Cited by\"] != \"None\"][\"Cited by\"].dropna().astype(int))\n",
    "_2019_180_w_videos_cit = np.log10(df1[df1.DOI.isin(_idx_papers_2019_180)][df1[\"Cited by\"] != \"None\"][\"Cited by\"].dropna().astype(int))\n",
    "_2019_270_w_videos_cit = np.log10(df1[df1.DOI.isin(_idx_papers_2019_270)][df1[\"Cited by\"] != \"None\"][\"Cited by\"].dropna().astype(int))\n",
    "_2019_360_w_videos_cit = np.log10(df1[df1.DOI.isin(_idx_papers_2019_360)][df1[\"Cited by\"] != \"None\"][\"Cited by\"].dropna().astype(int))\n",
    "_2019_rest_w_videos_cit = np.log10(df1[df1.DOI.isin(_idx_papers_2019_rest)][df1[\"Cited by\"] != \"None\"][\"Cited by\"].dropna().astype(int))\n",
    "\n",
    "plt.figure(figsize=(12, 6))\n",
    "plt.title(\"Citation by video release date\")\n",
    "# plt.yscale(\"log\")\n",
    "# plt.ylim([0, 200])\n",
    "plt.ylabel(\"log10(Citation)\")\n",
    "plt.boxplot([\n",
    "    _2019_wo_videos_cit,\n",
    "    _2019_90_w_videos_cit,\n",
    "    _2019_180_w_videos_cit,\n",
    "    _2019_270_w_videos_cit,\n",
    "    _2019_360_w_videos_cit,\n",
    "    _2019_rest_w_videos_cit\n",
    "],\n",
    "    labels=[\n",
    "        \"2019 w/o videos\\n(N=%s)\"%len(_2019_wo_videos_cit),\n",
    "        \"2019 w/ videos-90\\n(N=%s)\"%len(_2019_90_w_videos_cit),\n",
    "        \"2019 w/ videos-180\\n(N=%s)\"%len(_2019_180_w_videos_cit),\n",
    "        \"2019 w/ videos-270\\n(N=%s)\"%len(_2019_270_w_videos_cit),\n",
    "        \"2019 w/ videos-360\\n(N=%s)\"%len(_2019_360_w_videos_cit),\n",
    "        \"2019 w/ videos-rest\\n(N=%s)\"%len(_2019_rest_w_videos_cit)\n",
    "    ]\n",
    ")"
   ]
  },
  {
   "cell_type": "code",
   "execution_count": 18,
   "metadata": {},
   "outputs": [
    {
     "name": "stdout",
     "output_type": "stream",
     "text": [
      "2019-90\tS = -3.431868\tp = 0.000603\n",
      "2019-180\tS = -1.480304\tp = 0.138836\n",
      "2019-270\tS = -4.678255\tp = 0.000003\n",
      "2019-360\tS = -4.632342\tp = 0.000004\n",
      "2019-rest\tS = -2.318423\tp = 0.020455\n"
     ]
    }
   ],
   "source": [
    "_s2019, _p2019 = stats.ttest_ind(\n",
    "    _2019_wo_videos_cit,\n",
    "    _2019_90_w_videos_cit\n",
    ")\n",
    "print(\"2019-90\\tS = %f\\tp = %f\"%(_s2019, _p2019))\n",
    "_s2019, _p2019 = stats.ttest_ind(\n",
    "    _2019_wo_videos_cit,\n",
    "    _2019_180_w_videos_cit\n",
    ")\n",
    "print(\"2019-180\\tS = %f\\tp = %f\"%(_s2019, _p2019))\n",
    "_s2019, _p2019 = stats.ttest_ind(\n",
    "    _2019_wo_videos_cit,\n",
    "    _2019_270_w_videos_cit\n",
    ")\n",
    "print(\"2019-270\\tS = %f\\tp = %f\"%(_s2019, _p2019))\n",
    "_s2019, _p2019 = stats.ttest_ind(\n",
    "    _2019_wo_videos_cit,\n",
    "    _2019_360_w_videos_cit\n",
    ")\n",
    "print(\"2019-360\\tS = %f\\tp = %f\"%(_s2019, _p2019))\n",
    "_s2019, _p2019 = stats.ttest_ind(\n",
    "    _2019_wo_videos_cit,\n",
    "    _2019_rest_w_videos_cit\n",
    ")\n",
    "print(\"2019-rest\\tS = %f\\tp = %f\"%(_s2019, _p2019))"
   ]
  },
  {
   "cell_type": "markdown",
   "metadata": {},
   "source": [
    "2019 comp와의 차이점: 전체적으로 유의하다."
   ]
  },
  {
   "cell_type": "markdown",
   "metadata": {},
   "source": [
    "2019 comp:\n",
    "2019-90\tS = 0.270785\tp = 0.786561\n",
    "2019-180\tS = nan\tp = nan\n",
    "2019-270\tS = 0.336739\tp = 0.736319\n",
    "2019-360\tS = -2.410909\tp = 0.015926\n",
    "2019-rest\tS = -1.018102\tp = 0.308648"
   ]
  },
  {
   "cell_type": "code",
   "execution_count": 19,
   "metadata": {},
   "outputs": [
    {
     "name": "stderr",
     "output_type": "stream",
     "text": [
      "/home/hweem/git/mastersdegree/ytcrawl/s-transformers/lib/python3.7/site-packages/pandas/core/computation/expressions.py:68: FutureWarning: elementwise comparison failed; returning scalar instead, but in the future will perform elementwise comparison\n",
      "  return op(a, b)\n",
      "/home/hweem/git/mastersdegree/ytcrawl/s-transformers/lib/python3.7/site-packages/ipykernel_launcher.py:1: UserWarning: Boolean Series key will be reindexed to match DataFrame index.\n",
      "  \"\"\"Entry point for launching an IPython kernel.\n",
      "/home/hweem/git/mastersdegree/ytcrawl/s-transformers/lib/python3.7/site-packages/pandas/core/computation/expressions.py:68: FutureWarning: elementwise comparison failed; returning scalar instead, but in the future will perform elementwise comparison\n",
      "  return op(a, b)\n",
      "/home/hweem/git/mastersdegree/ytcrawl/s-transformers/lib/python3.7/site-packages/ipykernel_launcher.py:2: UserWarning: Boolean Series key will be reindexed to match DataFrame index.\n",
      "  \n",
      "/home/hweem/git/mastersdegree/ytcrawl/s-transformers/lib/python3.7/site-packages/pandas/core/computation/expressions.py:68: FutureWarning: elementwise comparison failed; returning scalar instead, but in the future will perform elementwise comparison\n",
      "  return op(a, b)\n",
      "/home/hweem/git/mastersdegree/ytcrawl/s-transformers/lib/python3.7/site-packages/ipykernel_launcher.py:3: UserWarning: Boolean Series key will be reindexed to match DataFrame index.\n",
      "  This is separate from the ipykernel package so we can avoid doing imports until\n",
      "/home/hweem/git/mastersdegree/ytcrawl/s-transformers/lib/python3.7/site-packages/pandas/core/computation/expressions.py:68: FutureWarning: elementwise comparison failed; returning scalar instead, but in the future will perform elementwise comparison\n",
      "  return op(a, b)\n",
      "/home/hweem/git/mastersdegree/ytcrawl/s-transformers/lib/python3.7/site-packages/ipykernel_launcher.py:4: UserWarning: Boolean Series key will be reindexed to match DataFrame index.\n",
      "  after removing the cwd from sys.path.\n",
      "/home/hweem/git/mastersdegree/ytcrawl/s-transformers/lib/python3.7/site-packages/pandas/core/computation/expressions.py:68: FutureWarning: elementwise comparison failed; returning scalar instead, but in the future will perform elementwise comparison\n",
      "  return op(a, b)\n",
      "/home/hweem/git/mastersdegree/ytcrawl/s-transformers/lib/python3.7/site-packages/ipykernel_launcher.py:5: UserWarning: Boolean Series key will be reindexed to match DataFrame index.\n",
      "  \"\"\"\n",
      "/home/hweem/git/mastersdegree/ytcrawl/s-transformers/lib/python3.7/site-packages/pandas/core/computation/expressions.py:68: FutureWarning: elementwise comparison failed; returning scalar instead, but in the future will perform elementwise comparison\n",
      "  return op(a, b)\n",
      "/home/hweem/git/mastersdegree/ytcrawl/s-transformers/lib/python3.7/site-packages/ipykernel_launcher.py:6: UserWarning: Boolean Series key will be reindexed to match DataFrame index.\n",
      "  \n"
     ]
    },
    {
     "data": {
      "text/plain": [
       "{'whiskers': [<matplotlib.lines.Line2D at 0x7f1daee5f2b0>,\n",
       "  <matplotlib.lines.Line2D at 0x7f1daee5f5c0>,\n",
       "  <matplotlib.lines.Line2D at 0x7f1daee6b710>,\n",
       "  <matplotlib.lines.Line2D at 0x7f1daee6b9e8>,\n",
       "  <matplotlib.lines.Line2D at 0x7f1daee7ab38>,\n",
       "  <matplotlib.lines.Line2D at 0x7f1daee7ae10>,\n",
       "  <matplotlib.lines.Line2D at 0x7f1daee88f60>,\n",
       "  <matplotlib.lines.Line2D at 0x7f1daee16278>,\n",
       "  <matplotlib.lines.Line2D at 0x7f1daee223c8>,\n",
       "  <matplotlib.lines.Line2D at 0x7f1daee226a0>,\n",
       "  <matplotlib.lines.Line2D at 0x7f1daee307f0>,\n",
       "  <matplotlib.lines.Line2D at 0x7f1daee30ac8>],\n",
       " 'caps': [<matplotlib.lines.Line2D at 0x7f1daee5f898>,\n",
       "  <matplotlib.lines.Line2D at 0x7f1daee5fb70>,\n",
       "  <matplotlib.lines.Line2D at 0x7f1daee6bcc0>,\n",
       "  <matplotlib.lines.Line2D at 0x7f1daee6bf98>,\n",
       "  <matplotlib.lines.Line2D at 0x7f1daee88128>,\n",
       "  <matplotlib.lines.Line2D at 0x7f1daee88400>,\n",
       "  <matplotlib.lines.Line2D at 0x7f1daee16550>,\n",
       "  <matplotlib.lines.Line2D at 0x7f1daee16828>,\n",
       "  <matplotlib.lines.Line2D at 0x7f1daee22978>,\n",
       "  <matplotlib.lines.Line2D at 0x7f1daee22c50>,\n",
       "  <matplotlib.lines.Line2D at 0x7f1daee30da0>,\n",
       "  <matplotlib.lines.Line2D at 0x7f1daee3e0b8>],\n",
       " 'boxes': [<matplotlib.lines.Line2D at 0x7f1daee5f208>,\n",
       "  <matplotlib.lines.Line2D at 0x7f1daee6b358>,\n",
       "  <matplotlib.lines.Line2D at 0x7f1daee7a780>,\n",
       "  <matplotlib.lines.Line2D at 0x7f1daee88ba8>,\n",
       "  <matplotlib.lines.Line2D at 0x7f1daee22048>,\n",
       "  <matplotlib.lines.Line2D at 0x7f1daee30438>],\n",
       " 'medians': [<matplotlib.lines.Line2D at 0x7f1daee5fe48>,\n",
       "  <matplotlib.lines.Line2D at 0x7f1daee7a2b0>,\n",
       "  <matplotlib.lines.Line2D at 0x7f1daee886d8>,\n",
       "  <matplotlib.lines.Line2D at 0x7f1daee16b00>,\n",
       "  <matplotlib.lines.Line2D at 0x7f1daee22f28>,\n",
       "  <matplotlib.lines.Line2D at 0x7f1daee3e390>],\n",
       " 'fliers': [<matplotlib.lines.Line2D at 0x7f1daee6b160>,\n",
       "  <matplotlib.lines.Line2D at 0x7f1daee7a588>,\n",
       "  <matplotlib.lines.Line2D at 0x7f1daee889b0>,\n",
       "  <matplotlib.lines.Line2D at 0x7f1daee16dd8>,\n",
       "  <matplotlib.lines.Line2D at 0x7f1daee30240>,\n",
       "  <matplotlib.lines.Line2D at 0x7f1daee3e668>],\n",
       " 'means': []}"
      ]
     },
     "execution_count": 19,
     "metadata": {},
     "output_type": "execute_result"
    },
    {
     "data": {
      "image/png": "[encoded data removed]",
      "text/plain": [
       "<Figure size 864x432 with 1 Axes>"
      ]
     },
     "metadata": {
      "needs_background": "light"
     },
     "output_type": "display_data"
    }
   ],
   "source": [
    "_2014_wo_videos_aas = np.log10(df3[~df3.DOI.isin(_idx_papers_2014)][df3[\"AAS\"] != \"None\"][\"AAS\"].dropna().astype(int))\n",
    "_2014_90_w_videos_aas = np.log10(df3[df3.DOI.isin(_idx_papers_2014_90)][df3[\"AAS\"] != \"None\"][\"AAS\"].dropna().astype(int))\n",
    "_2014_180_w_videos_aas = np.log10(df3[df3.DOI.isin(_idx_papers_2014_180)][df3[\"AAS\"] != \"None\"][\"AAS\"].dropna().astype(int))\n",
    "_2014_270_w_videos_aas = np.log10(df3[df3.DOI.isin(_idx_papers_2014_270)][df3[\"AAS\"] != \"None\"][\"AAS\"].dropna().astype(int))\n",
    "_2014_360_w_videos_aas = np.log10(df3[df3.DOI.isin(_idx_papers_2014_360)][df3[\"AAS\"] != \"None\"][\"AAS\"].dropna().astype(int))\n",
    "_2014_rest_w_videos_aas = np.log10(df3[df3.DOI.isin(_idx_papers_2014_rest)][df3[\"AAS\"] != \"None\"][\"AAS\"].dropna().astype(int))\n",
    "\n",
    "plt.figure(figsize=(12, 6))\n",
    "plt.title(\"AAS by video release date\")\n",
    "# plt.yscale(\"log\")\n",
    "# plt.ylim([0, 200])\n",
    "plt.ylabel(\"log10(AAS)\")\n",
    "plt.boxplot([\n",
    "    _2014_wo_videos_aas,\n",
    "    _2014_90_w_videos_aas,\n",
    "    _2014_180_w_videos_aas,\n",
    "    _2014_270_w_videos_aas,\n",
    "    _2014_360_w_videos_aas,\n",
    "    _2014_rest_w_videos_aas\n",
    "],\n",
    "    labels=[\n",
    "        \"2014 w/o videos\\n(N=%s)\"%len(_2014_wo_videos_aas),\n",
    "        \"2014 w/ videos-90\\n(N=%s)\"%len(_2014_90_w_videos_aas),\n",
    "        \"2014 w/ videos-180\\n(N=%s)\"%len(_2014_180_w_videos_aas),\n",
    "        \"2014 w/ videos-270\\n(N=%s)\"%len(_2014_270_w_videos_aas),\n",
    "        \"2014 w/ videos-360\\n(N=%s)\"%len(_2014_360_w_videos_aas),\n",
    "        \"2014 w/ videos-rest\\n(N=%s)\"%len(_2014_rest_w_videos_aas)\n",
    "    ]\n",
    ")"
   ]
  },
  {
   "cell_type": "code",
   "execution_count": 20,
   "metadata": {},
   "outputs": [
    {
     "name": "stdout",
     "output_type": "stream",
     "text": [
      "2014-90\tS = -8.555980\tp = 0.000000\n",
      "2014-180\tS = nan\tp = nan\n",
      "2014-270\tS = nan\tp = nan\n",
      "2014-360\tS = -2.534913\tp = 0.011275\n",
      "2014-rest\tS = -15.180361\tp = 0.000000\n"
     ]
    },
    {
     "name": "stderr",
     "output_type": "stream",
     "text": [
      "/home/hweem/git/mastersdegree/ytcrawl/s-transformers/lib/python3.7/site-packages/numpy/core/fromnumeric.py:3622: RuntimeWarning: Degrees of freedom <= 0 for slice\n",
      "  **kwargs)\n",
      "/home/hweem/git/mastersdegree/ytcrawl/s-transformers/lib/python3.7/site-packages/numpy/core/_methods.py:226: RuntimeWarning: invalid value encountered in double_scalars\n",
      "  ret = ret.dtype.type(ret / rcount)\n"
     ]
    }
   ],
   "source": [
    "_s2014, _p2014 = stats.ttest_ind(\n",
    "    _2014_wo_videos_aas,\n",
    "    _2014_90_w_videos_aas\n",
    ")\n",
    "print(\"2014-90\\tS = %f\\tp = %f\"%(_s2014, _p2014))\n",
    "_s2014, _p2014 = stats.ttest_ind(\n",
    "    _2014_wo_videos_aas,\n",
    "    _2014_180_w_videos_aas\n",
    ")\n",
    "print(\"2014-180\\tS = %f\\tp = %f\"%(_s2014, _p2014))\n",
    "_s2014, _p2014 = stats.ttest_ind(\n",
    "    _2014_wo_videos_aas,\n",
    "    _2014_270_w_videos_aas\n",
    ")\n",
    "print(\"2014-270\\tS = %f\\tp = %f\"%(_s2014, _p2014))\n",
    "_s2014, _p2014 = stats.ttest_ind(\n",
    "    _2014_wo_videos_aas,\n",
    "    _2014_360_w_videos_aas\n",
    ")\n",
    "print(\"2014-360\\tS = %f\\tp = %f\"%(_s2014, _p2014))\n",
    "_s2014, _p2014 = stats.ttest_ind(\n",
    "    _2014_wo_videos_aas,\n",
    "    _2014_rest_w_videos_aas\n",
    ")\n",
    "print(\"2014-rest\\tS = %f\\tp = %f\"%(_s2014, _p2014))"
   ]
  },
  {
   "cell_type": "code",
   "execution_count": 21,
   "metadata": {},
   "outputs": [
    {
     "name": "stderr",
     "output_type": "stream",
     "text": [
      "/home/hweem/git/mastersdegree/ytcrawl/s-transformers/lib/python3.7/site-packages/pandas/core/computation/expressions.py:68: FutureWarning: elementwise comparison failed; returning scalar instead, but in the future will perform elementwise comparison\n",
      "  return op(a, b)\n",
      "/home/hweem/git/mastersdegree/ytcrawl/s-transformers/lib/python3.7/site-packages/ipykernel_launcher.py:1: UserWarning: Boolean Series key will be reindexed to match DataFrame index.\n",
      "  \"\"\"Entry point for launching an IPython kernel.\n",
      "/home/hweem/git/mastersdegree/ytcrawl/s-transformers/lib/python3.7/site-packages/pandas/core/computation/expressions.py:68: FutureWarning: elementwise comparison failed; returning scalar instead, but in the future will perform elementwise comparison\n",
      "  return op(a, b)\n",
      "/home/hweem/git/mastersdegree/ytcrawl/s-transformers/lib/python3.7/site-packages/ipykernel_launcher.py:2: UserWarning: Boolean Series key will be reindexed to match DataFrame index.\n",
      "  \n",
      "/home/hweem/git/mastersdegree/ytcrawl/s-transformers/lib/python3.7/site-packages/pandas/core/computation/expressions.py:68: FutureWarning: elementwise comparison failed; returning scalar instead, but in the future will perform elementwise comparison\n",
      "  return op(a, b)\n",
      "/home/hweem/git/mastersdegree/ytcrawl/s-transformers/lib/python3.7/site-packages/ipykernel_launcher.py:3: UserWarning: Boolean Series key will be reindexed to match DataFrame index.\n",
      "  This is separate from the ipykernel package so we can avoid doing imports until\n",
      "/home/hweem/git/mastersdegree/ytcrawl/s-transformers/lib/python3.7/site-packages/pandas/core/computation/expressions.py:68: FutureWarning: elementwise comparison failed; returning scalar instead, but in the future will perform elementwise comparison\n",
      "  return op(a, b)\n",
      "/home/hweem/git/mastersdegree/ytcrawl/s-transformers/lib/python3.7/site-packages/ipykernel_launcher.py:4: UserWarning: Boolean Series key will be reindexed to match DataFrame index.\n",
      "  after removing the cwd from sys.path.\n",
      "/home/hweem/git/mastersdegree/ytcrawl/s-transformers/lib/python3.7/site-packages/pandas/core/computation/expressions.py:68: FutureWarning: elementwise comparison failed; returning scalar instead, but in the future will perform elementwise comparison\n",
      "  return op(a, b)\n",
      "/home/hweem/git/mastersdegree/ytcrawl/s-transformers/lib/python3.7/site-packages/ipykernel_launcher.py:5: UserWarning: Boolean Series key will be reindexed to match DataFrame index.\n",
      "  \"\"\"\n",
      "/home/hweem/git/mastersdegree/ytcrawl/s-transformers/lib/python3.7/site-packages/pandas/core/computation/expressions.py:68: FutureWarning: elementwise comparison failed; returning scalar instead, but in the future will perform elementwise comparison\n",
      "  return op(a, b)\n",
      "/home/hweem/git/mastersdegree/ytcrawl/s-transformers/lib/python3.7/site-packages/ipykernel_launcher.py:6: UserWarning: Boolean Series key will be reindexed to match DataFrame index.\n",
      "  \n"
     ]
    },
    {
     "data": {
      "text/plain": [
       "{'whiskers': [<matplotlib.lines.Line2D at 0x7f1daedb69b0>,\n",
       "  <matplotlib.lines.Line2D at 0x7f1daedb6cc0>,\n",
       "  <matplotlib.lines.Line2D at 0x7f1daedc5e10>,\n",
       "  <matplotlib.lines.Line2D at 0x7f1daed53128>,\n",
       "  <matplotlib.lines.Line2D at 0x7f1daed61278>,\n",
       "  <matplotlib.lines.Line2D at 0x7f1daed61550>,\n",
       "  <matplotlib.lines.Line2D at 0x7f1daed6f6a0>,\n",
       "  <matplotlib.lines.Line2D at 0x7f1daed6f978>,\n",
       "  <matplotlib.lines.Line2D at 0x7f1daed7dac8>,\n",
       "  <matplotlib.lines.Line2D at 0x7f1daed7dda0>,\n",
       "  <matplotlib.lines.Line2D at 0x7f1daed0bef0>,\n",
       "  <matplotlib.lines.Line2D at 0x7f1daed15208>],\n",
       " 'caps': [<matplotlib.lines.Line2D at 0x7f1daedb6f98>,\n",
       "  <matplotlib.lines.Line2D at 0x7f1daedc52b0>,\n",
       "  <matplotlib.lines.Line2D at 0x7f1daed53400>,\n",
       "  <matplotlib.lines.Line2D at 0x7f1daed536d8>,\n",
       "  <matplotlib.lines.Line2D at 0x7f1daed61828>,\n",
       "  <matplotlib.lines.Line2D at 0x7f1daed61b00>,\n",
       "  <matplotlib.lines.Line2D at 0x7f1daed6fc50>,\n",
       "  <matplotlib.lines.Line2D at 0x7f1daed6ff28>,\n",
       "  <matplotlib.lines.Line2D at 0x7f1daed0b0b8>,\n",
       "  <matplotlib.lines.Line2D at 0x7f1daed0b390>,\n",
       "  <matplotlib.lines.Line2D at 0x7f1daed154e0>,\n",
       "  <matplotlib.lines.Line2D at 0x7f1daed157b8>],\n",
       " 'boxes': [<matplotlib.lines.Line2D at 0x7f1daedb6908>,\n",
       "  <matplotlib.lines.Line2D at 0x7f1daedc5a58>,\n",
       "  <matplotlib.lines.Line2D at 0x7f1daed53e80>,\n",
       "  <matplotlib.lines.Line2D at 0x7f1daed6f2e8>,\n",
       "  <matplotlib.lines.Line2D at 0x7f1daed7d710>,\n",
       "  <matplotlib.lines.Line2D at 0x7f1daed0bb38>],\n",
       " 'medians': [<matplotlib.lines.Line2D at 0x7f1daedc5588>,\n",
       "  <matplotlib.lines.Line2D at 0x7f1daed539b0>,\n",
       "  <matplotlib.lines.Line2D at 0x7f1daed61dd8>,\n",
       "  <matplotlib.lines.Line2D at 0x7f1daed7d240>,\n",
       "  <matplotlib.lines.Line2D at 0x7f1daed0b668>,\n",
       "  <matplotlib.lines.Line2D at 0x7f1daed15a90>],\n",
       " 'fliers': [<matplotlib.lines.Line2D at 0x7f1daedc5860>,\n",
       "  <matplotlib.lines.Line2D at 0x7f1daed53c88>,\n",
       "  <matplotlib.lines.Line2D at 0x7f1daed6f0f0>,\n",
       "  <matplotlib.lines.Line2D at 0x7f1daed7d518>,\n",
       "  <matplotlib.lines.Line2D at 0x7f1daed0b940>,\n",
       "  <matplotlib.lines.Line2D at 0x7f1daed15d68>],\n",
       " 'means': []}"
      ]
     },
     "execution_count": 21,
     "metadata": {},
     "output_type": "execute_result"
    },
    {
     "data": {
      "image/png": "[encoded data removed]",
      "text/plain": [
       "<Figure size 864x432 with 1 Axes>"
      ]
     },
     "metadata": {
      "needs_background": "light"
     },
     "output_type": "display_data"
    }
   ],
   "source": [
    "_2019_wo_videos_aas = np.log10(df1[~df1.DOI.isin(_idx_papers_2019)][df1[\"AAS\"] != \"None\"][\"AAS\"].dropna().astype(int))\n",
    "_2019_90_w_videos_aas = np.log10(df1[df1.DOI.isin(_idx_papers_2019_90)][df1[\"AAS\"] != \"None\"][\"AAS\"].dropna().astype(int))\n",
    "_2019_180_w_videos_aas = np.log10(df1[df1.DOI.isin(_idx_papers_2019_180)][df1[\"AAS\"] != \"None\"][\"AAS\"].dropna().astype(int))\n",
    "_2019_270_w_videos_aas = np.log10(df1[df1.DOI.isin(_idx_papers_2019_270)][df1[\"AAS\"] != \"None\"][\"AAS\"].dropna().astype(int))\n",
    "_2019_360_w_videos_aas = np.log10(df1[df1.DOI.isin(_idx_papers_2019_360)][df1[\"AAS\"] != \"None\"][\"AAS\"].dropna().astype(int))\n",
    "_2019_rest_w_videos_aas = np.log10(df1[df1.DOI.isin(_idx_papers_2019_rest)][df1[\"AAS\"] != \"None\"][\"AAS\"].dropna().astype(int))\n",
    "\n",
    "plt.figure(figsize=(12, 6))\n",
    "plt.title(\"AAS by video release date\")\n",
    "# plt.yscale(\"log\")\n",
    "# plt.ylim([0, 200])\n",
    "plt.ylabel(\"log10(AAS)\")\n",
    "plt.boxplot([\n",
    "    _2019_wo_videos_aas,\n",
    "    _2019_90_w_videos_aas,\n",
    "    _2019_180_w_videos_aas,\n",
    "    _2019_270_w_videos_aas,\n",
    "    _2019_360_w_videos_aas,\n",
    "    _2019_rest_w_videos_aas\n",
    "],\n",
    "    labels=[\n",
    "        \"2019 w/o videos\\n(N=%s)\"%len(_2019_wo_videos_aas),\n",
    "        \"2019 w/ videos-90\\n(N=%s)\"%len(_2019_90_w_videos_aas),\n",
    "        \"2019 w/ videos-180\\n(N=%s)\"%len(_2019_180_w_videos_aas),\n",
    "        \"2019 w/ videos-270\\n(N=%s)\"%len(_2019_270_w_videos_aas),\n",
    "        \"2019 w/ videos-360\\n(N=%s)\"%len(_2019_360_w_videos_aas),\n",
    "        \"2019 w/ videos-rest\\n(N=%s)\"%len(_2019_rest_w_videos_aas)\n",
    "    ]\n",
    ")"
   ]
  },
  {
   "cell_type": "code",
   "execution_count": 22,
   "metadata": {},
   "outputs": [
    {
     "name": "stdout",
     "output_type": "stream",
     "text": [
      "2019-90\tS = -21.844594\tp = 0.000000\n",
      "2019-180\tS = -8.725570\tp = 0.000000\n",
      "2019-270\tS = -12.032223\tp = 0.000000\n",
      "2019-360\tS = -10.868221\tp = 0.000000\n",
      "2019-rest\tS = -11.317859\tp = 0.000000\n"
     ]
    }
   ],
   "source": [
    "_s2019, _p2019 = stats.ttest_ind(\n",
    "    _2019_wo_videos_aas,\n",
    "    _2019_90_w_videos_aas\n",
    ")\n",
    "print(\"2019-90\\tS = %f\\tp = %f\"%(_s2019, _p2019))\n",
    "_s2019, _p2019 = stats.ttest_ind(\n",
    "    _2019_wo_videos_aas,\n",
    "    _2019_180_w_videos_aas\n",
    ")\n",
    "print(\"2019-180\\tS = %f\\tp = %f\"%(_s2019, _p2019))\n",
    "_s2019, _p2019 = stats.ttest_ind(\n",
    "    _2019_wo_videos_aas,\n",
    "    _2019_270_w_videos_aas\n",
    ")\n",
    "print(\"2019-270\\tS = %f\\tp = %f\"%(_s2019, _p2019))\n",
    "_s2019, _p2019 = stats.ttest_ind(\n",
    "    _2019_wo_videos_aas,\n",
    "    _2019_360_w_videos_aas\n",
    ")\n",
    "print(\"2019-360\\tS = %f\\tp = %f\"%(_s2019, _p2019))\n",
    "_s2019, _p2019 = stats.ttest_ind(\n",
    "    _2019_wo_videos_aas,\n",
    "    _2019_rest_w_videos_aas\n",
    ")\n",
    "print(\"2019-rest\\tS = %f\\tp = %f\"%(_s2019, _p2019))"
   ]
  },
  {
   "cell_type": "markdown",
   "metadata": {},
   "source": [
    "(2014 comp)Citation, AAS 둘 다, 초창기(90)와 나중(rest)에서 유의하고 180에서 유의성이 낮아지는 경향이 보인다..?\n",
    "다만 180/270/360은 샘플이 적다는 점"
   ]
  },
  {
   "cell_type": "markdown",
   "metadata": {},
   "source": [
    "2014, 2019 둘다 비디오 공개시기에 상관없이 AAS 분포는 유의하게 다르다."
   ]
  },
  {
   "cell_type": "markdown",
   "metadata": {},
   "source": [
    "2014 comp와의 차이점: 2014 comp의 AAS는 초기 비디오의 유무는 유의차를 보이지 않았으나, 2014 life 초기 비디오 논문은 전체적으로 완전히 유의하다."
   ]
  },
  {
   "cell_type": "markdown",
   "metadata": {},
   "source": [
    "2019 comp와의 차이점: 2019 comp-rest는 유의성이 떨어졌으나, 2019 life는 rest까지도 완전히 유의."
   ]
  },
  {
   "cell_type": "markdown",
   "metadata": {},
   "source": [
    "다만 2019 life엔 블랙홀 관측 논문 6편이 큰 주목을 받았기때문에 이례적인 경향에 일조하고 있을수 있음 -> 6편 제외한 scopus set에 대해 분석하면?"
   ]
  },
  {
   "cell_type": "code",
   "execution_count": 23,
   "metadata": {},
   "outputs": [],
   "source": [
    "_list_idx_papers_bh = [\n",
    "    \"10.3847/2041-8213/ab0ec7\",\n",
    "    \"10.3847/2041-8213/ab0c96\",\n",
    "    \"10.3847/2041-8213/ab0c57\",\n",
    "    \"10.3847/2041-8213/ab0e85\",\n",
    "    \"10.3847/2041-8213/ab0f43\",\n",
    "    \"10.3847/2041-8213/ab1141\",\n",
    "]"
   ]
  },
  {
   "cell_type": "code",
   "execution_count": 29,
   "metadata": {},
   "outputs": [],
   "source": [
    "for _item in _list_idx_papers_bh:\n",
    "    _idx_papers_2019.remove(_item)"
   ]
  },
  {
   "cell_type": "code",
   "execution_count": 30,
   "metadata": {},
   "outputs": [
    {
     "data": {
      "text/plain": [
       "{'10.1002/ecm.1348',\n",
       " '10.1002/fee.2015',\n",
       " '10.1016/j.apenergy.2018.12.045',\n",
       " '10.1016/j.chempr.2018.12.009',\n",
       " '10.1016/j.chempr.2019.02.026',\n",
       " '10.1016/j.cub.2018.10.065',\n",
       " '10.1016/j.cub.2018.11.009',\n",
       " '10.1016/j.cub.2018.11.030',\n",
       " '10.1016/j.cub.2018.11.052',\n",
       " '10.1016/j.cub.2018.11.059',\n",
       " '10.1016/j.cub.2018.11.063',\n",
       " '10.1016/j.cub.2018.11.070',\n",
       " '10.1016/j.cub.2018.12.007',\n",
       " '10.1016/j.cub.2018.12.022',\n",
       " '10.1016/j.cub.2018.12.028',\n",
       " '10.1016/j.cub.2018.12.038',\n",
       " '10.1016/j.cub.2018.12.040',\n",
       " '10.1016/j.cub.2018.12.042',\n",
       " '10.1016/j.cub.2018.12.051',\n",
       " '10.1016/j.cub.2019.01.006',\n",
       " '10.1016/j.cub.2019.01.008',\n",
       " '10.1016/j.cub.2019.01.026',\n",
       " '10.1016/j.cub.2019.01.029',\n",
       " '10.1016/j.cub.2019.01.060',\n",
       " '10.1016/j.cub.2019.01.069',\n",
       " '10.1016/j.cub.2019.02.006',\n",
       " '10.1016/j.cub.2019.02.024',\n",
       " '10.1016/j.cub.2019.02.036',\n",
       " '10.1016/j.cub.2019.02.045',\n",
       " '10.1016/j.cub.2019.02.047',\n",
       " '10.1016/j.cub.2019.02.049',\n",
       " '10.1016/j.cub.2019.02.050',\n",
       " '10.1016/j.cub.2019.03.004',\n",
       " '10.1016/j.cub.2019.03.040',\n",
       " '10.1016/j.cub.2019.03.043',\n",
       " '10.1016/j.cub.2019.03.059',\n",
       " '10.1016/j.cub.2019.03.067',\n",
       " '10.1016/j.cub.2019.04.026',\n",
       " '10.1016/j.cub.2019.04.048',\n",
       " '10.1016/j.cub.2019.04.062',\n",
       " '10.1016/j.cub.2019.05.043',\n",
       " '10.1016/j.molp.2019.04.004',\n",
       " '10.1016/j.tplants.2018.09.005',\n",
       " '10.1016/j.tplants.2018.11.001',\n",
       " '10.1016/j.tree.2018.10.012',\n",
       " '10.1016/j.tree.2018.11.005',\n",
       " '10.1016/j.tree.2018.12.012',\n",
       " '10.1016/j.tree.2019.02.001',\n",
       " '10.1016/j.tree.2019.02.009',\n",
       " '10.1038/s41396-018-0263-1',\n",
       " '10.1038/s41396-018-0299-2',\n",
       " '10.1038/s41396-018-0314-7',\n",
       " '10.1038/s41396-018-0316-5',\n",
       " '10.1038/s41396-018-0323-6',\n",
       " '10.1038/s41558-018-0350-3',\n",
       " '10.1038/s41558-018-0370-z',\n",
       " '10.1038/s41558-018-0386-4',\n",
       " '10.1038/s41558-019-0398-8',\n",
       " '10.1038/s41558-019-0412-1',\n",
       " '10.1038/s41558-019-0419-7',\n",
       " '10.1038/s41558-019-0424-x',\n",
       " '10.1038/s41558-019-0438-4',\n",
       " '10.1038/s41558-019-0446-4',\n",
       " '10.1038/s41558-019-0459-z',\n",
       " '10.1038/s41558-019-0463-3',\n",
       " '10.1038/s41558-019-0474-0',\n",
       " '10.1038/s41561-018-0284-4',\n",
       " '10.1038/s41561-018-0288-0',\n",
       " '10.1038/s41561-019-0310-1',\n",
       " '10.1038/s41561-019-0327-5',\n",
       " '10.1038/s41561-019-0329-3',\n",
       " '10.1038/s41561-019-0331-9',\n",
       " '10.1038/s41561-019-0335-5',\n",
       " '10.1038/s41561-019-0338-2',\n",
       " '10.1038/s41561-019-0345-3',\n",
       " '10.1038/s41561-019-0354-2',\n",
       " '10.1038/s41561-019-0355-1',\n",
       " '10.1038/s41561-019-0362-2',\n",
       " '10.1038/s41561-019-0369-8',\n",
       " '10.1038/s41561-019-0370-2',\n",
       " '10.1039/c8ee01940a',\n",
       " '10.1039/c9ee00692c',\n",
       " '10.1080/10643389.2019.1565519',\n",
       " '10.1111/faf.12324',\n",
       " '10.1111/gcb.14479',\n",
       " '10.1111/nph.15555',\n",
       " '10.1111/nph.15714',\n",
       " '10.1146/annurev-animal-020518-115056',\n",
       " '10.1146/annurev-ento-011118-111914',\n",
       " '10.1146/annurev-ento-011118-112500',\n",
       " '10.1146/annurev-marine-010318-095323',\n",
       " '10.1175/BAMS-D-18-0023.1',\n",
       " '10.1186/s13059-019-1678-3',\n",
       " '10.1186/s13059-019-1684-5',\n",
       " '10.1186/s13059-019-1704-5',\n",
       " '10.1289/EHP3325',\n",
       " '10.1289/EHP3469',\n",
       " '10.15585/MMWR.MM6807A2',\n",
       " '10.15585/mmwr.mm6802a5',\n",
       " '10.15585/mmwr.mm6809a3',\n",
       " '10.15585/mmwr.mm6809e1',\n",
       " '10.15585/mmwr.mm6811a3',\n",
       " '10.15585/mmwr.mm6815a5',\n",
       " '10.15585/mmwr.mm6817e1',\n",
       " '10.15585/mmwr.mm6818e1',\n",
       " '10.15585/mmwr.mm6819a4',\n",
       " '10.15585/mmwr.mm6823e1',\n",
       " '10.15585/mmwr.mm6824a3',\n",
       " '10.15585/mmwr.mm6825a3',\n",
       " '10.3847/1538-4365/aafb69',\n",
       " '10.3847/2041-8213/aafb07',\n",
       " '10.3847/2041-8213/aafb7a',\n",
       " '10.3847/2041-8213/ab0216',\n",
       " '10.3847/2041-8213/ab0c5d',\n",
       " '10.3847/2041-8213/ab0d92',\n",
       " '10.3847/2041-8213/ab0e8c',\n",
       " '10.3847/2041-8213/ab0f29',\n",
       " '10.3847/2041-8213/ab1019',\n",
       " '10.3847/2041-8213/ab12ed',\n",
       " '10.3847/2041-8213/ab133b',\n",
       " '10.3847/2041-8213/ab18a5',\n",
       " '10.3847/2041-8213/ab18fb',\n",
       " '10.3847/2041-8213/ab1b75',\n",
       " '10.3847/2041-8213/ab1de5',\n",
       " '10.3847/2041-8213/ab212f',\n",
       " '10.3847/2041-8213/ab2247',\n",
       " '10.3847/2041-8213/ab224c',\n",
       " '10.3847/2041-8213/ab2599'}"
      ]
     },
     "execution_count": 30,
     "metadata": {},
     "output_type": "execute_result"
    }
   ],
   "source": []
  },
  {
   "cell_type": "code",
   "execution_count": 31,
   "metadata": {},
   "outputs": [
    {
     "data": {
      "text/plain": [
       "{'whiskers': [<matplotlib.lines.Line2D at 0x7f1da9f314e0>,\n",
       "  <matplotlib.lines.Line2D at 0x7f1daa151da0>,\n",
       "  <matplotlib.lines.Line2D at 0x7f1daa64eda0>,\n",
       "  <matplotlib.lines.Line2D at 0x7f1daa64e390>,\n",
       "  <matplotlib.lines.Line2D at 0x7f1daa377cc0>,\n",
       "  <matplotlib.lines.Line2D at 0x7f1daa377128>,\n",
       "  <matplotlib.lines.Line2D at 0x7f1da9f59f98>,\n",
       "  <matplotlib.lines.Line2D at 0x7f1da9f593c8>],\n",
       " 'caps': [<matplotlib.lines.Line2D at 0x7f1daa151a20>,\n",
       "  <matplotlib.lines.Line2D at 0x7f1daa1510f0>,\n",
       "  <matplotlib.lines.Line2D at 0x7f1daa3ca3c8>,\n",
       "  <matplotlib.lines.Line2D at 0x7f1daa3ca2b0>,\n",
       "  <matplotlib.lines.Line2D at 0x7f1daa3779b0>,\n",
       "  <matplotlib.lines.Line2D at 0x7f1da9d72128>,\n",
       "  <matplotlib.lines.Line2D at 0x7f1da9f59048>,\n",
       "  <matplotlib.lines.Line2D at 0x7f1da9f598d0>],\n",
       " 'boxes': [<matplotlib.lines.Line2D at 0x7f1da9f31e10>,\n",
       "  <matplotlib.lines.Line2D at 0x7f1daa64ef98>,\n",
       "  <matplotlib.lines.Line2D at 0x7f1daa377e80>,\n",
       "  <matplotlib.lines.Line2D at 0x7f1da9d72908>],\n",
       " 'medians': [<matplotlib.lines.Line2D at 0x7f1daa151ba8>,\n",
       "  <matplotlib.lines.Line2D at 0x7f1daa3ca860>,\n",
       "  <matplotlib.lines.Line2D at 0x7f1da9d72ac8>,\n",
       "  <matplotlib.lines.Line2D at 0x7f1da9f59ac8>],\n",
       " 'fliers': [<matplotlib.lines.Line2D at 0x7f1da9f904a8>,\n",
       "  <matplotlib.lines.Line2D at 0x7f1daa3cac88>,\n",
       "  <matplotlib.lines.Line2D at 0x7f1da9d72828>,\n",
       "  <matplotlib.lines.Line2D at 0x7f1daa2fdba8>],\n",
       " 'means': []}"
      ]
     },
     "execution_count": 31,
     "metadata": {},
     "output_type": "execute_result"
    },
    {
     "data": {
      "image/png": "[encoded data removed]",
      "text/plain": [
       "<Figure size 720x432 with 1 Axes>"
      ]
     },
     "metadata": {
      "needs_background": "light"
     },
     "output_type": "display_data"
    }
   ],
   "source": [
    "_2019_wo_videos_cit = np.log10(df1[~df1.DOI.isin(_idx_papers_2019)][\"Cited by\"].dropna().astype(int))\n",
    "_2019_w_videos_cit = np.log10(df1[df1.DOI.isin(_idx_papers_2019)][\"Cited by\"].dropna().astype(int))\n",
    "\n",
    "_2014_wo_videos_cit = np.log10(df3[~df3.DOI.isin(_idx_papers_2014)][\"Cited by\"].dropna().astype(int))\n",
    "_2014_w_videos_cit = np.log10(df3[df3.DOI.isin(_idx_papers_2014)][\"Cited by\"].dropna().astype(int))\n",
    "\n",
    "plt.figure(figsize=(10, 6))\n",
    "plt.title(\"Citation\")\n",
    "# plt.yscale(\"log\")\n",
    "# plt.ylim([0, 200])\n",
    "plt.ylabel(\"log10(Citation)\")\n",
    "plt.boxplot([\n",
    "    _2019_wo_videos_cit,\n",
    "    _2019_w_videos_cit,\n",
    "    _2014_wo_videos_cit,\n",
    "    _2014_w_videos_cit\n",
    "],\n",
    "    labels=[\n",
    "        \"2019 w/o videos\\n(N=%s)\"%len(_2019_wo_videos_cit),\n",
    "        \"2019 w/ videos\\n(N=%s)\"%len(_2019_w_videos_cit),\n",
    "        \"2014 w/o videos\\n(N=%s)\"%len(_2014_wo_videos_cit),\n",
    "        \"2014 w/ videos\\n(N=%s)\"%len(_2014_w_videos_cit)\n",
    "    ]\n",
    ")"
   ]
  },
  {
   "cell_type": "code",
   "execution_count": 32,
   "metadata": {},
   "outputs": [
    {
     "name": "stdout",
     "output_type": "stream",
     "text": [
      "2019\tS = -2.680147\tp = 0.007376\n",
      "2014\tS = -6.164704\tp = 0.000000\n"
     ]
    }
   ],
   "source": [
    "_s2019, _p2019 = stats.ttest_ind(\n",
    "    _2019_wo_videos_cit,\n",
    "    _2019_w_videos_cit\n",
    ")\n",
    "print(\"2019\\tS = %f\\tp = %f\"%(_s2019, _p2019))\n",
    "\n",
    "_s2014, _p2014 = stats.ttest_ind(\n",
    "    _2014_wo_videos_cit,\n",
    "    _2014_w_videos_cit\n",
    ")\n",
    "print(\"2014\\tS = %f\\tp = %f\"%(_s2014, _p2014))"
   ]
  },
  {
   "cell_type": "markdown",
   "metadata": {},
   "source": [
    "citation w/ bh: 2019 약간 유의성이 떨어졌지만 (0.00007 -> 0.007) 그래도 0.01 이하"
   ]
  },
  {
   "cell_type": "code",
   "execution_count": 33,
   "metadata": {},
   "outputs": [
    {
     "name": "stderr",
     "output_type": "stream",
     "text": [
      "/home/hweem/git/mastersdegree/ytcrawl/s-transformers/lib/python3.7/site-packages/pandas/core/computation/expressions.py:68: FutureWarning: elementwise comparison failed; returning scalar instead, but in the future will perform elementwise comparison\n",
      "  return op(a, b)\n",
      "/home/hweem/git/mastersdegree/ytcrawl/s-transformers/lib/python3.7/site-packages/ipykernel_launcher.py:1: UserWarning: Boolean Series key will be reindexed to match DataFrame index.\n",
      "  \"\"\"Entry point for launching an IPython kernel.\n",
      "/home/hweem/git/mastersdegree/ytcrawl/s-transformers/lib/python3.7/site-packages/pandas/core/computation/expressions.py:68: FutureWarning: elementwise comparison failed; returning scalar instead, but in the future will perform elementwise comparison\n",
      "  return op(a, b)\n",
      "/home/hweem/git/mastersdegree/ytcrawl/s-transformers/lib/python3.7/site-packages/ipykernel_launcher.py:2: UserWarning: Boolean Series key will be reindexed to match DataFrame index.\n",
      "  \n",
      "/home/hweem/git/mastersdegree/ytcrawl/s-transformers/lib/python3.7/site-packages/pandas/core/computation/expressions.py:68: FutureWarning: elementwise comparison failed; returning scalar instead, but in the future will perform elementwise comparison\n",
      "  return op(a, b)\n",
      "/home/hweem/git/mastersdegree/ytcrawl/s-transformers/lib/python3.7/site-packages/ipykernel_launcher.py:4: UserWarning: Boolean Series key will be reindexed to match DataFrame index.\n",
      "  after removing the cwd from sys.path.\n",
      "/home/hweem/git/mastersdegree/ytcrawl/s-transformers/lib/python3.7/site-packages/pandas/core/computation/expressions.py:68: FutureWarning: elementwise comparison failed; returning scalar instead, but in the future will perform elementwise comparison\n",
      "  return op(a, b)\n",
      "/home/hweem/git/mastersdegree/ytcrawl/s-transformers/lib/python3.7/site-packages/ipykernel_launcher.py:5: UserWarning: Boolean Series key will be reindexed to match DataFrame index.\n",
      "  \"\"\"\n"
     ]
    },
    {
     "data": {
      "text/plain": [
       "{'whiskers': [<matplotlib.lines.Line2D at 0x7f1daa5dd630>,\n",
       "  <matplotlib.lines.Line2D at 0x7f1daa5dd940>,\n",
       "  <matplotlib.lines.Line2D at 0x7f1daa5f5a90>,\n",
       "  <matplotlib.lines.Line2D at 0x7f1daa5f5d68>,\n",
       "  <matplotlib.lines.Line2D at 0x7f1daa612eb8>,\n",
       "  <matplotlib.lines.Line2D at 0x7f1daa5b21d0>,\n",
       "  <matplotlib.lines.Line2D at 0x7f1daa5ca320>,\n",
       "  <matplotlib.lines.Line2D at 0x7f1daa5ca5f8>],\n",
       " 'caps': [<matplotlib.lines.Line2D at 0x7f1daa5ddc18>,\n",
       "  <matplotlib.lines.Line2D at 0x7f1daa5ddef0>,\n",
       "  <matplotlib.lines.Line2D at 0x7f1daa612080>,\n",
       "  <matplotlib.lines.Line2D at 0x7f1daa612358>,\n",
       "  <matplotlib.lines.Line2D at 0x7f1daa5b24a8>,\n",
       "  <matplotlib.lines.Line2D at 0x7f1daa5b2780>,\n",
       "  <matplotlib.lines.Line2D at 0x7f1daa5ca8d0>,\n",
       "  <matplotlib.lines.Line2D at 0x7f1daa5caba8>],\n",
       " 'boxes': [<matplotlib.lines.Line2D at 0x7f1daa5dd588>,\n",
       "  <matplotlib.lines.Line2D at 0x7f1daa5f56d8>,\n",
       "  <matplotlib.lines.Line2D at 0x7f1daa612b00>,\n",
       "  <matplotlib.lines.Line2D at 0x7f1daa5b2f28>],\n",
       " 'medians': [<matplotlib.lines.Line2D at 0x7f1daa5f5208>,\n",
       "  <matplotlib.lines.Line2D at 0x7f1daa612630>,\n",
       "  <matplotlib.lines.Line2D at 0x7f1daa5b2a58>,\n",
       "  <matplotlib.lines.Line2D at 0x7f1daa5cae80>],\n",
       " 'fliers': [<matplotlib.lines.Line2D at 0x7f1daa5f54e0>,\n",
       "  <matplotlib.lines.Line2D at 0x7f1daa612908>,\n",
       "  <matplotlib.lines.Line2D at 0x7f1daa5b2d30>,\n",
       "  <matplotlib.lines.Line2D at 0x7f1daa521198>],\n",
       " 'means': []}"
      ]
     },
     "execution_count": 33,
     "metadata": {},
     "output_type": "execute_result"
    },
    {
     "data": {
      "image/png": "[encoded data removed]",
      "text/plain": [
       "<Figure size 720x432 with 1 Axes>"
      ]
     },
     "metadata": {
      "needs_background": "light"
     },
     "output_type": "display_data"
    }
   ],
   "source": [
    "_2019_wo_videos_aas = np.log10(df1[~df1.DOI.isin(_idx_papers_2019)][df1[\"AAS\"] != \"None\"][\"AAS\"].dropna().astype(int))\n",
    "_2019_w_videos_aas = np.log10(df1[df1.DOI.isin(_idx_papers_2019)][df1[\"AAS\"] != \"None\"][\"AAS\"].dropna().astype(int))\n",
    "\n",
    "_2014_wo_videos_aas = np.log10(df3[~df3.DOI.isin(_idx_papers_2014)][df3[\"AAS\"] != \"None\"][\"AAS\"].dropna().astype(int))\n",
    "_2014_w_videos_aas = np.log10(df3[df3.DOI.isin(_idx_papers_2014)][df3[\"AAS\"] != \"None\"][\"AAS\"].dropna().astype(int))\n",
    "\n",
    "plt.figure(figsize=(10, 6))\n",
    "plt.title(\"AAS\")\n",
    "# plt.yscale(\"log\")\n",
    "# plt.ylim([0, 200])\n",
    "plt.ylabel(\"log10(AAS)\")\n",
    "plt.boxplot([\n",
    "    _2019_wo_videos_aas,\n",
    "    _2019_w_videos_aas,\n",
    "    _2014_wo_videos_aas,\n",
    "    _2014_w_videos_aas\n",
    "],\n",
    "    labels=[\n",
    "        \"2019 w/o videos\\n(N=%s)\"%len(_2019_wo_videos_aas),\n",
    "        \"2019 w/ videos\\n(N=%s)\"%len(_2019_w_videos_aas),\n",
    "        \"2014 w/o videos\\n(N=%s)\"%len(_2014_wo_videos_aas),\n",
    "        \"2014 w/ videos\\n(N=%s)\"%len(_2014_w_videos_aas)\n",
    "    ]\n",
    ")"
   ]
  },
  {
   "cell_type": "code",
   "execution_count": 34,
   "metadata": {},
   "outputs": [
    {
     "name": "stdout",
     "output_type": "stream",
     "text": [
      "2019\tS = -21.690412\tp = 0.000000\n",
      "2014\tS = -8.555980\tp = 0.000000\n"
     ]
    }
   ],
   "source": [
    "_s2019, _p2019 = stats.ttest_ind(\n",
    "    _2019_wo_videos_aas,\n",
    "    _2019_90_w_videos_aas\n",
    ")\n",
    "print(\"2019\\tS = %f\\tp = %f\"%(_s2019, _p2019))\n",
    "\n",
    "_s2014, _p2014 = stats.ttest_ind(\n",
    "    _2014_wo_videos_aas,\n",
    "    _2014_90_w_videos_aas\n",
    ")\n",
    "print(\"2014\\tS = %f\\tp = %f\"%(_s2014, _p2014))"
   ]
  },
  {
   "cell_type": "markdown",
   "metadata": {},
   "source": [
    "AAS w/o bh: w/ bh과 같음"
   ]
  },
  {
   "cell_type": "code",
   "execution_count": 35,
   "metadata": {},
   "outputs": [
    {
     "name": "stdout",
     "output_type": "stream",
     "text": [
      "\tCommand set: SELECT `idx_paper`, `publishedAt` FROM `scopus_videos_2019_life`\n",
      "\tsql: SELECT `idx_paper`, `publishedAt` FROM `scopus_videos_2019_life`;\n",
      "\tCommand set: SELECT `idx_paper`, `publishedAt` FROM `scopus_videos_2019_life`\n",
      "\tsql: SELECT `idx_paper`, `publishedAt` FROM `scopus_videos_2019_life`;\n",
      "\tCommand set: SELECT `idx_paper`, `publishedAt` FROM `scopus_videos_2019_life`\n",
      "\tsql: SELECT `idx_paper`, `publishedAt` FROM `scopus_videos_2019_life`;\n",
      "\tCommand set: SELECT `idx_paper`, `publishedAt` FROM `scopus_videos_2019_life`\n",
      "\tsql: SELECT `idx_paper`, `publishedAt` FROM `scopus_videos_2019_life`;\n",
      "\tCommand set: SELECT `idx_paper`, `publishedAt` FROM `scopus_videos_2019_life`\n",
      "\tsql: SELECT `idx_paper`, `publishedAt` FROM `scopus_videos_2019_life`;\n",
      "\tCommand set: SELECT `idx_paper`, `publishedAt` FROM `scopus_videos_2019_life`\n",
      "\tsql: SELECT `idx_paper`, `publishedAt` FROM `scopus_videos_2019_life`;\n",
      "134 99 13 26 19 22\n",
      "\tCommand set: SELECT `idx_paper`, `publishedAt` FROM `scopus_videos_2014_life`\n",
      "\tsql: SELECT `idx_paper`, `publishedAt` FROM `scopus_videos_2014_life`;\n",
      "\tCommand set: SELECT `idx_paper`, `publishedAt` FROM `scopus_videos_2014_life`\n",
      "\tsql: SELECT `idx_paper`, `publishedAt` FROM `scopus_videos_2014_life`;\n",
      "\tCommand set: SELECT `idx_paper`, `publishedAt` FROM `scopus_videos_2014_life`\n",
      "\tsql: SELECT `idx_paper`, `publishedAt` FROM `scopus_videos_2014_life`;\n",
      "\tCommand set: SELECT `idx_paper`, `publishedAt` FROM `scopus_videos_2014_life`\n",
      "\tsql: SELECT `idx_paper`, `publishedAt` FROM `scopus_videos_2014_life`;\n",
      "\tCommand set: SELECT `idx_paper`, `publishedAt` FROM `scopus_videos_2014_life`\n",
      "\tsql: SELECT `idx_paper`, `publishedAt` FROM `scopus_videos_2014_life`;\n",
      "\tCommand set: SELECT `idx_paper`, `publishedAt` FROM `scopus_videos_2014_life`\n",
      "\tsql: SELECT `idx_paper`, `publishedAt` FROM `scopus_videos_2014_life`;\n",
      "78 18 1 1 2 61\n"
     ]
    }
   ],
   "source": [
    "_idx_papers_2019 = get_dois_with_videos_within_days_from_publish(df1, \"scopus_videos_2019_life\")\n",
    "_idx_papers_2019_90 = get_dois_with_videos_within_days_from_publish(df1, \"scopus_videos_2019_life\", None, 90)\n",
    "_idx_papers_2019_180 = get_dois_with_videos_within_days_from_publish(df1, \"scopus_videos_2019_life\", 90, 180)\n",
    "_idx_papers_2019_270 = get_dois_with_videos_within_days_from_publish(df1, \"scopus_videos_2019_life\", 180, 270)\n",
    "_idx_papers_2019_360 = get_dois_with_videos_within_days_from_publish(df1, \"scopus_videos_2019_life\", 270, 360)\n",
    "_idx_papers_2019_rest = get_dois_with_videos_within_days_from_publish(df1, \"scopus_videos_2019_life\", 360, None)\n",
    "print(len(_idx_papers_2019), len(_idx_papers_2019_90), len(_idx_papers_2019_180), len(_idx_papers_2019_270), len(_idx_papers_2019_360), len(_idx_papers_2019_rest))\n",
    "\n",
    "_idx_papers_2014 = get_dois_with_videos_within_days_from_publish(df3, \"scopus_videos_2014_life\")\n",
    "_idx_papers_2014_90 = get_dois_with_videos_within_days_from_publish(df3, \"scopus_videos_2014_life\", None, 90)\n",
    "_idx_papers_2014_180 = get_dois_with_videos_within_days_from_publish(df3, \"scopus_videos_2014_life\", 90, 180)\n",
    "_idx_papers_2014_270 = get_dois_with_videos_within_days_from_publish(df3, \"scopus_videos_2014_life\", 180, 270)\n",
    "_idx_papers_2014_360 = get_dois_with_videos_within_days_from_publish(df3, \"scopus_videos_2014_life\", 270, 360)\n",
    "_idx_papers_2014_rest = get_dois_with_videos_within_days_from_publish(df3, \"scopus_videos_2014_life\", 360, None)\n",
    "print(len(_idx_papers_2014), len(_idx_papers_2014_90), len(_idx_papers_2014_180), len(_idx_papers_2014_270), len(_idx_papers_2014_360), len(_idx_papers_2014_rest))"
   ]
  },
  {
   "cell_type": "code",
   "execution_count": 36,
   "metadata": {},
   "outputs": [
    {
     "name": "stderr",
     "output_type": "stream",
     "text": [
      "/home/hweem/git/mastersdegree/ytcrawl/s-transformers/lib/python3.7/site-packages/pandas/core/computation/expressions.py:68: FutureWarning: elementwise comparison failed; returning scalar instead, but in the future will perform elementwise comparison\n",
      "  return op(a, b)\n",
      "/home/hweem/git/mastersdegree/ytcrawl/s-transformers/lib/python3.7/site-packages/ipykernel_launcher.py:1: UserWarning: Boolean Series key will be reindexed to match DataFrame index.\n",
      "  \"\"\"Entry point for launching an IPython kernel.\n",
      "/home/hweem/git/mastersdegree/ytcrawl/s-transformers/lib/python3.7/site-packages/pandas/core/computation/expressions.py:68: FutureWarning: elementwise comparison failed; returning scalar instead, but in the future will perform elementwise comparison\n",
      "  return op(a, b)\n",
      "/home/hweem/git/mastersdegree/ytcrawl/s-transformers/lib/python3.7/site-packages/ipykernel_launcher.py:2: UserWarning: Boolean Series key will be reindexed to match DataFrame index.\n",
      "  \n",
      "/home/hweem/git/mastersdegree/ytcrawl/s-transformers/lib/python3.7/site-packages/pandas/core/computation/expressions.py:68: FutureWarning: elementwise comparison failed; returning scalar instead, but in the future will perform elementwise comparison\n",
      "  return op(a, b)\n",
      "/home/hweem/git/mastersdegree/ytcrawl/s-transformers/lib/python3.7/site-packages/ipykernel_launcher.py:3: UserWarning: Boolean Series key will be reindexed to match DataFrame index.\n",
      "  This is separate from the ipykernel package so we can avoid doing imports until\n",
      "/home/hweem/git/mastersdegree/ytcrawl/s-transformers/lib/python3.7/site-packages/pandas/core/computation/expressions.py:68: FutureWarning: elementwise comparison failed; returning scalar instead, but in the future will perform elementwise comparison\n",
      "  return op(a, b)\n",
      "/home/hweem/git/mastersdegree/ytcrawl/s-transformers/lib/python3.7/site-packages/ipykernel_launcher.py:4: UserWarning: Boolean Series key will be reindexed to match DataFrame index.\n",
      "  after removing the cwd from sys.path.\n",
      "/home/hweem/git/mastersdegree/ytcrawl/s-transformers/lib/python3.7/site-packages/pandas/core/computation/expressions.py:68: FutureWarning: elementwise comparison failed; returning scalar instead, but in the future will perform elementwise comparison\n",
      "  return op(a, b)\n",
      "/home/hweem/git/mastersdegree/ytcrawl/s-transformers/lib/python3.7/site-packages/ipykernel_launcher.py:5: UserWarning: Boolean Series key will be reindexed to match DataFrame index.\n",
      "  \"\"\"\n",
      "/home/hweem/git/mastersdegree/ytcrawl/s-transformers/lib/python3.7/site-packages/pandas/core/computation/expressions.py:68: FutureWarning: elementwise comparison failed; returning scalar instead, but in the future will perform elementwise comparison\n",
      "  return op(a, b)\n",
      "/home/hweem/git/mastersdegree/ytcrawl/s-transformers/lib/python3.7/site-packages/ipykernel_launcher.py:6: UserWarning: Boolean Series key will be reindexed to match DataFrame index.\n",
      "  \n"
     ]
    },
    {
     "data": {
      "text/plain": [
       "{'whiskers': [<matplotlib.lines.Line2D at 0x7f1daede8be0>,\n",
       "  <matplotlib.lines.Line2D at 0x7f1daede8d30>,\n",
       "  <matplotlib.lines.Line2D at 0x7f1daa2fa860>,\n",
       "  <matplotlib.lines.Line2D at 0x7f1daedec908>,\n",
       "  <matplotlib.lines.Line2D at 0x7f1daede1f60>,\n",
       "  <matplotlib.lines.Line2D at 0x7f1daede1588>,\n",
       "  <matplotlib.lines.Line2D at 0x7f1daf50deb8>,\n",
       "  <matplotlib.lines.Line2D at 0x7f1daee97978>,\n",
       "  <matplotlib.lines.Line2D at 0x7f1daee8ae80>,\n",
       "  <matplotlib.lines.Line2D at 0x7f1daee8aa90>,\n",
       "  <matplotlib.lines.Line2D at 0x7f1daa638748>,\n",
       "  <matplotlib.lines.Line2D at 0x7f1daa6382b0>],\n",
       " 'caps': [<matplotlib.lines.Line2D at 0x7f1daede8780>,\n",
       "  <matplotlib.lines.Line2D at 0x7f1daeeb66a0>,\n",
       "  <matplotlib.lines.Line2D at 0x7f1daedec5c0>,\n",
       "  <matplotlib.lines.Line2D at 0x7f1daee8eef0>,\n",
       "  <matplotlib.lines.Line2D at 0x7f1da9d85940>,\n",
       "  <matplotlib.lines.Line2D at 0x7f1da9d85048>,\n",
       "  <matplotlib.lines.Line2D at 0x7f1daee97320>,\n",
       "  <matplotlib.lines.Line2D at 0x7f1daee971d0>,\n",
       "  <matplotlib.lines.Line2D at 0x7f1daee8a5c0>,\n",
       "  <matplotlib.lines.Line2D at 0x7f1daf21dc18>,\n",
       "  <matplotlib.lines.Line2D at 0x7f1daa6389b0>,\n",
       "  <matplotlib.lines.Line2D at 0x7f1daa0f3748>],\n",
       " 'boxes': [<matplotlib.lines.Line2D at 0x7f1daede89b0>,\n",
       "  <matplotlib.lines.Line2D at 0x7f1daee6bba8>,\n",
       "  <matplotlib.lines.Line2D at 0x7f1daee16cc0>,\n",
       "  <matplotlib.lines.Line2D at 0x7f1daf224550>,\n",
       "  <matplotlib.lines.Line2D at 0x7f1daf239208>,\n",
       "  <matplotlib.lines.Line2D at 0x7f1daa638c88>],\n",
       " 'medians': [<matplotlib.lines.Line2D at 0x7f1daeeb62e8>,\n",
       "  <matplotlib.lines.Line2D at 0x7f1daee8ecc0>,\n",
       "  <matplotlib.lines.Line2D at 0x7f1da9d850b8>,\n",
       "  <matplotlib.lines.Line2D at 0x7f1daeeb2ba8>,\n",
       "  <matplotlib.lines.Line2D at 0x7f1daa686160>,\n",
       "  <matplotlib.lines.Line2D at 0x7f1daa0f3c18>],\n",
       " 'fliers': [<matplotlib.lines.Line2D at 0x7f1daeeb6710>,\n",
       "  <matplotlib.lines.Line2D at 0x7f1daee8e7f0>,\n",
       "  <matplotlib.lines.Line2D at 0x7f1daee3e828>,\n",
       "  <matplotlib.lines.Line2D at 0x7f1daeeb2438>,\n",
       "  <matplotlib.lines.Line2D at 0x7f1daa0e5278>,\n",
       "  <matplotlib.lines.Line2D at 0x7f1daa0f3e80>],\n",
       " 'means': []}"
      ]
     },
     "execution_count": 36,
     "metadata": {},
     "output_type": "execute_result"
    },
    {
     "data": {
      "image/png": "[encoded data removed]",
      "text/plain": [
       "<Figure size 864x432 with 1 Axes>"
      ]
     },
     "metadata": {
      "needs_background": "light"
     },
     "output_type": "display_data"
    }
   ],
   "source": [
    "_2019_wo_videos_cit = np.log10(df1[~df1.DOI.isin(_idx_papers_2019)][df1[\"Cited by\"] != \"None\"][\"Cited by\"].dropna().astype(int))\n",
    "_2019_90_w_videos_cit = np.log10(df1[df1.DOI.isin(_idx_papers_2019_90)][df1[\"Cited by\"] != \"None\"][\"Cited by\"].dropna().astype(int))\n",
    "_2019_180_w_videos_cit = np.log10(df1[df1.DOI.isin(_idx_papers_2019_180)][df1[\"Cited by\"] != \"None\"][\"Cited by\"].dropna().astype(int))\n",
    "_2019_270_w_videos_cit = np.log10(df1[df1.DOI.isin(_idx_papers_2019_270)][df1[\"Cited by\"] != \"None\"][\"Cited by\"].dropna().astype(int))\n",
    "_2019_360_w_videos_cit = np.log10(df1[df1.DOI.isin(_idx_papers_2019_360)][df1[\"Cited by\"] != \"None\"][\"Cited by\"].dropna().astype(int))\n",
    "_2019_rest_w_videos_cit = np.log10(df1[df1.DOI.isin(_idx_papers_2019_rest)][df1[\"Cited by\"] != \"None\"][\"Cited by\"].dropna().astype(int))\n",
    "\n",
    "plt.figure(figsize=(12, 6))\n",
    "plt.title(\"Citation by video release date\")\n",
    "# plt.yscale(\"log\")\n",
    "# plt.ylim([0, 200])\n",
    "plt.ylabel(\"log10(Citation)\")\n",
    "plt.boxplot([\n",
    "    _2019_wo_videos_cit,\n",
    "    _2019_90_w_videos_cit,\n",
    "    _2019_180_w_videos_cit,\n",
    "    _2019_270_w_videos_cit,\n",
    "    _2019_360_w_videos_cit,\n",
    "    _2019_rest_w_videos_cit\n",
    "],\n",
    "    labels=[\n",
    "        \"2019 w/o videos\\n(N=%s)\"%len(_2019_wo_videos_cit),\n",
    "        \"2019 w/ videos-90\\n(N=%s)\"%len(_2019_90_w_videos_cit),\n",
    "        \"2019 w/ videos-180\\n(N=%s)\"%len(_2019_180_w_videos_cit),\n",
    "        \"2019 w/ videos-270\\n(N=%s)\"%len(_2019_270_w_videos_cit),\n",
    "        \"2019 w/ videos-360\\n(N=%s)\"%len(_2019_360_w_videos_cit),\n",
    "        \"2019 w/ videos-rest\\n(N=%s)\"%len(_2019_rest_w_videos_cit)\n",
    "    ]\n",
    ")"
   ]
  },
  {
   "cell_type": "code",
   "execution_count": 37,
   "metadata": {},
   "outputs": [
    {
     "name": "stdout",
     "output_type": "stream",
     "text": [
      "2019-90\tS = -3.431868\tp = 0.000603\n",
      "2019-180\tS = -1.480304\tp = 0.138836\n",
      "2019-270\tS = -4.678255\tp = 0.000003\n",
      "2019-360\tS = -4.632342\tp = 0.000004\n",
      "2019-rest\tS = -2.318423\tp = 0.020455\n"
     ]
    }
   ],
   "source": [
    "_s2019, _p2019 = stats.ttest_ind(\n",
    "    _2019_wo_videos_cit,\n",
    "    _2019_90_w_videos_cit\n",
    ")\n",
    "print(\"2019-90\\tS = %f\\tp = %f\"%(_s2019, _p2019))\n",
    "_s2019, _p2019 = stats.ttest_ind(\n",
    "    _2019_wo_videos_cit,\n",
    "    _2019_180_w_videos_cit\n",
    ")\n",
    "print(\"2019-180\\tS = %f\\tp = %f\"%(_s2019, _p2019))\n",
    "_s2019, _p2019 = stats.ttest_ind(\n",
    "    _2019_wo_videos_cit,\n",
    "    _2019_270_w_videos_cit\n",
    ")\n",
    "print(\"2019-270\\tS = %f\\tp = %f\"%(_s2019, _p2019))\n",
    "_s2019, _p2019 = stats.ttest_ind(\n",
    "    _2019_wo_videos_cit,\n",
    "    _2019_360_w_videos_cit\n",
    ")\n",
    "print(\"2019-360\\tS = %f\\tp = %f\"%(_s2019, _p2019))\n",
    "_s2019, _p2019 = stats.ttest_ind(\n",
    "    _2019_wo_videos_cit,\n",
    "    _2019_rest_w_videos_cit\n",
    ")\n",
    "print(\"2019-rest\\tS = %f\\tp = %f\"%(_s2019, _p2019))"
   ]
  },
  {
   "cell_type": "markdown",
   "metadata": {},
   "source": [
    "Citation by video release date: w/ bh와 w/o bh 비교시 별 차이없음"
   ]
  },
  {
   "cell_type": "code",
   "execution_count": 38,
   "metadata": {},
   "outputs": [
    {
     "name": "stderr",
     "output_type": "stream",
     "text": [
      "/home/hweem/git/mastersdegree/ytcrawl/s-transformers/lib/python3.7/site-packages/pandas/core/computation/expressions.py:68: FutureWarning: elementwise comparison failed; returning scalar instead, but in the future will perform elementwise comparison\n",
      "  return op(a, b)\n",
      "/home/hweem/git/mastersdegree/ytcrawl/s-transformers/lib/python3.7/site-packages/ipykernel_launcher.py:1: UserWarning: Boolean Series key will be reindexed to match DataFrame index.\n",
      "  \"\"\"Entry point for launching an IPython kernel.\n",
      "/home/hweem/git/mastersdegree/ytcrawl/s-transformers/lib/python3.7/site-packages/pandas/core/computation/expressions.py:68: FutureWarning: elementwise comparison failed; returning scalar instead, but in the future will perform elementwise comparison\n",
      "  return op(a, b)\n",
      "/home/hweem/git/mastersdegree/ytcrawl/s-transformers/lib/python3.7/site-packages/ipykernel_launcher.py:2: UserWarning: Boolean Series key will be reindexed to match DataFrame index.\n",
      "  \n",
      "/home/hweem/git/mastersdegree/ytcrawl/s-transformers/lib/python3.7/site-packages/pandas/core/computation/expressions.py:68: FutureWarning: elementwise comparison failed; returning scalar instead, but in the future will perform elementwise comparison\n",
      "  return op(a, b)\n",
      "/home/hweem/git/mastersdegree/ytcrawl/s-transformers/lib/python3.7/site-packages/ipykernel_launcher.py:3: UserWarning: Boolean Series key will be reindexed to match DataFrame index.\n",
      "  This is separate from the ipykernel package so we can avoid doing imports until\n",
      "/home/hweem/git/mastersdegree/ytcrawl/s-transformers/lib/python3.7/site-packages/pandas/core/computation/expressions.py:68: FutureWarning: elementwise comparison failed; returning scalar instead, but in the future will perform elementwise comparison\n",
      "  return op(a, b)\n",
      "/home/hweem/git/mastersdegree/ytcrawl/s-transformers/lib/python3.7/site-packages/ipykernel_launcher.py:4: UserWarning: Boolean Series key will be reindexed to match DataFrame index.\n",
      "  after removing the cwd from sys.path.\n",
      "/home/hweem/git/mastersdegree/ytcrawl/s-transformers/lib/python3.7/site-packages/pandas/core/computation/expressions.py:68: FutureWarning: elementwise comparison failed; returning scalar instead, but in the future will perform elementwise comparison\n",
      "  return op(a, b)\n",
      "/home/hweem/git/mastersdegree/ytcrawl/s-transformers/lib/python3.7/site-packages/ipykernel_launcher.py:5: UserWarning: Boolean Series key will be reindexed to match DataFrame index.\n",
      "  \"\"\"\n",
      "/home/hweem/git/mastersdegree/ytcrawl/s-transformers/lib/python3.7/site-packages/pandas/core/computation/expressions.py:68: FutureWarning: elementwise comparison failed; returning scalar instead, but in the future will perform elementwise comparison\n",
      "  return op(a, b)\n",
      "/home/hweem/git/mastersdegree/ytcrawl/s-transformers/lib/python3.7/site-packages/ipykernel_launcher.py:6: UserWarning: Boolean Series key will be reindexed to match DataFrame index.\n",
      "  \n"
     ]
    },
    {
     "data": {
      "text/plain": [
       "{'whiskers': [<matplotlib.lines.Line2D at 0x7f1daa72ff60>,\n",
       "  <matplotlib.lines.Line2D at 0x7f1daa72fd30>,\n",
       "  <matplotlib.lines.Line2D at 0x7f1daa3e7390>,\n",
       "  <matplotlib.lines.Line2D at 0x7f1daa3e0828>,\n",
       "  <matplotlib.lines.Line2D at 0x7f1daa50e400>,\n",
       "  <matplotlib.lines.Line2D at 0x7f1daa50e048>,\n",
       "  <matplotlib.lines.Line2D at 0x7f1daa4e9978>,\n",
       "  <matplotlib.lines.Line2D at 0x7f1daa4e9320>,\n",
       "  <matplotlib.lines.Line2D at 0x7f1da9e10320>,\n",
       "  <matplotlib.lines.Line2D at 0x7f1da9e0ab00>,\n",
       "  <matplotlib.lines.Line2D at 0x7f1daa791470>,\n",
       "  <matplotlib.lines.Line2D at 0x7f1daedfc978>],\n",
       " 'caps': [<matplotlib.lines.Line2D at 0x7f1daece2ac8>,\n",
       "  <matplotlib.lines.Line2D at 0x7f1daece2b38>,\n",
       "  <matplotlib.lines.Line2D at 0x7f1daa3e0ba8>,\n",
       "  <matplotlib.lines.Line2D at 0x7f1daa3e09e8>,\n",
       "  <matplotlib.lines.Line2D at 0x7f1daa503ef0>,\n",
       "  <matplotlib.lines.Line2D at 0x7f1daa5038d0>,\n",
       "  <matplotlib.lines.Line2D at 0x7f1daa4e2ac8>,\n",
       "  <matplotlib.lines.Line2D at 0x7f1daa4e2908>,\n",
       "  <matplotlib.lines.Line2D at 0x7f1da9e0a668>,\n",
       "  <matplotlib.lines.Line2D at 0x7f1da9a782b0>,\n",
       "  <matplotlib.lines.Line2D at 0x7f1daef5d860>,\n",
       "  <matplotlib.lines.Line2D at 0x7f1daef5d3c8>],\n",
       " 'boxes': [<matplotlib.lines.Line2D at 0x7f1daa72f550>,\n",
       "  <matplotlib.lines.Line2D at 0x7f1daed262e8>,\n",
       "  <matplotlib.lines.Line2D at 0x7f1daa50ee80>,\n",
       "  <matplotlib.lines.Line2D at 0x7f1daa4e9f98>,\n",
       "  <matplotlib.lines.Line2D at 0x7f1da9e10940>,\n",
       "  <matplotlib.lines.Line2D at 0x7f1daa7916a0>],\n",
       " 'medians': [<matplotlib.lines.Line2D at 0x7f1daece27b8>,\n",
       "  <matplotlib.lines.Line2D at 0x7f1daa3d9cc0>,\n",
       "  <matplotlib.lines.Line2D at 0x7f1daa5033c8>,\n",
       "  <matplotlib.lines.Line2D at 0x7f1daa4e22e8>,\n",
       "  <matplotlib.lines.Line2D at 0x7f1da9a78828>,\n",
       "  <matplotlib.lines.Line2D at 0x7f1daef5dcf8>],\n",
       " 'fliers': [<matplotlib.lines.Line2D at 0x7f1daa799978>,\n",
       "  <matplotlib.lines.Line2D at 0x7f1daa50eba8>,\n",
       "  <matplotlib.lines.Line2D at 0x7f1daa503208>,\n",
       "  <matplotlib.lines.Line2D at 0x7f1da9e10e80>,\n",
       "  <matplotlib.lines.Line2D at 0x7f1da9deac50>,\n",
       "  <matplotlib.lines.Line2D at 0x7f1daef5d8d0>],\n",
       " 'means': []}"
      ]
     },
     "execution_count": 38,
     "metadata": {},
     "output_type": "execute_result"
    },
    {
     "data": {
      "image/png": "[encoded data removed]",
      "text/plain": [
       "<Figure size 864x432 with 1 Axes>"
      ]
     },
     "metadata": {
      "needs_background": "light"
     },
     "output_type": "display_data"
    }
   ],
   "source": [
    "_2019_wo_videos_aas = np.log10(df1[~df1.DOI.isin(_idx_papers_2019)][df1[\"AAS\"] != \"None\"][\"AAS\"].dropna().astype(int))\n",
    "_2019_90_w_videos_aas = np.log10(df1[df1.DOI.isin(_idx_papers_2019_90)][df1[\"AAS\"] != \"None\"][\"AAS\"].dropna().astype(int))\n",
    "_2019_180_w_videos_aas = np.log10(df1[df1.DOI.isin(_idx_papers_2019_180)][df1[\"AAS\"] != \"None\"][\"AAS\"].dropna().astype(int))\n",
    "_2019_270_w_videos_aas = np.log10(df1[df1.DOI.isin(_idx_papers_2019_270)][df1[\"AAS\"] != \"None\"][\"AAS\"].dropna().astype(int))\n",
    "_2019_360_w_videos_aas = np.log10(df1[df1.DOI.isin(_idx_papers_2019_360)][df1[\"AAS\"] != \"None\"][\"AAS\"].dropna().astype(int))\n",
    "_2019_rest_w_videos_aas = np.log10(df1[df1.DOI.isin(_idx_papers_2019_rest)][df1[\"AAS\"] != \"None\"][\"AAS\"].dropna().astype(int))\n",
    "\n",
    "plt.figure(figsize=(12, 6))\n",
    "plt.title(\"AAS by video release date\")\n",
    "# plt.yscale(\"log\")\n",
    "# plt.ylim([0, 200])\n",
    "plt.ylabel(\"log10(AAS)\")\n",
    "plt.boxplot([\n",
    "    _2019_wo_videos_aas,\n",
    "    _2019_90_w_videos_aas,\n",
    "    _2019_180_w_videos_aas,\n",
    "    _2019_270_w_videos_aas,\n",
    "    _2019_360_w_videos_aas,\n",
    "    _2019_rest_w_videos_aas\n",
    "],\n",
    "    labels=[\n",
    "        \"2019 w/o videos\\n(N=%s)\"%len(_2019_wo_videos_aas),\n",
    "        \"2019 w/ videos-90\\n(N=%s)\"%len(_2019_90_w_videos_aas),\n",
    "        \"2019 w/ videos-180\\n(N=%s)\"%len(_2019_180_w_videos_aas),\n",
    "        \"2019 w/ videos-270\\n(N=%s)\"%len(_2019_270_w_videos_aas),\n",
    "        \"2019 w/ videos-360\\n(N=%s)\"%len(_2019_360_w_videos_aas),\n",
    "        \"2019 w/ videos-rest\\n(N=%s)\"%len(_2019_rest_w_videos_aas)\n",
    "    ]\n",
    ")"
   ]
  },
  {
   "cell_type": "code",
   "execution_count": 39,
   "metadata": {},
   "outputs": [
    {
     "name": "stdout",
     "output_type": "stream",
     "text": [
      "2019-90\tS = -21.844594\tp = 0.000000\n",
      "2019-180\tS = -8.725570\tp = 0.000000\n",
      "2019-270\tS = -12.032223\tp = 0.000000\n",
      "2019-360\tS = -10.868221\tp = 0.000000\n",
      "2019-rest\tS = -11.317859\tp = 0.000000\n"
     ]
    }
   ],
   "source": [
    "_s2019, _p2019 = stats.ttest_ind(\n",
    "    _2019_wo_videos_aas,\n",
    "    _2019_90_w_videos_aas\n",
    ")\n",
    "print(\"2019-90\\tS = %f\\tp = %f\"%(_s2019, _p2019))\n",
    "_s2019, _p2019 = stats.ttest_ind(\n",
    "    _2019_wo_videos_aas,\n",
    "    _2019_180_w_videos_aas\n",
    ")\n",
    "print(\"2019-180\\tS = %f\\tp = %f\"%(_s2019, _p2019))\n",
    "_s2019, _p2019 = stats.ttest_ind(\n",
    "    _2019_wo_videos_aas,\n",
    "    _2019_270_w_videos_aas\n",
    ")\n",
    "print(\"2019-270\\tS = %f\\tp = %f\"%(_s2019, _p2019))\n",
    "_s2019, _p2019 = stats.ttest_ind(\n",
    "    _2019_wo_videos_aas,\n",
    "    _2019_360_w_videos_aas\n",
    ")\n",
    "print(\"2019-360\\tS = %f\\tp = %f\"%(_s2019, _p2019))\n",
    "_s2019, _p2019 = stats.ttest_ind(\n",
    "    _2019_wo_videos_aas,\n",
    "    _2019_rest_w_videos_aas\n",
    ")\n",
    "print(\"2019-rest\\tS = %f\\tp = %f\"%(_s2019, _p2019))"
   ]
  },
  {
   "cell_type": "markdown",
   "metadata": {},
   "source": [
    "AAS by video release date: w/ bh와 w/o bh 비교시 별 차이없음"
   ]
  },
  {
   "cell_type": "markdown",
   "metadata": {},
   "source": [
    "결론: 블랙홀 관측 논문을 제외하고 2019 분석 해봐도, 해당 논문 포함 분석 결과와 유의성에 있어 거의 동일"
   ]
  },
  {
   "cell_type": "code",
   "execution_count": null,
   "metadata": {},
   "outputs": [],
   "source": []
  }
 ],
 "metadata": {
  "kernelspec": {
   "display_name": "Python 3",
   "language": "python",
   "name": "python3"
  },
  "language_info": {
   "codemirror_mode": {
    "name": "ipython",
    "version": 3
   },
   "file_extension": ".py",
   "mimetype": "text/x-python",
   "name": "python",
   "nbconvert_exporter": "python",
   "pygments_lexer": "ipython3",
   "version": "3.8.5"
  }
 },
 "nbformat": 4,
 "nbformat_minor": 4
}
