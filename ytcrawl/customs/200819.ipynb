{
 "cells": [
  {
   "cell_type": "code",
   "execution_count": 3,
   "metadata": {},
   "outputs": [],
   "source": [
    "import numpy as np\n",
    "import pandas as pd\n",
    "from db_handler import DBHandler\n",
    "from matplotlib import pyplot as plt\n",
    "from scipy import stats\n",
    "from datetime import datetime, timedelta\n",
    "from calendar import monthrange\n",
    "%matplotlib inline"
   ]
  },
  {
   "cell_type": "code",
   "execution_count": 4,
   "metadata": {},
   "outputs": [],
   "source": [
    "def parse_fetches(fetches):\n",
    "    _new_fetches = list()\n",
    "    for _fetch in fetches:\n",
    "        for _doi in _fetch[0].split(\", \"):\n",
    "            _new_fetches.append(\n",
    "                (_doi, _fetch[1])\n",
    "            )\n",
    "    return _new_fetches\n",
    "\n",
    "def get_dois_with_videos_within_days_from_publish(df, table_name, days_from=None, days_until=None):\n",
    "    _set_target_dois = set()\n",
    "    db_handler.sql_handler.select(table_name, [\"idx_paper\", \"publishedAt\"])\n",
    "    fetches = db_handler.execute().fetchall()\n",
    "    fetches = parse_fetches(fetches)\n",
    "    \n",
    "    for _row in fetches:\n",
    "#         print(\"DOI:\", _row[0])\n",
    "        _target_paper = df[df[\"DOI\"] == _row[0]]\n",
    "#         if len(_target_paper) == 0:\n",
    "#             continue\n",
    "        if len(_target_paper) > 1:\n",
    "            _target_paper = _target_paper.iloc[0]\n",
    "        _dt_publish = datetime(_target_paper[\"Year\"], _target_paper[\"Month\"], 1)\n",
    "        \n",
    "        if days_from != None:\n",
    "            _dt_video_from = _dt_publish + timedelta(days=days_from)\n",
    "            if _row[1] < _dt_video_from:\n",
    "                continue\n",
    "        \n",
    "        if days_until != None:\n",
    "            _dt_video_until = _dt_publish + timedelta(days=days_until)\n",
    "            if _row[1] > _dt_video_until:\n",
    "                continue\n",
    "        \n",
    "        _set_target_dois.add(_row[0])\n",
    "    \n",
    "#     if days_until == None:\n",
    "#         _set_target_dois = set(map(lambda _row: _row[0], fetches))\n",
    "#     else:\n",
    "#         for _row in fetches:\n",
    "#             _target_paper = df[df[\"DOI\"] == _row[0]]\n",
    "#             if len(_target_paper) > 1:\n",
    "#                 _target_paper = _target_paper.iloc[0]\n",
    "#             _dt_publish = datetime(_target_paper[\"Year\"], _target_paper[\"Month\"], 1)\n",
    "            \n",
    "#             _dt_video_from = _dt_publish + timedelta(days=days_from)\n",
    "#             _dt_video_until = _dt_publish + timedelta(days=days_until)\n",
    "            \n",
    "#             if _row[1] < _dt_video_deadline:\n",
    "#                 _set_target_dois.add(_row[0])\n",
    "    \n",
    "    return _set_target_dois"
   ]
  },
  {
   "cell_type": "code",
   "execution_count": 27,
   "metadata": {},
   "outputs": [
    {
     "name": "stdout",
     "output_type": "stream",
     "text": [
      "14533 11564 9598\n",
      "14330 11353 9336\n"
     ]
    }
   ],
   "source": [
    "df1 = pd.read_csv(\"/home/hweem/git/mastersdegree/ytcrawl/customs/scopus/scopus_math+comp_top5perc_1901-1906.csv\")\n",
    "df2 = pd.read_csv(\"/home/hweem/git/mastersdegree/ytcrawl/customs/scopus/scopus_math+comp_top5perc_1701-1706.csv\")\n",
    "df3 = pd.read_csv(\"/home/hweem/git/mastersdegree/ytcrawl/customs/scopus/scopus_math+comp_top5perc_1401-1406.csv\")\n",
    "print(len(df1), len(df2), len(df3))\n",
    "df1 = df1.drop_duplicates(subset=[\"DOI\"])\n",
    "df2 = df2.drop_duplicates(subset=[\"DOI\"])\n",
    "df3 = df3.drop_duplicates(subset=[\"DOI\"])\n",
    "print(len(df1), len(df2), len(df3))"
   ]
  },
  {
   "cell_type": "code",
   "execution_count": 28,
   "metadata": {},
   "outputs": [
    {
     "name": "stdout",
     "output_type": "stream",
     "text": [
      "\tCommand set: SELECT `idx_paper`, `publishedAt` FROM `scopus_videos_2014_comp`\n",
      "\tsql: SELECT `idx_paper`, `publishedAt` FROM `scopus_videos_2014_comp`;\n",
      "\tCommand set: SELECT `idx_paper`, `publishedAt` FROM `scopus_videos_2017_comp`\n",
      "\tsql: SELECT `idx_paper`, `publishedAt` FROM `scopus_videos_2017_comp`;\n",
      "\tCommand set: SELECT `idx_paper`, `publishedAt` FROM `scopus_videos_2019_comp`\n",
      "\tsql: SELECT `idx_paper`, `publishedAt` FROM `scopus_videos_2019_comp`;\n"
     ]
    }
   ],
   "source": [
    "db_handler = DBHandler()\n",
    "db_handler.sql_handler.select(\"scopus_videos_2014_comp\", [\"idx_paper\", \"publishedAt\"])\n",
    "_videos_2014 = db_handler.execute().fetchall()\n",
    "db_handler.sql_handler.select(\"scopus_videos_2017_comp\", [\"idx_paper\", \"publishedAt\"])\n",
    "_videos_2017 = db_handler.execute().fetchall()\n",
    "db_handler.sql_handler.select(\"scopus_videos_2019_comp\", [\"idx_paper\", \"publishedAt\"])\n",
    "_videos_2019 = db_handler.execute().fetchall()"
   ]
  },
  {
   "cell_type": "code",
   "execution_count": 29,
   "metadata": {},
   "outputs": [
    {
     "name": "stdout",
     "output_type": "stream",
     "text": [
      "\tCommand set: SELECT `idx_paper`, `publishedAt` FROM `scopus_videos_2019_comp`\n",
      "\tsql: SELECT `idx_paper`, `publishedAt` FROM `scopus_videos_2019_comp`;\n",
      "\tCommand set: SELECT `idx_paper`, `publishedAt` FROM `scopus_videos_2019_comp`\n",
      "\tsql: SELECT `idx_paper`, `publishedAt` FROM `scopus_videos_2019_comp`;\n",
      "64 36\n",
      "\tCommand set: SELECT `idx_paper`, `publishedAt` FROM `scopus_videos_2017_comp`\n",
      "\tsql: SELECT `idx_paper`, `publishedAt` FROM `scopus_videos_2017_comp`;\n",
      "\tCommand set: SELECT `idx_paper`, `publishedAt` FROM `scopus_videos_2017_comp`\n",
      "\tsql: SELECT `idx_paper`, `publishedAt` FROM `scopus_videos_2017_comp`;\n",
      "72 30\n",
      "\tCommand set: SELECT `idx_paper`, `publishedAt` FROM `scopus_videos_2014_comp`\n",
      "\tsql: SELECT `idx_paper`, `publishedAt` FROM `scopus_videos_2014_comp`;\n",
      "\tCommand set: SELECT `idx_paper`, `publishedAt` FROM `scopus_videos_2014_comp`\n",
      "\tsql: SELECT `idx_paper`, `publishedAt` FROM `scopus_videos_2014_comp`;\n",
      "102 25\n"
     ]
    }
   ],
   "source": [
    "_idx_papers_2019 = get_dois_with_videos_within_days_from_publish(df1, \"scopus_videos_2019_comp\")\n",
    "_idx_papers_2019_90 = get_dois_with_videos_within_days_from_publish(df1, \"scopus_videos_2019_comp\", None, 90)\n",
    "print(len(_idx_papers_2019), len(_idx_papers_2019_90))\n",
    "_idx_papers_2017 = get_dois_with_videos_within_days_from_publish(df2, \"scopus_videos_2017_comp\")\n",
    "_idx_papers_2017_90 = get_dois_with_videos_within_days_from_publish(df2, \"scopus_videos_2017_comp\", None, 90)\n",
    "print(len(_idx_papers_2017), len(_idx_papers_2017_90))\n",
    "_idx_papers_2014 = get_dois_with_videos_within_days_from_publish(df3, \"scopus_videos_2014_comp\")\n",
    "_idx_papers_2014_90 = get_dois_with_videos_within_days_from_publish(df3, \"scopus_videos_2014_comp\", None, 90)\n",
    "print(len(_idx_papers_2014), len(_idx_papers_2014_90))"
   ]
  },
  {
   "cell_type": "code",
   "execution_count": 30,
   "metadata": {},
   "outputs": [
    {
     "name": "stdout",
     "output_type": "stream",
     "text": [
      "37 60\n",
      "439      10.0\n",
      "489      67.0\n",
      "596      44.0\n",
      "730       2.0\n",
      "766       1.0\n",
      "1558      3.0\n",
      "2101      3.0\n",
      "2108      2.0\n",
      "2419      6.0\n",
      "2450      1.0\n",
      "2912      6.0\n",
      "3051      9.0\n",
      "3380      2.0\n",
      "3586      2.0\n",
      "3824      1.0\n",
      "4050      3.0\n",
      "5173      3.0\n",
      "5181     97.0\n",
      "5231    209.0\n",
      "5250      7.0\n",
      "5276    515.0\n",
      "5318     22.0\n",
      "5322    301.0\n",
      "5352      2.0\n",
      "5441      1.0\n",
      "5448      1.0\n",
      "5449      1.0\n",
      "5453      1.0\n",
      "5454      1.0\n",
      "5461     25.0\n",
      "5473      4.0\n",
      "5474      2.0\n",
      "5627      5.0\n",
      "5708      1.0\n",
      "5762      2.0\n",
      "6513      2.0\n",
      "6553      1.0\n",
      "6626     28.0\n",
      "6656     11.0\n",
      "6739      4.0\n",
      "6839      2.0\n",
      "6866      6.0\n",
      "6892      3.0\n",
      "7534      4.0\n",
      "7537      3.0\n",
      "8154     84.0\n",
      "8170     11.0\n",
      "8224      2.0\n",
      "8235     15.0\n",
      "8237    171.0\n",
      "8293     88.0\n",
      "8335      5.0\n",
      "8352     86.0\n",
      "8357    269.0\n",
      "8401      1.0\n",
      "8524      1.0\n",
      "9384    461.0\n",
      "9386     21.0\n",
      "9392     27.0\n",
      "9403     21.0\n",
      "Name: AAS, dtype: float64\n"
     ]
    },
    {
     "name": "stderr",
     "output_type": "stream",
     "text": [
      "/home/hweem/git/mastersdegree/ytcrawl/ytcrawl0/lib/python3.5/site-packages/ipykernel_launcher.py:2: UserWarning: Boolean Series key will be reindexed to match DataFrame index.\n",
      "  \n",
      "/home/hweem/git/mastersdegree/ytcrawl/ytcrawl0/lib/python3.5/site-packages/pandas/core/ops.py:1649: FutureWarning: elementwise comparison failed; returning scalar instead, but in the future will perform elementwise comparison\n",
      "  result = method(y)\n",
      "/home/hweem/git/mastersdegree/ytcrawl/ytcrawl0/lib/python3.5/site-packages/ipykernel_launcher.py:3: UserWarning: Boolean Series key will be reindexed to match DataFrame index.\n",
      "  This is separate from the ipykernel package so we can avoid doing imports until\n",
      "/home/hweem/git/mastersdegree/ytcrawl/ytcrawl0/lib/python3.5/site-packages/ipykernel_launcher.py:5: UserWarning: Boolean Series key will be reindexed to match DataFrame index.\n",
      "  \"\"\"\n"
     ]
    }
   ],
   "source": [
    "print(\n",
    "    len(df1[df1.DOI.isin(_idx_papers_2019)][df1[\"AAS\"] != \"None\"][\"AAS\"].dropna()),\n",
    "    len(df3[df3.DOI.isin(_idx_papers_2014)][df3[\"AAS\"] != \"None\"][\"AAS\"].dropna())\n",
    ")\n",
    "print(df3[df3.DOI.isin(_idx_papers_2014)][df3[\"AAS\"] != \"None\"][\"AAS\"].dropna())"
   ]
  },
  {
   "cell_type": "code",
   "execution_count": 35,
   "metadata": {},
   "outputs": [
    {
     "data": {
      "text/plain": [
       "(1273, 384, 314)"
      ]
     },
     "execution_count": 35,
     "metadata": {},
     "output_type": "execute_result"
    }
   ],
   "source": [
    "len(df1[df1[\"Cited by\"].isna()]), len(df2[df2[\"Cited by\"].isna()]), len(df3[df3[\"Cited by\"].isna()])"
   ]
  },
  {
   "cell_type": "code",
   "execution_count": 37,
   "metadata": {},
   "outputs": [
    {
     "data": {
      "text/plain": [
       "{'boxes': [<matplotlib.lines.Line2D at 0x7fd58911ee48>,\n",
       "  <matplotlib.lines.Line2D at 0x7fd58912f358>,\n",
       "  <matplotlib.lines.Line2D at 0x7fd589127a90>,\n",
       "  <matplotlib.lines.Line2D at 0x7fd58b65e208>,\n",
       "  <matplotlib.lines.Line2D at 0x7fd58b663940>,\n",
       "  <matplotlib.lines.Line2D at 0x7fd58b66d0b8>],\n",
       " 'caps': [<matplotlib.lines.Line2D at 0x7fd589138630>,\n",
       "  <matplotlib.lines.Line2D at 0x7fd589138978>,\n",
       "  <matplotlib.lines.Line2D at 0x7fd58912fd68>,\n",
       "  <matplotlib.lines.Line2D at 0x7fd5891270f0>,\n",
       "  <matplotlib.lines.Line2D at 0x7fd58b65c4e0>,\n",
       "  <matplotlib.lines.Line2D at 0x7fd58b65c828>,\n",
       "  <matplotlib.lines.Line2D at 0x7fd58b65ec18>,\n",
       "  <matplotlib.lines.Line2D at 0x7fd58b65ef60>,\n",
       "  <matplotlib.lines.Line2D at 0x7fd58b668390>,\n",
       "  <matplotlib.lines.Line2D at 0x7fd58b6686d8>,\n",
       "  <matplotlib.lines.Line2D at 0x7fd58b66dac8>,\n",
       "  <matplotlib.lines.Line2D at 0x7fd58b66de10>],\n",
       " 'fliers': [<matplotlib.lines.Line2D at 0x7fd58912f048>,\n",
       "  <matplotlib.lines.Line2D at 0x7fd589127780>,\n",
       "  <matplotlib.lines.Line2D at 0x7fd58b65ceb8>,\n",
       "  <matplotlib.lines.Line2D at 0x7fd58b663630>,\n",
       "  <matplotlib.lines.Line2D at 0x7fd58b668d68>,\n",
       "  <matplotlib.lines.Line2D at 0x7fd58b6734e0>],\n",
       " 'means': [],\n",
       " 'medians': [<matplotlib.lines.Line2D at 0x7fd589138cc0>,\n",
       "  <matplotlib.lines.Line2D at 0x7fd589127438>,\n",
       "  <matplotlib.lines.Line2D at 0x7fd58b65cb70>,\n",
       "  <matplotlib.lines.Line2D at 0x7fd58b6632e8>,\n",
       "  <matplotlib.lines.Line2D at 0x7fd58b668a20>,\n",
       "  <matplotlib.lines.Line2D at 0x7fd58b673198>],\n",
       " 'whiskers': [<matplotlib.lines.Line2D at 0x7fd58911ef60>,\n",
       "  <matplotlib.lines.Line2D at 0x7fd5891382e8>,\n",
       "  <matplotlib.lines.Line2D at 0x7fd58912f6d8>,\n",
       "  <matplotlib.lines.Line2D at 0x7fd58912fa20>,\n",
       "  <matplotlib.lines.Line2D at 0x7fd589127e10>,\n",
       "  <matplotlib.lines.Line2D at 0x7fd58b65c198>,\n",
       "  <matplotlib.lines.Line2D at 0x7fd58b65e588>,\n",
       "  <matplotlib.lines.Line2D at 0x7fd58b65e8d0>,\n",
       "  <matplotlib.lines.Line2D at 0x7fd58b663cc0>,\n",
       "  <matplotlib.lines.Line2D at 0x7fd58b668048>,\n",
       "  <matplotlib.lines.Line2D at 0x7fd58b66d438>,\n",
       "  <matplotlib.lines.Line2D at 0x7fd58b66d780>]}"
      ]
     },
     "execution_count": 37,
     "metadata": {},
     "output_type": "execute_result"
    },
    {
     "data": {
      "image/png": "[encoded data removed]",
      "text/plain": [
       "<Figure size 720x432 with 1 Axes>"
      ]
     },
     "metadata": {
      "needs_background": "light"
     },
     "output_type": "display_data"
    }
   ],
   "source": [
    "_2019_wo_videos_cit = np.log10(df1[~df1.DOI.isin(_idx_papers_2019)][\"Cited by\"].dropna().astype(int))\n",
    "_2019_w_videos_cit = np.log10(df1[df1.DOI.isin(_idx_papers_2019)][\"Cited by\"].dropna().astype(int))\n",
    "_2017_wo_videos_cit = np.log10(df2[~df2.DOI.isin(_idx_papers_2017)][\"Cited by\"].dropna().astype(int))\n",
    "_2017_w_videos_cit = np.log10(df2[df2.DOI.isin(_idx_papers_2017)][\"Cited by\"].dropna().astype(int))\n",
    "_2014_wo_videos_cit = np.log10(df3[~df3.DOI.isin(_idx_papers_2014)][\"Cited by\"].dropna().astype(int))\n",
    "_2014_w_videos_cit = np.log10(df3[df3.DOI.isin(_idx_papers_2014)][\"Cited by\"].dropna().astype(int))\n",
    "\n",
    "plt.figure(figsize=(10, 6))\n",
    "plt.title(\"Citation\")\n",
    "# plt.yscale(\"log\")\n",
    "# plt.ylim([0, 200])\n",
    "plt.ylabel(\"log10(Citation)\")\n",
    "plt.boxplot([\n",
    "    _2019_wo_videos_cit,\n",
    "    _2019_w_videos_cit,\n",
    "    _2017_wo_videos_cit,\n",
    "    _2017_w_videos_cit,\n",
    "    _2014_wo_videos_cit,\n",
    "    _2014_w_videos_cit\n",
    "],\n",
    "    labels=[\n",
    "        \"2019 w/o videos\\n(N=%s)\"%len(_2019_wo_videos_cit),\n",
    "        \"2019 w/ videos\\n(N=%s)\"%len(_2019_w_videos_cit),\n",
    "        \"2017 w/o videos\\n(N=%s)\"%len(_2017_wo_videos_cit),\n",
    "        \"2017 w/ videos\\n(N=%s)\"%len(_2017_w_videos_cit),\n",
    "        \"2014 w/o videos\\n(N=%s)\"%len(_2014_wo_videos_cit),\n",
    "        \"2014 w/ videos\\n(N=%s)\"%len(_2014_w_videos_cit)\n",
    "    ]\n",
    ")"
   ]
  },
  {
   "cell_type": "code",
   "execution_count": 38,
   "metadata": {},
   "outputs": [
    {
     "name": "stdout",
     "output_type": "stream",
     "text": [
      "2019\tS = -1.385324\tp = 0.165977\n",
      "2017\tS = -3.727217\tp = 0.000195\n",
      "2014\tS = -5.486023\tp = 0.000000\n"
     ]
    }
   ],
   "source": [
    "_s2019, _p2019 = stats.ttest_ind(\n",
    "    _2019_wo_videos_cit,\n",
    "    _2019_w_videos_cit\n",
    ")\n",
    "print(\"2019\\tS = %f\\tp = %f\"%(_s2019, _p2019))\n",
    "\n",
    "_s2017, _p2017 = stats.ttest_ind(\n",
    "    _2017_wo_videos_cit,\n",
    "    _2017_w_videos_cit\n",
    ")\n",
    "print(\"2017\\tS = %f\\tp = %f\"%(_s2017, _p2017))\n",
    "\n",
    "_s2014, _p2014 = stats.ttest_ind(\n",
    "    _2014_wo_videos_cit,\n",
    "    _2014_w_videos_cit\n",
    ")\n",
    "print(\"2014\\tS = %f\\tp = %f\"%(_s2014, _p2014))"
   ]
  },
  {
   "cell_type": "code",
   "execution_count": 39,
   "metadata": {},
   "outputs": [
    {
     "name": "stderr",
     "output_type": "stream",
     "text": [
      "/home/hweem/git/mastersdegree/ytcrawl/ytcrawl0/lib/python3.5/site-packages/ipykernel_launcher.py:8: UserWarning: Boolean Series key will be reindexed to match DataFrame index.\n",
      "  \n",
      "/home/hweem/git/mastersdegree/ytcrawl/ytcrawl0/lib/python3.5/site-packages/ipykernel_launcher.py:9: UserWarning: Boolean Series key will be reindexed to match DataFrame index.\n",
      "  if __name__ == '__main__':\n",
      "/home/hweem/git/mastersdegree/ytcrawl/ytcrawl0/lib/python3.5/site-packages/ipykernel_launcher.py:10: UserWarning: Boolean Series key will be reindexed to match DataFrame index.\n",
      "  # Remove the CWD from sys.path while we load stuff.\n",
      "/home/hweem/git/mastersdegree/ytcrawl/ytcrawl0/lib/python3.5/site-packages/ipykernel_launcher.py:11: UserWarning: Boolean Series key will be reindexed to match DataFrame index.\n",
      "  # This is added back by InteractiveShellApp.init_path()\n",
      "/home/hweem/git/mastersdegree/ytcrawl/ytcrawl0/lib/python3.5/site-packages/ipykernel_launcher.py:12: UserWarning: Boolean Series key will be reindexed to match DataFrame index.\n",
      "  if sys.path[0] == '':\n",
      "/home/hweem/git/mastersdegree/ytcrawl/ytcrawl0/lib/python3.5/site-packages/ipykernel_launcher.py:13: UserWarning: Boolean Series key will be reindexed to match DataFrame index.\n",
      "  del sys.path[0]\n"
     ]
    },
    {
     "data": {
      "text/plain": [
       "{'boxes': [<matplotlib.lines.Line2D at 0x7fd588fc1c18>,\n",
       "  <matplotlib.lines.Line2D at 0x7fd588fcb128>,\n",
       "  <matplotlib.lines.Line2D at 0x7fd588fc2860>,\n",
       "  <matplotlib.lines.Line2D at 0x7fd588faff98>,\n",
       "  <matplotlib.lines.Line2D at 0x7fd588fa6710>,\n",
       "  <matplotlib.lines.Line2D at 0x7fd588fa1e48>],\n",
       " 'caps': [<matplotlib.lines.Line2D at 0x7fd588fb1400>,\n",
       "  <matplotlib.lines.Line2D at 0x7fd588fb1748>,\n",
       "  <matplotlib.lines.Line2D at 0x7fd588fcbb38>,\n",
       "  <matplotlib.lines.Line2D at 0x7fd588fcbe80>,\n",
       "  <matplotlib.lines.Line2D at 0x7fd588faf2b0>,\n",
       "  <matplotlib.lines.Line2D at 0x7fd588faf5f8>,\n",
       "  <matplotlib.lines.Line2D at 0x7fd588fab9e8>,\n",
       "  <matplotlib.lines.Line2D at 0x7fd588fabd30>,\n",
       "  <matplotlib.lines.Line2D at 0x7fd588fa1160>,\n",
       "  <matplotlib.lines.Line2D at 0x7fd588fa14a8>,\n",
       "  <matplotlib.lines.Line2D at 0x7fd588f9d898>,\n",
       "  <matplotlib.lines.Line2D at 0x7fd588f9dbe0>],\n",
       " 'fliers': [<matplotlib.lines.Line2D at 0x7fd588fb1dd8>,\n",
       "  <matplotlib.lines.Line2D at 0x7fd588fc2550>,\n",
       "  <matplotlib.lines.Line2D at 0x7fd588fafc88>,\n",
       "  <matplotlib.lines.Line2D at 0x7fd588fa6400>,\n",
       "  <matplotlib.lines.Line2D at 0x7fd588fa1b38>,\n",
       "  <matplotlib.lines.Line2D at 0x7fd588f962b0>],\n",
       " 'means': [],\n",
       " 'medians': [<matplotlib.lines.Line2D at 0x7fd588fb1a90>,\n",
       "  <matplotlib.lines.Line2D at 0x7fd588fc2208>,\n",
       "  <matplotlib.lines.Line2D at 0x7fd588faf940>,\n",
       "  <matplotlib.lines.Line2D at 0x7fd588fa60b8>,\n",
       "  <matplotlib.lines.Line2D at 0x7fd588fa17f0>,\n",
       "  <matplotlib.lines.Line2D at 0x7fd588f9df28>],\n",
       " 'whiskers': [<matplotlib.lines.Line2D at 0x7fd588fc1d30>,\n",
       "  <matplotlib.lines.Line2D at 0x7fd588fb10b8>,\n",
       "  <matplotlib.lines.Line2D at 0x7fd588fcb4a8>,\n",
       "  <matplotlib.lines.Line2D at 0x7fd588fcb7f0>,\n",
       "  <matplotlib.lines.Line2D at 0x7fd588fc2be0>,\n",
       "  <matplotlib.lines.Line2D at 0x7fd588fc2f28>,\n",
       "  <matplotlib.lines.Line2D at 0x7fd588fab358>,\n",
       "  <matplotlib.lines.Line2D at 0x7fd588fab6a0>,\n",
       "  <matplotlib.lines.Line2D at 0x7fd588fa6a90>,\n",
       "  <matplotlib.lines.Line2D at 0x7fd588fa6dd8>,\n",
       "  <matplotlib.lines.Line2D at 0x7fd588f9d208>,\n",
       "  <matplotlib.lines.Line2D at 0x7fd588f9d550>]}"
      ]
     },
     "execution_count": 39,
     "metadata": {},
     "output_type": "execute_result"
    },
    {
     "data": {
      "image/png": "[encoded data removed]",
      "text/plain": [
       "<Figure size 720x432 with 1 Axes>"
      ]
     },
     "metadata": {
      "needs_background": "light"
     },
     "output_type": "display_data"
    }
   ],
   "source": [
    "# _2019_wo_videos = df1[~df1.DOI.isin(_idx_papers_2019)][df1[\"AAS\"] != \"None\"][\"AAS\"].dropna().astype(int)\n",
    "# _2019_w_videos = df1[df1.DOI.isin(_idx_papers_2019)][df1[\"AAS\"] != \"None\"][\"AAS\"].dropna().astype(int)\n",
    "# _2017_wo_videos = df2[~df2.DOI.isin(_idx_papers_2017)][df2[\"AAS\"] != \"None\"][\"AAS\"].dropna().astype(int)\n",
    "# _2017_w_videos = df2[df2.DOI.isin(_idx_papers_2017)][df2[\"AAS\"] != \"None\"][\"AAS\"].dropna().astype(int)\n",
    "# _2014_wo_videos = df3[~df3.DOI.isin(_idx_papers_2014)][df3[\"AAS\"] != \"None\"][\"AAS\"].dropna().astype(int)\n",
    "# _2014_w_videos = df3[df3.DOI.isin(_idx_papers_2014)][df3[\"AAS\"] != \"None\"][\"AAS\"].dropna().astype(int)\n",
    "\n",
    "_2019_wo_videos_aas = np.log10(df1[~df1.DOI.isin(_idx_papers_2019)][df1[\"AAS\"] != \"None\"][\"AAS\"].dropna().astype(int))\n",
    "_2019_w_videos_aas = np.log10(df1[df1.DOI.isin(_idx_papers_2019)][df1[\"AAS\"] != \"None\"][\"AAS\"].dropna().astype(int))\n",
    "_2017_wo_videos_aas = np.log10(df2[~df2.DOI.isin(_idx_papers_2017)][df2[\"AAS\"] != \"None\"][\"AAS\"].dropna().astype(int))\n",
    "_2017_w_videos_aas = np.log10(df2[df2.DOI.isin(_idx_papers_2017)][df2[\"AAS\"] != \"None\"][\"AAS\"].dropna().astype(int))\n",
    "_2014_wo_videos_aas = np.log10(df3[~df3.DOI.isin(_idx_papers_2014)][df3[\"AAS\"] != \"None\"][\"AAS\"].dropna().astype(int))\n",
    "_2014_w_videos_aas = np.log10(df3[df3.DOI.isin(_idx_papers_2014)][df3[\"AAS\"] != \"None\"][\"AAS\"].dropna().astype(int))\n",
    "\n",
    "plt.figure(figsize=(10, 6))\n",
    "plt.title(\"AAS\")\n",
    "# plt.yscale(\"log\")\n",
    "# plt.ylim([0, 200])\n",
    "plt.ylabel(\"log10(AAS)\")\n",
    "plt.boxplot([\n",
    "    _2019_wo_videos_aas,\n",
    "    _2019_w_videos_aas,\n",
    "    _2017_wo_videos_aas,\n",
    "    _2017_w_videos_aas,\n",
    "    _2014_wo_videos_aas,\n",
    "    _2014_w_videos_aas\n",
    "],\n",
    "    labels=[\n",
    "        \"2019 w/o videos\\n(N=%s)\"%len(_2019_wo_videos_aas),\n",
    "        \"2019 w/ videos\\n(N=%s)\"%len(_2019_w_videos_aas),\n",
    "        \"2017 w/o videos\\n(N=%s)\"%len(_2017_wo_videos_aas),\n",
    "        \"2017 w/ videos\\n(N=%s)\"%len(_2017_w_videos_aas),\n",
    "        \"2014 w/o videos\\n(N=%s)\"%len(_2014_wo_videos_aas),\n",
    "        \"2014 w/ videos\\n(N=%s)\"%len(_2014_w_videos_aas)\n",
    "    ]\n",
    ")"
   ]
  },
  {
   "cell_type": "code",
   "execution_count": 40,
   "metadata": {},
   "outputs": [
    {
     "name": "stdout",
     "output_type": "stream",
     "text": [
      "2019\tS = -6.404854\tp = 0.000000\n",
      "2017\tS = -8.513059\tp = 0.000000\n",
      "2014\tS = -6.785119\tp = 0.000000\n"
     ]
    }
   ],
   "source": [
    "_s2019, _p2019 = stats.ttest_ind(\n",
    "    _2019_wo_videos_aas,\n",
    "    _2019_w_videos_aas\n",
    ")\n",
    "print(\"2019\\tS = %f\\tp = %f\"%(_s2019, _p2019))\n",
    "\n",
    "_s2017, _p2017 = stats.ttest_ind(\n",
    "    _2017_wo_videos_aas,\n",
    "    _2017_w_videos_aas\n",
    ")\n",
    "print(\"2017\\tS = %f\\tp = %f\"%(_s2017, _p2017))\n",
    "\n",
    "_s2014, _p2014 = stats.ttest_ind(\n",
    "    _2014_wo_videos_aas,\n",
    "    _2014_w_videos_aas\n",
    ")\n",
    "print(\"2014\\tS = %f\\tp = %f\"%(_s2014, _p2014))"
   ]
  },
  {
   "cell_type": "markdown",
   "metadata": {},
   "source": [
    "AAS는 citation보다 일찍 유의차를 보임: 2019 p=0"
   ]
  },
  {
   "cell_type": "markdown",
   "metadata": {},
   "source": [
    "論文掲載初期動画付きの場合"
   ]
  },
  {
   "cell_type": "code",
   "execution_count": 41,
   "metadata": {},
   "outputs": [
    {
     "name": "stderr",
     "output_type": "stream",
     "text": [
      "/home/hweem/git/mastersdegree/ytcrawl/ytcrawl0/lib/python3.5/site-packages/ipykernel_launcher.py:8: UserWarning: Boolean Series key will be reindexed to match DataFrame index.\n",
      "  \n",
      "/home/hweem/git/mastersdegree/ytcrawl/ytcrawl0/lib/python3.5/site-packages/ipykernel_launcher.py:9: UserWarning: Boolean Series key will be reindexed to match DataFrame index.\n",
      "  if __name__ == '__main__':\n",
      "/home/hweem/git/mastersdegree/ytcrawl/ytcrawl0/lib/python3.5/site-packages/ipykernel_launcher.py:10: UserWarning: Boolean Series key will be reindexed to match DataFrame index.\n",
      "  # Remove the CWD from sys.path while we load stuff.\n",
      "/home/hweem/git/mastersdegree/ytcrawl/ytcrawl0/lib/python3.5/site-packages/ipykernel_launcher.py:11: UserWarning: Boolean Series key will be reindexed to match DataFrame index.\n",
      "  # This is added back by InteractiveShellApp.init_path()\n",
      "/home/hweem/git/mastersdegree/ytcrawl/ytcrawl0/lib/python3.5/site-packages/ipykernel_launcher.py:12: UserWarning: Boolean Series key will be reindexed to match DataFrame index.\n",
      "  if sys.path[0] == '':\n",
      "/home/hweem/git/mastersdegree/ytcrawl/ytcrawl0/lib/python3.5/site-packages/ipykernel_launcher.py:13: UserWarning: Boolean Series key will be reindexed to match DataFrame index.\n",
      "  del sys.path[0]\n"
     ]
    },
    {
     "data": {
      "text/plain": [
       "{'boxes': [<matplotlib.lines.Line2D at 0x7fd589038358>,\n",
       "  <matplotlib.lines.Line2D at 0x7fd589032828>,\n",
       "  <matplotlib.lines.Line2D at 0x7fd589022f60>,\n",
       "  <matplotlib.lines.Line2D at 0x7fd5890196d8>,\n",
       "  <matplotlib.lines.Line2D at 0x7fd589015e10>,\n",
       "  <matplotlib.lines.Line2D at 0x7fd589327588>],\n",
       " 'caps': [<matplotlib.lines.Line2D at 0x7fd589038b00>,\n",
       "  <matplotlib.lines.Line2D at 0x7fd589038e48>,\n",
       "  <matplotlib.lines.Line2D at 0x7fd589022278>,\n",
       "  <matplotlib.lines.Line2D at 0x7fd5890225c0>,\n",
       "  <matplotlib.lines.Line2D at 0x7fd58901e9b0>,\n",
       "  <matplotlib.lines.Line2D at 0x7fd58901ecf8>,\n",
       "  <matplotlib.lines.Line2D at 0x7fd589015128>,\n",
       "  <matplotlib.lines.Line2D at 0x7fd589015470>,\n",
       "  <matplotlib.lines.Line2D at 0x7fd589315860>,\n",
       "  <matplotlib.lines.Line2D at 0x7fd589315ba8>,\n",
       "  <matplotlib.lines.Line2D at 0x7fd589327f98>,\n",
       "  <matplotlib.lines.Line2D at 0x7fd589342320>],\n",
       " 'fliers': [<matplotlib.lines.Line2D at 0x7fd589032518>,\n",
       "  <matplotlib.lines.Line2D at 0x7fd589022c50>,\n",
       "  <matplotlib.lines.Line2D at 0x7fd5890193c8>,\n",
       "  <matplotlib.lines.Line2D at 0x7fd589015b00>,\n",
       "  <matplotlib.lines.Line2D at 0x7fd589327278>,\n",
       "  <matplotlib.lines.Line2D at 0x7fd5893429b0>],\n",
       " 'means': [],\n",
       " 'medians': [<matplotlib.lines.Line2D at 0x7fd5890321d0>,\n",
       "  <matplotlib.lines.Line2D at 0x7fd589022908>,\n",
       "  <matplotlib.lines.Line2D at 0x7fd589019080>,\n",
       "  <matplotlib.lines.Line2D at 0x7fd5890157b8>,\n",
       "  <matplotlib.lines.Line2D at 0x7fd589315ef0>,\n",
       "  <matplotlib.lines.Line2D at 0x7fd589342668>],\n",
       " 'whiskers': [<matplotlib.lines.Line2D at 0x7fd589038470>,\n",
       "  <matplotlib.lines.Line2D at 0x7fd5890387b8>,\n",
       "  <matplotlib.lines.Line2D at 0x7fd589032ba8>,\n",
       "  <matplotlib.lines.Line2D at 0x7fd589032ef0>,\n",
       "  <matplotlib.lines.Line2D at 0x7fd58901e320>,\n",
       "  <matplotlib.lines.Line2D at 0x7fd58901e668>,\n",
       "  <matplotlib.lines.Line2D at 0x7fd589019a58>,\n",
       "  <matplotlib.lines.Line2D at 0x7fd589019da0>,\n",
       "  <matplotlib.lines.Line2D at 0x7fd5893151d0>,\n",
       "  <matplotlib.lines.Line2D at 0x7fd589315518>,\n",
       "  <matplotlib.lines.Line2D at 0x7fd589327908>,\n",
       "  <matplotlib.lines.Line2D at 0x7fd589327c50>]}"
      ]
     },
     "execution_count": 41,
     "metadata": {},
     "output_type": "execute_result"
    },
    {
     "data": {
      "image/png": "[encoded data removed]",
      "text/plain": [
       "<Figure size 864x432 with 1 Axes>"
      ]
     },
     "metadata": {
      "needs_background": "light"
     },
     "output_type": "display_data"
    }
   ],
   "source": [
    "# _2019_90_wo_videos_cit = df1[~df1.DOI.isin(_idx_papers_2019_90)][df1[\"Cited by\"] != \"None\"][\"Cited by\"].dropna().astype(int)\n",
    "# _2019_90_w_videos_cit = df1[df1.DOI.isin(_idx_papers_2019_90)][df1[\"Cited by\"] != \"None\"][\"Cited by\"].dropna().astype(int)\n",
    "# _2017_90_wo_videos_cit = df2[~df2.DOI.isin(_idx_papers_2017_90)][df2[\"Cited by\"] != \"None\"][\"Cited by\"].dropna().astype(int)\n",
    "# _2017_90_w_videos_cit = df2[df2.DOI.isin(_idx_papers_2017_90)][df2[\"Cited by\"] != \"None\"][\"Cited by\"].dropna().astype(int)\n",
    "# _2014_90_wo_videos_cit = df3[~df3.DOI.isin(_idx_papers_2014_90)][df3[\"Cited by\"] != \"None\"][\"Cited by\"].dropna().astype(int)\n",
    "# _2014_90_w_videos_cit = df3[df3.DOI.isin(_idx_papers_2014_90)][df3[\"Cited by\"] != \"None\"][\"Cited by\"].dropna().astype(int)\n",
    "\n",
    "_2019_90_wo_videos_cit = np.log10(df1[~df1.DOI.isin(_idx_papers_2019_90)][df1[\"Cited by\"] != \"None\"][\"Cited by\"].dropna().astype(int))\n",
    "_2019_90_w_videos_cit = np.log10(df1[df1.DOI.isin(_idx_papers_2019_90)][df1[\"Cited by\"] != \"None\"][\"Cited by\"].dropna().astype(int))\n",
    "_2017_90_wo_videos_cit = np.log10(df2[~df2.DOI.isin(_idx_papers_2017_90)][df2[\"Cited by\"] != \"None\"][\"Cited by\"].dropna().astype(int))\n",
    "_2017_90_w_videos_cit = np.log10(df2[df2.DOI.isin(_idx_papers_2017_90)][df2[\"Cited by\"] != \"None\"][\"Cited by\"].dropna().astype(int))\n",
    "_2014_90_wo_videos_cit = np.log10(df3[~df3.DOI.isin(_idx_papers_2014_90)][df3[\"Cited by\"] != \"None\"][\"Cited by\"].dropna().astype(int))\n",
    "_2014_90_w_videos_cit = np.log10(df3[df3.DOI.isin(_idx_papers_2014_90)][df3[\"Cited by\"] != \"None\"][\"Cited by\"].dropna().astype(int))\n",
    "\n",
    "plt.figure(figsize=(12, 6))\n",
    "plt.title(\"Citation-90\")\n",
    "# plt.yscale(\"log\")\n",
    "# plt.ylim([0, 200])\n",
    "plt.ylabel(\"log10(citation)\")\n",
    "plt.boxplot([\n",
    "    _2019_90_wo_videos_cit,\n",
    "    _2019_90_w_videos_cit,\n",
    "    _2017_90_wo_videos_cit,\n",
    "    _2017_90_w_videos_cit,\n",
    "    _2014_90_wo_videos_cit,\n",
    "    _2014_90_w_videos_cit\n",
    "],\n",
    "    labels=[\n",
    "        \"2019 w/o videos-90\\n(N=%s)\"%len(_2019_90_wo_videos_cit),\n",
    "        \"2019 w/ videos-90\\n(N=%s)\"%len(_2019_90_w_videos_cit),\n",
    "        \"2017 w/o videos-90\\n(N=%s)\"%len(_2017_90_wo_videos_cit),\n",
    "        \"2017 w/ videos-90\\n(N=%s)\"%len(_2017_90_w_videos_cit),\n",
    "        \"2014 w/o videos-90\\n(N=%s)\"%len(_2014_90_wo_videos_cit),\n",
    "        \"2014 w/ videos-90\\n(N=%s)\"%len(_2014_90_w_videos_cit)\n",
    "    ]\n",
    ")"
   ]
  },
  {
   "cell_type": "code",
   "execution_count": 42,
   "metadata": {},
   "outputs": [
    {
     "name": "stdout",
     "output_type": "stream",
     "text": [
      "2019\tS = 0.276240\tp = 0.782368\n",
      "2017\tS = -1.710880\tp = 0.087132\n",
      "2014\tS = -1.931490\tp = 0.053454\n"
     ]
    }
   ],
   "source": [
    "_s2019, _p2019 = stats.ttest_ind(\n",
    "    _2019_90_wo_videos_cit,\n",
    "    _2019_90_w_videos_cit\n",
    ")\n",
    "print(\"2019\\tS = %f\\tp = %f\"%(_s2019, _p2019))\n",
    "\n",
    "_s2017, _p2017 = stats.ttest_ind(\n",
    "    _2017_90_wo_videos_cit,\n",
    "    _2017_90_w_videos_cit\n",
    ")\n",
    "print(\"2017\\tS = %f\\tp = %f\"%(_s2017, _p2017))\n",
    "\n",
    "_s2014, _p2014 = stats.ttest_ind(\n",
    "    _2014_90_wo_videos_cit,\n",
    "    _2014_90_w_videos_cit\n",
    ")\n",
    "print(\"2014\\tS = %f\\tp = %f\"%(_s2014, _p2014))"
   ]
  },
  {
   "cell_type": "markdown",
   "metadata": {},
   "source": [
    "논문 게재 초기(90일 이내) 비디오로 한정하면 p값이 커짐. 즉 초기 비디오 유무에 따른 피인용수의 유의차는 없다."
   ]
  },
  {
   "cell_type": "code",
   "execution_count": 43,
   "metadata": {},
   "outputs": [
    {
     "name": "stderr",
     "output_type": "stream",
     "text": [
      "/home/hweem/git/mastersdegree/ytcrawl/ytcrawl0/lib/python3.5/site-packages/ipykernel_launcher.py:8: UserWarning: Boolean Series key will be reindexed to match DataFrame index.\n",
      "  \n",
      "/home/hweem/git/mastersdegree/ytcrawl/ytcrawl0/lib/python3.5/site-packages/ipykernel_launcher.py:9: UserWarning: Boolean Series key will be reindexed to match DataFrame index.\n",
      "  if __name__ == '__main__':\n",
      "/home/hweem/git/mastersdegree/ytcrawl/ytcrawl0/lib/python3.5/site-packages/ipykernel_launcher.py:10: UserWarning: Boolean Series key will be reindexed to match DataFrame index.\n",
      "  # Remove the CWD from sys.path while we load stuff.\n",
      "/home/hweem/git/mastersdegree/ytcrawl/ytcrawl0/lib/python3.5/site-packages/ipykernel_launcher.py:11: UserWarning: Boolean Series key will be reindexed to match DataFrame index.\n",
      "  # This is added back by InteractiveShellApp.init_path()\n",
      "/home/hweem/git/mastersdegree/ytcrawl/ytcrawl0/lib/python3.5/site-packages/ipykernel_launcher.py:12: UserWarning: Boolean Series key will be reindexed to match DataFrame index.\n",
      "  if sys.path[0] == '':\n",
      "/home/hweem/git/mastersdegree/ytcrawl/ytcrawl0/lib/python3.5/site-packages/ipykernel_launcher.py:13: UserWarning: Boolean Series key will be reindexed to match DataFrame index.\n",
      "  del sys.path[0]\n"
     ]
    },
    {
     "data": {
      "text/plain": [
       "{'boxes': [<matplotlib.lines.Line2D at 0x7fd5893214e0>,\n",
       "  <matplotlib.lines.Line2D at 0x7fd58900e9e8>,\n",
       "  <matplotlib.lines.Line2D at 0x7fd58900a160>,\n",
       "  <matplotlib.lines.Line2D at 0x7fd589004898>,\n",
       "  <matplotlib.lines.Line2D at 0x7fd588ffffd0>,\n",
       "  <matplotlib.lines.Line2D at 0x7fd588ff6748>],\n",
       " 'caps': [<matplotlib.lines.Line2D at 0x7fd589321cc0>,\n",
       "  <matplotlib.lines.Line2D at 0x7fd58900e048>,\n",
       "  <matplotlib.lines.Line2D at 0x7fd588fe4438>,\n",
       "  <matplotlib.lines.Line2D at 0x7fd588fe4780>,\n",
       "  <matplotlib.lines.Line2D at 0x7fd58900ab70>,\n",
       "  <matplotlib.lines.Line2D at 0x7fd58900aeb8>,\n",
       "  <matplotlib.lines.Line2D at 0x7fd588fff2e8>,\n",
       "  <matplotlib.lines.Line2D at 0x7fd588fff630>,\n",
       "  <matplotlib.lines.Line2D at 0x7fd588ffaa20>,\n",
       "  <matplotlib.lines.Line2D at 0x7fd588ffad68>,\n",
       "  <matplotlib.lines.Line2D at 0x7fd588ff1198>,\n",
       "  <matplotlib.lines.Line2D at 0x7fd588ff14e0>],\n",
       " 'fliers': [<matplotlib.lines.Line2D at 0x7fd58900e6d8>,\n",
       "  <matplotlib.lines.Line2D at 0x7fd588fe4e10>,\n",
       "  <matplotlib.lines.Line2D at 0x7fd589004588>,\n",
       "  <matplotlib.lines.Line2D at 0x7fd588fffcc0>,\n",
       "  <matplotlib.lines.Line2D at 0x7fd588ff6438>,\n",
       "  <matplotlib.lines.Line2D at 0x7fd588ff1b70>],\n",
       " 'means': [],\n",
       " 'medians': [<matplotlib.lines.Line2D at 0x7fd58900e390>,\n",
       "  <matplotlib.lines.Line2D at 0x7fd588fe4ac8>,\n",
       "  <matplotlib.lines.Line2D at 0x7fd589004240>,\n",
       "  <matplotlib.lines.Line2D at 0x7fd588fff978>,\n",
       "  <matplotlib.lines.Line2D at 0x7fd588ff60f0>,\n",
       "  <matplotlib.lines.Line2D at 0x7fd588ff1828>],\n",
       " 'whiskers': [<matplotlib.lines.Line2D at 0x7fd589321630>,\n",
       "  <matplotlib.lines.Line2D at 0x7fd589321978>,\n",
       "  <matplotlib.lines.Line2D at 0x7fd58900ed68>,\n",
       "  <matplotlib.lines.Line2D at 0x7fd588fe40f0>,\n",
       "  <matplotlib.lines.Line2D at 0x7fd58900a4e0>,\n",
       "  <matplotlib.lines.Line2D at 0x7fd58900a828>,\n",
       "  <matplotlib.lines.Line2D at 0x7fd589004c18>,\n",
       "  <matplotlib.lines.Line2D at 0x7fd589004f60>,\n",
       "  <matplotlib.lines.Line2D at 0x7fd588ffa390>,\n",
       "  <matplotlib.lines.Line2D at 0x7fd588ffa6d8>,\n",
       "  <matplotlib.lines.Line2D at 0x7fd588ff6ac8>,\n",
       "  <matplotlib.lines.Line2D at 0x7fd588ff6e10>]}"
      ]
     },
     "execution_count": 43,
     "metadata": {},
     "output_type": "execute_result"
    },
    {
     "data": {
      "image/png": "[encoded data removed]",
      "text/plain": [
       "<Figure size 864x432 with 1 Axes>"
      ]
     },
     "metadata": {
      "needs_background": "light"
     },
     "output_type": "display_data"
    }
   ],
   "source": [
    "# _2019_90_wo_videos_aas = df1[~df1.DOI.isin(_idx_papers_2019_90)][df1[\"AAS\"] != \"None\"][\"AAS\"].dropna().astype(int)\n",
    "# _2019_90_w_videos_aas = df1[df1.DOI.isin(_idx_papers_2019_90)][df1[\"AAS\"] != \"None\"][\"AAS\"].dropna().astype(int)\n",
    "# _2017_90_wo_videos_aas = df2[~df2.DOI.isin(_idx_papers_2017_90)][df2[\"AAS\"] != \"None\"][\"AAS\"].dropna().astype(int)\n",
    "# _2017_90_w_videos_aas = df2[df2.DOI.isin(_idx_papers_2017_90)][df2[\"AAS\"] != \"None\"][\"AAS\"].dropna().astype(int)\n",
    "# _2014_90_wo_videos_aas = df3[~df3.DOI.isin(_idx_papers_2014_90)][df3[\"AAS\"] != \"None\"][\"AAS\"].dropna().astype(int)\n",
    "# _2014_90_w_videos_aas = df3[df3.DOI.isin(_idx_papers_2014_90)][df3[\"AAS\"] != \"None\"][\"AAS\"].dropna().astype(int)\n",
    "\n",
    "_2019_90_wo_videos_aas = np.log10(df1[~df1.DOI.isin(_idx_papers_2019_90)][df1[\"AAS\"] != \"None\"][\"AAS\"].dropna().astype(int))\n",
    "_2019_90_w_videos_aas = np.log10(df1[df1.DOI.isin(_idx_papers_2019_90)][df1[\"AAS\"] != \"None\"][\"AAS\"].dropna().astype(int))\n",
    "_2017_90_wo_videos_aas = np.log10(df2[~df2.DOI.isin(_idx_papers_2017_90)][df2[\"AAS\"] != \"None\"][\"AAS\"].dropna().astype(int))\n",
    "_2017_90_w_videos_aas = np.log10(df2[df2.DOI.isin(_idx_papers_2017_90)][df2[\"AAS\"] != \"None\"][\"AAS\"].dropna().astype(int))\n",
    "_2014_90_wo_videos_aas = np.log10(df3[~df3.DOI.isin(_idx_papers_2014_90)][df3[\"AAS\"] != \"None\"][\"AAS\"].dropna().astype(int))\n",
    "_2014_90_w_videos_aas = np.log10(df3[df3.DOI.isin(_idx_papers_2014_90)][df3[\"AAS\"] != \"None\"][\"AAS\"].dropna().astype(int))\n",
    "\n",
    "plt.figure(figsize=(12, 6))\n",
    "plt.title(\"AAS-90\")\n",
    "# plt.yscale(\"log\")\n",
    "# plt.ylim([0, 200])\n",
    "plt.ylabel(\"log10(AAS)\")\n",
    "plt.boxplot([\n",
    "    _2019_90_wo_videos_aas,\n",
    "    _2019_90_w_videos_aas,\n",
    "    _2017_90_wo_videos_aas,\n",
    "    _2017_90_w_videos_aas,\n",
    "    _2014_90_wo_videos_aas,\n",
    "    _2014_90_w_videos_aas\n",
    "],\n",
    "    labels=[\n",
    "        \"2019 w/o videos-90\\n(N=%s)\"%len(_2019_90_wo_videos_aas),\n",
    "        \"2019 w/ videos-90\\n(N=%s)\"%len(_2019_90_w_videos_aas),\n",
    "        \"2017 w/o videos-90\\n(N=%s)\"%len(_2017_90_wo_videos_aas),\n",
    "        \"2017 w/ videos-90\\n(N=%s)\"%len(_2017_90_w_videos_aas),\n",
    "        \"2014 w/o videos-90\\n(N=%s)\"%len(_2014_90_wo_videos_aas),\n",
    "        \"2014 w/ videos-90\\n(N=%s)\"%len(_2014_90_w_videos_aas)\n",
    "    ]\n",
    ")"
   ]
  },
  {
   "cell_type": "code",
   "execution_count": 44,
   "metadata": {},
   "outputs": [
    {
     "name": "stdout",
     "output_type": "stream",
     "text": [
      "2019\tS = -4.033318\tp = 0.000056\n",
      "2017\tS = -3.070593\tp = 0.002153\n",
      "2014\tS = 1.276849\tp = 0.201746\n"
     ]
    }
   ],
   "source": [
    "_s2019, _p2019 = stats.ttest_ind(\n",
    "    _2019_90_wo_videos_aas,\n",
    "    _2019_90_w_videos_aas\n",
    ")\n",
    "print(\"2019\\tS = %f\\tp = %f\"%(_s2019, _p2019))\n",
    "\n",
    "_s2017, _p2017 = stats.ttest_ind(\n",
    "    _2017_90_wo_videos_aas,\n",
    "    _2017_90_w_videos_aas\n",
    ")\n",
    "print(\"2017\\tS = %f\\tp = %f\"%(_s2017, _p2017))\n",
    "\n",
    "_s2014, _p2014 = stats.ttest_ind(\n",
    "    _2014_90_wo_videos_aas,\n",
    "    _2014_90_w_videos_aas\n",
    ")\n",
    "print(\"2014\\tS = %f\\tp = %f\"%(_s2014, _p2014))"
   ]
  },
  {
   "cell_type": "markdown",
   "metadata": {},
   "source": [
    "피인용수와 달리, 초기 비디오 유무는 AAS에 대해서 영향력이 있어 보임.\n",
    "다만 과거 논문일수록 유의성이 떨어지는 경향. 2014엔 유의하지 않음. -> 가설:과거엔 대중적인지(AAS)가 활성화되지 않음? -> 관계 논문이 있으면 찾아보고, 그의 뒷받침 자료로도 설명할 수 있음"
   ]
  },
  {
   "cell_type": "code",
   "execution_count": null,
   "metadata": {},
   "outputs": [],
   "source": []
  }
 ],
 "metadata": {
  "kernelspec": {
   "display_name": "Python 3",
   "language": "python",
   "name": "python3"
  },
  "language_info": {
   "codemirror_mode": {
    "name": "ipython",
    "version": 3
   },
   "file_extension": ".py",
   "mimetype": "text/x-python",
   "name": "python",
   "nbconvert_exporter": "python",
   "pygments_lexer": "ipython3",
   "version": "3.5.2"
  }
 },
 "nbformat": 4,
 "nbformat_minor": 4
}
